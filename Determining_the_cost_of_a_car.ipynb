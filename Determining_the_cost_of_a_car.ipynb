{
 "cells": [
  {
   "cell_type": "markdown",
   "source": [
    "# Определение стоимости автомобилей"
   ],
   "metadata": {
    "collapsed": false,
    "pycharm": {
     "name": "#%% md\n"
    }
   }
  },
  {
   "cell_type": "markdown",
   "source": [
    "## Описание проекта\n",
    "Сервис по продаже автомобилей с пробегом «Не бит, не крашен» разрабатывает приложение, чтобы привлечь новых клиентов. В нём можно будет узнать рыночную стоимость своего автомобиля.\n",
    "Задача - Построить модель, которая умеет её определять. В нашем распоряжении данные о технических характеристиках, комплектации и ценах других автомобилей.\n",
    "Критерии, которые важны заказчику:\n",
    "- качество предсказания;\n",
    "- время обучения модели;\n",
    "- время предсказания модели."
   ],
   "metadata": {
    "collapsed": false,
    "pycharm": {
     "name": "#%% md\n"
    }
   }
  },
  {
   "cell_type": "markdown",
   "source": [
    "Признаки\n",
    "- `DateCrawled` — дата скачивания анкеты из базы\n",
    "- `VehicleType` — тип автомобильного кузова\n",
    "- `RegistrationYear` — год регистрации автомобиля\n",
    "- `Gearbox` — тип коробки передач\n",
    "- `Power` — мощность (л. с.)\n",
    "- `Model` — модель автомобиля\n",
    "- `Kilometer` — пробег (км)\n",
    "- `RegistrationMonth` — месяц регистрации автомобиля\n",
    "- `FuelType` — тип топлива\n",
    "- `Brand` — марка автомобиля\n",
    "- `Repaired` — была машина в ремонте или нет\n",
    "- `DateCreated` — дата создания анкеты\n",
    "- `NumberOfPictures` — количество фотографий автомобиля\n",
    "- `PostalCode` — почтовый индекс владельца анкеты (пользователя)\n",
    "- `LastSeen` — дата последней активности пользователя\n",
    "\n",
    "Целевой признак\n",
    "- `Price` — цена (евро)"
   ],
   "metadata": {
    "collapsed": false,
    "pycharm": {
     "name": "#%% md\n"
    }
   }
  },
  {
   "cell_type": "code",
   "execution_count": 44,
   "metadata": {
    "collapsed": true,
    "pycharm": {
     "name": "#%%\n"
    }
   },
   "outputs": [],
   "source": [
    "import pandas as pd\n",
    "import numpy as np\n",
    "from catboost import CatBoostRegressor\n",
    "from sklearn.compose import ColumnTransformer\n",
    "from sklearn.ensemble import RandomForestRegressor\n",
    "from sklearn.linear_model import LinearRegression\n",
    "from sklearn.model_selection import train_test_split, cross_val_score\n",
    "import lightgbm as lgb\n",
    "from sklearn.metrics import mean_squared_error\n",
    "from sklearn.pipeline import Pipeline\n",
    "from sklearn.preprocessing import OneHotEncoder, StandardScaler, OrdinalEncoder"
   ]
  },
  {
   "cell_type": "code",
   "execution_count": 45,
   "outputs": [
    {
     "name": "stdout",
     "output_type": "stream",
     "text": [
      "Requirement already satisfied: lightgbm in c:\\users\\asus\\anaconda3\\lib\\site-packages (3.3.5)\n",
      "Requirement already satisfied: numpy in c:\\users\\asus\\anaconda3\\lib\\site-packages (from lightgbm) (1.21.5)\n",
      "Requirement already satisfied: wheel in c:\\users\\asus\\anaconda3\\lib\\site-packages (from lightgbm) (0.37.1)\n",
      "Requirement already satisfied: scipy in c:\\users\\asus\\anaconda3\\lib\\site-packages (from lightgbm) (1.7.3)\n",
      "Requirement already satisfied: scikit-learn!=0.22.0 in c:\\users\\asus\\anaconda3\\lib\\site-packages (from lightgbm) (1.0.2)\n",
      "Requirement already satisfied: threadpoolctl>=2.0.0 in c:\\users\\asus\\anaconda3\\lib\\site-packages (from scikit-learn!=0.22.0->lightgbm) (2.2.0)\n",
      "Requirement already satisfied: joblib>=0.11 in c:\\users\\asus\\anaconda3\\lib\\site-packages (from scikit-learn!=0.22.0->lightgbm) (1.1.0)\n"
     ]
    }
   ],
   "source": [
    "!pip install lightgbm"
   ],
   "metadata": {
    "collapsed": false,
    "pycharm": {
     "name": "#%%\n"
    }
   }
  },
  {
   "cell_type": "code",
   "execution_count": 46,
   "outputs": [
    {
     "data": {
      "text/plain": "                DateCrawled  Price  VehicleType  RegistrationYear Gearbox  \\\n0       2016-03-24 11:52:17    480          NaN              1993  manual   \n1       2016-03-24 10:58:45  18300        coupe              2011  manual   \n2       2016-03-14 12:52:21   9800          suv              2004    auto   \n3       2016-03-17 16:54:04   1500        small              2001  manual   \n4       2016-03-31 17:25:20   3600        small              2008  manual   \n...                     ...    ...          ...               ...     ...   \n354364  2016-03-21 09:50:58      0          NaN              2005  manual   \n354365  2016-03-14 17:48:27   2200          NaN              2005     NaN   \n354366  2016-03-05 19:56:21   1199  convertible              2000    auto   \n354367  2016-03-19 18:57:12   9200          bus              1996  manual   \n354368  2016-03-20 19:41:08   3400        wagon              2002  manual   \n\n        Power        Model  Kilometer  RegistrationMonth  FuelType  \\\n0           0         golf     150000                  0    petrol   \n1         190          NaN     125000                  5  gasoline   \n2         163        grand     125000                  8  gasoline   \n3          75         golf     150000                  6    petrol   \n4          69        fabia      90000                  7  gasoline   \n...       ...          ...        ...                ...       ...   \n354364      0         colt     150000                  7    petrol   \n354365      0          NaN      20000                  1       NaN   \n354366    101       fortwo     125000                  3    petrol   \n354367    102  transporter     150000                  3  gasoline   \n354368    100         golf     150000                  6  gasoline   \n\n                 Brand Repaired          DateCreated  NumberOfPictures  \\\n0           volkswagen      NaN  2016-03-24 00:00:00                 0   \n1                 audi      yes  2016-03-24 00:00:00                 0   \n2                 jeep      NaN  2016-03-14 00:00:00                 0   \n3           volkswagen       no  2016-03-17 00:00:00                 0   \n4                skoda       no  2016-03-31 00:00:00                 0   \n...                ...      ...                  ...               ...   \n354364      mitsubishi      yes  2016-03-21 00:00:00                 0   \n354365  sonstige_autos      NaN  2016-03-14 00:00:00                 0   \n354366           smart       no  2016-03-05 00:00:00                 0   \n354367      volkswagen       no  2016-03-19 00:00:00                 0   \n354368      volkswagen      NaN  2016-03-20 00:00:00                 0   \n\n        PostalCode             LastSeen  \n0            70435  2016-04-07 03:16:57  \n1            66954  2016-04-07 01:46:50  \n2            90480  2016-04-05 12:47:46  \n3            91074  2016-03-17 17:40:17  \n4            60437  2016-04-06 10:17:21  \n...            ...                  ...  \n354364        2694  2016-03-21 10:42:49  \n354365       39576  2016-04-06 00:46:52  \n354366       26135  2016-03-11 18:17:12  \n354367       87439  2016-04-07 07:15:26  \n354368       40764  2016-03-24 12:45:21  \n\n[354369 rows x 16 columns]",
      "text/html": "<div>\n<style scoped>\n    .dataframe tbody tr th:only-of-type {\n        vertical-align: middle;\n    }\n\n    .dataframe tbody tr th {\n        vertical-align: top;\n    }\n\n    .dataframe thead th {\n        text-align: right;\n    }\n</style>\n<table border=\"1\" class=\"dataframe\">\n  <thead>\n    <tr style=\"text-align: right;\">\n      <th></th>\n      <th>DateCrawled</th>\n      <th>Price</th>\n      <th>VehicleType</th>\n      <th>RegistrationYear</th>\n      <th>Gearbox</th>\n      <th>Power</th>\n      <th>Model</th>\n      <th>Kilometer</th>\n      <th>RegistrationMonth</th>\n      <th>FuelType</th>\n      <th>Brand</th>\n      <th>Repaired</th>\n      <th>DateCreated</th>\n      <th>NumberOfPictures</th>\n      <th>PostalCode</th>\n      <th>LastSeen</th>\n    </tr>\n  </thead>\n  <tbody>\n    <tr>\n      <th>0</th>\n      <td>2016-03-24 11:52:17</td>\n      <td>480</td>\n      <td>NaN</td>\n      <td>1993</td>\n      <td>manual</td>\n      <td>0</td>\n      <td>golf</td>\n      <td>150000</td>\n      <td>0</td>\n      <td>petrol</td>\n      <td>volkswagen</td>\n      <td>NaN</td>\n      <td>2016-03-24 00:00:00</td>\n      <td>0</td>\n      <td>70435</td>\n      <td>2016-04-07 03:16:57</td>\n    </tr>\n    <tr>\n      <th>1</th>\n      <td>2016-03-24 10:58:45</td>\n      <td>18300</td>\n      <td>coupe</td>\n      <td>2011</td>\n      <td>manual</td>\n      <td>190</td>\n      <td>NaN</td>\n      <td>125000</td>\n      <td>5</td>\n      <td>gasoline</td>\n      <td>audi</td>\n      <td>yes</td>\n      <td>2016-03-24 00:00:00</td>\n      <td>0</td>\n      <td>66954</td>\n      <td>2016-04-07 01:46:50</td>\n    </tr>\n    <tr>\n      <th>2</th>\n      <td>2016-03-14 12:52:21</td>\n      <td>9800</td>\n      <td>suv</td>\n      <td>2004</td>\n      <td>auto</td>\n      <td>163</td>\n      <td>grand</td>\n      <td>125000</td>\n      <td>8</td>\n      <td>gasoline</td>\n      <td>jeep</td>\n      <td>NaN</td>\n      <td>2016-03-14 00:00:00</td>\n      <td>0</td>\n      <td>90480</td>\n      <td>2016-04-05 12:47:46</td>\n    </tr>\n    <tr>\n      <th>3</th>\n      <td>2016-03-17 16:54:04</td>\n      <td>1500</td>\n      <td>small</td>\n      <td>2001</td>\n      <td>manual</td>\n      <td>75</td>\n      <td>golf</td>\n      <td>150000</td>\n      <td>6</td>\n      <td>petrol</td>\n      <td>volkswagen</td>\n      <td>no</td>\n      <td>2016-03-17 00:00:00</td>\n      <td>0</td>\n      <td>91074</td>\n      <td>2016-03-17 17:40:17</td>\n    </tr>\n    <tr>\n      <th>4</th>\n      <td>2016-03-31 17:25:20</td>\n      <td>3600</td>\n      <td>small</td>\n      <td>2008</td>\n      <td>manual</td>\n      <td>69</td>\n      <td>fabia</td>\n      <td>90000</td>\n      <td>7</td>\n      <td>gasoline</td>\n      <td>skoda</td>\n      <td>no</td>\n      <td>2016-03-31 00:00:00</td>\n      <td>0</td>\n      <td>60437</td>\n      <td>2016-04-06 10:17:21</td>\n    </tr>\n    <tr>\n      <th>...</th>\n      <td>...</td>\n      <td>...</td>\n      <td>...</td>\n      <td>...</td>\n      <td>...</td>\n      <td>...</td>\n      <td>...</td>\n      <td>...</td>\n      <td>...</td>\n      <td>...</td>\n      <td>...</td>\n      <td>...</td>\n      <td>...</td>\n      <td>...</td>\n      <td>...</td>\n      <td>...</td>\n    </tr>\n    <tr>\n      <th>354364</th>\n      <td>2016-03-21 09:50:58</td>\n      <td>0</td>\n      <td>NaN</td>\n      <td>2005</td>\n      <td>manual</td>\n      <td>0</td>\n      <td>colt</td>\n      <td>150000</td>\n      <td>7</td>\n      <td>petrol</td>\n      <td>mitsubishi</td>\n      <td>yes</td>\n      <td>2016-03-21 00:00:00</td>\n      <td>0</td>\n      <td>2694</td>\n      <td>2016-03-21 10:42:49</td>\n    </tr>\n    <tr>\n      <th>354365</th>\n      <td>2016-03-14 17:48:27</td>\n      <td>2200</td>\n      <td>NaN</td>\n      <td>2005</td>\n      <td>NaN</td>\n      <td>0</td>\n      <td>NaN</td>\n      <td>20000</td>\n      <td>1</td>\n      <td>NaN</td>\n      <td>sonstige_autos</td>\n      <td>NaN</td>\n      <td>2016-03-14 00:00:00</td>\n      <td>0</td>\n      <td>39576</td>\n      <td>2016-04-06 00:46:52</td>\n    </tr>\n    <tr>\n      <th>354366</th>\n      <td>2016-03-05 19:56:21</td>\n      <td>1199</td>\n      <td>convertible</td>\n      <td>2000</td>\n      <td>auto</td>\n      <td>101</td>\n      <td>fortwo</td>\n      <td>125000</td>\n      <td>3</td>\n      <td>petrol</td>\n      <td>smart</td>\n      <td>no</td>\n      <td>2016-03-05 00:00:00</td>\n      <td>0</td>\n      <td>26135</td>\n      <td>2016-03-11 18:17:12</td>\n    </tr>\n    <tr>\n      <th>354367</th>\n      <td>2016-03-19 18:57:12</td>\n      <td>9200</td>\n      <td>bus</td>\n      <td>1996</td>\n      <td>manual</td>\n      <td>102</td>\n      <td>transporter</td>\n      <td>150000</td>\n      <td>3</td>\n      <td>gasoline</td>\n      <td>volkswagen</td>\n      <td>no</td>\n      <td>2016-03-19 00:00:00</td>\n      <td>0</td>\n      <td>87439</td>\n      <td>2016-04-07 07:15:26</td>\n    </tr>\n    <tr>\n      <th>354368</th>\n      <td>2016-03-20 19:41:08</td>\n      <td>3400</td>\n      <td>wagon</td>\n      <td>2002</td>\n      <td>manual</td>\n      <td>100</td>\n      <td>golf</td>\n      <td>150000</td>\n      <td>6</td>\n      <td>gasoline</td>\n      <td>volkswagen</td>\n      <td>NaN</td>\n      <td>2016-03-20 00:00:00</td>\n      <td>0</td>\n      <td>40764</td>\n      <td>2016-03-24 12:45:21</td>\n    </tr>\n  </tbody>\n</table>\n<p>354369 rows × 16 columns</p>\n</div>"
     },
     "execution_count": 46,
     "metadata": {},
     "output_type": "execute_result"
    }
   ],
   "source": [
    "data = pd.read_csv('autos.csv')\n",
    "data"
   ],
   "metadata": {
    "collapsed": false,
    "pycharm": {
     "name": "#%%\n"
    }
   }
  },
  {
   "cell_type": "code",
   "execution_count": 47,
   "outputs": [],
   "source": [
    "data_copy = data"
   ],
   "metadata": {
    "collapsed": false,
    "pycharm": {
     "name": "#%%\n"
    }
   }
  },
  {
   "cell_type": "code",
   "execution_count": 48,
   "outputs": [
    {
     "data": {
      "text/plain": "Empty DataFrame\nColumns: [DateCrawled, Price, VehicleType, RegistrationYear, Gearbox, Power, Model, Kilometer, RegistrationMonth, FuelType, Brand, Repaired, DateCreated, NumberOfPictures, PostalCode, LastSeen]\nIndex: []",
      "text/html": "<div>\n<style scoped>\n    .dataframe tbody tr th:only-of-type {\n        vertical-align: middle;\n    }\n\n    .dataframe tbody tr th {\n        vertical-align: top;\n    }\n\n    .dataframe thead th {\n        text-align: right;\n    }\n</style>\n<table border=\"1\" class=\"dataframe\">\n  <thead>\n    <tr style=\"text-align: right;\">\n      <th></th>\n      <th>DateCrawled</th>\n      <th>Price</th>\n      <th>VehicleType</th>\n      <th>RegistrationYear</th>\n      <th>Gearbox</th>\n      <th>Power</th>\n      <th>Model</th>\n      <th>Kilometer</th>\n      <th>RegistrationMonth</th>\n      <th>FuelType</th>\n      <th>Brand</th>\n      <th>Repaired</th>\n      <th>DateCreated</th>\n      <th>NumberOfPictures</th>\n      <th>PostalCode</th>\n      <th>LastSeen</th>\n    </tr>\n  </thead>\n  <tbody>\n  </tbody>\n</table>\n</div>"
     },
     "execution_count": 48,
     "metadata": {},
     "output_type": "execute_result"
    }
   ],
   "source": [
    "data[data['NumberOfPictures']!=0]"
   ],
   "metadata": {
    "collapsed": false,
    "pycharm": {
     "name": "#%%\n"
    }
   }
  },
  {
   "cell_type": "markdown",
   "source": [
    "## Заполнение пропусков"
   ],
   "metadata": {
    "collapsed": false,
    "pycharm": {
     "name": "#%% md\n"
    }
   }
  },
  {
   "cell_type": "markdown",
   "source": [
    "Рассмотрим наши данные, которые мы имеем и их зависимость с целевым признаком(если она присутствует):\n",
    " - Vehicle Type - имеет строковый тип, чем лучше тип автомобиля тем выше цена.\n",
    "  - Gearbox - наличие автоматической коробки передач повышает цену автомобиля.\n",
    "  - Power - прямая пропорциональная зависимость с целевым признаком\n",
    "  - Kilometr - чем больше проеханных автомобилем километров , тем ниже цена"
   ],
   "metadata": {
    "collapsed": false,
    "pycharm": {
     "name": "#%% md\n"
    }
   }
  },
  {
   "cell_type": "code",
   "execution_count": 49,
   "outputs": [
    {
     "data": {
      "text/plain": "DateCrawled              0\nPrice                    0\nVehicleType          37490\nRegistrationYear         0\nGearbox              19833\nPower                    0\nModel                19705\nKilometer                0\nRegistrationMonth        0\nFuelType             32895\nBrand                    0\nRepaired             71154\nDateCreated              0\nNumberOfPictures         0\nPostalCode               0\nLastSeen                 0\ndtype: int64"
     },
     "execution_count": 49,
     "metadata": {},
     "output_type": "execute_result"
    }
   ],
   "source": [
    "data.isna().sum()"
   ],
   "metadata": {
    "collapsed": false,
    "pycharm": {
     "name": "#%%\n"
    }
   }
  },
  {
   "cell_type": "code",
   "execution_count": 50,
   "outputs": [
    {
     "name": "stdout",
     "output_type": "stream",
     "text": [
      "<class 'pandas.core.frame.DataFrame'>\n",
      "RangeIndex: 354369 entries, 0 to 354368\n",
      "Data columns (total 16 columns):\n",
      " #   Column             Non-Null Count   Dtype \n",
      "---  ------             --------------   ----- \n",
      " 0   DateCrawled        354369 non-null  object\n",
      " 1   Price              354369 non-null  int64 \n",
      " 2   VehicleType        316879 non-null  object\n",
      " 3   RegistrationYear   354369 non-null  int64 \n",
      " 4   Gearbox            334536 non-null  object\n",
      " 5   Power              354369 non-null  int64 \n",
      " 6   Model              334664 non-null  object\n",
      " 7   Kilometer          354369 non-null  int64 \n",
      " 8   RegistrationMonth  354369 non-null  int64 \n",
      " 9   FuelType           321474 non-null  object\n",
      " 10  Brand              354369 non-null  object\n",
      " 11  Repaired           283215 non-null  object\n",
      " 12  DateCreated        354369 non-null  object\n",
      " 13  NumberOfPictures   354369 non-null  int64 \n",
      " 14  PostalCode         354369 non-null  int64 \n",
      " 15  LastSeen           354369 non-null  object\n",
      "dtypes: int64(7), object(9)\n",
      "memory usage: 43.3+ MB\n"
     ]
    }
   ],
   "source": [
    "data.info()"
   ],
   "metadata": {
    "collapsed": false,
    "pycharm": {
     "name": "#%%\n"
    }
   }
  },
  {
   "cell_type": "code",
   "execution_count": 51,
   "outputs": [
    {
     "name": "stdout",
     "output_type": "stream",
     "text": [
      "Vehical:  0.1057936783409384\n",
      "Gearbox:  0.055967085156997366\n",
      "FuelType:  0.09282696849893755\n",
      "Model:  0.055605879746817584\n",
      "Repaired:  0.20079070121822168\n"
     ]
    }
   ],
   "source": [
    "print('Vehical: ',data['VehicleType'].isna().sum()/data.shape[0])\n",
    "print('Gearbox: ',data['Gearbox'].isna().sum()/data.shape[0])\n",
    "print('FuelType: ',data['FuelType'].isna().sum()/data.shape[0])\n",
    "print('Model: ',data['Model'].isna().sum()/data.shape[0])\n",
    "print('Repaired: ',data['Repaired'].isna().sum()/data.shape[0])"
   ],
   "metadata": {
    "collapsed": false,
    "pycharm": {
     "name": "#%%\n"
    }
   }
  },
  {
   "cell_type": "code",
   "execution_count": 52,
   "outputs": [
    {
     "data": {
      "text/plain": "array([1000, 1000, 1000, ..., 9999, 9999, 9999], dtype=int64)"
     },
     "execution_count": 52,
     "metadata": {},
     "output_type": "execute_result"
    }
   ],
   "source": [
    "np.sort(data['RegistrationYear'])"
   ],
   "metadata": {
    "collapsed": false,
    "pycharm": {
     "name": "#%%\n"
    }
   }
  },
  {
   "cell_type": "markdown",
   "source": [
    "Рассмотрев данные, сразу можно заметить\n",
    " - столбец NumberOfPictures, который на всех объектах равен 0. Его сразу можно удалить так как он не повлияет на обучение модели.\n",
    "  - Признак Repared имеет наибольшее кол-во пропусков, также этот признак может иметь значение yes/no, поэтому можно заменить пропуски на значения no.\n",
    "  - Vechicle Type можно заполнить по марке автомобиля.\n",
    "\n",
    "  - FuelType можно заполнить по марке автомобиля\n",
    "  - PostalCode - почтовый индекс никак не повлияет на целевой признак, поэтому его необходимо убрать\n",
    "  - Остальные пропуска находятся в признаках, которые имеют строчное значение, и их нельзя заменить на какое то определенное,например тип кузова, так как данные слишком важны, и такое заполнение пропусков может только помешать обучению."
   ],
   "metadata": {
    "collapsed": false,
    "pycharm": {
     "name": "#%% md\n"
    }
   }
  },
  {
   "cell_type": "code",
   "execution_count": 53,
   "outputs": [
    {
     "data": {
      "text/plain": "        Price  VehicleType  RegistrationYear Gearbox  Power        Model  \\\n0         480          NaN              1993  manual      0         golf   \n1       18300        coupe              2011  manual    190          NaN   \n2        9800          suv              2004    auto    163        grand   \n3        1500        small              2001  manual     75         golf   \n4        3600        small              2008  manual     69        fabia   \n...       ...          ...               ...     ...    ...          ...   \n354364      0          NaN              2005  manual      0         colt   \n354365   2200          NaN              2005     NaN      0          NaN   \n354366   1199  convertible              2000    auto    101       fortwo   \n354367   9200          bus              1996  manual    102  transporter   \n354368   3400        wagon              2002  manual    100         golf   \n\n        Kilometer  RegistrationMonth  FuelType           Brand Repaired  \n0          150000                  0    petrol      volkswagen      NaN  \n1          125000                  5  gasoline            audi      yes  \n2          125000                  8  gasoline            jeep      NaN  \n3          150000                  6    petrol      volkswagen       no  \n4           90000                  7  gasoline           skoda       no  \n...           ...                ...       ...             ...      ...  \n354364     150000                  7    petrol      mitsubishi      yes  \n354365      20000                  1       NaN  sonstige_autos      NaN  \n354366     125000                  3    petrol           smart       no  \n354367     150000                  3  gasoline      volkswagen       no  \n354368     150000                  6  gasoline      volkswagen      NaN  \n\n[354369 rows x 11 columns]",
      "text/html": "<div>\n<style scoped>\n    .dataframe tbody tr th:only-of-type {\n        vertical-align: middle;\n    }\n\n    .dataframe tbody tr th {\n        vertical-align: top;\n    }\n\n    .dataframe thead th {\n        text-align: right;\n    }\n</style>\n<table border=\"1\" class=\"dataframe\">\n  <thead>\n    <tr style=\"text-align: right;\">\n      <th></th>\n      <th>Price</th>\n      <th>VehicleType</th>\n      <th>RegistrationYear</th>\n      <th>Gearbox</th>\n      <th>Power</th>\n      <th>Model</th>\n      <th>Kilometer</th>\n      <th>RegistrationMonth</th>\n      <th>FuelType</th>\n      <th>Brand</th>\n      <th>Repaired</th>\n    </tr>\n  </thead>\n  <tbody>\n    <tr>\n      <th>0</th>\n      <td>480</td>\n      <td>NaN</td>\n      <td>1993</td>\n      <td>manual</td>\n      <td>0</td>\n      <td>golf</td>\n      <td>150000</td>\n      <td>0</td>\n      <td>petrol</td>\n      <td>volkswagen</td>\n      <td>NaN</td>\n    </tr>\n    <tr>\n      <th>1</th>\n      <td>18300</td>\n      <td>coupe</td>\n      <td>2011</td>\n      <td>manual</td>\n      <td>190</td>\n      <td>NaN</td>\n      <td>125000</td>\n      <td>5</td>\n      <td>gasoline</td>\n      <td>audi</td>\n      <td>yes</td>\n    </tr>\n    <tr>\n      <th>2</th>\n      <td>9800</td>\n      <td>suv</td>\n      <td>2004</td>\n      <td>auto</td>\n      <td>163</td>\n      <td>grand</td>\n      <td>125000</td>\n      <td>8</td>\n      <td>gasoline</td>\n      <td>jeep</td>\n      <td>NaN</td>\n    </tr>\n    <tr>\n      <th>3</th>\n      <td>1500</td>\n      <td>small</td>\n      <td>2001</td>\n      <td>manual</td>\n      <td>75</td>\n      <td>golf</td>\n      <td>150000</td>\n      <td>6</td>\n      <td>petrol</td>\n      <td>volkswagen</td>\n      <td>no</td>\n    </tr>\n    <tr>\n      <th>4</th>\n      <td>3600</td>\n      <td>small</td>\n      <td>2008</td>\n      <td>manual</td>\n      <td>69</td>\n      <td>fabia</td>\n      <td>90000</td>\n      <td>7</td>\n      <td>gasoline</td>\n      <td>skoda</td>\n      <td>no</td>\n    </tr>\n    <tr>\n      <th>...</th>\n      <td>...</td>\n      <td>...</td>\n      <td>...</td>\n      <td>...</td>\n      <td>...</td>\n      <td>...</td>\n      <td>...</td>\n      <td>...</td>\n      <td>...</td>\n      <td>...</td>\n      <td>...</td>\n    </tr>\n    <tr>\n      <th>354364</th>\n      <td>0</td>\n      <td>NaN</td>\n      <td>2005</td>\n      <td>manual</td>\n      <td>0</td>\n      <td>colt</td>\n      <td>150000</td>\n      <td>7</td>\n      <td>petrol</td>\n      <td>mitsubishi</td>\n      <td>yes</td>\n    </tr>\n    <tr>\n      <th>354365</th>\n      <td>2200</td>\n      <td>NaN</td>\n      <td>2005</td>\n      <td>NaN</td>\n      <td>0</td>\n      <td>NaN</td>\n      <td>20000</td>\n      <td>1</td>\n      <td>NaN</td>\n      <td>sonstige_autos</td>\n      <td>NaN</td>\n    </tr>\n    <tr>\n      <th>354366</th>\n      <td>1199</td>\n      <td>convertible</td>\n      <td>2000</td>\n      <td>auto</td>\n      <td>101</td>\n      <td>fortwo</td>\n      <td>125000</td>\n      <td>3</td>\n      <td>petrol</td>\n      <td>smart</td>\n      <td>no</td>\n    </tr>\n    <tr>\n      <th>354367</th>\n      <td>9200</td>\n      <td>bus</td>\n      <td>1996</td>\n      <td>manual</td>\n      <td>102</td>\n      <td>transporter</td>\n      <td>150000</td>\n      <td>3</td>\n      <td>gasoline</td>\n      <td>volkswagen</td>\n      <td>no</td>\n    </tr>\n    <tr>\n      <th>354368</th>\n      <td>3400</td>\n      <td>wagon</td>\n      <td>2002</td>\n      <td>manual</td>\n      <td>100</td>\n      <td>golf</td>\n      <td>150000</td>\n      <td>6</td>\n      <td>gasoline</td>\n      <td>volkswagen</td>\n      <td>NaN</td>\n    </tr>\n  </tbody>\n</table>\n<p>354369 rows × 11 columns</p>\n</div>"
     },
     "execution_count": 53,
     "metadata": {},
     "output_type": "execute_result"
    }
   ],
   "source": [
    "data = data.drop([\"DateCrawled\",\"DateCreated\",\"LastSeen\",\"NumberOfPictures\",\"PostalCode\"], axis=1)\n",
    "data"
   ],
   "metadata": {
    "collapsed": false,
    "pycharm": {
     "name": "#%%\n"
    }
   }
  },
  {
   "cell_type": "code",
   "execution_count": 54,
   "outputs": [
    {
     "data": {
      "text/plain": "        Price  VehicleType  RegistrationYear Gearbox  Power        Model  \\\n0         480          NaN              1993  manual      0         golf   \n1       18300        coupe              2011  manual    190          NaN   \n2        9800          suv              2004    auto    163        grand   \n3        1500        small              2001  manual     75         golf   \n4        3600        small              2008  manual     69        fabia   \n...       ...          ...               ...     ...    ...          ...   \n354364      0          NaN              2005  manual      0         colt   \n354365   2200          NaN              2005     NaN      0          NaN   \n354366   1199  convertible              2000    auto    101       fortwo   \n354367   9200          bus              1996  manual    102  transporter   \n354368   3400        wagon              2002  manual    100         golf   \n\n        Kilometer  RegistrationMonth  FuelType           Brand Repaired  \n0          150000                  0    petrol      volkswagen       no  \n1          125000                  5  gasoline            audi      yes  \n2          125000                  8  gasoline            jeep       no  \n3          150000                  6    petrol      volkswagen       no  \n4           90000                  7  gasoline           skoda       no  \n...           ...                ...       ...             ...      ...  \n354364     150000                  7    petrol      mitsubishi      yes  \n354365      20000                  1       NaN  sonstige_autos       no  \n354366     125000                  3    petrol           smart       no  \n354367     150000                  3  gasoline      volkswagen       no  \n354368     150000                  6  gasoline      volkswagen       no  \n\n[354369 rows x 11 columns]",
      "text/html": "<div>\n<style scoped>\n    .dataframe tbody tr th:only-of-type {\n        vertical-align: middle;\n    }\n\n    .dataframe tbody tr th {\n        vertical-align: top;\n    }\n\n    .dataframe thead th {\n        text-align: right;\n    }\n</style>\n<table border=\"1\" class=\"dataframe\">\n  <thead>\n    <tr style=\"text-align: right;\">\n      <th></th>\n      <th>Price</th>\n      <th>VehicleType</th>\n      <th>RegistrationYear</th>\n      <th>Gearbox</th>\n      <th>Power</th>\n      <th>Model</th>\n      <th>Kilometer</th>\n      <th>RegistrationMonth</th>\n      <th>FuelType</th>\n      <th>Brand</th>\n      <th>Repaired</th>\n    </tr>\n  </thead>\n  <tbody>\n    <tr>\n      <th>0</th>\n      <td>480</td>\n      <td>NaN</td>\n      <td>1993</td>\n      <td>manual</td>\n      <td>0</td>\n      <td>golf</td>\n      <td>150000</td>\n      <td>0</td>\n      <td>petrol</td>\n      <td>volkswagen</td>\n      <td>no</td>\n    </tr>\n    <tr>\n      <th>1</th>\n      <td>18300</td>\n      <td>coupe</td>\n      <td>2011</td>\n      <td>manual</td>\n      <td>190</td>\n      <td>NaN</td>\n      <td>125000</td>\n      <td>5</td>\n      <td>gasoline</td>\n      <td>audi</td>\n      <td>yes</td>\n    </tr>\n    <tr>\n      <th>2</th>\n      <td>9800</td>\n      <td>suv</td>\n      <td>2004</td>\n      <td>auto</td>\n      <td>163</td>\n      <td>grand</td>\n      <td>125000</td>\n      <td>8</td>\n      <td>gasoline</td>\n      <td>jeep</td>\n      <td>no</td>\n    </tr>\n    <tr>\n      <th>3</th>\n      <td>1500</td>\n      <td>small</td>\n      <td>2001</td>\n      <td>manual</td>\n      <td>75</td>\n      <td>golf</td>\n      <td>150000</td>\n      <td>6</td>\n      <td>petrol</td>\n      <td>volkswagen</td>\n      <td>no</td>\n    </tr>\n    <tr>\n      <th>4</th>\n      <td>3600</td>\n      <td>small</td>\n      <td>2008</td>\n      <td>manual</td>\n      <td>69</td>\n      <td>fabia</td>\n      <td>90000</td>\n      <td>7</td>\n      <td>gasoline</td>\n      <td>skoda</td>\n      <td>no</td>\n    </tr>\n    <tr>\n      <th>...</th>\n      <td>...</td>\n      <td>...</td>\n      <td>...</td>\n      <td>...</td>\n      <td>...</td>\n      <td>...</td>\n      <td>...</td>\n      <td>...</td>\n      <td>...</td>\n      <td>...</td>\n      <td>...</td>\n    </tr>\n    <tr>\n      <th>354364</th>\n      <td>0</td>\n      <td>NaN</td>\n      <td>2005</td>\n      <td>manual</td>\n      <td>0</td>\n      <td>colt</td>\n      <td>150000</td>\n      <td>7</td>\n      <td>petrol</td>\n      <td>mitsubishi</td>\n      <td>yes</td>\n    </tr>\n    <tr>\n      <th>354365</th>\n      <td>2200</td>\n      <td>NaN</td>\n      <td>2005</td>\n      <td>NaN</td>\n      <td>0</td>\n      <td>NaN</td>\n      <td>20000</td>\n      <td>1</td>\n      <td>NaN</td>\n      <td>sonstige_autos</td>\n      <td>no</td>\n    </tr>\n    <tr>\n      <th>354366</th>\n      <td>1199</td>\n      <td>convertible</td>\n      <td>2000</td>\n      <td>auto</td>\n      <td>101</td>\n      <td>fortwo</td>\n      <td>125000</td>\n      <td>3</td>\n      <td>petrol</td>\n      <td>smart</td>\n      <td>no</td>\n    </tr>\n    <tr>\n      <th>354367</th>\n      <td>9200</td>\n      <td>bus</td>\n      <td>1996</td>\n      <td>manual</td>\n      <td>102</td>\n      <td>transporter</td>\n      <td>150000</td>\n      <td>3</td>\n      <td>gasoline</td>\n      <td>volkswagen</td>\n      <td>no</td>\n    </tr>\n    <tr>\n      <th>354368</th>\n      <td>3400</td>\n      <td>wagon</td>\n      <td>2002</td>\n      <td>manual</td>\n      <td>100</td>\n      <td>golf</td>\n      <td>150000</td>\n      <td>6</td>\n      <td>gasoline</td>\n      <td>volkswagen</td>\n      <td>no</td>\n    </tr>\n  </tbody>\n</table>\n<p>354369 rows × 11 columns</p>\n</div>"
     },
     "execution_count": 54,
     "metadata": {},
     "output_type": "execute_result"
    }
   ],
   "source": [
    "data['Repaired'] = data['Repaired'].fillna('no')\n",
    "data"
   ],
   "metadata": {
    "collapsed": false,
    "pycharm": {
     "name": "#%%\n"
    }
   }
  },
  {
   "cell_type": "code",
   "execution_count": 55,
   "outputs": [
    {
     "data": {
      "text/plain": "Brand        alfa_romeo     audi      bmw  chevrolet  chrysler  citroen  \\\nVehicleType                                                               \nbus                 NaN     10.0      7.0      159.0     436.0   1262.0   \nconvertible       180.0   1627.0   3266.0       17.0     238.0    114.0   \ncoupe             229.0   1499.0   3809.0       90.0      48.0    152.0   \nother              15.0    110.0    242.0       46.0      10.0    121.0   \nsedan             945.0  10965.0  17585.0      231.0     295.0    714.0   \nsmall             239.0   1571.0    448.0      582.0      12.0   1590.0   \nsuv                 1.0    180.0    818.0      384.0      23.0     36.0   \nwagon             457.0  11081.0   7929.0      110.0     244.0    629.0   \n\nBrand        dacia  daewoo  daihatsu    fiat  ...    seat   skoda   smart  \\\nVehicleType                                   ...                           \nbus           50.0    27.0      36.0   833.0  ...   614.0   231.0     1.0   \nconvertible    NaN     1.0      17.0   520.0  ...     NaN     4.0  1132.0   \ncoupe          NaN     8.0       NaN   177.0  ...    87.0    10.0   341.0   \nother          6.0     5.0      12.0   184.0  ...    74.0    26.0     9.0   \nsedan        103.0   107.0      47.0   904.0  ...  1781.0   911.0    29.0   \nsmall        223.0   268.0     527.0  5308.0  ...  3119.0  1124.0  3267.0   \nsuv          215.0     1.0      49.0    24.0  ...     4.0   173.0     NaN   \nwagon        252.0    47.0      17.0   455.0  ...   399.0  2709.0     9.0   \n\nBrand        sonstige_autos  subaru  suzuki  toyota  trabant  volkswagen  \\\nVehicleType                                                                \nbus                   202.0    17.0    28.0   447.0      NaN      9536.0   \nconvertible           330.0     1.0    36.0    65.0     37.0      2963.0   \ncoupe                 230.0     8.0     8.0   232.0      4.0      1784.0   \nother                 256.0     6.0    14.0    21.0      7.0       760.0   \nsedan                 486.0   168.0   183.0   895.0    230.0     19738.0   \nsmall                 261.0   119.0   985.0  1588.0     58.0     18531.0   \nsuv                   429.0    62.0   749.0   445.0      1.0      1331.0   \nwagon                 139.0   300.0    89.0   572.0     79.0     12660.0   \n\nBrand         volvo  \nVehicleType          \nbus             NaN  \nconvertible    75.0  \ncoupe          69.0  \nother           5.0  \nsedan         643.0  \nsmall           7.0  \nsuv           221.0  \nwagon        1989.0  \n\n[8 rows x 40 columns]",
      "text/html": "<div>\n<style scoped>\n    .dataframe tbody tr th:only-of-type {\n        vertical-align: middle;\n    }\n\n    .dataframe tbody tr th {\n        vertical-align: top;\n    }\n\n    .dataframe thead th {\n        text-align: right;\n    }\n</style>\n<table border=\"1\" class=\"dataframe\">\n  <thead>\n    <tr style=\"text-align: right;\">\n      <th>Brand</th>\n      <th>alfa_romeo</th>\n      <th>audi</th>\n      <th>bmw</th>\n      <th>chevrolet</th>\n      <th>chrysler</th>\n      <th>citroen</th>\n      <th>dacia</th>\n      <th>daewoo</th>\n      <th>daihatsu</th>\n      <th>fiat</th>\n      <th>...</th>\n      <th>seat</th>\n      <th>skoda</th>\n      <th>smart</th>\n      <th>sonstige_autos</th>\n      <th>subaru</th>\n      <th>suzuki</th>\n      <th>toyota</th>\n      <th>trabant</th>\n      <th>volkswagen</th>\n      <th>volvo</th>\n    </tr>\n    <tr>\n      <th>VehicleType</th>\n      <th></th>\n      <th></th>\n      <th></th>\n      <th></th>\n      <th></th>\n      <th></th>\n      <th></th>\n      <th></th>\n      <th></th>\n      <th></th>\n      <th></th>\n      <th></th>\n      <th></th>\n      <th></th>\n      <th></th>\n      <th></th>\n      <th></th>\n      <th></th>\n      <th></th>\n      <th></th>\n      <th></th>\n    </tr>\n  </thead>\n  <tbody>\n    <tr>\n      <th>bus</th>\n      <td>NaN</td>\n      <td>10.0</td>\n      <td>7.0</td>\n      <td>159.0</td>\n      <td>436.0</td>\n      <td>1262.0</td>\n      <td>50.0</td>\n      <td>27.0</td>\n      <td>36.0</td>\n      <td>833.0</td>\n      <td>...</td>\n      <td>614.0</td>\n      <td>231.0</td>\n      <td>1.0</td>\n      <td>202.0</td>\n      <td>17.0</td>\n      <td>28.0</td>\n      <td>447.0</td>\n      <td>NaN</td>\n      <td>9536.0</td>\n      <td>NaN</td>\n    </tr>\n    <tr>\n      <th>convertible</th>\n      <td>180.0</td>\n      <td>1627.0</td>\n      <td>3266.0</td>\n      <td>17.0</td>\n      <td>238.0</td>\n      <td>114.0</td>\n      <td>NaN</td>\n      <td>1.0</td>\n      <td>17.0</td>\n      <td>520.0</td>\n      <td>...</td>\n      <td>NaN</td>\n      <td>4.0</td>\n      <td>1132.0</td>\n      <td>330.0</td>\n      <td>1.0</td>\n      <td>36.0</td>\n      <td>65.0</td>\n      <td>37.0</td>\n      <td>2963.0</td>\n      <td>75.0</td>\n    </tr>\n    <tr>\n      <th>coupe</th>\n      <td>229.0</td>\n      <td>1499.0</td>\n      <td>3809.0</td>\n      <td>90.0</td>\n      <td>48.0</td>\n      <td>152.0</td>\n      <td>NaN</td>\n      <td>8.0</td>\n      <td>NaN</td>\n      <td>177.0</td>\n      <td>...</td>\n      <td>87.0</td>\n      <td>10.0</td>\n      <td>341.0</td>\n      <td>230.0</td>\n      <td>8.0</td>\n      <td>8.0</td>\n      <td>232.0</td>\n      <td>4.0</td>\n      <td>1784.0</td>\n      <td>69.0</td>\n    </tr>\n    <tr>\n      <th>other</th>\n      <td>15.0</td>\n      <td>110.0</td>\n      <td>242.0</td>\n      <td>46.0</td>\n      <td>10.0</td>\n      <td>121.0</td>\n      <td>6.0</td>\n      <td>5.0</td>\n      <td>12.0</td>\n      <td>184.0</td>\n      <td>...</td>\n      <td>74.0</td>\n      <td>26.0</td>\n      <td>9.0</td>\n      <td>256.0</td>\n      <td>6.0</td>\n      <td>14.0</td>\n      <td>21.0</td>\n      <td>7.0</td>\n      <td>760.0</td>\n      <td>5.0</td>\n    </tr>\n    <tr>\n      <th>sedan</th>\n      <td>945.0</td>\n      <td>10965.0</td>\n      <td>17585.0</td>\n      <td>231.0</td>\n      <td>295.0</td>\n      <td>714.0</td>\n      <td>103.0</td>\n      <td>107.0</td>\n      <td>47.0</td>\n      <td>904.0</td>\n      <td>...</td>\n      <td>1781.0</td>\n      <td>911.0</td>\n      <td>29.0</td>\n      <td>486.0</td>\n      <td>168.0</td>\n      <td>183.0</td>\n      <td>895.0</td>\n      <td>230.0</td>\n      <td>19738.0</td>\n      <td>643.0</td>\n    </tr>\n    <tr>\n      <th>small</th>\n      <td>239.0</td>\n      <td>1571.0</td>\n      <td>448.0</td>\n      <td>582.0</td>\n      <td>12.0</td>\n      <td>1590.0</td>\n      <td>223.0</td>\n      <td>268.0</td>\n      <td>527.0</td>\n      <td>5308.0</td>\n      <td>...</td>\n      <td>3119.0</td>\n      <td>1124.0</td>\n      <td>3267.0</td>\n      <td>261.0</td>\n      <td>119.0</td>\n      <td>985.0</td>\n      <td>1588.0</td>\n      <td>58.0</td>\n      <td>18531.0</td>\n      <td>7.0</td>\n    </tr>\n    <tr>\n      <th>suv</th>\n      <td>1.0</td>\n      <td>180.0</td>\n      <td>818.0</td>\n      <td>384.0</td>\n      <td>23.0</td>\n      <td>36.0</td>\n      <td>215.0</td>\n      <td>1.0</td>\n      <td>49.0</td>\n      <td>24.0</td>\n      <td>...</td>\n      <td>4.0</td>\n      <td>173.0</td>\n      <td>NaN</td>\n      <td>429.0</td>\n      <td>62.0</td>\n      <td>749.0</td>\n      <td>445.0</td>\n      <td>1.0</td>\n      <td>1331.0</td>\n      <td>221.0</td>\n    </tr>\n    <tr>\n      <th>wagon</th>\n      <td>457.0</td>\n      <td>11081.0</td>\n      <td>7929.0</td>\n      <td>110.0</td>\n      <td>244.0</td>\n      <td>629.0</td>\n      <td>252.0</td>\n      <td>47.0</td>\n      <td>17.0</td>\n      <td>455.0</td>\n      <td>...</td>\n      <td>399.0</td>\n      <td>2709.0</td>\n      <td>9.0</td>\n      <td>139.0</td>\n      <td>300.0</td>\n      <td>89.0</td>\n      <td>572.0</td>\n      <td>79.0</td>\n      <td>12660.0</td>\n      <td>1989.0</td>\n    </tr>\n  </tbody>\n</table>\n<p>8 rows × 40 columns</p>\n</div>"
     },
     "execution_count": 55,
     "metadata": {},
     "output_type": "execute_result"
    }
   ],
   "source": [
    "vehicle_type_pivot_table = data.pivot_table(index='VehicleType',\n",
    "                                                          columns='Brand',\n",
    "                                                          values='Price',\n",
    "                                                          aggfunc='count')\n",
    "vehicle_type_pivot_table"
   ],
   "metadata": {
    "collapsed": false,
    "pycharm": {
     "name": "#%%\n"
    }
   }
  },
  {
   "cell_type": "code",
   "execution_count": 56,
   "outputs": [
    {
     "name": "stdout",
     "output_type": "stream",
     "text": [
      "Index(['alfa_romeo', 'audi', 'bmw', 'chevrolet', 'chrysler', 'citroen',\n",
      "       'dacia', 'daewoo', 'daihatsu', 'fiat', 'ford', 'honda', 'hyundai',\n",
      "       'jaguar', 'jeep', 'kia', 'lada', 'lancia', 'land_rover', 'mazda',\n",
      "       'mercedes_benz', 'mini', 'mitsubishi', 'nissan', 'opel', 'peugeot',\n",
      "       'porsche', 'renault', 'rover', 'saab', 'seat', 'skoda', 'smart',\n",
      "       'sonstige_autos', 'subaru', 'suzuki', 'toyota', 'trabant', 'volkswagen',\n",
      "       'volvo'],\n",
      "      dtype='object', name='Brand')\n"
     ]
    },
    {
     "data": {
      "text/plain": "'wagon'"
     },
     "execution_count": 56,
     "metadata": {},
     "output_type": "execute_result"
    }
   ],
   "source": [
    "print(vehicle_type_pivot_table.columns)\n",
    "vehicle_type_pivot_table['audi'].idxmax()"
   ],
   "metadata": {
    "collapsed": false,
    "pycharm": {
     "name": "#%%\n"
    }
   }
  },
  {
   "cell_type": "code",
   "execution_count": 57,
   "outputs": [],
   "source": [
    "def fill_by_brand(row,col):\n",
    "    if row[col] == np.nan or pd.isnull(row[col]) and not pd.isnull(row['Brand']):\n",
    "        return vehicle_type_pivot_table[row['Brand']].idxmax()\n",
    "    return row[col]\n",
    "\n",
    "data['VehicleType'] = data.apply(fill_by_brand,args=['VehicleType'], axis=1)\n",
    "data['FuelType'] = data.apply(fill_by_brand,args=['FuelType'], axis=1)"
   ],
   "metadata": {
    "collapsed": false,
    "pycharm": {
     "name": "#%%\n"
    }
   }
  },
  {
   "cell_type": "code",
   "execution_count": 58,
   "outputs": [
    {
     "data": {
      "text/plain": "Price                    0\nVehicleType              0\nRegistrationYear         0\nGearbox              19833\nPower                    0\nModel                19705\nKilometer                0\nRegistrationMonth        0\nFuelType                 0\nBrand                    0\nRepaired                 0\ndtype: int64"
     },
     "execution_count": 58,
     "metadata": {},
     "output_type": "execute_result"
    }
   ],
   "source": [
    "data.isna().sum()"
   ],
   "metadata": {
    "collapsed": false,
    "pycharm": {
     "name": "#%%\n"
    }
   }
  },
  {
   "cell_type": "markdown",
   "source": [
    "## Аномальные значения"
   ],
   "metadata": {
    "collapsed": false,
    "pycharm": {
     "name": "#%% md\n"
    }
   }
  },
  {
   "cell_type": "markdown",
   "source": [
    "Для начала рассмотрим цену автомоблей , естественно большую 0. Рассмотрим квантили 85 и 5, чтобы проанализировать до какого значения находится 85% нашей выборки и до какого 5%."
   ],
   "metadata": {
    "collapsed": false,
    "pycharm": {
     "name": "#%% md\n"
    }
   }
  },
  {
   "cell_type": "code",
   "execution_count": 59,
   "outputs": [
    {
     "data": {
      "text/plain": "<AxesSubplot:>"
     },
     "execution_count": 59,
     "metadata": {},
     "output_type": "execute_result"
    },
    {
     "data": {
      "text/plain": "<Figure size 432x288 with 1 Axes>",
      "image/png": "[encoded data removed]"
     },
     "metadata": {},
     "output_type": "display_data"
    }
   ],
   "source": [
    "(data[data['Price']>0]['Price']).hist(bins=200)"
   ],
   "metadata": {
    "collapsed": false,
    "pycharm": {
     "name": "#%%\n"
    }
   }
  },
  {
   "cell_type": "code",
   "execution_count": 60,
   "outputs": [
    {
     "data": {
      "text/plain": "array([9000.,  200.])"
     },
     "execution_count": 60,
     "metadata": {},
     "output_type": "execute_result"
    }
   ],
   "source": [
    "np.quantile(data['Price'], q=[0.85,0.05])"
   ],
   "metadata": {
    "collapsed": false,
    "pycharm": {
     "name": "#%%\n"
    }
   }
  },
  {
   "cell_type": "markdown",
   "source": [
    "Поставим 1250 евро как минимальную цену автомобиля,а максимальную 10700"
   ],
   "metadata": {
    "collapsed": false,
    "pycharm": {
     "name": "#%% md\n"
    }
   }
  },
  {
   "cell_type": "code",
   "execution_count": 61,
   "outputs": [
    {
     "data": {
      "text/plain": "        Price  VehicleType  RegistrationYear Gearbox  Power    Model  \\\n0         480        sedan              1993  manual      0     golf   \n3        1500        small              2001  manual     75     golf   \n4        3600        small              2008  manual     69    fabia   \n5         650        sedan              1995  manual    102      3er   \n6        2200  convertible              2004  manual    109  2_reihe   \n...       ...          ...               ...     ...    ...      ...   \n354362   3200        sedan              2004  manual    225     leon   \n354363   1150          bus              2000  manual      0   zafira   \n354365   2200        sedan              2005     NaN      0      NaN   \n354366   1199  convertible              2000    auto    101   fortwo   \n354368   3400        wagon              2002  manual    100     golf   \n\n        Kilometer  RegistrationMonth  FuelType           Brand Repaired  \n0          150000                  0    petrol      volkswagen       no  \n3          150000                  6    petrol      volkswagen       no  \n4           90000                  7  gasoline           skoda       no  \n5          150000                 10    petrol             bmw      yes  \n6          150000                  8    petrol         peugeot       no  \n...           ...                ...       ...             ...      ...  \n354362     150000                  5    petrol            seat      yes  \n354363     150000                  3    petrol            opel       no  \n354365      20000                  1     sedan  sonstige_autos       no  \n354366     125000                  3    petrol           smart       no  \n354368     150000                  6  gasoline      volkswagen       no  \n\n[284085 rows x 11 columns]",
      "text/html": "<div>\n<style scoped>\n    .dataframe tbody tr th:only-of-type {\n        vertical-align: middle;\n    }\n\n    .dataframe tbody tr th {\n        vertical-align: top;\n    }\n\n    .dataframe thead th {\n        text-align: right;\n    }\n</style>\n<table border=\"1\" class=\"dataframe\">\n  <thead>\n    <tr style=\"text-align: right;\">\n      <th></th>\n      <th>Price</th>\n      <th>VehicleType</th>\n      <th>RegistrationYear</th>\n      <th>Gearbox</th>\n      <th>Power</th>\n      <th>Model</th>\n      <th>Kilometer</th>\n      <th>RegistrationMonth</th>\n      <th>FuelType</th>\n      <th>Brand</th>\n      <th>Repaired</th>\n    </tr>\n  </thead>\n  <tbody>\n    <tr>\n      <th>0</th>\n      <td>480</td>\n      <td>sedan</td>\n      <td>1993</td>\n      <td>manual</td>\n      <td>0</td>\n      <td>golf</td>\n      <td>150000</td>\n      <td>0</td>\n      <td>petrol</td>\n      <td>volkswagen</td>\n      <td>no</td>\n    </tr>\n    <tr>\n      <th>3</th>\n      <td>1500</td>\n      <td>small</td>\n      <td>2001</td>\n      <td>manual</td>\n      <td>75</td>\n      <td>golf</td>\n      <td>150000</td>\n      <td>6</td>\n      <td>petrol</td>\n      <td>volkswagen</td>\n      <td>no</td>\n    </tr>\n    <tr>\n      <th>4</th>\n      <td>3600</td>\n      <td>small</td>\n      <td>2008</td>\n      <td>manual</td>\n      <td>69</td>\n      <td>fabia</td>\n      <td>90000</td>\n      <td>7</td>\n      <td>gasoline</td>\n      <td>skoda</td>\n      <td>no</td>\n    </tr>\n    <tr>\n      <th>5</th>\n      <td>650</td>\n      <td>sedan</td>\n      <td>1995</td>\n      <td>manual</td>\n      <td>102</td>\n      <td>3er</td>\n      <td>150000</td>\n      <td>10</td>\n      <td>petrol</td>\n      <td>bmw</td>\n      <td>yes</td>\n    </tr>\n    <tr>\n      <th>6</th>\n      <td>2200</td>\n      <td>convertible</td>\n      <td>2004</td>\n      <td>manual</td>\n      <td>109</td>\n      <td>2_reihe</td>\n      <td>150000</td>\n      <td>8</td>\n      <td>petrol</td>\n      <td>peugeot</td>\n      <td>no</td>\n    </tr>\n    <tr>\n      <th>...</th>\n      <td>...</td>\n      <td>...</td>\n      <td>...</td>\n      <td>...</td>\n      <td>...</td>\n      <td>...</td>\n      <td>...</td>\n      <td>...</td>\n      <td>...</td>\n      <td>...</td>\n      <td>...</td>\n    </tr>\n    <tr>\n      <th>354362</th>\n      <td>3200</td>\n      <td>sedan</td>\n      <td>2004</td>\n      <td>manual</td>\n      <td>225</td>\n      <td>leon</td>\n      <td>150000</td>\n      <td>5</td>\n      <td>petrol</td>\n      <td>seat</td>\n      <td>yes</td>\n    </tr>\n    <tr>\n      <th>354363</th>\n      <td>1150</td>\n      <td>bus</td>\n      <td>2000</td>\n      <td>manual</td>\n      <td>0</td>\n      <td>zafira</td>\n      <td>150000</td>\n      <td>3</td>\n      <td>petrol</td>\n      <td>opel</td>\n      <td>no</td>\n    </tr>\n    <tr>\n      <th>354365</th>\n      <td>2200</td>\n      <td>sedan</td>\n      <td>2005</td>\n      <td>NaN</td>\n      <td>0</td>\n      <td>NaN</td>\n      <td>20000</td>\n      <td>1</td>\n      <td>sedan</td>\n      <td>sonstige_autos</td>\n      <td>no</td>\n    </tr>\n    <tr>\n      <th>354366</th>\n      <td>1199</td>\n      <td>convertible</td>\n      <td>2000</td>\n      <td>auto</td>\n      <td>101</td>\n      <td>fortwo</td>\n      <td>125000</td>\n      <td>3</td>\n      <td>petrol</td>\n      <td>smart</td>\n      <td>no</td>\n    </tr>\n    <tr>\n      <th>354368</th>\n      <td>3400</td>\n      <td>wagon</td>\n      <td>2002</td>\n      <td>manual</td>\n      <td>100</td>\n      <td>golf</td>\n      <td>150000</td>\n      <td>6</td>\n      <td>gasoline</td>\n      <td>volkswagen</td>\n      <td>no</td>\n    </tr>\n  </tbody>\n</table>\n<p>284085 rows × 11 columns</p>\n</div>"
     },
     "execution_count": 61,
     "metadata": {},
     "output_type": "execute_result"
    }
   ],
   "source": [
    "data = data[(data['Price']<=9000) & (data['Price']>=200)]\n",
    "data"
   ],
   "metadata": {
    "collapsed": false,
    "pycharm": {
     "name": "#%%\n"
    }
   }
  },
  {
   "cell_type": "code",
   "execution_count": 62,
   "outputs": [
    {
     "data": {
      "text/plain": "array([1000, 1001, 1039, 1111, 1234, 1300, 1400, 1500, 1600, 1602, 1800,\n       1910, 1923, 1925, 1928, 1930, 1931, 1932, 1934, 1935, 1936, 1937,\n       1938, 1942, 1943, 1944, 1945, 1946, 1948, 1950, 1951, 1952, 1953,\n       1954, 1955, 1956, 1957, 1958, 1959, 1960, 1961, 1962, 1963, 1964,\n       1965, 1966, 1967, 1968, 1969, 1970, 1971, 1972, 1973, 1974, 1975,\n       1976, 1977, 1978, 1979, 1980, 1981, 1982, 1983, 1984, 1985, 1986,\n       1987, 1988, 1989, 1990, 1991, 1992, 1993, 1994, 1995, 1996, 1997,\n       1998, 1999, 2000, 2001, 2002, 2003, 2004, 2005, 2006, 2007, 2008,\n       2009, 2010, 2011, 2012, 2013, 2014, 2015, 2016, 2017, 2018, 2019,\n       2066, 2200, 2290, 2500, 2800, 2900, 3000, 3200, 3700, 3800, 4000,\n       4100, 4500, 4800, 5000, 5300, 5555, 5900, 5911, 6000, 7000, 7100,\n       8200, 8500, 8888, 9000, 9450, 9999], dtype=int64)"
     },
     "execution_count": 62,
     "metadata": {},
     "output_type": "execute_result"
    }
   ],
   "source": [
    "data['Price'].min()\n",
    "np.sort(data['RegistrationYear'].unique())"
   ],
   "metadata": {
    "collapsed": false,
    "pycharm": {
     "name": "#%%\n"
    }
   }
  },
  {
   "cell_type": "code",
   "execution_count": 63,
   "outputs": [
    {
     "name": "stderr",
     "output_type": "stream",
     "text": [
      "C:\\Users\\ASUS\\AppData\\Local\\Temp\\ipykernel_9212\\3218000122.py:4: SettingWithCopyWarning: \n",
      "A value is trying to be set on a copy of a slice from a DataFrame.\n",
      "Try using .loc[row_indexer,col_indexer] = value instead\n",
      "\n",
      "See the caveats in the documentation: https://pandas.pydata.org/pandas-docs/stable/user_guide/indexing.html#returning-a-view-versus-a-copy\n",
      "  data[\"RegistrationYear\"] = data[\"RegistrationYear\"].where(data[\"RegistrationYear\"] > 1940, 1940)\n"
     ]
    }
   ],
   "source": [
    "data.loc[data['RegistrationMonth'] == 0, 'RegistrationMonth'] = 1\n",
    "data= data[data['RegistrationYear']<=2019]\n",
    "data[\"RegistrationYear\"] = data[\"RegistrationYear\"].where(data[\"RegistrationYear\"] > 1940, 1940)"
   ],
   "metadata": {
    "collapsed": false,
    "pycharm": {
     "name": "#%%\n"
    }
   }
  },
  {
   "cell_type": "code",
   "execution_count": 64,
   "outputs": [
    {
     "data": {
      "text/plain": "array([1940, 1942, 1943, 1944, 1945, 1946, 1948, 1950, 1951, 1952, 1953,\n       1954, 1955, 1956, 1957, 1958, 1959, 1960, 1961, 1962, 1963, 1964,\n       1965, 1966, 1967, 1968, 1969, 1970, 1971, 1972, 1973, 1974, 1975,\n       1976, 1977, 1978, 1979, 1980, 1981, 1982, 1983, 1984, 1985, 1986,\n       1987, 1988, 1989, 1990, 1991, 1992, 1993, 1994, 1995, 1996, 1997,\n       1998, 1999, 2000, 2001, 2002, 2003, 2004, 2005, 2006, 2007, 2008,\n       2009, 2010, 2011, 2012, 2013, 2014, 2015, 2016, 2017, 2018, 2019],\n      dtype=int64)"
     },
     "execution_count": 64,
     "metadata": {},
     "output_type": "execute_result"
    }
   ],
   "source": [
    "np.sort(data['RegistrationYear'].unique())"
   ],
   "metadata": {
    "collapsed": false,
    "pycharm": {
     "name": "#%%\n"
    }
   }
  },
  {
   "cell_type": "code",
   "execution_count": 65,
   "outputs": [
    {
     "data": {
      "text/plain": "16523     sonstige_autos\n33068         volkswagen\n49038         volkswagen\n69207     sonstige_autos\n88466            citroen\n95318     sonstige_autos\n109202              ford\n120776              opel\n121536    sonstige_autos\n139190    sonstige_autos\n145108    sonstige_autos\n184412    sonstige_autos\n197424    sonstige_autos\n203355    sonstige_autos\n209629    sonstige_autos\n215586    sonstige_autos\n217018    sonstige_autos\n218619    sonstige_autos\n221866    sonstige_autos\n225005    sonstige_autos\n233590    sonstige_autos\n239456    sonstige_autos\n241917    sonstige_autos\n245004    sonstige_autos\n275464              audi\n304450    sonstige_autos\n336690    sonstige_autos\n337076    sonstige_autos\n339663    sonstige_autos\n340724    sonstige_autos\nName: Brand, dtype: object"
     },
     "execution_count": 65,
     "metadata": {},
     "output_type": "execute_result"
    }
   ],
   "source": [
    "np.sort(data['Power'].unique())\n",
    "data[data['Power']==4]['Brand']"
   ],
   "metadata": {
    "collapsed": false,
    "pycharm": {
     "name": "#%%\n"
    }
   }
  },
  {
   "cell_type": "markdown",
   "source": [
    "Можно заметить, что в данных минимальная цена автомобиля - 0 евро. Это аномальное значение, так как такого не может быть, поэтому мы оставляем машины у которых цена больше 1250 евро а маскимальную 10700 , проанализировав квантили. Также в данных присутствуют года, которые еще не наступили, их точно убираем. Минимальное возмонжное значение можности автомобиля ставим 4."
   ],
   "metadata": {
    "collapsed": false,
    "pycharm": {
     "name": "#%% md\n"
    }
   }
  },
  {
   "cell_type": "markdown",
   "source": [
    "## Подготовка данных для обучения моделей"
   ],
   "metadata": {
    "collapsed": false,
    "pycharm": {
     "name": "#%% md\n"
    }
   }
  },
  {
   "cell_type": "code",
   "execution_count": 66,
   "outputs": [
    {
     "name": "stderr",
     "output_type": "stream",
     "text": [
      "C:\\Users\\ASUS\\AppData\\Local\\Temp\\ipykernel_9212\\1497213560.py:1: SettingWithCopyWarning: \n",
      "A value is trying to be set on a copy of a slice from a DataFrame.\n",
      "Try using .loc[row_indexer,col_indexer] = value instead\n",
      "\n",
      "See the caveats in the documentation: https://pandas.pydata.org/pandas-docs/stable/user_guide/indexing.html#returning-a-view-versus-a-copy\n",
      "  data['VehicleType'] = data['VehicleType'].fillna('unknown')\n",
      "C:\\Users\\ASUS\\AppData\\Local\\Temp\\ipykernel_9212\\1497213560.py:2: SettingWithCopyWarning: \n",
      "A value is trying to be set on a copy of a slice from a DataFrame.\n",
      "Try using .loc[row_indexer,col_indexer] = value instead\n",
      "\n",
      "See the caveats in the documentation: https://pandas.pydata.org/pandas-docs/stable/user_guide/indexing.html#returning-a-view-versus-a-copy\n",
      "  data['Gearbox'] = data['Gearbox'].fillna('unknown')\n",
      "C:\\Users\\ASUS\\AppData\\Local\\Temp\\ipykernel_9212\\1497213560.py:3: SettingWithCopyWarning: \n",
      "A value is trying to be set on a copy of a slice from a DataFrame.\n",
      "Try using .loc[row_indexer,col_indexer] = value instead\n",
      "\n",
      "See the caveats in the documentation: https://pandas.pydata.org/pandas-docs/stable/user_guide/indexing.html#returning-a-view-versus-a-copy\n",
      "  data['Model'] = data['Model'].fillna('unknown')\n",
      "C:\\Users\\ASUS\\AppData\\Local\\Temp\\ipykernel_9212\\1497213560.py:4: SettingWithCopyWarning: \n",
      "A value is trying to be set on a copy of a slice from a DataFrame.\n",
      "Try using .loc[row_indexer,col_indexer] = value instead\n",
      "\n",
      "See the caveats in the documentation: https://pandas.pydata.org/pandas-docs/stable/user_guide/indexing.html#returning-a-view-versus-a-copy\n",
      "  data['FuelType'] = data['FuelType'].fillna('unknown')\n",
      "C:\\Users\\ASUS\\AppData\\Local\\Temp\\ipykernel_9212\\1497213560.py:5: SettingWithCopyWarning: \n",
      "A value is trying to be set on a copy of a slice from a DataFrame.\n",
      "Try using .loc[row_indexer,col_indexer] = value instead\n",
      "\n",
      "See the caveats in the documentation: https://pandas.pydata.org/pandas-docs/stable/user_guide/indexing.html#returning-a-view-versus-a-copy\n",
      "  data['Brand'] = data['Brand'].fillna('unknown')\n"
     ]
    }
   ],
   "source": [
    "data['VehicleType'] = data['VehicleType'].fillna('unknown')\n",
    "data['Gearbox'] = data['Gearbox'].fillna('unknown')\n",
    "data['Model'] = data['Model'].fillna('unknown')\n",
    "data['FuelType'] = data['FuelType'].fillna('unknown')\n",
    "data['Brand'] = data['Brand'].fillna('unknown')"
   ],
   "metadata": {
    "collapsed": false,
    "pycharm": {
     "name": "#%%\n"
    }
   }
  },
  {
   "cell_type": "code",
   "execution_count": 67,
   "outputs": [],
   "source": [
    "features = data.drop('Price',axis=1)\n",
    "target = data['Price']"
   ],
   "metadata": {
    "collapsed": false,
    "pycharm": {
     "name": "#%%\n"
    }
   }
  },
  {
   "cell_type": "code",
   "execution_count": 68,
   "outputs": [],
   "source": [
    "features_train,features_test,target_train,target_test = train_test_split(features,target,test_size=0.2,random_state=12345)"
   ],
   "metadata": {
    "collapsed": false,
    "pycharm": {
     "name": "#%%\n"
    }
   }
  },
  {
   "cell_type": "code",
   "execution_count": 69,
   "outputs": [],
   "source": [
    "features_train_ohe = features_train.reset_index(drop=True)\n",
    "features_test_ohe = features_test.reset_index(drop=True)"
   ],
   "metadata": {
    "collapsed": false,
    "pycharm": {
     "name": "#%%\n"
    }
   }
  },
  {
   "cell_type": "code",
   "execution_count": 70,
   "outputs": [],
   "source": [
    "cat_features = ['VehicleType', 'Model', 'FuelType', 'Gearbox', 'Repaired', 'RegistrationMonth', 'Brand']\n",
    "num_features = ['Power', 'Kilometer', 'RegistrationYear']"
   ],
   "metadata": {
    "collapsed": false,
    "pycharm": {
     "name": "#%%\n"
    }
   }
  },
  {
   "cell_type": "markdown",
   "source": [
    "## Обучение моделей"
   ],
   "metadata": {
    "collapsed": false,
    "pycharm": {
     "name": "#%% md\n"
    }
   }
  },
  {
   "cell_type": "markdown",
   "source": [
    "### LightGBM"
   ],
   "metadata": {
    "collapsed": false,
    "pycharm": {
     "name": "#%% md\n"
    }
   }
  },
  {
   "cell_type": "markdown",
   "source": [
    "Подбор гиперпараметров"
   ],
   "metadata": {
    "collapsed": false,
    "pycharm": {
     "name": "#%% md\n"
    }
   }
  },
  {
   "cell_type": "code",
   "execution_count": 71,
   "outputs": [
    {
     "name": "stdout",
     "output_type": "stream",
     "text": [
      "CPU times: total: 531 ms\n",
      "Wall time: 542 ms\n"
     ]
    },
    {
     "data": {
      "text/plain": "ColumnTransformer(remainder='passthrough',\n                  transformers=[('cat',\n                                 OrdinalEncoder(handle_unknown='use_encoded_value',\n                                                unknown_value=-1),\n                                 ['VehicleType', 'Model', 'FuelType', 'Gearbox',\n                                  'Repaired', 'RegistrationMonth', 'Brand'])])"
     },
     "execution_count": 71,
     "metadata": {},
     "output_type": "execute_result"
    }
   ],
   "source": [
    "%%time\n",
    "light_column_transformer = ColumnTransformer([('cat', OrdinalEncoder(handle_unknown='use_encoded_value', unknown_value=-1), cat_features)], remainder='passthrough')\n",
    "light_column_transformer.fit(features_train)"
   ],
   "metadata": {
    "collapsed": false,
    "pycharm": {
     "name": "#%%\n"
    }
   }
  },
  {
   "cell_type": "code",
   "execution_count": 72,
   "outputs": [
    {
     "name": "stderr",
     "output_type": "stream",
     "text": [
      "C:\\Users\\ASUS\\anaconda3\\lib\\site-packages\\lightgbm\\engine.py:239: UserWarning: 'verbose_eval' argument is deprecated and will be removed in a future release of LightGBM. Pass 'log_evaluation()' callback via 'callbacks' argument instead.\n",
      "  _log_warning(\"'verbose_eval' argument is deprecated and will be removed in a future release of LightGBM. \"\n"
     ]
    },
    {
     "name": "stdout",
     "output_type": "stream",
     "text": [
      "[LightGBM] [Warning] Accuracy may be bad since you didn't explicitly set num_leaves OR 2^max_depth > num_leaves. (num_leaves=31).\n",
      "[LightGBM] [Warning] Accuracy may be bad since you didn't explicitly set num_leaves OR 2^max_depth > num_leaves. (num_leaves=31).\n",
      "[LightGBM] [Warning] Auto-choosing row-wise multi-threading, the overhead of testing was 0.020886 seconds.\n",
      "You can set `force_row_wise=true` to remove the overhead.\n",
      "And if memory is not enough, you can set `force_col_wise=true`.\n",
      "[LightGBM] [Info] Total Bins 663\n",
      "[LightGBM] [Info] Number of data points in the train set: 227224, number of used features: 10\n",
      "[LightGBM] [Warning] Accuracy may be bad since you didn't explicitly set num_leaves OR 2^max_depth > num_leaves. (num_leaves=31).\n",
      "[LightGBM] [Info] Start training from score 3010.761557\n",
      "[100]\ttraining's l2: 1.21884e+06\tvalid_1's l2: 1.24686e+06\n",
      "[200]\ttraining's l2: 1.1248e+06\tvalid_1's l2: 1.17201e+06\n",
      "[300]\ttraining's l2: 1.07271e+06\tvalid_1's l2: 1.13781e+06\n",
      "[LightGBM] [Warning] No further splits with positive gain, best gain: -inf\n",
      "[400]\ttraining's l2: 1.0326e+06\tvalid_1's l2: 1.11535e+06\n",
      "[LightGBM] [Warning] No further splits with positive gain, best gain: -inf\n",
      "[500]\ttraining's l2: 1.00229e+06\tvalid_1's l2: 1.09994e+06\n",
      "[LightGBM] [Warning] No further splits with positive gain, best gain: -inf\n",
      "[LightGBM] [Warning] No further splits with positive gain, best gain: -inf\n",
      "[LightGBM] [Warning] No further splits with positive gain, best gain: -inf\n",
      "[600]\ttraining's l2: 977962\tvalid_1's l2: 1.08855e+06\n",
      "[LightGBM] [Warning] No further splits with positive gain, best gain: -inf\n",
      "[700]\ttraining's l2: 958141\tvalid_1's l2: 1.0809e+06\n",
      "[LightGBM] [Warning] No further splits with positive gain, best gain: -inf\n",
      "[LightGBM] [Warning] No further splits with positive gain, best gain: -inf\n",
      "[LightGBM] [Warning] No further splits with positive gain, best gain: -inf\n",
      "[800]\ttraining's l2: 940001\tvalid_1's l2: 1.07436e+06\n",
      "[900]\ttraining's l2: 922252\tvalid_1's l2: 1.06835e+06\n",
      "[LightGBM] [Warning] No further splits with positive gain, best gain: -inf\n",
      "[1000]\ttraining's l2: 906287\tvalid_1's l2: 1.06258e+06\n",
      "CPU times: total: 29 s\n",
      "Wall time: 12.7 s\n"
     ]
    }
   ],
   "source": [
    "%%time\n",
    "lgb_train = lgb.Dataset(light_column_transformer.transform(features_train), target_train)\n",
    "lgb_test = lgb.Dataset(light_column_transformer.transform(features_test), target_test, reference=lgb_train)\n",
    "parameters_light = {'metric': 'l2', 'max_depth':10,\"random_state\": 42,\"learning_rate\":0.1}\n",
    "light = lgb.train(parameters_light,\n",
    "                  lgb_train,\n",
    "                  num_boost_round=1000,\n",
    "                  valid_sets=[lgb_train, lgb_test],\n",
    "                  verbose_eval=100)"
   ],
   "metadata": {
    "collapsed": false,
    "pycharm": {
     "name": "#%%\n"
    }
   }
  },
  {
   "cell_type": "code",
   "execution_count": 73,
   "outputs": [
    {
     "name": "stdout",
     "output_type": "stream",
     "text": [
      "LightGBM RMSE: 951.990810966475\n",
      "CPU times: total: 19.2 s\n",
      "Wall time: 6.96 s\n"
     ]
    }
   ],
   "source": [
    "%%time\n",
    "print(\"LightGBM RMSE:\",(mean_squared_error(target_train,light.predict(light_column_transformer.transform(features_train)),squared=False)))"
   ],
   "metadata": {
    "collapsed": false,
    "pycharm": {
     "name": "#%%\n"
    }
   }
  },
  {
   "cell_type": "code",
   "execution_count": 74,
   "outputs": [],
   "source": [
    "# regressor = LGBMRegressor()\n",
    "# hyperparams = [{'num_leaves':[31, 100, 200],\n",
    "#                 'learning_rate':[0.1, 0.3, 0.5],\n",
    "#                 'random_state':[19072020]}]\n",
    "#\n",
    "# print('# Tuning hyper-parameters for root_mean_squared_error')\n",
    "# print()\n",
    "# clf = GridSearchCV(regressor, hyperparams, scoring='neg_mean_squared_error')\n",
    "# clf.fit(features_train, target_train)\n",
    "# print(\"Best parameters set found on development set:\")\n",
    "# print()\n",
    "# print(clf.best_params_)\n",
    "# print()\n",
    "# print(\"Grid scores on development set:\")\n",
    "# print()"
   ],
   "metadata": {
    "collapsed": false,
    "pycharm": {
     "name": "#%%\n"
    }
   }
  },
  {
   "cell_type": "markdown",
   "source": [
    "### CatBoost"
   ],
   "metadata": {
    "collapsed": false,
    "pycharm": {
     "name": "#%% md\n"
    }
   }
  },
  {
   "cell_type": "code",
   "execution_count": 77,
   "outputs": [],
   "source": [
    "# %%time\n",
    "# catboost = CatBoostRegressor(loss_function='RMSE')\n",
    "# parameters_cat = {'depth':[5,10], 'learning_rate':np.arange(0.1,1,0.2)}\n",
    "# catboost_grid = catboost.grid_search(parameters_cat,\n",
    "#                                       Pool(features_train, target_train, cat_features=[\"VehicleType\",\"Gearbox\",\"Model\",\"FuelType\",\n",
    "#                                                                                     \"Brand\",\"Repaired\"]),cv=3,verbose=True,plot=False)"
   ],
   "metadata": {
    "collapsed": false,
    "pycharm": {
     "name": "#%%\n"
    }
   }
  },
  {
   "cell_type": "code",
   "execution_count": 78,
   "outputs": [
    {
     "name": "stdout",
     "output_type": "stream",
     "text": [
      "0:\tlearn: 2114.4532371\ttotal: 502ms\tremaining: 8m 21s\n",
      "1:\tlearn: 1944.0945690\ttotal: 990ms\tremaining: 8m 13s\n",
      "2:\tlearn: 1807.3225158\ttotal: 1.46s\tremaining: 8m 3s\n",
      "3:\tlearn: 1705.7476718\ttotal: 1.79s\tremaining: 7m 26s\n",
      "4:\tlearn: 1624.1895658\ttotal: 2.18s\tremaining: 7m 13s\n",
      "5:\tlearn: 1552.3824716\ttotal: 2.71s\tremaining: 7m 29s\n",
      "6:\tlearn: 1502.0710136\ttotal: 3.11s\tremaining: 7m 20s\n",
      "7:\tlearn: 1456.1407753\ttotal: 3.35s\tremaining: 6m 55s\n",
      "8:\tlearn: 1422.3950831\ttotal: 3.73s\tremaining: 6m 51s\n",
      "9:\tlearn: 1390.5244615\ttotal: 4.04s\tremaining: 6m 39s\n",
      "10:\tlearn: 1361.6573625\ttotal: 4.23s\tremaining: 6m 20s\n",
      "11:\tlearn: 1342.3348927\ttotal: 4.56s\tremaining: 6m 15s\n",
      "12:\tlearn: 1324.7627806\ttotal: 4.9s\tremaining: 6m 12s\n",
      "13:\tlearn: 1307.7144503\ttotal: 5.1s\tremaining: 5m 59s\n",
      "14:\tlearn: 1296.8444911\ttotal: 5.43s\tremaining: 5m 56s\n",
      "15:\tlearn: 1284.4597660\ttotal: 5.61s\tremaining: 5m 44s\n",
      "16:\tlearn: 1276.5612464\ttotal: 5.92s\tremaining: 5m 42s\n",
      "17:\tlearn: 1268.2285608\ttotal: 6.19s\tremaining: 5m 37s\n",
      "18:\tlearn: 1262.4021155\ttotal: 6.38s\tremaining: 5m 29s\n",
      "19:\tlearn: 1256.8535933\ttotal: 6.71s\tremaining: 5m 28s\n",
      "20:\tlearn: 1251.8359334\ttotal: 6.93s\tremaining: 5m 23s\n",
      "21:\tlearn: 1246.9619673\ttotal: 7.12s\tremaining: 5m 16s\n",
      "22:\tlearn: 1240.5675920\ttotal: 7.47s\tremaining: 5m 17s\n",
      "23:\tlearn: 1236.1126009\ttotal: 7.65s\tremaining: 5m 11s\n",
      "24:\tlearn: 1232.0293832\ttotal: 7.91s\tremaining: 5m 8s\n",
      "25:\tlearn: 1229.2254804\ttotal: 8.19s\tremaining: 5m 6s\n",
      "26:\tlearn: 1225.4744248\ttotal: 8.4s\tremaining: 5m 2s\n",
      "27:\tlearn: 1222.0618492\ttotal: 8.61s\tremaining: 4m 58s\n",
      "28:\tlearn: 1217.4530155\ttotal: 8.86s\tremaining: 4m 56s\n",
      "29:\tlearn: 1214.2650614\ttotal: 9.08s\tremaining: 4m 53s\n",
      "30:\tlearn: 1212.4469678\ttotal: 9.31s\tremaining: 4m 51s\n",
      "31:\tlearn: 1209.8170002\ttotal: 9.49s\tremaining: 4m 47s\n",
      "32:\tlearn: 1207.6399930\ttotal: 9.67s\tremaining: 4m 43s\n",
      "33:\tlearn: 1206.2754440\ttotal: 9.93s\tremaining: 4m 42s\n",
      "34:\tlearn: 1202.9203624\ttotal: 10.1s\tremaining: 4m 38s\n",
      "35:\tlearn: 1201.1289238\ttotal: 10.3s\tremaining: 4m 35s\n",
      "36:\tlearn: 1198.2069713\ttotal: 10.4s\tremaining: 4m 31s\n",
      "37:\tlearn: 1195.3377980\ttotal: 10.7s\tremaining: 4m 30s\n",
      "38:\tlearn: 1193.6332480\ttotal: 11s\tremaining: 4m 30s\n",
      "39:\tlearn: 1192.4293103\ttotal: 11.1s\tremaining: 4m 25s\n",
      "40:\tlearn: 1191.0010797\ttotal: 11.2s\tremaining: 4m 23s\n",
      "41:\tlearn: 1190.0661374\ttotal: 11.5s\tremaining: 4m 21s\n",
      "42:\tlearn: 1186.7212339\ttotal: 11.7s\tremaining: 4m 20s\n",
      "43:\tlearn: 1185.2357148\ttotal: 11.9s\tremaining: 4m 18s\n",
      "44:\tlearn: 1182.7967650\ttotal: 12.1s\tremaining: 4m 16s\n",
      "45:\tlearn: 1180.4163129\ttotal: 12.3s\tremaining: 4m 14s\n",
      "46:\tlearn: 1178.4733262\ttotal: 12.4s\tremaining: 4m 11s\n",
      "47:\tlearn: 1177.2124349\ttotal: 12.6s\tremaining: 4m 10s\n",
      "48:\tlearn: 1175.2776232\ttotal: 12.8s\tremaining: 4m 8s\n",
      "49:\tlearn: 1173.3383387\ttotal: 13s\tremaining: 4m 7s\n",
      "50:\tlearn: 1171.3493858\ttotal: 13.2s\tremaining: 4m 5s\n",
      "51:\tlearn: 1170.0799513\ttotal: 13.5s\tremaining: 4m 5s\n",
      "52:\tlearn: 1168.5368795\ttotal: 13.7s\tremaining: 4m 4s\n",
      "53:\tlearn: 1167.4490548\ttotal: 13.9s\tremaining: 4m 2s\n",
      "54:\tlearn: 1166.1698351\ttotal: 14.1s\tremaining: 4m 2s\n",
      "55:\tlearn: 1165.3609210\ttotal: 14.3s\tremaining: 4m 1s\n",
      "56:\tlearn: 1164.0126715\ttotal: 14.5s\tremaining: 4m\n",
      "57:\tlearn: 1163.1473833\ttotal: 14.7s\tremaining: 3m 59s\n",
      "58:\tlearn: 1162.1705449\ttotal: 14.9s\tremaining: 3m 58s\n",
      "59:\tlearn: 1161.2992038\ttotal: 15.2s\tremaining: 3m 57s\n",
      "60:\tlearn: 1159.8270211\ttotal: 15.4s\tremaining: 3m 56s\n",
      "61:\tlearn: 1158.9605126\ttotal: 15.6s\tremaining: 3m 55s\n",
      "62:\tlearn: 1158.4868052\ttotal: 15.8s\tremaining: 3m 55s\n",
      "63:\tlearn: 1157.1877948\ttotal: 16s\tremaining: 3m 54s\n",
      "64:\tlearn: 1155.9424292\ttotal: 16.2s\tremaining: 3m 53s\n",
      "65:\tlearn: 1153.7406677\ttotal: 16.4s\tremaining: 3m 52s\n",
      "66:\tlearn: 1152.5006712\ttotal: 16.6s\tremaining: 3m 50s\n",
      "67:\tlearn: 1151.5513106\ttotal: 16.8s\tremaining: 3m 50s\n",
      "68:\tlearn: 1150.1032110\ttotal: 17s\tremaining: 3m 49s\n",
      "69:\tlearn: 1149.1185619\ttotal: 17.1s\tremaining: 3m 47s\n",
      "70:\tlearn: 1147.8753279\ttotal: 17.3s\tremaining: 3m 47s\n",
      "71:\tlearn: 1146.9971167\ttotal: 17.6s\tremaining: 3m 46s\n",
      "72:\tlearn: 1146.6235005\ttotal: 17.8s\tremaining: 3m 45s\n",
      "73:\tlearn: 1145.4411660\ttotal: 18s\tremaining: 3m 44s\n",
      "74:\tlearn: 1144.6348023\ttotal: 18.1s\tremaining: 3m 43s\n",
      "75:\tlearn: 1144.0440787\ttotal: 18.4s\tremaining: 3m 43s\n",
      "76:\tlearn: 1143.1765197\ttotal: 18.6s\tremaining: 3m 42s\n",
      "77:\tlearn: 1142.4533358\ttotal: 18.8s\tremaining: 3m 42s\n",
      "78:\tlearn: 1141.6583328\ttotal: 19s\tremaining: 3m 41s\n",
      "79:\tlearn: 1140.9399687\ttotal: 19.2s\tremaining: 3m 41s\n",
      "80:\tlearn: 1140.1479330\ttotal: 19.4s\tremaining: 3m 40s\n",
      "81:\tlearn: 1139.6739761\ttotal: 19.6s\tremaining: 3m 39s\n",
      "82:\tlearn: 1139.1692769\ttotal: 19.8s\tremaining: 3m 39s\n",
      "83:\tlearn: 1138.5195639\ttotal: 20.1s\tremaining: 3m 38s\n",
      "84:\tlearn: 1137.8857710\ttotal: 20.3s\tremaining: 3m 38s\n",
      "85:\tlearn: 1137.2619333\ttotal: 20.5s\tremaining: 3m 37s\n",
      "86:\tlearn: 1136.2972316\ttotal: 20.7s\tremaining: 3m 37s\n",
      "87:\tlearn: 1135.3754456\ttotal: 20.9s\tremaining: 3m 36s\n",
      "88:\tlearn: 1134.7596324\ttotal: 21s\tremaining: 3m 35s\n",
      "89:\tlearn: 1133.9791893\ttotal: 21.3s\tremaining: 3m 35s\n",
      "90:\tlearn: 1133.0413348\ttotal: 21.5s\tremaining: 3m 35s\n",
      "91:\tlearn: 1132.2265242\ttotal: 21.8s\tremaining: 3m 34s\n",
      "92:\tlearn: 1131.5429632\ttotal: 21.9s\tremaining: 3m 34s\n",
      "93:\tlearn: 1131.0082589\ttotal: 22.1s\tremaining: 3m 33s\n",
      "94:\tlearn: 1130.4870556\ttotal: 22.4s\tremaining: 3m 33s\n",
      "95:\tlearn: 1130.0108931\ttotal: 22.6s\tremaining: 3m 33s\n",
      "96:\tlearn: 1129.2737204\ttotal: 22.8s\tremaining: 3m 32s\n",
      "97:\tlearn: 1128.5475579\ttotal: 23s\tremaining: 3m 31s\n",
      "98:\tlearn: 1128.1072025\ttotal: 23.2s\tremaining: 3m 31s\n",
      "99:\tlearn: 1127.4722158\ttotal: 23.4s\tremaining: 3m 30s\n",
      "100:\tlearn: 1126.7988861\ttotal: 23.6s\tremaining: 3m 29s\n",
      "101:\tlearn: 1126.3189355\ttotal: 23.8s\tremaining: 3m 29s\n",
      "102:\tlearn: 1125.9160257\ttotal: 24s\tremaining: 3m 28s\n",
      "103:\tlearn: 1125.4498091\ttotal: 24.3s\tremaining: 3m 29s\n",
      "104:\tlearn: 1124.8541035\ttotal: 24.7s\tremaining: 3m 30s\n",
      "105:\tlearn: 1124.3385657\ttotal: 24.9s\tremaining: 3m 30s\n",
      "106:\tlearn: 1124.0211195\ttotal: 25.1s\tremaining: 3m 29s\n",
      "107:\tlearn: 1123.3646947\ttotal: 25.3s\tremaining: 3m 28s\n",
      "108:\tlearn: 1123.0871674\ttotal: 25.5s\tremaining: 3m 28s\n",
      "109:\tlearn: 1122.4190131\ttotal: 25.8s\tremaining: 3m 28s\n",
      "110:\tlearn: 1121.9569032\ttotal: 25.9s\tremaining: 3m 27s\n",
      "111:\tlearn: 1121.4570742\ttotal: 26.1s\tremaining: 3m 27s\n",
      "112:\tlearn: 1120.9796196\ttotal: 26.3s\tremaining: 3m 26s\n",
      "113:\tlearn: 1120.2062492\ttotal: 26.5s\tremaining: 3m 25s\n",
      "114:\tlearn: 1119.4109506\ttotal: 26.6s\tremaining: 3m 24s\n",
      "115:\tlearn: 1119.0144599\ttotal: 26.8s\tremaining: 3m 24s\n",
      "116:\tlearn: 1118.4852653\ttotal: 27.1s\tremaining: 3m 24s\n",
      "117:\tlearn: 1117.8249680\ttotal: 27.4s\tremaining: 3m 24s\n",
      "118:\tlearn: 1117.1625437\ttotal: 27.8s\tremaining: 3m 25s\n",
      "119:\tlearn: 1116.7384910\ttotal: 28.1s\tremaining: 3m 26s\n",
      "120:\tlearn: 1116.3425944\ttotal: 28.4s\tremaining: 3m 26s\n",
      "121:\tlearn: 1115.7061496\ttotal: 28.7s\tremaining: 3m 26s\n",
      "122:\tlearn: 1114.8562007\ttotal: 28.9s\tremaining: 3m 26s\n",
      "123:\tlearn: 1114.2734567\ttotal: 29.2s\tremaining: 3m 26s\n",
      "124:\tlearn: 1113.6869910\ttotal: 29.6s\tremaining: 3m 26s\n",
      "125:\tlearn: 1113.1919248\ttotal: 29.7s\tremaining: 3m 26s\n",
      "126:\tlearn: 1112.7571613\ttotal: 29.9s\tremaining: 3m 25s\n",
      "127:\tlearn: 1112.2431904\ttotal: 30.1s\tremaining: 3m 25s\n",
      "128:\tlearn: 1111.7617598\ttotal: 30.4s\tremaining: 3m 25s\n",
      "129:\tlearn: 1111.3870209\ttotal: 30.6s\tremaining: 3m 24s\n",
      "130:\tlearn: 1111.0575194\ttotal: 30.9s\tremaining: 3m 24s\n",
      "131:\tlearn: 1110.4553680\ttotal: 31.1s\tremaining: 3m 24s\n",
      "132:\tlearn: 1110.1524337\ttotal: 31.4s\tremaining: 3m 24s\n",
      "133:\tlearn: 1109.6154235\ttotal: 31.6s\tremaining: 3m 24s\n",
      "134:\tlearn: 1109.1348822\ttotal: 31.8s\tremaining: 3m 23s\n",
      "135:\tlearn: 1108.7290941\ttotal: 32s\tremaining: 3m 23s\n",
      "136:\tlearn: 1108.3257119\ttotal: 32.3s\tremaining: 3m 23s\n",
      "137:\tlearn: 1107.9045219\ttotal: 32.5s\tremaining: 3m 22s\n",
      "138:\tlearn: 1107.5427129\ttotal: 32.6s\tremaining: 3m 22s\n",
      "139:\tlearn: 1107.3039553\ttotal: 32.8s\tremaining: 3m 21s\n",
      "140:\tlearn: 1106.9104350\ttotal: 33s\tremaining: 3m 20s\n",
      "141:\tlearn: 1106.6762580\ttotal: 33.1s\tremaining: 3m 19s\n",
      "142:\tlearn: 1106.4570191\ttotal: 33.3s\tremaining: 3m 19s\n",
      "143:\tlearn: 1105.8436494\ttotal: 33.4s\tremaining: 3m 18s\n",
      "144:\tlearn: 1105.5616234\ttotal: 33.6s\tremaining: 3m 18s\n",
      "145:\tlearn: 1105.2277484\ttotal: 33.8s\tremaining: 3m 17s\n",
      "146:\tlearn: 1104.8121247\ttotal: 33.9s\tremaining: 3m 16s\n",
      "147:\tlearn: 1104.4136563\ttotal: 34.2s\tremaining: 3m 16s\n",
      "148:\tlearn: 1104.2469762\ttotal: 34.4s\tremaining: 3m 16s\n",
      "149:\tlearn: 1103.8748116\ttotal: 34.6s\tremaining: 3m 16s\n",
      "150:\tlearn: 1103.4712552\ttotal: 34.8s\tremaining: 3m 15s\n",
      "151:\tlearn: 1103.1177985\ttotal: 35s\tremaining: 3m 15s\n",
      "152:\tlearn: 1102.6485109\ttotal: 35.1s\tremaining: 3m 14s\n",
      "153:\tlearn: 1102.4571542\ttotal: 35.4s\tremaining: 3m 14s\n",
      "154:\tlearn: 1102.1730678\ttotal: 35.5s\tremaining: 3m 13s\n",
      "155:\tlearn: 1101.9587925\ttotal: 35.7s\tremaining: 3m 13s\n",
      "156:\tlearn: 1101.3419954\ttotal: 36s\tremaining: 3m 13s\n",
      "157:\tlearn: 1100.9601741\ttotal: 36.3s\tremaining: 3m 13s\n",
      "158:\tlearn: 1100.6443023\ttotal: 36.4s\tremaining: 3m 12s\n",
      "159:\tlearn: 1100.1895434\ttotal: 36.6s\tremaining: 3m 12s\n",
      "160:\tlearn: 1099.9977049\ttotal: 36.8s\tremaining: 3m 11s\n",
      "161:\tlearn: 1099.8498769\ttotal: 37s\tremaining: 3m 11s\n",
      "162:\tlearn: 1099.4874376\ttotal: 37.2s\tremaining: 3m 10s\n",
      "163:\tlearn: 1099.2195817\ttotal: 37.5s\tremaining: 3m 11s\n",
      "164:\tlearn: 1098.7234741\ttotal: 37.6s\tremaining: 3m 10s\n",
      "165:\tlearn: 1098.3643842\ttotal: 37.8s\tremaining: 3m 9s\n",
      "166:\tlearn: 1097.9406187\ttotal: 38s\tremaining: 3m 9s\n",
      "167:\tlearn: 1097.4872491\ttotal: 38.2s\tremaining: 3m 9s\n",
      "168:\tlearn: 1097.3049717\ttotal: 38.4s\tremaining: 3m 8s\n",
      "169:\tlearn: 1097.0656889\ttotal: 38.6s\tremaining: 3m 8s\n",
      "170:\tlearn: 1096.6794641\ttotal: 38.7s\tremaining: 3m 7s\n",
      "171:\tlearn: 1096.4151245\ttotal: 38.9s\tremaining: 3m 7s\n",
      "172:\tlearn: 1095.9597034\ttotal: 39.1s\tremaining: 3m 6s\n",
      "173:\tlearn: 1095.6065404\ttotal: 39.3s\tremaining: 3m 6s\n",
      "174:\tlearn: 1095.2566223\ttotal: 39.5s\tremaining: 3m 6s\n",
      "175:\tlearn: 1094.8797825\ttotal: 39.6s\tremaining: 3m 5s\n",
      "176:\tlearn: 1094.5277408\ttotal: 39.8s\tremaining: 3m 4s\n",
      "177:\tlearn: 1094.2583154\ttotal: 39.9s\tremaining: 3m 4s\n",
      "178:\tlearn: 1093.8741471\ttotal: 40.1s\tremaining: 3m 4s\n",
      "179:\tlearn: 1093.6829116\ttotal: 40.3s\tremaining: 3m 3s\n",
      "180:\tlearn: 1093.4950047\ttotal: 40.5s\tremaining: 3m 3s\n",
      "181:\tlearn: 1093.1879749\ttotal: 40.7s\tremaining: 3m 2s\n",
      "182:\tlearn: 1092.8959715\ttotal: 40.8s\tremaining: 3m 2s\n",
      "183:\tlearn: 1092.6892475\ttotal: 41s\tremaining: 3m 1s\n",
      "184:\tlearn: 1092.2463093\ttotal: 41.1s\tremaining: 3m 1s\n",
      "185:\tlearn: 1091.8874814\ttotal: 41.3s\tremaining: 3m\n",
      "186:\tlearn: 1091.6498412\ttotal: 41.4s\tremaining: 3m\n",
      "187:\tlearn: 1091.3765933\ttotal: 41.6s\tremaining: 2m 59s\n",
      "188:\tlearn: 1091.0759413\ttotal: 41.8s\tremaining: 2m 59s\n",
      "189:\tlearn: 1090.7016300\ttotal: 41.9s\tremaining: 2m 58s\n",
      "190:\tlearn: 1090.4682480\ttotal: 42.1s\tremaining: 2m 58s\n",
      "191:\tlearn: 1090.3334122\ttotal: 42.3s\tremaining: 2m 57s\n",
      "192:\tlearn: 1090.0803051\ttotal: 42.4s\tremaining: 2m 57s\n",
      "193:\tlearn: 1089.8206089\ttotal: 42.6s\tremaining: 2m 57s\n",
      "194:\tlearn: 1089.5618169\ttotal: 42.8s\tremaining: 2m 56s\n",
      "195:\tlearn: 1089.3082515\ttotal: 43s\tremaining: 2m 56s\n",
      "196:\tlearn: 1089.0950782\ttotal: 43.1s\tremaining: 2m 55s\n",
      "197:\tlearn: 1088.8260623\ttotal: 43.3s\tremaining: 2m 55s\n",
      "198:\tlearn: 1088.4738388\ttotal: 43.5s\tremaining: 2m 55s\n",
      "199:\tlearn: 1088.1528641\ttotal: 43.7s\tremaining: 2m 54s\n",
      "200:\tlearn: 1087.9708162\ttotal: 44s\tremaining: 2m 54s\n",
      "201:\tlearn: 1087.8120024\ttotal: 44.1s\tremaining: 2m 54s\n",
      "202:\tlearn: 1087.5564879\ttotal: 44.3s\tremaining: 2m 53s\n",
      "203:\tlearn: 1087.3457923\ttotal: 44.4s\tremaining: 2m 53s\n",
      "204:\tlearn: 1087.1500382\ttotal: 44.6s\tremaining: 2m 53s\n",
      "205:\tlearn: 1086.9355321\ttotal: 44.8s\tremaining: 2m 52s\n",
      "206:\tlearn: 1086.6960925\ttotal: 45s\tremaining: 2m 52s\n",
      "207:\tlearn: 1086.5984471\ttotal: 45.1s\tremaining: 2m 51s\n",
      "208:\tlearn: 1086.4326254\ttotal: 45.4s\tremaining: 2m 51s\n",
      "209:\tlearn: 1086.1664081\ttotal: 45.6s\tremaining: 2m 51s\n",
      "210:\tlearn: 1086.0146168\ttotal: 45.7s\tremaining: 2m 51s\n",
      "211:\tlearn: 1085.7206969\ttotal: 45.9s\tremaining: 2m 50s\n",
      "212:\tlearn: 1085.5408067\ttotal: 46.1s\tremaining: 2m 50s\n",
      "213:\tlearn: 1085.3423844\ttotal: 46.3s\tremaining: 2m 50s\n",
      "214:\tlearn: 1085.2478280\ttotal: 46.5s\tremaining: 2m 49s\n",
      "215:\tlearn: 1084.9170018\ttotal: 46.6s\tremaining: 2m 49s\n",
      "216:\tlearn: 1084.7038043\ttotal: 46.9s\tremaining: 2m 49s\n",
      "217:\tlearn: 1084.5600480\ttotal: 47.1s\tremaining: 2m 48s\n",
      "218:\tlearn: 1084.5119075\ttotal: 47.3s\tremaining: 2m 48s\n",
      "219:\tlearn: 1084.2590149\ttotal: 47.4s\tremaining: 2m 48s\n",
      "220:\tlearn: 1084.0196598\ttotal: 47.7s\tremaining: 2m 48s\n",
      "221:\tlearn: 1083.8793643\ttotal: 48s\tremaining: 2m 48s\n",
      "222:\tlearn: 1083.7838203\ttotal: 48.2s\tremaining: 2m 48s\n",
      "223:\tlearn: 1083.6640943\ttotal: 48.5s\tremaining: 2m 47s\n",
      "224:\tlearn: 1083.4653506\ttotal: 48.7s\tremaining: 2m 47s\n",
      "225:\tlearn: 1083.2836007\ttotal: 48.9s\tremaining: 2m 47s\n",
      "226:\tlearn: 1083.1585418\ttotal: 49.1s\tremaining: 2m 47s\n",
      "227:\tlearn: 1082.9648699\ttotal: 49.3s\tremaining: 2m 46s\n",
      "228:\tlearn: 1082.7475569\ttotal: 49.5s\tremaining: 2m 46s\n",
      "229:\tlearn: 1082.6192382\ttotal: 49.7s\tremaining: 2m 46s\n",
      "230:\tlearn: 1082.5510788\ttotal: 49.9s\tremaining: 2m 45s\n",
      "231:\tlearn: 1082.4208317\ttotal: 50s\tremaining: 2m 45s\n",
      "232:\tlearn: 1082.3454890\ttotal: 50.2s\tremaining: 2m 45s\n",
      "233:\tlearn: 1082.2401823\ttotal: 50.4s\tremaining: 2m 44s\n",
      "234:\tlearn: 1082.0385830\ttotal: 50.5s\tremaining: 2m 44s\n",
      "235:\tlearn: 1081.8390301\ttotal: 50.7s\tremaining: 2m 44s\n",
      "236:\tlearn: 1081.7530123\ttotal: 50.9s\tremaining: 2m 43s\n",
      "237:\tlearn: 1081.6375335\ttotal: 51s\tremaining: 2m 43s\n",
      "238:\tlearn: 1081.4294560\ttotal: 51.3s\tremaining: 2m 43s\n",
      "239:\tlearn: 1081.0768074\ttotal: 51.7s\tremaining: 2m 43s\n",
      "240:\tlearn: 1080.9083211\ttotal: 52.1s\tremaining: 2m 44s\n",
      "241:\tlearn: 1080.6600760\ttotal: 52.5s\tremaining: 2m 44s\n",
      "242:\tlearn: 1080.6008241\ttotal: 52.8s\tremaining: 2m 44s\n",
      "243:\tlearn: 1080.3821485\ttotal: 53s\tremaining: 2m 44s\n",
      "244:\tlearn: 1080.1558213\ttotal: 53.2s\tremaining: 2m 44s\n",
      "245:\tlearn: 1080.0220304\ttotal: 53.6s\tremaining: 2m 44s\n",
      "246:\tlearn: 1079.7654392\ttotal: 53.8s\tremaining: 2m 44s\n",
      "247:\tlearn: 1079.5167775\ttotal: 54.1s\tremaining: 2m 44s\n",
      "248:\tlearn: 1079.2632883\ttotal: 54.4s\tremaining: 2m 44s\n",
      "249:\tlearn: 1079.1935912\ttotal: 54.7s\tremaining: 2m 44s\n",
      "250:\tlearn: 1079.0482565\ttotal: 54.9s\tremaining: 2m 43s\n",
      "251:\tlearn: 1078.9053959\ttotal: 55.1s\tremaining: 2m 43s\n",
      "252:\tlearn: 1078.7720899\ttotal: 55.3s\tremaining: 2m 43s\n",
      "253:\tlearn: 1078.7387476\ttotal: 55.6s\tremaining: 2m 43s\n",
      "254:\tlearn: 1078.4506086\ttotal: 55.8s\tremaining: 2m 43s\n",
      "255:\tlearn: 1078.2241331\ttotal: 56.1s\tremaining: 2m 42s\n",
      "256:\tlearn: 1078.1206783\ttotal: 56.3s\tremaining: 2m 42s\n",
      "257:\tlearn: 1077.8498900\ttotal: 56.6s\tremaining: 2m 42s\n",
      "258:\tlearn: 1077.7550017\ttotal: 56.8s\tremaining: 2m 42s\n",
      "259:\tlearn: 1077.6536380\ttotal: 57.2s\tremaining: 2m 42s\n",
      "260:\tlearn: 1077.4268898\ttotal: 57.5s\tremaining: 2m 42s\n",
      "261:\tlearn: 1077.3683236\ttotal: 57.9s\tremaining: 2m 43s\n",
      "262:\tlearn: 1077.2864796\ttotal: 58.1s\tremaining: 2m 42s\n",
      "263:\tlearn: 1077.1151445\ttotal: 58.4s\tremaining: 2m 42s\n",
      "264:\tlearn: 1076.8948937\ttotal: 58.7s\tremaining: 2m 42s\n",
      "265:\tlearn: 1076.8481935\ttotal: 58.9s\tremaining: 2m 42s\n",
      "266:\tlearn: 1076.6439275\ttotal: 59.2s\tremaining: 2m 42s\n",
      "267:\tlearn: 1076.4459914\ttotal: 59.4s\tremaining: 2m 42s\n",
      "268:\tlearn: 1076.2312908\ttotal: 59.7s\tremaining: 2m 42s\n",
      "269:\tlearn: 1076.0395931\ttotal: 59.9s\tremaining: 2m 42s\n",
      "270:\tlearn: 1075.8081952\ttotal: 1m\tremaining: 2m 41s\n",
      "271:\tlearn: 1075.6040811\ttotal: 1m\tremaining: 2m 43s\n",
      "272:\tlearn: 1075.4647572\ttotal: 1m 1s\tremaining: 2m 43s\n",
      "273:\tlearn: 1075.2825429\ttotal: 1m 1s\tremaining: 2m 43s\n",
      "274:\tlearn: 1074.9453854\ttotal: 1m 1s\tremaining: 2m 42s\n",
      "275:\tlearn: 1074.8715124\ttotal: 1m 1s\tremaining: 2m 42s\n",
      "276:\tlearn: 1074.6297952\ttotal: 1m 2s\tremaining: 2m 42s\n",
      "277:\tlearn: 1074.5074848\ttotal: 1m 2s\tremaining: 2m 42s\n",
      "278:\tlearn: 1074.4363930\ttotal: 1m 2s\tremaining: 2m 42s\n",
      "279:\tlearn: 1074.2176151\ttotal: 1m 2s\tremaining: 2m 41s\n",
      "280:\tlearn: 1073.8974918\ttotal: 1m 3s\tremaining: 2m 41s\n",
      "281:\tlearn: 1073.8290566\ttotal: 1m 3s\tremaining: 2m 41s\n",
      "282:\tlearn: 1073.7403715\ttotal: 1m 3s\tremaining: 2m 41s\n",
      "283:\tlearn: 1073.6072780\ttotal: 1m 4s\tremaining: 2m 41s\n",
      "284:\tlearn: 1073.2870795\ttotal: 1m 4s\tremaining: 2m 41s\n",
      "285:\tlearn: 1073.0609799\ttotal: 1m 4s\tremaining: 2m 41s\n",
      "286:\tlearn: 1072.7757970\ttotal: 1m 4s\tremaining: 2m 41s\n",
      "287:\tlearn: 1072.5779651\ttotal: 1m 5s\tremaining: 2m 40s\n",
      "288:\tlearn: 1072.4474717\ttotal: 1m 5s\tremaining: 2m 41s\n",
      "289:\tlearn: 1072.3956159\ttotal: 1m 5s\tremaining: 2m 41s\n",
      "290:\tlearn: 1072.2677818\ttotal: 1m 6s\tremaining: 2m 41s\n",
      "291:\tlearn: 1072.0279479\ttotal: 1m 6s\tremaining: 2m 40s\n",
      "292:\tlearn: 1071.9870144\ttotal: 1m 6s\tremaining: 2m 40s\n",
      "293:\tlearn: 1071.6830621\ttotal: 1m 6s\tremaining: 2m 40s\n",
      "294:\tlearn: 1071.6294829\ttotal: 1m 6s\tremaining: 2m 39s\n",
      "295:\tlearn: 1071.5025237\ttotal: 1m 7s\tremaining: 2m 39s\n",
      "296:\tlearn: 1071.3896727\ttotal: 1m 7s\tremaining: 2m 39s\n",
      "297:\tlearn: 1071.3352146\ttotal: 1m 7s\tremaining: 2m 39s\n",
      "298:\tlearn: 1071.1145874\ttotal: 1m 7s\tremaining: 2m 38s\n",
      "299:\tlearn: 1070.9175590\ttotal: 1m 7s\tremaining: 2m 38s\n",
      "300:\tlearn: 1070.8417686\ttotal: 1m 8s\tremaining: 2m 38s\n",
      "301:\tlearn: 1070.7032135\ttotal: 1m 8s\tremaining: 2m 38s\n",
      "302:\tlearn: 1070.4119605\ttotal: 1m 8s\tremaining: 2m 37s\n",
      "303:\tlearn: 1070.2234313\ttotal: 1m 8s\tremaining: 2m 37s\n",
      "304:\tlearn: 1070.2039673\ttotal: 1m 9s\tremaining: 2m 37s\n",
      "305:\tlearn: 1070.0191766\ttotal: 1m 9s\tremaining: 2m 37s\n",
      "306:\tlearn: 1069.8760695\ttotal: 1m 9s\tremaining: 2m 36s\n",
      "307:\tlearn: 1069.7555494\ttotal: 1m 9s\tremaining: 2m 36s\n",
      "308:\tlearn: 1069.7522043\ttotal: 1m 9s\tremaining: 2m 36s\n",
      "309:\tlearn: 1069.5708460\ttotal: 1m 10s\tremaining: 2m 35s\n",
      "310:\tlearn: 1069.4364436\ttotal: 1m 10s\tremaining: 2m 35s\n",
      "311:\tlearn: 1069.3418744\ttotal: 1m 10s\tremaining: 2m 35s\n",
      "312:\tlearn: 1069.2495008\ttotal: 1m 10s\tremaining: 2m 34s\n",
      "313:\tlearn: 1068.9875743\ttotal: 1m 10s\tremaining: 2m 34s\n",
      "314:\tlearn: 1068.8594402\ttotal: 1m 10s\tremaining: 2m 34s\n",
      "315:\tlearn: 1068.7028762\ttotal: 1m 11s\tremaining: 2m 33s\n",
      "316:\tlearn: 1068.5423934\ttotal: 1m 11s\tremaining: 2m 33s\n",
      "317:\tlearn: 1068.3353900\ttotal: 1m 11s\tremaining: 2m 33s\n",
      "318:\tlearn: 1068.2658228\ttotal: 1m 11s\tremaining: 2m 32s\n",
      "319:\tlearn: 1068.2200676\ttotal: 1m 11s\tremaining: 2m 32s\n",
      "320:\tlearn: 1068.0648301\ttotal: 1m 11s\tremaining: 2m 32s\n",
      "321:\tlearn: 1067.9091826\ttotal: 1m 12s\tremaining: 2m 31s\n",
      "322:\tlearn: 1067.8446448\ttotal: 1m 12s\tremaining: 2m 31s\n",
      "323:\tlearn: 1067.7268960\ttotal: 1m 12s\tremaining: 2m 31s\n",
      "324:\tlearn: 1067.5360173\ttotal: 1m 12s\tremaining: 2m 31s\n",
      "325:\tlearn: 1067.3516779\ttotal: 1m 12s\tremaining: 2m 30s\n",
      "326:\tlearn: 1067.2739339\ttotal: 1m 13s\tremaining: 2m 30s\n",
      "327:\tlearn: 1067.2129342\ttotal: 1m 13s\tremaining: 2m 30s\n",
      "328:\tlearn: 1067.1083430\ttotal: 1m 13s\tremaining: 2m 30s\n",
      "329:\tlearn: 1066.9987485\ttotal: 1m 13s\tremaining: 2m 29s\n",
      "330:\tlearn: 1066.9809851\ttotal: 1m 13s\tremaining: 2m 29s\n",
      "331:\tlearn: 1066.8663857\ttotal: 1m 14s\tremaining: 2m 29s\n",
      "332:\tlearn: 1066.8601466\ttotal: 1m 14s\tremaining: 2m 28s\n",
      "333:\tlearn: 1066.6958587\ttotal: 1m 14s\tremaining: 2m 28s\n",
      "334:\tlearn: 1066.5962284\ttotal: 1m 14s\tremaining: 2m 28s\n",
      "335:\tlearn: 1066.4778130\ttotal: 1m 15s\tremaining: 2m 28s\n",
      "336:\tlearn: 1066.3499936\ttotal: 1m 15s\tremaining: 2m 27s\n",
      "337:\tlearn: 1066.2558764\ttotal: 1m 15s\tremaining: 2m 27s\n",
      "338:\tlearn: 1066.1377980\ttotal: 1m 15s\tremaining: 2m 27s\n",
      "339:\tlearn: 1065.8989365\ttotal: 1m 15s\tremaining: 2m 27s\n",
      "340:\tlearn: 1065.6596800\ttotal: 1m 16s\tremaining: 2m 27s\n",
      "341:\tlearn: 1065.5825067\ttotal: 1m 16s\tremaining: 2m 26s\n",
      "342:\tlearn: 1065.4055061\ttotal: 1m 16s\tremaining: 2m 26s\n",
      "343:\tlearn: 1065.2613636\ttotal: 1m 16s\tremaining: 2m 26s\n",
      "344:\tlearn: 1065.1342694\ttotal: 1m 17s\tremaining: 2m 26s\n",
      "345:\tlearn: 1065.0209935\ttotal: 1m 17s\tremaining: 2m 26s\n",
      "346:\tlearn: 1064.9258189\ttotal: 1m 17s\tremaining: 2m 25s\n",
      "347:\tlearn: 1064.8543945\ttotal: 1m 17s\tremaining: 2m 25s\n",
      "348:\tlearn: 1064.7632894\ttotal: 1m 17s\tremaining: 2m 25s\n",
      "349:\tlearn: 1064.6798233\ttotal: 1m 18s\tremaining: 2m 24s\n",
      "350:\tlearn: 1064.6314777\ttotal: 1m 18s\tremaining: 2m 24s\n",
      "351:\tlearn: 1064.5745886\ttotal: 1m 18s\tremaining: 2m 24s\n",
      "352:\tlearn: 1064.5473643\ttotal: 1m 18s\tremaining: 2m 23s\n",
      "353:\tlearn: 1064.4821010\ttotal: 1m 18s\tremaining: 2m 23s\n",
      "354:\tlearn: 1064.3119146\ttotal: 1m 19s\tremaining: 2m 23s\n",
      "355:\tlearn: 1064.3055718\ttotal: 1m 19s\tremaining: 2m 23s\n",
      "356:\tlearn: 1064.2467159\ttotal: 1m 19s\tremaining: 2m 23s\n",
      "357:\tlearn: 1064.1295232\ttotal: 1m 19s\tremaining: 2m 22s\n",
      "358:\tlearn: 1063.8519083\ttotal: 1m 19s\tremaining: 2m 22s\n",
      "359:\tlearn: 1063.7380190\ttotal: 1m 20s\tremaining: 2m 22s\n",
      "360:\tlearn: 1063.6405881\ttotal: 1m 20s\tremaining: 2m 22s\n",
      "361:\tlearn: 1063.5233275\ttotal: 1m 20s\tremaining: 2m 21s\n",
      "362:\tlearn: 1063.3759594\ttotal: 1m 20s\tremaining: 2m 21s\n",
      "363:\tlearn: 1063.3036219\ttotal: 1m 20s\tremaining: 2m 21s\n",
      "364:\tlearn: 1063.1910723\ttotal: 1m 21s\tremaining: 2m 21s\n",
      "365:\tlearn: 1062.9749537\ttotal: 1m 21s\tremaining: 2m 21s\n",
      "366:\tlearn: 1062.8576557\ttotal: 1m 21s\tremaining: 2m 20s\n",
      "367:\tlearn: 1062.5971527\ttotal: 1m 21s\tremaining: 2m 20s\n",
      "368:\tlearn: 1062.5381505\ttotal: 1m 22s\tremaining: 2m 20s\n",
      "369:\tlearn: 1062.3730457\ttotal: 1m 22s\tremaining: 2m 20s\n",
      "370:\tlearn: 1062.3373608\ttotal: 1m 22s\tremaining: 2m 20s\n",
      "371:\tlearn: 1062.2652047\ttotal: 1m 22s\tremaining: 2m 19s\n",
      "372:\tlearn: 1062.1194808\ttotal: 1m 22s\tremaining: 2m 19s\n",
      "373:\tlearn: 1061.8972759\ttotal: 1m 23s\tremaining: 2m 19s\n",
      "374:\tlearn: 1061.7690242\ttotal: 1m 23s\tremaining: 2m 18s\n",
      "375:\tlearn: 1061.7328644\ttotal: 1m 23s\tremaining: 2m 18s\n",
      "376:\tlearn: 1061.6430258\ttotal: 1m 23s\tremaining: 2m 18s\n",
      "377:\tlearn: 1061.5689672\ttotal: 1m 24s\tremaining: 2m 18s\n",
      "378:\tlearn: 1061.3866924\ttotal: 1m 24s\tremaining: 2m 18s\n",
      "379:\tlearn: 1061.2487713\ttotal: 1m 24s\tremaining: 2m 18s\n",
      "380:\tlearn: 1061.1147847\ttotal: 1m 24s\tremaining: 2m 17s\n",
      "381:\tlearn: 1061.0420874\ttotal: 1m 25s\tremaining: 2m 17s\n",
      "382:\tlearn: 1060.9802874\ttotal: 1m 25s\tremaining: 2m 17s\n",
      "383:\tlearn: 1060.8162179\ttotal: 1m 25s\tremaining: 2m 17s\n",
      "384:\tlearn: 1060.5411810\ttotal: 1m 26s\tremaining: 2m 17s\n",
      "385:\tlearn: 1060.5036861\ttotal: 1m 26s\tremaining: 2m 17s\n",
      "386:\tlearn: 1060.3701573\ttotal: 1m 26s\tremaining: 2m 17s\n",
      "387:\tlearn: 1060.1442511\ttotal: 1m 26s\tremaining: 2m 17s\n",
      "388:\tlearn: 1060.0112878\ttotal: 1m 27s\tremaining: 2m 16s\n",
      "389:\tlearn: 1059.9327122\ttotal: 1m 27s\tremaining: 2m 17s\n",
      "390:\tlearn: 1059.8707844\ttotal: 1m 27s\tremaining: 2m 16s\n",
      "391:\tlearn: 1059.8113213\ttotal: 1m 28s\tremaining: 2m 17s\n",
      "392:\tlearn: 1059.7092578\ttotal: 1m 28s\tremaining: 2m 17s\n",
      "393:\tlearn: 1059.4784364\ttotal: 1m 29s\tremaining: 2m 17s\n",
      "394:\tlearn: 1059.3280500\ttotal: 1m 29s\tremaining: 2m 16s\n",
      "395:\tlearn: 1059.2529821\ttotal: 1m 29s\tremaining: 2m 16s\n",
      "396:\tlearn: 1059.1409740\ttotal: 1m 29s\tremaining: 2m 16s\n",
      "397:\tlearn: 1058.9559003\ttotal: 1m 30s\tremaining: 2m 16s\n",
      "398:\tlearn: 1058.8429731\ttotal: 1m 30s\tremaining: 2m 16s\n",
      "399:\tlearn: 1058.7693087\ttotal: 1m 31s\tremaining: 2m 16s\n",
      "400:\tlearn: 1058.6465495\ttotal: 1m 31s\tremaining: 2m 16s\n",
      "401:\tlearn: 1058.5812984\ttotal: 1m 32s\tremaining: 2m 16s\n",
      "402:\tlearn: 1058.5356948\ttotal: 1m 32s\tremaining: 2m 16s\n",
      "403:\tlearn: 1058.3483074\ttotal: 1m 32s\tremaining: 2m 16s\n",
      "404:\tlearn: 1058.2130792\ttotal: 1m 32s\tremaining: 2m 16s\n",
      "405:\tlearn: 1058.0013159\ttotal: 1m 33s\tremaining: 2m 16s\n",
      "406:\tlearn: 1057.9659646\ttotal: 1m 33s\tremaining: 2m 16s\n",
      "407:\tlearn: 1057.8744312\ttotal: 1m 33s\tremaining: 2m 16s\n",
      "408:\tlearn: 1057.7607065\ttotal: 1m 34s\tremaining: 2m 15s\n",
      "409:\tlearn: 1057.6809199\ttotal: 1m 34s\tremaining: 2m 15s\n",
      "410:\tlearn: 1057.6209634\ttotal: 1m 34s\tremaining: 2m 15s\n",
      "411:\tlearn: 1057.5588733\ttotal: 1m 34s\tremaining: 2m 15s\n",
      "412:\tlearn: 1057.5560688\ttotal: 1m 35s\tremaining: 2m 15s\n",
      "413:\tlearn: 1057.4329300\ttotal: 1m 35s\tremaining: 2m 14s\n",
      "414:\tlearn: 1057.3578569\ttotal: 1m 35s\tremaining: 2m 14s\n",
      "415:\tlearn: 1057.2647192\ttotal: 1m 35s\tremaining: 2m 14s\n",
      "416:\tlearn: 1057.2220845\ttotal: 1m 36s\tremaining: 2m 14s\n",
      "417:\tlearn: 1057.1411720\ttotal: 1m 36s\tremaining: 2m 14s\n",
      "418:\tlearn: 1057.0539954\ttotal: 1m 36s\tremaining: 2m 14s\n",
      "419:\tlearn: 1056.9277985\ttotal: 1m 37s\tremaining: 2m 14s\n",
      "420:\tlearn: 1056.8282997\ttotal: 1m 37s\tremaining: 2m 13s\n",
      "421:\tlearn: 1056.7865713\ttotal: 1m 37s\tremaining: 2m 13s\n",
      "422:\tlearn: 1056.6731078\ttotal: 1m 37s\tremaining: 2m 13s\n",
      "423:\tlearn: 1056.6007798\ttotal: 1m 38s\tremaining: 2m 13s\n",
      "424:\tlearn: 1056.4866357\ttotal: 1m 38s\tremaining: 2m 12s\n",
      "425:\tlearn: 1056.4378719\ttotal: 1m 38s\tremaining: 2m 12s\n",
      "426:\tlearn: 1056.3618586\ttotal: 1m 39s\tremaining: 2m 13s\n",
      "427:\tlearn: 1056.2747134\ttotal: 1m 39s\tremaining: 2m 13s\n",
      "428:\tlearn: 1056.2200839\ttotal: 1m 40s\tremaining: 2m 13s\n",
      "429:\tlearn: 1056.0524781\ttotal: 1m 40s\tremaining: 2m 13s\n",
      "430:\tlearn: 1055.8966625\ttotal: 1m 40s\tremaining: 2m 13s\n",
      "431:\tlearn: 1055.7722612\ttotal: 1m 41s\tremaining: 2m 13s\n",
      "432:\tlearn: 1055.7097697\ttotal: 1m 41s\tremaining: 2m 12s\n",
      "433:\tlearn: 1055.6477178\ttotal: 1m 41s\tremaining: 2m 12s\n",
      "434:\tlearn: 1055.5955259\ttotal: 1m 41s\tremaining: 2m 12s\n",
      "435:\tlearn: 1055.5485976\ttotal: 1m 42s\tremaining: 2m 12s\n",
      "436:\tlearn: 1055.4968021\ttotal: 1m 42s\tremaining: 2m 11s\n",
      "437:\tlearn: 1055.4172870\ttotal: 1m 42s\tremaining: 2m 11s\n",
      "438:\tlearn: 1055.2132029\ttotal: 1m 43s\tremaining: 2m 11s\n",
      "439:\tlearn: 1055.1676598\ttotal: 1m 43s\tremaining: 2m 11s\n",
      "440:\tlearn: 1054.9638841\ttotal: 1m 43s\tremaining: 2m 11s\n",
      "441:\tlearn: 1054.8836043\ttotal: 1m 43s\tremaining: 2m 11s\n",
      "442:\tlearn: 1054.7406038\ttotal: 1m 44s\tremaining: 2m 10s\n",
      "443:\tlearn: 1054.5712913\ttotal: 1m 44s\tremaining: 2m 10s\n",
      "444:\tlearn: 1054.5061952\ttotal: 1m 44s\tremaining: 2m 10s\n",
      "445:\tlearn: 1054.3938537\ttotal: 1m 44s\tremaining: 2m 10s\n",
      "446:\tlearn: 1054.3110763\ttotal: 1m 45s\tremaining: 2m 9s\n",
      "447:\tlearn: 1054.2358665\ttotal: 1m 45s\tremaining: 2m 10s\n",
      "448:\tlearn: 1054.1511676\ttotal: 1m 45s\tremaining: 2m 10s\n",
      "449:\tlearn: 1054.0187102\ttotal: 1m 46s\tremaining: 2m 9s\n",
      "450:\tlearn: 1053.9580321\ttotal: 1m 46s\tremaining: 2m 9s\n",
      "451:\tlearn: 1053.7619309\ttotal: 1m 46s\tremaining: 2m 9s\n",
      "452:\tlearn: 1053.6758668\ttotal: 1m 46s\tremaining: 2m 9s\n",
      "453:\tlearn: 1053.5733703\ttotal: 1m 47s\tremaining: 2m 8s\n",
      "454:\tlearn: 1053.5078170\ttotal: 1m 47s\tremaining: 2m 8s\n",
      "455:\tlearn: 1053.3737117\ttotal: 1m 47s\tremaining: 2m 8s\n",
      "456:\tlearn: 1053.2948311\ttotal: 1m 47s\tremaining: 2m 8s\n",
      "457:\tlearn: 1053.2187954\ttotal: 1m 48s\tremaining: 2m 7s\n",
      "458:\tlearn: 1053.1451548\ttotal: 1m 48s\tremaining: 2m 7s\n",
      "459:\tlearn: 1053.1007146\ttotal: 1m 48s\tremaining: 2m 7s\n",
      "460:\tlearn: 1053.0167375\ttotal: 1m 48s\tremaining: 2m 7s\n",
      "461:\tlearn: 1052.8778304\ttotal: 1m 49s\tremaining: 2m 7s\n",
      "462:\tlearn: 1052.8460148\ttotal: 1m 49s\tremaining: 2m 6s\n",
      "463:\tlearn: 1052.8434520\ttotal: 1m 49s\tremaining: 2m 6s\n",
      "464:\tlearn: 1052.8162811\ttotal: 1m 49s\tremaining: 2m 6s\n",
      "465:\tlearn: 1052.7678009\ttotal: 1m 49s\tremaining: 2m 5s\n",
      "466:\tlearn: 1052.6874957\ttotal: 1m 50s\tremaining: 2m 5s\n",
      "467:\tlearn: 1052.5372308\ttotal: 1m 50s\tremaining: 2m 5s\n",
      "468:\tlearn: 1052.5242696\ttotal: 1m 50s\tremaining: 2m 5s\n",
      "469:\tlearn: 1052.4059804\ttotal: 1m 50s\tremaining: 2m 5s\n",
      "470:\tlearn: 1052.3486323\ttotal: 1m 51s\tremaining: 2m 4s\n",
      "471:\tlearn: 1052.2525969\ttotal: 1m 51s\tremaining: 2m 4s\n",
      "472:\tlearn: 1052.2113435\ttotal: 1m 51s\tremaining: 2m 4s\n",
      "473:\tlearn: 1052.1170188\ttotal: 1m 51s\tremaining: 2m 4s\n",
      "474:\tlearn: 1052.0053527\ttotal: 1m 52s\tremaining: 2m 3s\n",
      "475:\tlearn: 1051.9148837\ttotal: 1m 52s\tremaining: 2m 3s\n",
      "476:\tlearn: 1051.7824249\ttotal: 1m 52s\tremaining: 2m 3s\n",
      "477:\tlearn: 1051.6324400\ttotal: 1m 52s\tremaining: 2m 3s\n",
      "478:\tlearn: 1051.5857840\ttotal: 1m 53s\tremaining: 2m 3s\n",
      "479:\tlearn: 1051.5417660\ttotal: 1m 53s\tremaining: 2m 2s\n",
      "480:\tlearn: 1051.4115447\ttotal: 1m 53s\tremaining: 2m 2s\n",
      "481:\tlearn: 1051.3297958\ttotal: 1m 53s\tremaining: 2m 2s\n",
      "482:\tlearn: 1051.2868726\ttotal: 1m 54s\tremaining: 2m 2s\n",
      "483:\tlearn: 1051.2461557\ttotal: 1m 54s\tremaining: 2m 1s\n",
      "484:\tlearn: 1051.1234149\ttotal: 1m 54s\tremaining: 2m 1s\n",
      "485:\tlearn: 1050.9945853\ttotal: 1m 54s\tremaining: 2m 1s\n",
      "486:\tlearn: 1050.7026925\ttotal: 1m 54s\tremaining: 2m\n",
      "487:\tlearn: 1050.6530589\ttotal: 1m 55s\tremaining: 2m\n",
      "488:\tlearn: 1050.5205088\ttotal: 1m 55s\tremaining: 2m\n",
      "489:\tlearn: 1050.4561639\ttotal: 1m 55s\tremaining: 2m\n",
      "490:\tlearn: 1050.4144335\ttotal: 1m 55s\tremaining: 2m\n",
      "491:\tlearn: 1050.2741182\ttotal: 1m 56s\tremaining: 1m 59s\n",
      "492:\tlearn: 1050.1885157\ttotal: 1m 56s\tremaining: 1m 59s\n",
      "493:\tlearn: 1050.1276325\ttotal: 1m 56s\tremaining: 1m 59s\n",
      "494:\tlearn: 1049.9851169\ttotal: 1m 57s\tremaining: 1m 59s\n",
      "495:\tlearn: 1049.9242678\ttotal: 1m 57s\tremaining: 1m 59s\n",
      "496:\tlearn: 1049.8562125\ttotal: 1m 57s\tremaining: 1m 59s\n",
      "497:\tlearn: 1049.7958052\ttotal: 1m 57s\tremaining: 1m 58s\n",
      "498:\tlearn: 1049.7122827\ttotal: 1m 58s\tremaining: 1m 58s\n",
      "499:\tlearn: 1049.6944201\ttotal: 1m 58s\tremaining: 1m 58s\n",
      "500:\tlearn: 1049.5791885\ttotal: 1m 58s\tremaining: 1m 58s\n",
      "501:\tlearn: 1049.5079492\ttotal: 1m 59s\tremaining: 1m 58s\n",
      "502:\tlearn: 1049.4589207\ttotal: 1m 59s\tremaining: 1m 58s\n",
      "503:\tlearn: 1049.4434199\ttotal: 1m 59s\tremaining: 1m 57s\n",
      "504:\tlearn: 1049.3519213\ttotal: 2m\tremaining: 1m 57s\n",
      "505:\tlearn: 1049.3094026\ttotal: 2m\tremaining: 1m 57s\n",
      "506:\tlearn: 1049.1606659\ttotal: 2m\tremaining: 1m 57s\n",
      "507:\tlearn: 1049.1065496\ttotal: 2m\tremaining: 1m 57s\n",
      "508:\tlearn: 1049.0624195\ttotal: 2m 1s\tremaining: 1m 56s\n",
      "509:\tlearn: 1049.0237785\ttotal: 2m 1s\tremaining: 1m 56s\n",
      "510:\tlearn: 1048.9374583\ttotal: 2m 1s\tremaining: 1m 56s\n",
      "511:\tlearn: 1048.7353032\ttotal: 2m 1s\tremaining: 1m 56s\n",
      "512:\tlearn: 1048.7089596\ttotal: 2m 2s\tremaining: 1m 55s\n",
      "513:\tlearn: 1048.5903378\ttotal: 2m 2s\tremaining: 1m 55s\n",
      "514:\tlearn: 1048.5508246\ttotal: 2m 2s\tremaining: 1m 55s\n",
      "515:\tlearn: 1048.4902980\ttotal: 2m 2s\tremaining: 1m 55s\n",
      "516:\tlearn: 1048.4606312\ttotal: 2m 2s\tremaining: 1m 54s\n",
      "517:\tlearn: 1048.4433212\ttotal: 2m 3s\tremaining: 1m 54s\n",
      "518:\tlearn: 1048.3969805\ttotal: 2m 3s\tremaining: 1m 54s\n",
      "519:\tlearn: 1048.2794302\ttotal: 2m 3s\tremaining: 1m 53s\n",
      "520:\tlearn: 1048.2181813\ttotal: 2m 3s\tremaining: 1m 53s\n",
      "521:\tlearn: 1048.1669634\ttotal: 2m 3s\tremaining: 1m 53s\n",
      "522:\tlearn: 1048.1000929\ttotal: 2m 4s\tremaining: 1m 53s\n",
      "523:\tlearn: 1048.0206554\ttotal: 2m 4s\tremaining: 1m 52s\n",
      "524:\tlearn: 1047.9891231\ttotal: 2m 4s\tremaining: 1m 52s\n",
      "525:\tlearn: 1047.9373629\ttotal: 2m 4s\tremaining: 1m 52s\n",
      "526:\tlearn: 1047.8601427\ttotal: 2m 4s\tremaining: 1m 52s\n",
      "527:\tlearn: 1047.7737861\ttotal: 2m 5s\tremaining: 1m 51s\n",
      "528:\tlearn: 1047.6991640\ttotal: 2m 5s\tremaining: 1m 51s\n",
      "529:\tlearn: 1047.5917293\ttotal: 2m 5s\tremaining: 1m 51s\n",
      "530:\tlearn: 1047.5517485\ttotal: 2m 5s\tremaining: 1m 51s\n",
      "531:\tlearn: 1047.4070885\ttotal: 2m 6s\tremaining: 1m 50s\n",
      "532:\tlearn: 1047.2848289\ttotal: 2m 6s\tremaining: 1m 50s\n",
      "533:\tlearn: 1047.2789425\ttotal: 2m 6s\tremaining: 1m 50s\n",
      "534:\tlearn: 1047.1849249\ttotal: 2m 6s\tremaining: 1m 50s\n",
      "535:\tlearn: 1047.1513294\ttotal: 2m 6s\tremaining: 1m 49s\n",
      "536:\tlearn: 1047.0246938\ttotal: 2m 6s\tremaining: 1m 49s\n",
      "537:\tlearn: 1046.9936128\ttotal: 2m 7s\tremaining: 1m 49s\n",
      "538:\tlearn: 1046.9893079\ttotal: 2m 7s\tremaining: 1m 48s\n",
      "539:\tlearn: 1046.9557414\ttotal: 2m 7s\tremaining: 1m 48s\n",
      "540:\tlearn: 1046.8106673\ttotal: 2m 7s\tremaining: 1m 48s\n",
      "541:\tlearn: 1046.7032831\ttotal: 2m 7s\tremaining: 1m 48s\n",
      "542:\tlearn: 1046.6666114\ttotal: 2m 8s\tremaining: 1m 47s\n",
      "543:\tlearn: 1046.6129017\ttotal: 2m 8s\tremaining: 1m 47s\n",
      "544:\tlearn: 1046.5573591\ttotal: 2m 8s\tremaining: 1m 47s\n",
      "545:\tlearn: 1046.5293863\ttotal: 2m 8s\tremaining: 1m 46s\n",
      "546:\tlearn: 1046.4869293\ttotal: 2m 8s\tremaining: 1m 46s\n",
      "547:\tlearn: 1046.3486698\ttotal: 2m 9s\tremaining: 1m 46s\n",
      "548:\tlearn: 1046.3243390\ttotal: 2m 9s\tremaining: 1m 46s\n",
      "549:\tlearn: 1046.2733378\ttotal: 2m 9s\tremaining: 1m 45s\n",
      "550:\tlearn: 1046.0728602\ttotal: 2m 9s\tremaining: 1m 45s\n",
      "551:\tlearn: 1046.0426762\ttotal: 2m 9s\tremaining: 1m 45s\n",
      "552:\tlearn: 1045.8792509\ttotal: 2m 10s\tremaining: 1m 45s\n",
      "553:\tlearn: 1045.7139139\ttotal: 2m 10s\tremaining: 1m 44s\n",
      "554:\tlearn: 1045.5962013\ttotal: 2m 10s\tremaining: 1m 44s\n",
      "555:\tlearn: 1045.5331067\ttotal: 2m 10s\tremaining: 1m 44s\n",
      "556:\tlearn: 1045.4816706\ttotal: 2m 11s\tremaining: 1m 44s\n",
      "557:\tlearn: 1045.4140635\ttotal: 2m 11s\tremaining: 1m 43s\n",
      "558:\tlearn: 1045.2393896\ttotal: 2m 11s\tremaining: 1m 43s\n",
      "559:\tlearn: 1045.2271927\ttotal: 2m 11s\tremaining: 1m 43s\n",
      "560:\tlearn: 1045.1591946\ttotal: 2m 11s\tremaining: 1m 43s\n",
      "561:\tlearn: 1045.1125829\ttotal: 2m 12s\tremaining: 1m 42s\n",
      "562:\tlearn: 1045.0642789\ttotal: 2m 12s\tremaining: 1m 42s\n",
      "563:\tlearn: 1045.0084945\ttotal: 2m 12s\tremaining: 1m 42s\n",
      "564:\tlearn: 1044.9785044\ttotal: 2m 12s\tremaining: 1m 42s\n",
      "565:\tlearn: 1044.8909526\ttotal: 2m 12s\tremaining: 1m 41s\n",
      "566:\tlearn: 1044.7837404\ttotal: 2m 13s\tremaining: 1m 41s\n",
      "567:\tlearn: 1044.6872432\ttotal: 2m 13s\tremaining: 1m 41s\n",
      "568:\tlearn: 1044.6514728\ttotal: 2m 13s\tremaining: 1m 41s\n",
      "569:\tlearn: 1044.6129505\ttotal: 2m 13s\tremaining: 1m 40s\n",
      "570:\tlearn: 1044.5632395\ttotal: 2m 13s\tremaining: 1m 40s\n",
      "571:\tlearn: 1044.4817385\ttotal: 2m 14s\tremaining: 1m 40s\n",
      "572:\tlearn: 1044.4130945\ttotal: 2m 14s\tremaining: 1m 40s\n",
      "573:\tlearn: 1044.3247581\ttotal: 2m 14s\tremaining: 1m 39s\n",
      "574:\tlearn: 1044.2603455\ttotal: 2m 14s\tremaining: 1m 39s\n",
      "575:\tlearn: 1044.1810761\ttotal: 2m 14s\tremaining: 1m 39s\n",
      "576:\tlearn: 1044.1794180\ttotal: 2m 15s\tremaining: 1m 39s\n",
      "577:\tlearn: 1044.0695312\ttotal: 2m 15s\tremaining: 1m 38s\n",
      "578:\tlearn: 1044.0095527\ttotal: 2m 15s\tremaining: 1m 38s\n",
      "579:\tlearn: 1043.9324910\ttotal: 2m 15s\tremaining: 1m 38s\n",
      "580:\tlearn: 1043.8670775\ttotal: 2m 16s\tremaining: 1m 38s\n",
      "581:\tlearn: 1043.7978224\ttotal: 2m 16s\tremaining: 1m 37s\n",
      "582:\tlearn: 1043.6388284\ttotal: 2m 16s\tremaining: 1m 37s\n",
      "583:\tlearn: 1043.5824717\ttotal: 2m 16s\tremaining: 1m 37s\n",
      "584:\tlearn: 1043.5788524\ttotal: 2m 16s\tremaining: 1m 37s\n",
      "585:\tlearn: 1043.4731744\ttotal: 2m 17s\tremaining: 1m 36s\n",
      "586:\tlearn: 1043.4183060\ttotal: 2m 17s\tremaining: 1m 36s\n",
      "587:\tlearn: 1043.3653042\ttotal: 2m 17s\tremaining: 1m 36s\n",
      "588:\tlearn: 1043.3200130\ttotal: 2m 17s\tremaining: 1m 36s\n",
      "589:\tlearn: 1043.2690840\ttotal: 2m 17s\tremaining: 1m 35s\n",
      "590:\tlearn: 1043.2133361\ttotal: 2m 18s\tremaining: 1m 35s\n",
      "591:\tlearn: 1042.9530771\ttotal: 2m 18s\tremaining: 1m 35s\n",
      "592:\tlearn: 1042.8721078\ttotal: 2m 18s\tremaining: 1m 35s\n",
      "593:\tlearn: 1042.7856841\ttotal: 2m 18s\tremaining: 1m 34s\n",
      "594:\tlearn: 1042.6741761\ttotal: 2m 18s\tremaining: 1m 34s\n",
      "595:\tlearn: 1042.5772952\ttotal: 2m 19s\tremaining: 1m 34s\n",
      "596:\tlearn: 1042.5157255\ttotal: 2m 19s\tremaining: 1m 34s\n",
      "597:\tlearn: 1042.4496015\ttotal: 2m 19s\tremaining: 1m 33s\n",
      "598:\tlearn: 1042.4241879\ttotal: 2m 19s\tremaining: 1m 33s\n",
      "599:\tlearn: 1042.3212930\ttotal: 2m 19s\tremaining: 1m 33s\n",
      "600:\tlearn: 1042.2233740\ttotal: 2m 20s\tremaining: 1m 33s\n",
      "601:\tlearn: 1042.1224267\ttotal: 2m 20s\tremaining: 1m 32s\n",
      "602:\tlearn: 1042.0170796\ttotal: 2m 20s\tremaining: 1m 32s\n",
      "603:\tlearn: 1041.9115097\ttotal: 2m 20s\tremaining: 1m 32s\n",
      "604:\tlearn: 1041.7934812\ttotal: 2m 21s\tremaining: 1m 32s\n",
      "605:\tlearn: 1041.7381809\ttotal: 2m 21s\tremaining: 1m 31s\n",
      "606:\tlearn: 1041.7118704\ttotal: 2m 21s\tremaining: 1m 31s\n",
      "607:\tlearn: 1041.6475302\ttotal: 2m 21s\tremaining: 1m 31s\n",
      "608:\tlearn: 1041.5808524\ttotal: 2m 21s\tremaining: 1m 31s\n",
      "609:\tlearn: 1041.4670212\ttotal: 2m 22s\tremaining: 1m 30s\n",
      "610:\tlearn: 1041.4198340\ttotal: 2m 22s\tremaining: 1m 30s\n",
      "611:\tlearn: 1041.3876023\ttotal: 2m 22s\tremaining: 1m 30s\n",
      "612:\tlearn: 1041.2954739\ttotal: 2m 22s\tremaining: 1m 30s\n",
      "613:\tlearn: 1041.2549291\ttotal: 2m 22s\tremaining: 1m 29s\n",
      "614:\tlearn: 1041.1712828\ttotal: 2m 23s\tremaining: 1m 29s\n",
      "615:\tlearn: 1041.0094952\ttotal: 2m 23s\tremaining: 1m 29s\n",
      "616:\tlearn: 1040.9407964\ttotal: 2m 23s\tremaining: 1m 29s\n",
      "617:\tlearn: 1040.8768930\ttotal: 2m 23s\tremaining: 1m 28s\n",
      "618:\tlearn: 1040.8385901\ttotal: 2m 24s\tremaining: 1m 28s\n",
      "619:\tlearn: 1040.7620944\ttotal: 2m 24s\tremaining: 1m 28s\n",
      "620:\tlearn: 1040.6407017\ttotal: 2m 24s\tremaining: 1m 28s\n",
      "621:\tlearn: 1040.4677634\ttotal: 2m 24s\tremaining: 1m 27s\n",
      "622:\tlearn: 1040.4248232\ttotal: 2m 25s\tremaining: 1m 27s\n",
      "623:\tlearn: 1040.3807295\ttotal: 2m 25s\tremaining: 1m 27s\n",
      "624:\tlearn: 1040.3084741\ttotal: 2m 25s\tremaining: 1m 27s\n",
      "625:\tlearn: 1040.2629551\ttotal: 2m 25s\tremaining: 1m 27s\n",
      "626:\tlearn: 1040.1562487\ttotal: 2m 26s\tremaining: 1m 26s\n",
      "627:\tlearn: 1040.0663815\ttotal: 2m 26s\tremaining: 1m 26s\n",
      "628:\tlearn: 1040.0272692\ttotal: 2m 26s\tremaining: 1m 26s\n",
      "629:\tlearn: 1039.9029359\ttotal: 2m 26s\tremaining: 1m 26s\n",
      "630:\tlearn: 1039.8434090\ttotal: 2m 27s\tremaining: 1m 26s\n",
      "631:\tlearn: 1039.8118591\ttotal: 2m 27s\tremaining: 1m 25s\n",
      "632:\tlearn: 1039.7146218\ttotal: 2m 27s\tremaining: 1m 25s\n",
      "633:\tlearn: 1039.6457828\ttotal: 2m 27s\tremaining: 1m 25s\n",
      "634:\tlearn: 1039.6264975\ttotal: 2m 28s\tremaining: 1m 25s\n",
      "635:\tlearn: 1039.5351481\ttotal: 2m 28s\tremaining: 1m 24s\n",
      "636:\tlearn: 1039.4658033\ttotal: 2m 28s\tremaining: 1m 24s\n",
      "637:\tlearn: 1039.3429282\ttotal: 2m 28s\tremaining: 1m 24s\n",
      "638:\tlearn: 1039.2893785\ttotal: 2m 29s\tremaining: 1m 24s\n",
      "639:\tlearn: 1039.2292099\ttotal: 2m 29s\tremaining: 1m 24s\n",
      "640:\tlearn: 1039.1056438\ttotal: 2m 29s\tremaining: 1m 23s\n",
      "641:\tlearn: 1039.0617691\ttotal: 2m 30s\tremaining: 1m 23s\n",
      "642:\tlearn: 1039.0414104\ttotal: 2m 30s\tremaining: 1m 23s\n",
      "643:\tlearn: 1039.0405970\ttotal: 2m 30s\tremaining: 1m 23s\n",
      "644:\tlearn: 1038.9215560\ttotal: 2m 30s\tremaining: 1m 22s\n",
      "645:\tlearn: 1038.7580477\ttotal: 2m 30s\tremaining: 1m 22s\n",
      "646:\tlearn: 1038.7002424\ttotal: 2m 31s\tremaining: 1m 22s\n",
      "647:\tlearn: 1038.5849932\ttotal: 2m 31s\tremaining: 1m 22s\n",
      "648:\tlearn: 1038.5571866\ttotal: 2m 31s\tremaining: 1m 21s\n",
      "649:\tlearn: 1038.5047047\ttotal: 2m 31s\tremaining: 1m 21s\n",
      "650:\tlearn: 1038.4787558\ttotal: 2m 32s\tremaining: 1m 21s\n",
      "651:\tlearn: 1038.4481842\ttotal: 2m 32s\tremaining: 1m 21s\n",
      "652:\tlearn: 1038.3726497\ttotal: 2m 32s\tremaining: 1m 21s\n",
      "653:\tlearn: 1038.2776384\ttotal: 2m 32s\tremaining: 1m 20s\n",
      "654:\tlearn: 1038.1935182\ttotal: 2m 33s\tremaining: 1m 20s\n",
      "655:\tlearn: 1038.1869206\ttotal: 2m 33s\tremaining: 1m 20s\n",
      "656:\tlearn: 1038.1414311\ttotal: 2m 33s\tremaining: 1m 20s\n",
      "657:\tlearn: 1037.9959810\ttotal: 2m 33s\tremaining: 1m 19s\n",
      "658:\tlearn: 1037.9307270\ttotal: 2m 34s\tremaining: 1m 19s\n",
      "659:\tlearn: 1037.9104931\ttotal: 2m 34s\tremaining: 1m 19s\n",
      "660:\tlearn: 1037.8257033\ttotal: 2m 34s\tremaining: 1m 19s\n",
      "661:\tlearn: 1037.7756928\ttotal: 2m 34s\tremaining: 1m 19s\n",
      "662:\tlearn: 1037.7736231\ttotal: 2m 35s\tremaining: 1m 18s\n",
      "663:\tlearn: 1037.6702542\ttotal: 2m 35s\tremaining: 1m 18s\n",
      "664:\tlearn: 1037.5771550\ttotal: 2m 36s\tremaining: 1m 18s\n",
      "665:\tlearn: 1037.5173859\ttotal: 2m 36s\tremaining: 1m 18s\n",
      "666:\tlearn: 1037.4922992\ttotal: 2m 36s\tremaining: 1m 18s\n",
      "667:\tlearn: 1037.3573131\ttotal: 2m 36s\tremaining: 1m 17s\n",
      "668:\tlearn: 1037.1541771\ttotal: 2m 37s\tremaining: 1m 17s\n",
      "669:\tlearn: 1037.0584018\ttotal: 2m 37s\tremaining: 1m 17s\n",
      "670:\tlearn: 1036.9610776\ttotal: 2m 37s\tremaining: 1m 17s\n",
      "671:\tlearn: 1036.9476390\ttotal: 2m 37s\tremaining: 1m 17s\n",
      "672:\tlearn: 1036.8786687\ttotal: 2m 38s\tremaining: 1m 16s\n",
      "673:\tlearn: 1036.8341576\ttotal: 2m 38s\tremaining: 1m 16s\n",
      "674:\tlearn: 1036.8034467\ttotal: 2m 38s\tremaining: 1m 16s\n",
      "675:\tlearn: 1036.7618812\ttotal: 2m 38s\tremaining: 1m 16s\n",
      "676:\tlearn: 1036.7119187\ttotal: 2m 39s\tremaining: 1m 16s\n",
      "677:\tlearn: 1036.6736416\ttotal: 2m 39s\tremaining: 1m 15s\n",
      "678:\tlearn: 1036.5362877\ttotal: 2m 39s\tremaining: 1m 15s\n",
      "679:\tlearn: 1036.5192447\ttotal: 2m 40s\tremaining: 1m 15s\n",
      "680:\tlearn: 1036.4751853\ttotal: 2m 40s\tremaining: 1m 15s\n",
      "681:\tlearn: 1036.4276256\ttotal: 2m 40s\tremaining: 1m 14s\n",
      "682:\tlearn: 1036.3140087\ttotal: 2m 40s\tremaining: 1m 14s\n",
      "683:\tlearn: 1036.2818614\ttotal: 2m 41s\tremaining: 1m 14s\n",
      "684:\tlearn: 1036.1897831\ttotal: 2m 41s\tremaining: 1m 14s\n",
      "685:\tlearn: 1036.1038562\ttotal: 2m 41s\tremaining: 1m 14s\n",
      "686:\tlearn: 1036.0049213\ttotal: 2m 42s\tremaining: 1m 13s\n",
      "687:\tlearn: 1035.9632307\ttotal: 2m 42s\tremaining: 1m 13s\n",
      "688:\tlearn: 1035.9037788\ttotal: 2m 42s\tremaining: 1m 13s\n",
      "689:\tlearn: 1035.8740065\ttotal: 2m 42s\tremaining: 1m 13s\n",
      "690:\tlearn: 1035.7707480\ttotal: 2m 43s\tremaining: 1m 12s\n",
      "691:\tlearn: 1035.6934011\ttotal: 2m 43s\tremaining: 1m 12s\n",
      "692:\tlearn: 1035.6331660\ttotal: 2m 43s\tremaining: 1m 12s\n",
      "693:\tlearn: 1035.5818005\ttotal: 2m 43s\tremaining: 1m 12s\n",
      "694:\tlearn: 1035.5384202\ttotal: 2m 43s\tremaining: 1m 11s\n",
      "695:\tlearn: 1035.4984155\ttotal: 2m 44s\tremaining: 1m 11s\n",
      "696:\tlearn: 1035.4172329\ttotal: 2m 44s\tremaining: 1m 11s\n",
      "697:\tlearn: 1035.3472488\ttotal: 2m 44s\tremaining: 1m 11s\n",
      "698:\tlearn: 1035.2850983\ttotal: 2m 44s\tremaining: 1m 10s\n",
      "699:\tlearn: 1035.2358944\ttotal: 2m 44s\tremaining: 1m 10s\n",
      "700:\tlearn: 1035.2151590\ttotal: 2m 45s\tremaining: 1m 10s\n",
      "701:\tlearn: 1035.1931815\ttotal: 2m 45s\tremaining: 1m 10s\n",
      "702:\tlearn: 1035.1411921\ttotal: 2m 45s\tremaining: 1m 9s\n",
      "703:\tlearn: 1035.0965787\ttotal: 2m 45s\tremaining: 1m 9s\n",
      "704:\tlearn: 1035.0835595\ttotal: 2m 45s\tremaining: 1m 9s\n",
      "705:\tlearn: 1034.9336022\ttotal: 2m 46s\tremaining: 1m 9s\n",
      "706:\tlearn: 1034.8928086\ttotal: 2m 46s\tremaining: 1m 8s\n",
      "707:\tlearn: 1034.8641321\ttotal: 2m 46s\tremaining: 1m 8s\n",
      "708:\tlearn: 1034.7993212\ttotal: 2m 46s\tremaining: 1m 8s\n",
      "709:\tlearn: 1034.7061228\ttotal: 2m 47s\tremaining: 1m 8s\n",
      "710:\tlearn: 1034.6371573\ttotal: 2m 47s\tremaining: 1m 7s\n",
      "711:\tlearn: 1034.6019689\ttotal: 2m 47s\tremaining: 1m 7s\n",
      "712:\tlearn: 1034.5344638\ttotal: 2m 47s\tremaining: 1m 7s\n",
      "713:\tlearn: 1034.4941292\ttotal: 2m 47s\tremaining: 1m 7s\n",
      "714:\tlearn: 1034.3613647\ttotal: 2m 47s\tremaining: 1m 6s\n",
      "715:\tlearn: 1034.3053484\ttotal: 2m 48s\tremaining: 1m 6s\n",
      "716:\tlearn: 1034.1682970\ttotal: 2m 48s\tremaining: 1m 6s\n",
      "717:\tlearn: 1034.1245657\ttotal: 2m 48s\tremaining: 1m 6s\n",
      "718:\tlearn: 1034.0958465\ttotal: 2m 48s\tremaining: 1m 5s\n",
      "719:\tlearn: 1034.0077215\ttotal: 2m 48s\tremaining: 1m 5s\n",
      "720:\tlearn: 1033.8592624\ttotal: 2m 48s\tremaining: 1m 5s\n",
      "721:\tlearn: 1033.7497103\ttotal: 2m 49s\tremaining: 1m 5s\n",
      "722:\tlearn: 1033.6853947\ttotal: 2m 49s\tremaining: 1m 4s\n",
      "723:\tlearn: 1033.6827579\ttotal: 2m 49s\tremaining: 1m 4s\n",
      "724:\tlearn: 1033.6719417\ttotal: 2m 49s\tremaining: 1m 4s\n",
      "725:\tlearn: 1033.5263770\ttotal: 2m 49s\tremaining: 1m 4s\n",
      "726:\tlearn: 1033.4914467\ttotal: 2m 49s\tremaining: 1m 3s\n",
      "727:\tlearn: 1033.4443537\ttotal: 2m 50s\tremaining: 1m 3s\n",
      "728:\tlearn: 1033.3996433\ttotal: 2m 50s\tremaining: 1m 3s\n",
      "729:\tlearn: 1033.3769000\ttotal: 2m 50s\tremaining: 1m 3s\n",
      "730:\tlearn: 1033.3093015\ttotal: 2m 50s\tremaining: 1m 2s\n",
      "731:\tlearn: 1033.2132593\ttotal: 2m 50s\tremaining: 1m 2s\n",
      "732:\tlearn: 1033.1751644\ttotal: 2m 50s\tremaining: 1m 2s\n",
      "733:\tlearn: 1033.1610273\ttotal: 2m 51s\tremaining: 1m 2s\n",
      "734:\tlearn: 1033.1429072\ttotal: 2m 51s\tremaining: 1m 1s\n",
      "735:\tlearn: 1033.0105685\ttotal: 2m 51s\tremaining: 1m 1s\n",
      "736:\tlearn: 1032.9981408\ttotal: 2m 51s\tremaining: 1m 1s\n",
      "737:\tlearn: 1032.8783984\ttotal: 2m 52s\tremaining: 1m 1s\n",
      "738:\tlearn: 1032.8317841\ttotal: 2m 52s\tremaining: 1m\n",
      "739:\tlearn: 1032.7783621\ttotal: 2m 52s\tremaining: 1m\n",
      "740:\tlearn: 1032.7555260\ttotal: 2m 52s\tremaining: 1m\n",
      "741:\tlearn: 1032.7345334\ttotal: 2m 52s\tremaining: 1m\n",
      "742:\tlearn: 1032.6613393\ttotal: 2m 52s\tremaining: 59.8s\n",
      "743:\tlearn: 1032.6489276\ttotal: 2m 53s\tremaining: 59.6s\n",
      "744:\tlearn: 1032.6105995\ttotal: 2m 53s\tremaining: 59.4s\n",
      "745:\tlearn: 1032.5469937\ttotal: 2m 53s\tremaining: 59.1s\n",
      "746:\tlearn: 1032.4980388\ttotal: 2m 53s\tremaining: 58.9s\n",
      "747:\tlearn: 1032.4010575\ttotal: 2m 53s\tremaining: 58.6s\n",
      "748:\tlearn: 1032.3760072\ttotal: 2m 54s\tremaining: 58.4s\n",
      "749:\tlearn: 1032.3542109\ttotal: 2m 54s\tremaining: 58.1s\n",
      "750:\tlearn: 1032.2432068\ttotal: 2m 54s\tremaining: 57.9s\n",
      "751:\tlearn: 1032.1822505\ttotal: 2m 54s\tremaining: 57.6s\n",
      "752:\tlearn: 1032.1517964\ttotal: 2m 54s\tremaining: 57.4s\n",
      "753:\tlearn: 1032.0653193\ttotal: 2m 55s\tremaining: 57.1s\n",
      "754:\tlearn: 1032.0071381\ttotal: 2m 55s\tremaining: 56.9s\n",
      "755:\tlearn: 1031.9225929\ttotal: 2m 55s\tremaining: 56.7s\n",
      "756:\tlearn: 1031.8919528\ttotal: 2m 55s\tremaining: 56.5s\n",
      "757:\tlearn: 1031.8697590\ttotal: 2m 56s\tremaining: 56.2s\n",
      "758:\tlearn: 1031.8040330\ttotal: 2m 56s\tremaining: 56s\n",
      "759:\tlearn: 1031.7930179\ttotal: 2m 56s\tremaining: 55.8s\n",
      "760:\tlearn: 1031.7865902\ttotal: 2m 56s\tremaining: 55.5s\n",
      "761:\tlearn: 1031.7422858\ttotal: 2m 56s\tremaining: 55.2s\n",
      "762:\tlearn: 1031.7222641\ttotal: 2m 57s\tremaining: 55.1s\n",
      "763:\tlearn: 1031.6025257\ttotal: 2m 57s\tremaining: 54.8s\n",
      "764:\tlearn: 1031.5488515\ttotal: 2m 57s\tremaining: 54.6s\n",
      "765:\tlearn: 1031.4628983\ttotal: 2m 57s\tremaining: 54.4s\n",
      "766:\tlearn: 1031.4208057\ttotal: 2m 58s\tremaining: 54.1s\n",
      "767:\tlearn: 1031.3799149\ttotal: 2m 58s\tremaining: 53.9s\n",
      "768:\tlearn: 1031.3458466\ttotal: 2m 58s\tremaining: 53.7s\n",
      "769:\tlearn: 1031.2226179\ttotal: 2m 58s\tremaining: 53.4s\n",
      "770:\tlearn: 1031.1989654\ttotal: 2m 59s\tremaining: 53.2s\n",
      "771:\tlearn: 1031.1470581\ttotal: 2m 59s\tremaining: 53s\n",
      "772:\tlearn: 1031.0847183\ttotal: 2m 59s\tremaining: 52.8s\n",
      "773:\tlearn: 1031.0315542\ttotal: 2m 59s\tremaining: 52.5s\n",
      "774:\tlearn: 1031.0065396\ttotal: 3m\tremaining: 52.3s\n",
      "775:\tlearn: 1030.9801371\ttotal: 3m\tremaining: 52.1s\n",
      "776:\tlearn: 1030.9339475\ttotal: 3m\tremaining: 51.9s\n",
      "777:\tlearn: 1030.8936739\ttotal: 3m 1s\tremaining: 51.8s\n",
      "778:\tlearn: 1030.8659893\ttotal: 3m 2s\tremaining: 51.6s\n",
      "779:\tlearn: 1030.8001976\ttotal: 3m 2s\tremaining: 51.5s\n",
      "780:\tlearn: 1030.7711713\ttotal: 3m 2s\tremaining: 51.3s\n",
      "781:\tlearn: 1030.7481699\ttotal: 3m 3s\tremaining: 51s\n",
      "782:\tlearn: 1030.7165823\ttotal: 3m 3s\tremaining: 50.8s\n",
      "783:\tlearn: 1030.5431808\ttotal: 3m 3s\tremaining: 50.6s\n",
      "784:\tlearn: 1030.5302127\ttotal: 3m 4s\tremaining: 50.4s\n",
      "785:\tlearn: 1030.5007782\ttotal: 3m 4s\tremaining: 50.2s\n",
      "786:\tlearn: 1030.4035982\ttotal: 3m 4s\tremaining: 50s\n",
      "787:\tlearn: 1030.3489442\ttotal: 3m 5s\tremaining: 49.8s\n",
      "788:\tlearn: 1030.1852770\ttotal: 3m 5s\tremaining: 49.6s\n",
      "789:\tlearn: 1030.1103733\ttotal: 3m 5s\tremaining: 49.4s\n",
      "790:\tlearn: 1030.0693128\ttotal: 3m 6s\tremaining: 49.2s\n",
      "791:\tlearn: 1029.9689931\ttotal: 3m 6s\tremaining: 48.9s\n",
      "792:\tlearn: 1029.8562992\ttotal: 3m 6s\tremaining: 48.7s\n",
      "793:\tlearn: 1029.7748807\ttotal: 3m 6s\tremaining: 48.5s\n",
      "794:\tlearn: 1029.7146293\ttotal: 3m 7s\tremaining: 48.2s\n",
      "795:\tlearn: 1029.6958080\ttotal: 3m 7s\tremaining: 48s\n",
      "796:\tlearn: 1029.6628483\ttotal: 3m 7s\tremaining: 47.7s\n",
      "797:\tlearn: 1029.6222867\ttotal: 3m 7s\tremaining: 47.5s\n",
      "798:\tlearn: 1029.5764142\ttotal: 3m 7s\tremaining: 47.3s\n",
      "799:\tlearn: 1029.5519521\ttotal: 3m 8s\tremaining: 47s\n",
      "800:\tlearn: 1029.5265074\ttotal: 3m 8s\tremaining: 46.8s\n",
      "801:\tlearn: 1029.4318526\ttotal: 3m 8s\tremaining: 46.6s\n",
      "802:\tlearn: 1029.4081183\ttotal: 3m 8s\tremaining: 46.3s\n",
      "803:\tlearn: 1029.3273349\ttotal: 3m 9s\tremaining: 46.1s\n",
      "804:\tlearn: 1029.2803480\ttotal: 3m 9s\tremaining: 45.8s\n",
      "805:\tlearn: 1029.2525025\ttotal: 3m 9s\tremaining: 45.6s\n",
      "806:\tlearn: 1029.2406990\ttotal: 3m 9s\tremaining: 45.4s\n",
      "807:\tlearn: 1029.1486410\ttotal: 3m 9s\tremaining: 45.1s\n",
      "808:\tlearn: 1029.1269159\ttotal: 3m 10s\tremaining: 44.9s\n",
      "809:\tlearn: 1029.0899214\ttotal: 3m 10s\tremaining: 44.7s\n",
      "810:\tlearn: 1029.0195519\ttotal: 3m 10s\tremaining: 44.4s\n",
      "811:\tlearn: 1028.9823493\ttotal: 3m 10s\tremaining: 44.2s\n",
      "812:\tlearn: 1028.9296263\ttotal: 3m 10s\tremaining: 43.9s\n",
      "813:\tlearn: 1028.9009604\ttotal: 3m 11s\tremaining: 43.7s\n",
      "814:\tlearn: 1028.8510666\ttotal: 3m 11s\tremaining: 43.4s\n",
      "815:\tlearn: 1028.8338752\ttotal: 3m 11s\tremaining: 43.2s\n",
      "816:\tlearn: 1028.7582138\ttotal: 3m 11s\tremaining: 43s\n",
      "817:\tlearn: 1028.7363250\ttotal: 3m 12s\tremaining: 42.7s\n",
      "818:\tlearn: 1028.6965914\ttotal: 3m 12s\tremaining: 42.5s\n",
      "819:\tlearn: 1028.6677097\ttotal: 3m 12s\tremaining: 42.3s\n",
      "820:\tlearn: 1028.6380144\ttotal: 3m 12s\tremaining: 42s\n",
      "821:\tlearn: 1028.6151155\ttotal: 3m 12s\tremaining: 41.8s\n",
      "822:\tlearn: 1028.5877237\ttotal: 3m 13s\tremaining: 41.6s\n",
      "823:\tlearn: 1028.5649250\ttotal: 3m 13s\tremaining: 41.3s\n",
      "824:\tlearn: 1028.5239888\ttotal: 3m 13s\tremaining: 41.1s\n",
      "825:\tlearn: 1028.5050494\ttotal: 3m 14s\tremaining: 40.9s\n",
      "826:\tlearn: 1028.4414023\ttotal: 3m 14s\tremaining: 40.7s\n",
      "827:\tlearn: 1028.4105369\ttotal: 3m 14s\tremaining: 40.5s\n",
      "828:\tlearn: 1028.3746388\ttotal: 3m 15s\tremaining: 40.3s\n",
      "829:\tlearn: 1028.3194354\ttotal: 3m 15s\tremaining: 40.1s\n",
      "830:\tlearn: 1028.2936077\ttotal: 3m 16s\tremaining: 39.9s\n",
      "831:\tlearn: 1028.2601290\ttotal: 3m 16s\tremaining: 39.7s\n",
      "832:\tlearn: 1028.2534654\ttotal: 3m 17s\tremaining: 39.5s\n",
      "833:\tlearn: 1028.0889406\ttotal: 3m 17s\tremaining: 39.3s\n",
      "834:\tlearn: 1028.0351302\ttotal: 3m 17s\tremaining: 39s\n",
      "835:\tlearn: 1028.0287898\ttotal: 3m 17s\tremaining: 38.8s\n",
      "836:\tlearn: 1027.9992479\ttotal: 3m 17s\tremaining: 38.5s\n",
      "837:\tlearn: 1027.9700309\ttotal: 3m 18s\tremaining: 38.3s\n",
      "838:\tlearn: 1027.9544172\ttotal: 3m 18s\tremaining: 38.1s\n",
      "839:\tlearn: 1027.8960907\ttotal: 3m 18s\tremaining: 37.9s\n",
      "840:\tlearn: 1027.8196179\ttotal: 3m 19s\tremaining: 37.6s\n",
      "841:\tlearn: 1027.8066903\ttotal: 3m 19s\tremaining: 37.4s\n",
      "842:\tlearn: 1027.7077006\ttotal: 3m 19s\tremaining: 37.2s\n",
      "843:\tlearn: 1027.6158256\ttotal: 3m 20s\tremaining: 37s\n",
      "844:\tlearn: 1027.6116830\ttotal: 3m 20s\tremaining: 36.8s\n",
      "845:\tlearn: 1027.5391501\ttotal: 3m 20s\tremaining: 36.6s\n",
      "846:\tlearn: 1027.4899418\ttotal: 3m 21s\tremaining: 36.3s\n",
      "847:\tlearn: 1027.4679906\ttotal: 3m 21s\tremaining: 36.1s\n",
      "848:\tlearn: 1027.4356783\ttotal: 3m 21s\tremaining: 35.8s\n",
      "849:\tlearn: 1027.3880181\ttotal: 3m 21s\tremaining: 35.6s\n",
      "850:\tlearn: 1027.3271114\ttotal: 3m 21s\tremaining: 35.3s\n",
      "851:\tlearn: 1027.3089570\ttotal: 3m 22s\tremaining: 35.1s\n",
      "852:\tlearn: 1027.2985099\ttotal: 3m 22s\tremaining: 34.9s\n",
      "853:\tlearn: 1027.2560199\ttotal: 3m 22s\tremaining: 34.6s\n",
      "854:\tlearn: 1027.2256701\ttotal: 3m 22s\tremaining: 34.4s\n",
      "855:\tlearn: 1027.2122013\ttotal: 3m 22s\tremaining: 34.1s\n",
      "856:\tlearn: 1027.1785140\ttotal: 3m 23s\tremaining: 33.9s\n",
      "857:\tlearn: 1027.1563604\ttotal: 3m 23s\tremaining: 33.6s\n",
      "858:\tlearn: 1027.1233486\ttotal: 3m 23s\tremaining: 33.4s\n",
      "859:\tlearn: 1027.0066093\ttotal: 3m 23s\tremaining: 33.1s\n",
      "860:\tlearn: 1026.9709773\ttotal: 3m 23s\tremaining: 32.9s\n",
      "861:\tlearn: 1026.9329806\ttotal: 3m 23s\tremaining: 32.7s\n",
      "862:\tlearn: 1026.8082101\ttotal: 3m 24s\tremaining: 32.4s\n",
      "863:\tlearn: 1026.7582821\ttotal: 3m 24s\tremaining: 32.2s\n",
      "864:\tlearn: 1026.7268029\ttotal: 3m 24s\tremaining: 31.9s\n",
      "865:\tlearn: 1026.6945479\ttotal: 3m 24s\tremaining: 31.7s\n",
      "866:\tlearn: 1026.6398424\ttotal: 3m 25s\tremaining: 31.5s\n",
      "867:\tlearn: 1026.6039854\ttotal: 3m 25s\tremaining: 31.2s\n",
      "868:\tlearn: 1026.5754471\ttotal: 3m 25s\tremaining: 31s\n",
      "869:\tlearn: 1026.5123926\ttotal: 3m 25s\tremaining: 30.7s\n",
      "870:\tlearn: 1026.4568387\ttotal: 3m 25s\tremaining: 30.5s\n",
      "871:\tlearn: 1026.3489033\ttotal: 3m 26s\tremaining: 30.3s\n",
      "872:\tlearn: 1026.3394000\ttotal: 3m 26s\tremaining: 30s\n",
      "873:\tlearn: 1026.3350121\ttotal: 3m 26s\tremaining: 29.8s\n",
      "874:\tlearn: 1026.3025739\ttotal: 3m 26s\tremaining: 29.5s\n",
      "875:\tlearn: 1026.2771457\ttotal: 3m 27s\tremaining: 29.3s\n",
      "876:\tlearn: 1026.2543958\ttotal: 3m 27s\tremaining: 29.1s\n",
      "877:\tlearn: 1026.2053673\ttotal: 3m 27s\tremaining: 28.8s\n",
      "878:\tlearn: 1026.1780728\ttotal: 3m 27s\tremaining: 28.6s\n",
      "879:\tlearn: 1026.1159823\ttotal: 3m 27s\tremaining: 28.3s\n",
      "880:\tlearn: 1026.0646552\ttotal: 3m 28s\tremaining: 28.1s\n",
      "881:\tlearn: 1025.9920891\ttotal: 3m 28s\tremaining: 27.9s\n",
      "882:\tlearn: 1025.9568593\ttotal: 3m 28s\tremaining: 27.6s\n",
      "883:\tlearn: 1025.9051556\ttotal: 3m 28s\tremaining: 27.4s\n",
      "884:\tlearn: 1025.8667153\ttotal: 3m 28s\tremaining: 27.1s\n",
      "885:\tlearn: 1025.8226672\ttotal: 3m 29s\tremaining: 26.9s\n",
      "886:\tlearn: 1025.7472697\ttotal: 3m 29s\tremaining: 26.7s\n",
      "887:\tlearn: 1025.7353156\ttotal: 3m 29s\tremaining: 26.4s\n",
      "888:\tlearn: 1025.6632685\ttotal: 3m 29s\tremaining: 26.2s\n",
      "889:\tlearn: 1025.6439498\ttotal: 3m 30s\tremaining: 26s\n",
      "890:\tlearn: 1025.6060253\ttotal: 3m 30s\tremaining: 25.7s\n",
      "891:\tlearn: 1025.5712835\ttotal: 3m 30s\tremaining: 25.5s\n",
      "892:\tlearn: 1025.4951243\ttotal: 3m 30s\tremaining: 25.2s\n",
      "893:\tlearn: 1025.4710485\ttotal: 3m 30s\tremaining: 25s\n",
      "894:\tlearn: 1025.3579617\ttotal: 3m 31s\tremaining: 24.8s\n",
      "895:\tlearn: 1025.2912177\ttotal: 3m 31s\tremaining: 24.5s\n",
      "896:\tlearn: 1025.2115211\ttotal: 3m 31s\tremaining: 24.3s\n",
      "897:\tlearn: 1025.1002401\ttotal: 3m 31s\tremaining: 24s\n",
      "898:\tlearn: 1025.0338409\ttotal: 3m 31s\tremaining: 23.8s\n",
      "899:\tlearn: 1025.0007903\ttotal: 3m 32s\tremaining: 23.6s\n",
      "900:\tlearn: 1024.9428863\ttotal: 3m 32s\tremaining: 23.3s\n",
      "901:\tlearn: 1024.8979754\ttotal: 3m 32s\tremaining: 23.1s\n",
      "902:\tlearn: 1024.8730660\ttotal: 3m 32s\tremaining: 22.9s\n",
      "903:\tlearn: 1024.8618789\ttotal: 3m 32s\tremaining: 22.6s\n",
      "904:\tlearn: 1024.8237936\ttotal: 3m 33s\tremaining: 22.4s\n",
      "905:\tlearn: 1024.7792827\ttotal: 3m 33s\tremaining: 22.1s\n",
      "906:\tlearn: 1024.7406284\ttotal: 3m 33s\tremaining: 21.9s\n",
      "907:\tlearn: 1024.6483740\ttotal: 3m 33s\tremaining: 21.7s\n",
      "908:\tlearn: 1024.6402361\ttotal: 3m 34s\tremaining: 21.4s\n",
      "909:\tlearn: 1024.5648914\ttotal: 3m 34s\tremaining: 21.2s\n",
      "910:\tlearn: 1024.5356901\ttotal: 3m 34s\tremaining: 21s\n",
      "911:\tlearn: 1024.5081623\ttotal: 3m 34s\tremaining: 20.7s\n",
      "912:\tlearn: 1024.4609794\ttotal: 3m 35s\tremaining: 20.5s\n",
      "913:\tlearn: 1024.4112317\ttotal: 3m 35s\tremaining: 20.3s\n",
      "914:\tlearn: 1024.3001204\ttotal: 3m 35s\tremaining: 20s\n",
      "915:\tlearn: 1024.2152909\ttotal: 3m 35s\tremaining: 19.8s\n",
      "916:\tlearn: 1024.1873626\ttotal: 3m 35s\tremaining: 19.5s\n",
      "917:\tlearn: 1024.1808123\ttotal: 3m 35s\tremaining: 19.3s\n",
      "918:\tlearn: 1024.0970262\ttotal: 3m 36s\tremaining: 19.1s\n",
      "919:\tlearn: 1024.0773477\ttotal: 3m 36s\tremaining: 18.8s\n",
      "920:\tlearn: 1024.0731977\ttotal: 3m 36s\tremaining: 18.6s\n",
      "921:\tlearn: 1024.0689629\ttotal: 3m 36s\tremaining: 18.3s\n",
      "922:\tlearn: 1024.0198497\ttotal: 3m 36s\tremaining: 18.1s\n",
      "923:\tlearn: 1023.9934916\ttotal: 3m 37s\tremaining: 17.9s\n",
      "924:\tlearn: 1023.9183437\ttotal: 3m 37s\tremaining: 17.6s\n",
      "925:\tlearn: 1023.8995410\ttotal: 3m 37s\tremaining: 17.4s\n",
      "926:\tlearn: 1023.8646088\ttotal: 3m 37s\tremaining: 17.1s\n",
      "927:\tlearn: 1023.7597954\ttotal: 3m 37s\tremaining: 16.9s\n",
      "928:\tlearn: 1023.7356203\ttotal: 3m 38s\tremaining: 16.7s\n",
      "929:\tlearn: 1023.6541222\ttotal: 3m 38s\tremaining: 16.4s\n",
      "930:\tlearn: 1023.6540156\ttotal: 3m 38s\tremaining: 16.2s\n",
      "931:\tlearn: 1023.6326501\ttotal: 3m 38s\tremaining: 16s\n",
      "932:\tlearn: 1023.6029835\ttotal: 3m 39s\tremaining: 15.7s\n",
      "933:\tlearn: 1023.5301316\ttotal: 3m 39s\tremaining: 15.5s\n",
      "934:\tlearn: 1023.4864858\ttotal: 3m 39s\tremaining: 15.3s\n",
      "935:\tlearn: 1023.4489304\ttotal: 3m 39s\tremaining: 15s\n",
      "936:\tlearn: 1023.3623530\ttotal: 3m 39s\tremaining: 14.8s\n",
      "937:\tlearn: 1023.3196549\ttotal: 3m 40s\tremaining: 14.5s\n",
      "938:\tlearn: 1023.2661966\ttotal: 3m 40s\tremaining: 14.3s\n",
      "939:\tlearn: 1023.2376613\ttotal: 3m 40s\tremaining: 14.1s\n",
      "940:\tlearn: 1023.2188231\ttotal: 3m 40s\tremaining: 13.8s\n",
      "941:\tlearn: 1023.1488772\ttotal: 3m 40s\tremaining: 13.6s\n",
      "942:\tlearn: 1023.1137319\ttotal: 3m 41s\tremaining: 13.4s\n",
      "943:\tlearn: 1023.0838834\ttotal: 3m 41s\tremaining: 13.1s\n",
      "944:\tlearn: 1023.0726838\ttotal: 3m 41s\tremaining: 12.9s\n",
      "945:\tlearn: 1023.0238268\ttotal: 3m 41s\tremaining: 12.7s\n",
      "946:\tlearn: 1022.9409233\ttotal: 3m 42s\tremaining: 12.4s\n",
      "947:\tlearn: 1022.9251475\ttotal: 3m 42s\tremaining: 12.2s\n",
      "948:\tlearn: 1022.8493453\ttotal: 3m 42s\tremaining: 12s\n",
      "949:\tlearn: 1022.8112365\ttotal: 3m 42s\tremaining: 11.7s\n",
      "950:\tlearn: 1022.6969795\ttotal: 3m 43s\tremaining: 11.5s\n",
      "951:\tlearn: 1022.5617037\ttotal: 3m 43s\tremaining: 11.3s\n",
      "952:\tlearn: 1022.5219541\ttotal: 3m 43s\tremaining: 11s\n",
      "953:\tlearn: 1022.5074553\ttotal: 3m 43s\tremaining: 10.8s\n",
      "954:\tlearn: 1022.4960528\ttotal: 3m 43s\tremaining: 10.5s\n",
      "955:\tlearn: 1022.4887296\ttotal: 3m 44s\tremaining: 10.3s\n",
      "956:\tlearn: 1022.4817881\ttotal: 3m 44s\tremaining: 10.1s\n",
      "957:\tlearn: 1022.4102197\ttotal: 3m 44s\tremaining: 9.84s\n",
      "958:\tlearn: 1022.3849059\ttotal: 3m 44s\tremaining: 9.61s\n",
      "959:\tlearn: 1022.3516887\ttotal: 3m 45s\tremaining: 9.38s\n",
      "960:\tlearn: 1022.2880543\ttotal: 3m 45s\tremaining: 9.14s\n",
      "961:\tlearn: 1022.2754537\ttotal: 3m 45s\tremaining: 8.9s\n",
      "962:\tlearn: 1022.2494220\ttotal: 3m 45s\tremaining: 8.67s\n",
      "963:\tlearn: 1022.2054738\ttotal: 3m 45s\tremaining: 8.43s\n",
      "964:\tlearn: 1022.1772485\ttotal: 3m 45s\tremaining: 8.19s\n",
      "965:\tlearn: 1022.1665887\ttotal: 3m 46s\tremaining: 7.96s\n",
      "966:\tlearn: 1022.1164097\ttotal: 3m 46s\tremaining: 7.73s\n",
      "967:\tlearn: 1022.0323491\ttotal: 3m 46s\tremaining: 7.49s\n",
      "968:\tlearn: 1021.9920312\ttotal: 3m 46s\tremaining: 7.26s\n",
      "969:\tlearn: 1021.9213640\ttotal: 3m 47s\tremaining: 7.02s\n",
      "970:\tlearn: 1021.8379212\ttotal: 3m 47s\tremaining: 6.79s\n",
      "971:\tlearn: 1021.8145799\ttotal: 3m 47s\tremaining: 6.55s\n",
      "972:\tlearn: 1021.7689542\ttotal: 3m 47s\tremaining: 6.32s\n",
      "973:\tlearn: 1021.7646826\ttotal: 3m 48s\tremaining: 6.09s\n",
      "974:\tlearn: 1021.7068454\ttotal: 3m 48s\tremaining: 5.85s\n",
      "975:\tlearn: 1021.6357299\ttotal: 3m 48s\tremaining: 5.62s\n",
      "976:\tlearn: 1021.4681889\ttotal: 3m 48s\tremaining: 5.38s\n",
      "977:\tlearn: 1021.3662224\ttotal: 3m 48s\tremaining: 5.15s\n",
      "978:\tlearn: 1021.3048778\ttotal: 3m 49s\tremaining: 4.92s\n",
      "979:\tlearn: 1021.2331134\ttotal: 3m 49s\tremaining: 4.68s\n",
      "980:\tlearn: 1021.1108624\ttotal: 3m 49s\tremaining: 4.45s\n",
      "981:\tlearn: 1021.0463829\ttotal: 3m 49s\tremaining: 4.21s\n",
      "982:\tlearn: 1020.9647143\ttotal: 3m 50s\tremaining: 3.98s\n",
      "983:\tlearn: 1020.8853256\ttotal: 3m 50s\tremaining: 3.74s\n",
      "984:\tlearn: 1020.8186488\ttotal: 3m 50s\tremaining: 3.51s\n",
      "985:\tlearn: 1020.7286590\ttotal: 3m 50s\tremaining: 3.27s\n",
      "986:\tlearn: 1020.6583024\ttotal: 3m 50s\tremaining: 3.04s\n",
      "987:\tlearn: 1020.6279479\ttotal: 3m 50s\tremaining: 2.81s\n",
      "988:\tlearn: 1020.6184808\ttotal: 3m 51s\tremaining: 2.57s\n",
      "989:\tlearn: 1020.5960706\ttotal: 3m 51s\tremaining: 2.34s\n",
      "990:\tlearn: 1020.5710793\ttotal: 3m 51s\tremaining: 2.1s\n",
      "991:\tlearn: 1020.5253494\ttotal: 3m 51s\tremaining: 1.87s\n",
      "992:\tlearn: 1020.5130160\ttotal: 3m 51s\tremaining: 1.64s\n",
      "993:\tlearn: 1020.4766275\ttotal: 3m 52s\tremaining: 1.4s\n",
      "994:\tlearn: 1020.4496323\ttotal: 3m 52s\tremaining: 1.17s\n",
      "995:\tlearn: 1020.4201403\ttotal: 3m 52s\tremaining: 934ms\n",
      "996:\tlearn: 1020.3316292\ttotal: 3m 52s\tremaining: 701ms\n",
      "997:\tlearn: 1020.2897975\ttotal: 3m 53s\tremaining: 467ms\n",
      "998:\tlearn: 1020.2767966\ttotal: 3m 53s\tremaining: 233ms\n",
      "999:\tlearn: 1020.2471156\ttotal: 3m 53s\tremaining: 0us\n",
      "CPU times: total: 8min 39s\n",
      "Wall time: 3min 57s\n"
     ]
    },
    {
     "data": {
      "text/plain": "<catboost.core.CatBoostRegressor at 0x23a81c3b8b0>"
     },
     "execution_count": 78,
     "metadata": {},
     "output_type": "execute_result"
    }
   ],
   "source": [
    "%%time\n",
    "model_catboost = CatBoostRegressor(depth=5,\n",
    "                                     learning_rate=0.2, loss_function='RMSE')\n",
    "model_catboost.fit(features_train, target_train, cat_features=[\"VehicleType\",\"Gearbox\",\n",
    "                                                               \"Model\",\"FuelType\",\n",
    "                                                               \"Brand\",\"Repaired\"])\n"
   ],
   "metadata": {
    "collapsed": false,
    "pycharm": {
     "name": "#%%\n"
    }
   }
  },
  {
   "cell_type": "code",
   "execution_count": 79,
   "outputs": [
    {
     "name": "stdout",
     "output_type": "stream",
     "text": [
      "RMSE: 1020.1605653107846\n",
      "CPU times: total: 4.06 s\n",
      "Wall time: 2.01 s\n"
     ]
    }
   ],
   "source": [
    "%%time\n",
    "predictions_cat = model_catboost.predict(features_train)\n",
    "print('RMSE:', mean_squared_error(y_true=target_train, y_pred=predictions_cat, squared=False))"
   ],
   "metadata": {
    "collapsed": false,
    "pycharm": {
     "name": "#%%\n"
    }
   }
  },
  {
   "cell_type": "markdown",
   "source": [
    "### LinearRegression"
   ],
   "metadata": {
    "collapsed": false,
    "pycharm": {
     "name": "#%% md\n"
    }
   }
  },
  {
   "cell_type": "code",
   "execution_count": 80,
   "outputs": [],
   "source": [
    "lin_column_transformer = ColumnTransformer([('num', StandardScaler(), num_features), ('cat', OneHotEncoder(drop='first', handle_unknown='ignore'), cat_features)])\n",
    "lin_pipe = Pipeline([('ct', lin_column_transformer), ('model', LinearRegression())])"
   ],
   "metadata": {
    "collapsed": false,
    "pycharm": {
     "name": "#%%\n"
    }
   }
  },
  {
   "cell_type": "code",
   "execution_count": 81,
   "outputs": [
    {
     "name": "stderr",
     "output_type": "stream",
     "text": [
      "[Parallel(n_jobs=-1)]: Using backend LokyBackend with 4 concurrent workers.\n",
      "[Parallel(n_jobs=-1)]: Done   5 out of   5 | elapsed:   27.3s finished\n"
     ]
    },
    {
     "name": "stdout",
     "output_type": "stream",
     "text": [
      "Средняя оценка качества модели: -1709.9945931214265\n",
      "CPU times: total: 17.4 s\n",
      "Wall time: 37.3 s\n"
     ]
    }
   ],
   "source": [
    "%%time\n",
    "\n",
    "lin_pipe.fit(features_train, target_train)\n",
    "scores = cross_val_score(lin_pipe, features_train, target_train, cv=5, verbose=True, n_jobs=-1, scoring='neg_root_mean_squared_error')\n",
    "final_score = sum(scores) / len(scores)\n",
    "\n",
    "print('Средняя оценка качества модели:', final_score)"
   ],
   "metadata": {
    "collapsed": false,
    "pycharm": {
     "name": "#%%\n"
    }
   }
  },
  {
   "cell_type": "code",
   "execution_count": 82,
   "outputs": [
    {
     "name": "stdout",
     "output_type": "stream",
     "text": [
      "RMSE: 1705.8295258696883\n",
      "CPU times: total: 734 ms\n",
      "Wall time: 741 ms\n"
     ]
    }
   ],
   "source": [
    "%%time\n",
    "\n",
    "print('RMSE:', mean_squared_error(y_true=target_train, y_pred=lin_pipe.predict(features_train), squared=False))"
   ],
   "metadata": {
    "collapsed": false,
    "pycharm": {
     "name": "#%%\n"
    }
   }
  },
  {
   "cell_type": "markdown",
   "source": [
    "### RandomForest"
   ],
   "metadata": {
    "collapsed": false,
    "pycharm": {
     "name": "#%% md\n"
    }
   }
  },
  {
   "cell_type": "code",
   "execution_count": 83,
   "outputs": [],
   "source": [
    "forest_pipe = Pipeline([('ord', OrdinalEncoder(handle_unknown='use_encoded_value', unknown_value=-1)), ('model', RandomForestRegressor(random_state=12345, n_jobs=-1))])"
   ],
   "metadata": {
    "collapsed": false,
    "pycharm": {
     "name": "#%%\n"
    }
   }
  },
  {
   "cell_type": "code",
   "execution_count": 84,
   "outputs": [],
   "source": [
    "# params = {'model__max_depth': range (10, 41, 10), 'model__n_estimators': range(1, 11, 2)}\n",
    "# grid = GridSearchCV(forest_pipe, params, cv=5, scoring='neg_root_mean_squared_error', n_jobs=-1, verbose=10)\n",
    "# grid.fit(features_train, target_train)\n",
    "# print('Лучшие параметры:', grid.best_params_)\n",
    "# print('Лучший счет:', grid.best_score_)"
   ],
   "metadata": {
    "collapsed": false,
    "pycharm": {
     "name": "#%%\n"
    }
   }
  },
  {
   "cell_type": "markdown",
   "source": [
    "Лучшие параметры: {'model__max_depth': 20, 'model__n_estimators': 9}\n",
    "Лучший счет: -1095.5217856510317"
   ],
   "metadata": {
    "collapsed": false,
    "pycharm": {
     "name": "#%% md\n"
    }
   }
  },
  {
   "cell_type": "code",
   "execution_count": 85,
   "outputs": [],
   "source": [
    "forest_pipe = Pipeline([('ord', OrdinalEncoder(handle_unknown='use_encoded_value', unknown_value=-1)), ('model', RandomForestRegressor(max_depth=20, n_estimators=9, random_state=12345, n_jobs=-1))])"
   ],
   "metadata": {
    "collapsed": false,
    "pycharm": {
     "name": "#%%\n"
    }
   }
  },
  {
   "cell_type": "code",
   "execution_count": 86,
   "outputs": [
    {
     "name": "stdout",
     "output_type": "stream",
     "text": [
      "CPU times: total: 11.2 s\n",
      "Wall time: 4.44 s\n"
     ]
    },
    {
     "data": {
      "text/plain": "Pipeline(steps=[('ord',\n                 OrdinalEncoder(handle_unknown='use_encoded_value',\n                                unknown_value=-1)),\n                ('model',\n                 RandomForestRegressor(max_depth=20, n_estimators=9, n_jobs=-1,\n                                       random_state=12345))])"
     },
     "execution_count": 86,
     "metadata": {},
     "output_type": "execute_result"
    }
   ],
   "source": [
    "%%time\n",
    "forest_pipe.fit(features_train, target_train)"
   ],
   "metadata": {
    "collapsed": false,
    "pycharm": {
     "name": "#%%\n"
    }
   }
  },
  {
   "cell_type": "code",
   "execution_count": 87,
   "outputs": [
    {
     "name": "stdout",
     "output_type": "stream",
     "text": [
      "CPU times: total: 1.52 s\n",
      "Wall time: 855 ms\n"
     ]
    }
   ],
   "source": [
    "%%time\n",
    "predictions_forest = forest_pipe.predict(features_train)"
   ],
   "metadata": {
    "collapsed": false,
    "pycharm": {
     "name": "#%%\n"
    }
   }
  },
  {
   "cell_type": "code",
   "execution_count": 88,
   "outputs": [
    {
     "name": "stdout",
     "output_type": "stream",
     "text": [
      "RMSE: 674.3528844263813\n"
     ]
    }
   ],
   "source": [
    "print('RMSE:', mean_squared_error(y_true=target_train, y_pred=predictions_forest, squared=False))"
   ],
   "metadata": {
    "collapsed": false,
    "pycharm": {
     "name": "#%%\n"
    }
   }
  },
  {
   "cell_type": "markdown",
   "source": [
    "# Вывод"
   ],
   "metadata": {
    "collapsed": false,
    "pycharm": {
     "name": "#%% md\n"
    }
   }
  },
  {
   "cell_type": "markdown",
   "source": [
    "В данном проекте проделанную работу можно разделить на нексолько частей. Первая часть - обработка данных. Мы убрали лишние данные, заполнили пропуски, убрали аномальные значения. Далее, самая важная часть проекта - обучение моделей. Обучались 4 модели - `LightGBM`,`LinearRegression`,`CatBoost`,`RandomForest`. По результатам сравнивания метрики RMSE выяснилось, что лучше всего обучилась модель RandomForest(674), бустинги(LightGBM и CatBoost) показали похожие результаты(951 и 1020), LightGBM оказался чуть лучше. И хуже всего обучилась линейная регрессия(1705). Если оценивать обучение по критериям, которые важны заказчику, будем расставлять места от 1 до 3 места.\n",
    "- качество предсказания\n",
    "    - LightGBM - 2,\n",
    "    - LinearRegression - 4,\n",
    "    - CatBoost - 3\n",
    "    - RandomForest - 1;\n",
    "- время обучения модели\n",
    "    - LightGBM - 1,\n",
    "    - LinearRegression - 3,\n",
    "    - CatBoost - 4,\n",
    "    - RandomForest - 2;\n",
    "- время предсказания модели -\n",
    "    - LightGBM - 4,\n",
    "    - LinearRegression - 1,\n",
    "    - CatBoost - 3,\n",
    "    - RandomForest - 2.\n",
    "Итого, у нас получилось, что лучше всего нам подходит RandomForest, на втором месте LightGBM."
   ],
   "metadata": {
    "collapsed": false,
    "pycharm": {
     "name": "#%% md\n"
    }
   }
  }
 ],
 "metadata": {
  "kernelspec": {
   "display_name": "Python 3",
   "language": "python",
   "name": "python3"
  },
  "language_info": {
   "codemirror_mode": {
    "name": "ipython",
    "version": 2
   },
   "file_extension": ".py",
   "mimetype": "text/x-python",
   "name": "python",
   "nbconvert_exporter": "python",
   "pygments_lexer": "ipython2",
   "version": "2.7.6"
  }
 },
 "nbformat": 4,
 "nbformat_minor": 0
}