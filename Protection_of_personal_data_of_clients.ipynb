{
 "cells": [
  {
   "cell_type": "code",
   "execution_count": 29,
   "outputs": [],
   "source": [
    "import numpy as np\n",
    "import pandas as pd\n",
    "from sklearn.linear_model import LinearRegression\n",
    "from sklearn.model_selection import train_test_split\n",
    "from sklearn.metrics import r2_score"
   ],
   "metadata": {
    "collapsed": false,
    "pycharm": {
     "name": "#%%\n"
    }
   }
  },
  {
   "cell_type": "markdown",
   "metadata": {
    "toc": true,
    "pycharm": {
     "name": "#%% md\n"
    }
   },
   "source": [
    "<h1>Содержание<span class=\"tocSkip\"></span></h1>\n",
    "<div class=\"toc\"><ul class=\"toc-item\"><li><span><a href=\"#Загрузка-данных\" data-toc-modified-id=\"Загрузка-данных-1\"><span class=\"toc-item-num\">1&nbsp;&nbsp;</span>Загрузка данных</a></span></li><li><span><a href=\"#Умножение-матриц\" data-toc-modified-id=\"Умножение-матриц-2\"><span class=\"toc-item-num\">2&nbsp;&nbsp;</span>Умножение матриц</a></span></li><li><span><a href=\"#Алгоритм-преобразования\" data-toc-modified-id=\"Алгоритм-преобразования-3\"><span class=\"toc-item-num\">3&nbsp;&nbsp;</span>Алгоритм преобразования</a></span></li><li><span><a href=\"#Проверка-алгоритма\" data-toc-modified-id=\"Проверка-алгоритма-4\"><span class=\"toc-item-num\">4&nbsp;&nbsp;</span>Проверка алгоритма</a></span></li><li><span><a href=\"#Теперь-реализуем-собственный-алгоритм.\" data-toc-modified-id=\"Теперь-реализуем-собственный-алгоритм.-5\"><span class=\"toc-item-num\">5&nbsp;&nbsp;</span>Теперь реализуем собственный алгоритм.</a></span></li><li><span><a href=\"#Чек-лист-проверки\" data-toc-modified-id=\"Чек-лист-проверки-6\"><span class=\"toc-item-num\">6&nbsp;&nbsp;</span>Чек-лист проверки</a></span></li></ul></div>"
   ]
  },
  {
   "cell_type": "markdown",
   "metadata": {
    "pycharm": {
     "name": "#%% md\n"
    }
   },
   "source": [
    "# Защита персональных данных клиентов"
   ]
  },
  {
   "cell_type": "markdown",
   "metadata": {
    "pycharm": {
     "name": "#%% md\n"
    }
   },
   "source": [
    "Нам нужно защитить данные клиентов страховой компании «Хоть потоп».\n",
    "Задача - разработайте такой метод преобразования данных, чтобы по ним было сложно восстановить персональную информацию. Обосновать корректность его работы.\n",
    "\n",
    "Нужно защитить данные, чтобы при преобразовании качество моделей машинного обучения не ухудшилось."
   ]
  },
  {
   "cell_type": "markdown",
   "metadata": {
    "pycharm": {
     "name": "#%% md\n"
    }
   },
   "source": [
    "## Загрузка данных"
   ]
  },
  {
   "cell_type": "code",
   "execution_count": 30,
   "outputs": [
    {
     "data": {
      "text/plain": "      Пол  Возраст  Зарплата  Члены семьи  Страховые выплаты\n0       1     41.0   49600.0            1                  0\n1       0     46.0   38000.0            1                  1\n2       0     29.0   21000.0            0                  0\n3       0     21.0   41700.0            2                  0\n4       1     28.0   26100.0            0                  0\n...   ...      ...       ...          ...                ...\n4995    0     28.0   35700.0            2                  0\n4996    0     34.0   52400.0            1                  0\n4997    0     20.0   33900.0            2                  0\n4998    1     22.0   32700.0            3                  0\n4999    1     28.0   40600.0            1                  0\n\n[5000 rows x 5 columns]",
      "text/html": "<div>\n<style scoped>\n    .dataframe tbody tr th:only-of-type {\n        vertical-align: middle;\n    }\n\n    .dataframe tbody tr th {\n        vertical-align: top;\n    }\n\n    .dataframe thead th {\n        text-align: right;\n    }\n</style>\n<table border=\"1\" class=\"dataframe\">\n  <thead>\n    <tr style=\"text-align: right;\">\n      <th></th>\n      <th>Пол</th>\n      <th>Возраст</th>\n      <th>Зарплата</th>\n      <th>Члены семьи</th>\n      <th>Страховые выплаты</th>\n    </tr>\n  </thead>\n  <tbody>\n    <tr>\n      <th>0</th>\n      <td>1</td>\n      <td>41.0</td>\n      <td>49600.0</td>\n      <td>1</td>\n      <td>0</td>\n    </tr>\n    <tr>\n      <th>1</th>\n      <td>0</td>\n      <td>46.0</td>\n      <td>38000.0</td>\n      <td>1</td>\n      <td>1</td>\n    </tr>\n    <tr>\n      <th>2</th>\n      <td>0</td>\n      <td>29.0</td>\n      <td>21000.0</td>\n      <td>0</td>\n      <td>0</td>\n    </tr>\n    <tr>\n      <th>3</th>\n      <td>0</td>\n      <td>21.0</td>\n      <td>41700.0</td>\n      <td>2</td>\n      <td>0</td>\n    </tr>\n    <tr>\n      <th>4</th>\n      <td>1</td>\n      <td>28.0</td>\n      <td>26100.0</td>\n      <td>0</td>\n      <td>0</td>\n    </tr>\n    <tr>\n      <th>...</th>\n      <td>...</td>\n      <td>...</td>\n      <td>...</td>\n      <td>...</td>\n      <td>...</td>\n    </tr>\n    <tr>\n      <th>4995</th>\n      <td>0</td>\n      <td>28.0</td>\n      <td>35700.0</td>\n      <td>2</td>\n      <td>0</td>\n    </tr>\n    <tr>\n      <th>4996</th>\n      <td>0</td>\n      <td>34.0</td>\n      <td>52400.0</td>\n      <td>1</td>\n      <td>0</td>\n    </tr>\n    <tr>\n      <th>4997</th>\n      <td>0</td>\n      <td>20.0</td>\n      <td>33900.0</td>\n      <td>2</td>\n      <td>0</td>\n    </tr>\n    <tr>\n      <th>4998</th>\n      <td>1</td>\n      <td>22.0</td>\n      <td>32700.0</td>\n      <td>3</td>\n      <td>0</td>\n    </tr>\n    <tr>\n      <th>4999</th>\n      <td>1</td>\n      <td>28.0</td>\n      <td>40600.0</td>\n      <td>1</td>\n      <td>0</td>\n    </tr>\n  </tbody>\n</table>\n<p>5000 rows × 5 columns</p>\n</div>"
     },
     "execution_count": 30,
     "metadata": {},
     "output_type": "execute_result"
    }
   ],
   "source": [
    "data = pd.read_csv('insurance.csv')\n",
    "data"
   ],
   "metadata": {
    "collapsed": false,
    "pycharm": {
     "name": "#%%\n"
    }
   }
  },
  {
   "cell_type": "code",
   "execution_count": 31,
   "outputs": [
    {
     "name": "stdout",
     "output_type": "stream",
     "text": [
      "<class 'pandas.core.frame.DataFrame'>\n",
      "RangeIndex: 5000 entries, 0 to 4999\n",
      "Data columns (total 5 columns):\n",
      " #   Column             Non-Null Count  Dtype  \n",
      "---  ------             --------------  -----  \n",
      " 0   Пол                5000 non-null   int64  \n",
      " 1   Возраст            5000 non-null   float64\n",
      " 2   Зарплата           5000 non-null   float64\n",
      " 3   Члены семьи        5000 non-null   int64  \n",
      " 4   Страховые выплаты  5000 non-null   int64  \n",
      "dtypes: float64(2), int64(3)\n",
      "memory usage: 195.4 KB\n"
     ]
    }
   ],
   "source": [
    "data.info()"
   ],
   "metadata": {
    "collapsed": false,
    "pycharm": {
     "name": "#%%\n"
    }
   }
  },
  {
   "cell_type": "markdown",
   "source": [
    "Данные хорошо подготовлены, все признаки соответствуют их типу и нет пропусков."
   ],
   "metadata": {
    "collapsed": false,
    "pycharm": {
     "name": "#%% md\n"
    }
   }
  },
  {
   "cell_type": "markdown",
   "source": [
    "## Умножение матриц"
   ],
   "metadata": {
    "collapsed": false,
    "pycharm": {
     "name": "#%% md\n"
    }
   }
  },
  {
   "cell_type": "markdown",
   "metadata": {
    "pycharm": {
     "name": "#%% md\n"
    }
   },
   "source": [
    "Обозначения:\n",
    "\n",
    "- $X$ — матрица признаков (нулевой столбец состоит из единиц)\n",
    "\n",
    "- $y$ — вектор целевого признака\n",
    "\n",
    "- $P$ — матрица, на которую умножаются признаки\n",
    "\n",
    "- $w$ — вектор весов линейной регрессии (нулевой элемент равен сдвигу)"
   ]
  },
  {
   "cell_type": "markdown",
   "metadata": {
    "pycharm": {
     "name": "#%% md\n"
    }
   },
   "source": [
    "Предсказания:\n",
    "\n",
    "$$\n",
    "a = Xw\n",
    "$$\n",
    "\n",
    "Задача обучения:\n",
    "\n",
    "$$\n",
    "w = \\arg\\min_w MSE(Xw, y)\n",
    "$$\n",
    "\n",
    "Формула обучения:\n",
    "\n",
    "$$\n",
    "w = (X^T X)^{-1} X^T y\n",
    "$$"
   ]
  },
  {
   "cell_type": "markdown",
   "metadata": {
    "pycharm": {
     "name": "#%% md\n"
    }
   },
   "source": []
  },
  {
   "cell_type": "markdown",
   "source": [
    " Признаки умножают на обратимую матрицу. Изменится ли качество линейной регрессии? (Её можно обучить заново.)"
   ],
   "metadata": {
    "collapsed": false,
    "pycharm": {
     "name": "#%% md\n"
    }
   }
  },
  {
   "cell_type": "markdown",
   "metadata": {
    "pycharm": {
     "name": "#%% md\n"
    }
   },
   "source": [
    "**Ответ:**\n",
    "Нет, не изменится, так как формула предсказания по итогу не изменилась, а значит вектор весов w а также w0 не изменились\n",
    "\n",
    "**Обоснование:**\n",
    "\n",
    "Признаки умножают а обратимую матрицу. Наши признаки - матрица X, P - матрица на которую умножают.\n",
    "Получается надо проверить, изменяться ли веса если наша матрица будет не X а XP. Вектор наших весов - w. Поэтому будем работать с нашей формулой обучения:\n",
    "\n",
    "$$\n",
    "w = (X^T X)^{-1} X^T y\n",
    "$$\n",
    "\n",
    "Подставим вместо X ,XP и попытаемся преобразовать:\n",
    "$$\n",
    "w = ((XP)^T (XP))^{-1} (XP)^T y\n",
    "$$\n",
    "\n",
    "По свойству транспонирования матриц:\n",
    "\n",
    "$$\n",
    "(XP)^T = P^TX^T\n",
    "$$\n",
    "\n",
    "\n",
    "$$\n",
    "w = (P^TX^T (XP))^{-1} P^TX^T y\n",
    "$$\n",
    "\n",
    "по свойству\n",
    "$$\n",
    "(X^T)^{-1} = (X)^{-1}^T\n",
    "$$\n",
    "\n",
    "$$\n",
    "w = (P^T)^{-1}(X)^{-1}^T (X)^{-1}(P)^{-1} P^TX^T y\n",
    "$$\n",
    "\n",
    "$$\n",
    "w = (P^T)^{-1}(X^TX)^{-1}(P)^{-1} P^TX^T y\n",
    "$$\n",
    "Преобразовали все что могли, теперь, подставим w в нашу формулу предсказания, так как прежде всего нам надо проверить, ухудшаться ли наши предсказания. Наша оригинальная формула:\n",
    "\n",
    "$$\n",
    "a = Xw\n",
    "$$\n",
    "Подставим вместо X наше значение:\n",
    "$$\n",
    "a = XPw\n",
    "$$\n",
    "Теперь подставим в нашу формулу преобразованное значение w:\n",
    "$$\n",
    "a = XP(P^T)^{-1} (X^TX)^{-1}P^{-1}P^TX^Ty\n",
    "$$\n",
    "$$\n",
    "a = XPP^{-1}(P^T)^{-1}P^T (X^TX)^{-1}X^Ty\n",
    "$$\n",
    "Вспомним свойство обратной матрицы $$AA^-1=E$$\n",
    "А также, что любая матрица, умноженная на единичную это сама матрица. Исходя из это , можно сократить нашу запись выше\n",
    "$$\n",
    "a = X(X^TX)^{-1}X^Ty\n",
    "$$\n",
    "В итоге мы получили ту же формулу для предсказания, если бы мы не умножани нашу матрицу X на P. Как итог - дествительно ничего не поменялось.\n"
   ]
  },
  {
   "cell_type": "markdown",
   "metadata": {
    "pycharm": {
     "name": "#%% md\n"
    }
   },
   "source": [
    "## Алгоритм преобразования"
   ]
  },
  {
   "cell_type": "markdown",
   "source": [
    "Воспользуемся тем алгоритмом, который мы доказали выше. То есть умножим наши признаки на нашу обратимую матрицу, которые мы создадим."
   ],
   "metadata": {
    "collapsed": false,
    "pycharm": {
     "name": "#%% md\n"
    }
   }
  },
  {
   "cell_type": "markdown",
   "source": [
    "Подбробнее распишем наш алгоритм:\n",
    "1. Создадим рандомную обратимую матрицу\n",
    "2. Умножим наши features на нашу обратимую матрицу, тем самым зашифровав данные пользователей\n",
    "3. Реализуем деление на тестовую и тренировочную выборку\n",
    "4. Обучим нашу модель линейной регрессии на наших данных"
   ],
   "metadata": {
    "collapsed": false,
    "pycharm": {
     "name": "#%% md\n"
    }
   }
  },
  {
   "cell_type": "markdown",
   "source": [
    "## Реализация алгоритма и проверка"
   ],
   "metadata": {
    "collapsed": false,
    "pycharm": {
     "name": "#%% md\n"
    }
   }
  },
  {
   "cell_type": "markdown",
   "source": [
    "### 1. Обучим на наших данных без шифорвания и посчитаем метрику r2"
   ],
   "metadata": {
    "collapsed": false,
    "pycharm": {
     "name": "#%% md\n"
    }
   }
  },
  {
   "cell_type": "code",
   "execution_count": 32,
   "outputs": [],
   "source": [
    "features =data.drop('Страховые выплаты',axis=1)\n",
    "target = data['Страховые выплаты']\n",
    "\n",
    "features_train,features_test,target_train,target_test = train_test_split(features,target,test_size=0.2,random_state=42)"
   ],
   "metadata": {
    "collapsed": false,
    "pycharm": {
     "name": "#%%\n"
    }
   }
  },
  {
   "cell_type": "code",
   "execution_count": 33,
   "outputs": [
    {
     "name": "stdout",
     "output_type": "stream",
     "text": [
      "0.43686949231380134\n"
     ]
    }
   ],
   "source": [
    "model = LinearRegression()\n",
    "model.fit(features_train,target_train)\n",
    "y_pred = model.predict(features_test)\n",
    "print(r2_score(target_test,y_pred))"
   ],
   "metadata": {
    "collapsed": false,
    "pycharm": {
     "name": "#%%\n"
    }
   }
  },
  {
   "cell_type": "markdown",
   "source": [
    "### 2. Обучим на наших данных c шифорванием и посчитаем метрику r2"
   ],
   "metadata": {
    "collapsed": false,
    "pycharm": {
     "name": "#%% md\n"
    }
   }
  },
  {
   "cell_type": "markdown",
   "source": [
    "Создадим квадратную матрицу с рандомными значениями и проверим ее обратимость"
   ],
   "metadata": {
    "collapsed": false,
    "pycharm": {
     "name": "#%% md\n"
    }
   }
  },
  {
   "cell_type": "code",
   "execution_count": 34,
   "outputs": [
    {
     "name": "stdout",
     "output_type": "stream",
     "text": [
      "[[0.79775537 0.12263791 0.5537098  0.08611623]\n",
      " [0.29545532 0.26863993 0.67595627 0.15847503]\n",
      " [0.38226768 0.5690297  0.95750061 0.77853464]\n",
      " [0.23706142 0.8301808  0.91790766 0.55144267]]\n"
     ]
    }
   ],
   "source": [
    "code_matrix = np.random.random((features.shape[1],features.shape[1]))\n",
    "print(code_matrix)"
   ],
   "metadata": {
    "collapsed": false,
    "pycharm": {
     "name": "#%%\n"
    }
   }
  },
  {
   "cell_type": "code",
   "execution_count": 35,
   "outputs": [
    {
     "data": {
      "text/plain": "array([[ 1.00000000e+00, -2.22044605e-16,  1.73472348e-18,\n         5.55111512e-17],\n       [ 0.00000000e+00,  1.00000000e+00, -5.55111512e-17,\n         0.00000000e+00],\n       [ 1.11022302e-16,  4.44089210e-16,  1.00000000e+00,\n         0.00000000e+00],\n       [ 1.11022302e-16,  4.44089210e-16, -5.55111512e-17,\n         1.00000000e+00]])"
     },
     "execution_count": 35,
     "metadata": {},
     "output_type": "execute_result"
    }
   ],
   "source": [
    "code_matrix@np.linalg.inv(code_matrix)"
   ],
   "metadata": {
    "collapsed": false,
    "pycharm": {
     "name": "#%%\n"
    }
   }
  },
  {
   "cell_type": "markdown",
   "source": [
    "Получили единичную матрицу, значит наша матрица обратима"
   ],
   "metadata": {
    "collapsed": false,
    "pycharm": {
     "name": "#%% md\n"
    }
   }
  },
  {
   "cell_type": "markdown",
   "source": [
    "Теперь обучим нашу модель с зашифрованными данными"
   ],
   "metadata": {
    "collapsed": false,
    "pycharm": {
     "name": "#%% md\n"
    }
   }
  },
  {
   "cell_type": "code",
   "execution_count": 36,
   "outputs": [],
   "source": [
    "code_features = features@code_matrix\n",
    "\n",
    "features_train,features_test,target_train,target_test = train_test_split(code_features,target,test_size=0.2,random_state=42)"
   ],
   "metadata": {
    "collapsed": false,
    "pycharm": {
     "name": "#%%\n"
    }
   }
  },
  {
   "cell_type": "code",
   "execution_count": 37,
   "outputs": [
    {
     "name": "stdout",
     "output_type": "stream",
     "text": [
      "0.4368694923161953\n"
     ]
    }
   ],
   "source": [
    "lin_model = LinearRegression()\n",
    "lin_model.fit(features_train,target_train)\n",
    "y_pred = lin_model.predict(features_test)\n",
    "print(r2_score(target_test,y_pred))"
   ],
   "metadata": {
    "collapsed": false,
    "pycharm": {
     "name": "#%%\n"
    }
   }
  },
  {
   "cell_type": "markdown",
   "source": [
    "Сравнив две метрики на зашифрованных и незашифрованных данных, можно сделать вывод, что наша метрика не изменилась, а значит, шифрование корректно"
   ],
   "metadata": {
    "collapsed": false,
    "pycharm": {
     "name": "#%% md\n"
    }
   }
  },
  {
   "cell_type": "markdown",
   "source": [
    "## Вывод"
   ],
   "metadata": {
    "collapsed": false,
    "pycharm": {
     "name": "#%% md\n"
    }
   }
  },
  {
   "cell_type": "markdown",
   "source": [
    "В данном проекте была проведена работа, по шифрованию данных. Для начала были изучены данные, которые были хорошо подготовлены и у них не оказалось пропусков. Далее был доказан алгоритм шифрования, суть которого, умножить матрицу признаков на обратимую матрицу, тем самым зашифровать данные. Доказав, что предсказание не изменится, так как вектор весов не поменяет свое значение также, как и формула предсказания не поменяет свой вид. Далее, докасзанный алгоритм был проанализирован и проверен. Сначала была обучена модель без шифрования, а потом с выполнением алгоритма шифрования. В каждом из способов была посчитана метрика r2. Две полученные метрики оказались одинаковыми(обе оказались равными 0.4368694923161953), что еще раз доказывает алгоритм на практике."
   ],
   "metadata": {
    "collapsed": false,
    "pycharm": {
     "name": "#%% md\n"
    }
   }
  }
 ],
 "metadata": {
  "ExecuteTimeLog": [
   {
    "duration": 80,
    "start_time": "2022-12-15T12:14:08.118Z"
   },
   {
    "duration": 1795,
    "start_time": "2022-12-15T12:20:49.925Z"
   },
   {
    "duration": 107,
    "start_time": "2022-12-15T12:20:51.722Z"
   },
   {
    "duration": 0,
    "start_time": "2022-12-15T12:20:51.830Z"
   },
   {
    "duration": 0,
    "start_time": "2022-12-15T12:20:51.831Z"
   },
   {
    "duration": 0,
    "start_time": "2022-12-15T12:20:51.832Z"
   },
   {
    "duration": 0,
    "start_time": "2022-12-15T12:20:51.833Z"
   },
   {
    "duration": 0,
    "start_time": "2022-12-15T12:20:51.835Z"
   },
   {
    "duration": 0,
    "start_time": "2022-12-15T12:20:51.836Z"
   },
   {
    "duration": 0,
    "start_time": "2022-12-15T12:20:51.837Z"
   },
   {
    "duration": 0,
    "start_time": "2022-12-15T12:20:51.838Z"
   },
   {
    "duration": 1940,
    "start_time": "2022-12-15T12:21:41.062Z"
   },
   {
    "duration": 130,
    "start_time": "2022-12-15T12:21:43.004Z"
   },
   {
    "duration": 3,
    "start_time": "2022-12-15T12:21:43.136Z"
   },
   {
    "duration": 9,
    "start_time": "2022-12-15T12:21:43.141Z"
   },
   {
    "duration": 10,
    "start_time": "2022-12-15T12:21:43.152Z"
   },
   {
    "duration": 16,
    "start_time": "2022-12-15T12:21:43.164Z"
   },
   {
    "duration": 10,
    "start_time": "2022-12-15T12:21:43.182Z"
   },
   {
    "duration": 9,
    "start_time": "2022-12-15T12:21:43.194Z"
   },
   {
    "duration": 76,
    "start_time": "2022-12-15T12:21:43.205Z"
   },
   {
    "duration": 14,
    "start_time": "2022-12-15T12:21:43.283Z"
   },
   {
    "duration": 5,
    "start_time": "2022-12-15T14:20:01.871Z"
   },
   {
    "duration": 180,
    "start_time": "2022-12-15T14:20:04.006Z"
   },
   {
    "duration": 2171,
    "start_time": "2022-12-15T19:14:52.017Z"
   },
   {
    "duration": 136,
    "start_time": "2022-12-15T19:14:54.191Z"
   },
   {
    "duration": 5,
    "start_time": "2022-12-15T19:14:54.329Z"
   },
   {
    "duration": 15,
    "start_time": "2022-12-15T19:14:54.336Z"
   },
   {
    "duration": 13,
    "start_time": "2022-12-15T19:14:54.353Z"
   },
   {
    "duration": 6,
    "start_time": "2022-12-15T19:14:54.368Z"
   },
   {
    "duration": 9,
    "start_time": "2022-12-15T19:14:54.375Z"
   },
   {
    "duration": 66,
    "start_time": "2022-12-15T19:14:54.386Z"
   },
   {
    "duration": 5,
    "start_time": "2022-12-15T19:14:54.538Z"
   },
   {
    "duration": 10,
    "start_time": "2022-12-15T19:14:54.546Z"
   }
  ],
  "kernelspec": {
   "display_name": "Python 3 (ipykernel)",
   "language": "python",
   "name": "python3"
  },
  "language_info": {
   "codemirror_mode": {
    "name": "ipython",
    "version": 3
   },
   "file_extension": ".py",
   "mimetype": "text/x-python",
   "name": "python",
   "nbconvert_exporter": "python",
   "pygments_lexer": "ipython3",
   "version": "3.9.5"
  },
  "toc": {
   "base_numbering": 1,
   "nav_menu": {},
   "number_sections": true,
   "sideBar": true,
   "skip_h1_title": true,
   "title_cell": "Содержание",
   "title_sidebar": "Contents",
   "toc_cell": true,
   "toc_position": {},
   "toc_section_display": true,
   "toc_window_display": false
  }
 },
 "nbformat": 4,
 "nbformat_minor": 2
}