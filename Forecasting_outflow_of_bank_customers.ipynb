{
 "cells": [
  {
   "cell_type": "markdown",
   "source": [
    "# Прогнозирование оттока клиента Банка"
   ],
   "metadata": {
    "collapsed": false,
    "pycharm": {
     "name": "#%% md\n"
    }
   }
  },
  {
   "cell_type": "markdown",
   "source": [
    "Из «Бета-Банка» стали уходить клиенты. Банковские маркетологи посчитали: сохранять текущих клиентов дешевле, чем привлекать новых.\n",
    "Нужно спрогнозировать, уйдёт клиент из банка в ближайшее время или нет. Нам предоставлены исторические данные о поведении клиентов и расторжении договоров с банком.\n",
    "Задача - Построем модель с предельно большим значением F1-меры. Дополнительно измерим AUC-ROC, сравним её значение с F1-мерой."
   ],
   "metadata": {
    "collapsed": false,
    "pycharm": {
     "name": "#%% md\n"
    }
   }
  },
  {
   "cell_type": "markdown",
   "source": [
    "**Описание данных**\n",
    "Признаки\n",
    "- `RowNumber` — индекс строки в данных\n",
    "- `CustomerId` — уникальный идентификатор клиента\n",
    "- `Surname` — фамилия\n",
    "- `CreditScore` — кредитный рейтинг\n",
    "- `Geography` — страна проживания\n",
    "- `Gender` — пол\n",
    "- `Age` — возраст\n",
    "- `Tenure` — сколько лет человек является клиентом банка\n",
    "- `Balance` — баланс на счёте\n",
    "- `NumOfProducts` — количество продуктов банка, используемых клиентом\n",
    "- `HasCrCard` — наличие кредитной карты\n",
    "- `IsActiveMember` — активность клиента\n",
    "- `EstimatedSalary` — предполагаемая зарплата\n",
    "\n",
    "Целевой признак\n",
    "- `Exited` — факт ухода клиента"
   ],
   "metadata": {
    "collapsed": false,
    "pycharm": {
     "name": "#%% md\n"
    }
   }
  },
  {
   "cell_type": "markdown",
   "source": [
    "## Подготовка данных"
   ],
   "metadata": {
    "collapsed": false,
    "pycharm": {
     "name": "#%% md\n"
    }
   }
  },
  {
   "cell_type": "code",
   "execution_count": 1,
   "outputs": [],
   "source": [
    "import pandas as pd\n",
    "import numpy as np\n",
    "import matplotlib.pyplot as plt\n",
    "from sklearn.tree import DecisionTreeClassifier\n",
    "from sklearn.ensemble import RandomForestClassifier\n",
    "from sklearn.linear_model import LogisticRegression\n",
    "from sklearn.model_selection import train_test_split\n",
    "from sklearn.metrics import f1_score\n",
    "from sklearn.utils import shuffle\n",
    "from sklearn.metrics import roc_curve\n",
    "from sklearn.metrics import roc_auc_score\n",
    "from sklearn.preprocessing import StandardScaler"
   ],
   "metadata": {
    "collapsed": false,
    "pycharm": {
     "name": "#%%\n"
    }
   }
  },
  {
   "cell_type": "code",
   "execution_count": 2,
   "outputs": [
    {
     "data": {
      "text/plain": "     RowNumber  CustomerId   Surname  CreditScore Geography  Gender  Age  \\\n0            1    15634602  Hargrave          619    France  Female   42   \n1            2    15647311      Hill          608     Spain  Female   41   \n2            3    15619304      Onio          502    France  Female   42   \n3            4    15701354      Boni          699    France  Female   39   \n4            5    15737888  Mitchell          850     Spain  Female   43   \n..         ...         ...       ...          ...       ...     ...  ...   \n295        296    15723654      Tsao          773    France    Male   25   \n296        297    15774510      Tien          714    France  Female   31   \n297        298    15684173     Chang          687     Spain  Female   44   \n298        299    15650068   Johnson          511    France    Male   58   \n299        300    15811490    French          627    France    Male   33   \n\n     Tenure    Balance  NumOfProducts  HasCrCard  IsActiveMember  \\\n0       2.0       0.00              1          1               1   \n1       1.0   83807.86              1          0               1   \n2       8.0  159660.80              3          1               0   \n3       1.0       0.00              2          0               0   \n4       2.0  125510.82              1          1               1   \n..      ...        ...            ...        ...             ...   \n295     2.0  135903.33              1          1               0   \n296     4.0  125169.26              1          1               1   \n297     7.0       0.00              3          1               0   \n298     0.0  149117.31              1          1               1   \n299     5.0       0.00              2          1               1   \n\n     EstimatedSalary  Exited  \n0          101348.88       1  \n1          112542.58       0  \n2          113931.57       1  \n3           93826.63       0  \n4           79084.10       0  \n..               ...     ...  \n295         73656.38       0  \n296        106636.89       0  \n297        155853.52       1  \n298        162599.51       0  \n299        103737.82       0  \n\n[300 rows x 14 columns]",
      "text/html": "<div>\n<style scoped>\n    .dataframe tbody tr th:only-of-type {\n        vertical-align: middle;\n    }\n\n    .dataframe tbody tr th {\n        vertical-align: top;\n    }\n\n    .dataframe thead th {\n        text-align: right;\n    }\n</style>\n<table border=\"1\" class=\"dataframe\">\n  <thead>\n    <tr style=\"text-align: right;\">\n      <th></th>\n      <th>RowNumber</th>\n      <th>CustomerId</th>\n      <th>Surname</th>\n      <th>CreditScore</th>\n      <th>Geography</th>\n      <th>Gender</th>\n      <th>Age</th>\n      <th>Tenure</th>\n      <th>Balance</th>\n      <th>NumOfProducts</th>\n      <th>HasCrCard</th>\n      <th>IsActiveMember</th>\n      <th>EstimatedSalary</th>\n      <th>Exited</th>\n    </tr>\n  </thead>\n  <tbody>\n    <tr>\n      <th>0</th>\n      <td>1</td>\n      <td>15634602</td>\n      <td>Hargrave</td>\n      <td>619</td>\n      <td>France</td>\n      <td>Female</td>\n      <td>42</td>\n      <td>2.0</td>\n      <td>0.00</td>\n      <td>1</td>\n      <td>1</td>\n      <td>1</td>\n      <td>101348.88</td>\n      <td>1</td>\n    </tr>\n    <tr>\n      <th>1</th>\n      <td>2</td>\n      <td>15647311</td>\n      <td>Hill</td>\n      <td>608</td>\n      <td>Spain</td>\n      <td>Female</td>\n      <td>41</td>\n      <td>1.0</td>\n      <td>83807.86</td>\n      <td>1</td>\n      <td>0</td>\n      <td>1</td>\n      <td>112542.58</td>\n      <td>0</td>\n    </tr>\n    <tr>\n      <th>2</th>\n      <td>3</td>\n      <td>15619304</td>\n      <td>Onio</td>\n      <td>502</td>\n      <td>France</td>\n      <td>Female</td>\n      <td>42</td>\n      <td>8.0</td>\n      <td>159660.80</td>\n      <td>3</td>\n      <td>1</td>\n      <td>0</td>\n      <td>113931.57</td>\n      <td>1</td>\n    </tr>\n    <tr>\n      <th>3</th>\n      <td>4</td>\n      <td>15701354</td>\n      <td>Boni</td>\n      <td>699</td>\n      <td>France</td>\n      <td>Female</td>\n      <td>39</td>\n      <td>1.0</td>\n      <td>0.00</td>\n      <td>2</td>\n      <td>0</td>\n      <td>0</td>\n      <td>93826.63</td>\n      <td>0</td>\n    </tr>\n    <tr>\n      <th>4</th>\n      <td>5</td>\n      <td>15737888</td>\n      <td>Mitchell</td>\n      <td>850</td>\n      <td>Spain</td>\n      <td>Female</td>\n      <td>43</td>\n      <td>2.0</td>\n      <td>125510.82</td>\n      <td>1</td>\n      <td>1</td>\n      <td>1</td>\n      <td>79084.10</td>\n      <td>0</td>\n    </tr>\n    <tr>\n      <th>...</th>\n      <td>...</td>\n      <td>...</td>\n      <td>...</td>\n      <td>...</td>\n      <td>...</td>\n      <td>...</td>\n      <td>...</td>\n      <td>...</td>\n      <td>...</td>\n      <td>...</td>\n      <td>...</td>\n      <td>...</td>\n      <td>...</td>\n      <td>...</td>\n    </tr>\n    <tr>\n      <th>295</th>\n      <td>296</td>\n      <td>15723654</td>\n      <td>Tsao</td>\n      <td>773</td>\n      <td>France</td>\n      <td>Male</td>\n      <td>25</td>\n      <td>2.0</td>\n      <td>135903.33</td>\n      <td>1</td>\n      <td>1</td>\n      <td>0</td>\n      <td>73656.38</td>\n      <td>0</td>\n    </tr>\n    <tr>\n      <th>296</th>\n      <td>297</td>\n      <td>15774510</td>\n      <td>Tien</td>\n      <td>714</td>\n      <td>France</td>\n      <td>Female</td>\n      <td>31</td>\n      <td>4.0</td>\n      <td>125169.26</td>\n      <td>1</td>\n      <td>1</td>\n      <td>1</td>\n      <td>106636.89</td>\n      <td>0</td>\n    </tr>\n    <tr>\n      <th>297</th>\n      <td>298</td>\n      <td>15684173</td>\n      <td>Chang</td>\n      <td>687</td>\n      <td>Spain</td>\n      <td>Female</td>\n      <td>44</td>\n      <td>7.0</td>\n      <td>0.00</td>\n      <td>3</td>\n      <td>1</td>\n      <td>0</td>\n      <td>155853.52</td>\n      <td>1</td>\n    </tr>\n    <tr>\n      <th>298</th>\n      <td>299</td>\n      <td>15650068</td>\n      <td>Johnson</td>\n      <td>511</td>\n      <td>France</td>\n      <td>Male</td>\n      <td>58</td>\n      <td>0.0</td>\n      <td>149117.31</td>\n      <td>1</td>\n      <td>1</td>\n      <td>1</td>\n      <td>162599.51</td>\n      <td>0</td>\n    </tr>\n    <tr>\n      <th>299</th>\n      <td>300</td>\n      <td>15811490</td>\n      <td>French</td>\n      <td>627</td>\n      <td>France</td>\n      <td>Male</td>\n      <td>33</td>\n      <td>5.0</td>\n      <td>0.00</td>\n      <td>2</td>\n      <td>1</td>\n      <td>1</td>\n      <td>103737.82</td>\n      <td>0</td>\n    </tr>\n  </tbody>\n</table>\n<p>300 rows × 14 columns</p>\n</div>"
     },
     "execution_count": 2,
     "metadata": {},
     "output_type": "execute_result"
    }
   ],
   "source": [
    "dataset = pd.read_csv(\"D:\\PY\\dsProject1\\Churn.csv\")\n",
    "dataset.head(300)"
   ],
   "metadata": {
    "collapsed": false,
    "pycharm": {
     "name": "#%%\n"
    }
   }
  },
  {
   "cell_type": "code",
   "execution_count": 3,
   "outputs": [
    {
     "name": "stdout",
     "output_type": "stream",
     "text": [
      "<class 'pandas.core.frame.DataFrame'>\n",
      "RangeIndex: 10000 entries, 0 to 9999\n",
      "Data columns (total 14 columns):\n",
      " #   Column           Non-Null Count  Dtype  \n",
      "---  ------           --------------  -----  \n",
      " 0   RowNumber        10000 non-null  int64  \n",
      " 1   CustomerId       10000 non-null  int64  \n",
      " 2   Surname          10000 non-null  object \n",
      " 3   CreditScore      10000 non-null  int64  \n",
      " 4   Geography        10000 non-null  object \n",
      " 5   Gender           10000 non-null  object \n",
      " 6   Age              10000 non-null  int64  \n",
      " 7   Tenure           9091 non-null   float64\n",
      " 8   Balance          10000 non-null  float64\n",
      " 9   NumOfProducts    10000 non-null  int64  \n",
      " 10  HasCrCard        10000 non-null  int64  \n",
      " 11  IsActiveMember   10000 non-null  int64  \n",
      " 12  EstimatedSalary  10000 non-null  float64\n",
      " 13  Exited           10000 non-null  int64  \n",
      "dtypes: float64(3), int64(8), object(3)\n",
      "memory usage: 1.1+ MB\n"
     ]
    },
    {
     "data": {
      "text/plain": "None"
     },
     "metadata": {},
     "output_type": "display_data"
    },
    {
     "data": {
      "text/plain": "RowNumber            0\nCustomerId           0\nSurname              0\nCreditScore          0\nGeography            0\nGender               0\nAge                  0\nTenure             909\nBalance              0\nNumOfProducts        0\nHasCrCard            0\nIsActiveMember       0\nEstimatedSalary      0\nExited               0\ndtype: int64"
     },
     "metadata": {},
     "output_type": "display_data"
    }
   ],
   "source": [
    "display(dataset.info())\n",
    "display(dataset.isna().sum())"
   ],
   "metadata": {
    "collapsed": false,
    "pycharm": {
     "name": "#%%\n"
    }
   }
  },
  {
   "cell_type": "code",
   "execution_count": 4,
   "outputs": [
    {
     "name": "stdout",
     "output_type": "stream",
     "text": [
      "0.0909\n"
     ]
    }
   ],
   "source": [
    "print(dataset['Tenure'].isna().sum()/len(dataset['Tenure']))\n",
    "dataset['Tenure'] = dataset['Tenure'].fillna(0)"
   ],
   "metadata": {
    "collapsed": false,
    "pycharm": {
     "name": "#%%\n"
    }
   }
  },
  {
   "cell_type": "markdown",
   "source": [
    "Единственный признак, который содержал значительное кол-во нулей - Tenure.Так как этот признак означает кол-во лет, которые клиент является клиентом банка, логично предположить что пустое значение - это 0 лет, поэтому заполняем данные 0."
   ],
   "metadata": {
    "collapsed": false,
    "pycharm": {
     "name": "#%% md\n"
    }
   }
  },
  {
   "cell_type": "code",
   "execution_count": 5,
   "outputs": [
    {
     "data": {
      "text/plain": "      CreditScore Geography  Gender  Age  Tenure    Balance  NumOfProducts  \\\n0             619    France  Female   42     2.0       0.00              1   \n1             608     Spain  Female   41     1.0   83807.86              1   \n2             502    France  Female   42     8.0  159660.80              3   \n3             699    France  Female   39     1.0       0.00              2   \n4             850     Spain  Female   43     2.0  125510.82              1   \n...           ...       ...     ...  ...     ...        ...            ...   \n9995          771    France    Male   39     5.0       0.00              2   \n9996          516    France    Male   35    10.0   57369.61              1   \n9997          709    France  Female   36     7.0       0.00              1   \n9998          772   Germany    Male   42     3.0   75075.31              2   \n9999          792    France  Female   28     0.0  130142.79              1   \n\n      HasCrCard  IsActiveMember  EstimatedSalary  Exited  \n0             1               1        101348.88       1  \n1             0               1        112542.58       0  \n2             1               0        113931.57       1  \n3             0               0         93826.63       0  \n4             1               1         79084.10       0  \n...         ...             ...              ...     ...  \n9995          1               0         96270.64       0  \n9996          1               1        101699.77       0  \n9997          0               1         42085.58       1  \n9998          1               0         92888.52       1  \n9999          1               0         38190.78       0  \n\n[10000 rows x 11 columns]",
      "text/html": "<div>\n<style scoped>\n    .dataframe tbody tr th:only-of-type {\n        vertical-align: middle;\n    }\n\n    .dataframe tbody tr th {\n        vertical-align: top;\n    }\n\n    .dataframe thead th {\n        text-align: right;\n    }\n</style>\n<table border=\"1\" class=\"dataframe\">\n  <thead>\n    <tr style=\"text-align: right;\">\n      <th></th>\n      <th>CreditScore</th>\n      <th>Geography</th>\n      <th>Gender</th>\n      <th>Age</th>\n      <th>Tenure</th>\n      <th>Balance</th>\n      <th>NumOfProducts</th>\n      <th>HasCrCard</th>\n      <th>IsActiveMember</th>\n      <th>EstimatedSalary</th>\n      <th>Exited</th>\n    </tr>\n  </thead>\n  <tbody>\n    <tr>\n      <th>0</th>\n      <td>619</td>\n      <td>France</td>\n      <td>Female</td>\n      <td>42</td>\n      <td>2.0</td>\n      <td>0.00</td>\n      <td>1</td>\n      <td>1</td>\n      <td>1</td>\n      <td>101348.88</td>\n      <td>1</td>\n    </tr>\n    <tr>\n      <th>1</th>\n      <td>608</td>\n      <td>Spain</td>\n      <td>Female</td>\n      <td>41</td>\n      <td>1.0</td>\n      <td>83807.86</td>\n      <td>1</td>\n      <td>0</td>\n      <td>1</td>\n      <td>112542.58</td>\n      <td>0</td>\n    </tr>\n    <tr>\n      <th>2</th>\n      <td>502</td>\n      <td>France</td>\n      <td>Female</td>\n      <td>42</td>\n      <td>8.0</td>\n      <td>159660.80</td>\n      <td>3</td>\n      <td>1</td>\n      <td>0</td>\n      <td>113931.57</td>\n      <td>1</td>\n    </tr>\n    <tr>\n      <th>3</th>\n      <td>699</td>\n      <td>France</td>\n      <td>Female</td>\n      <td>39</td>\n      <td>1.0</td>\n      <td>0.00</td>\n      <td>2</td>\n      <td>0</td>\n      <td>0</td>\n      <td>93826.63</td>\n      <td>0</td>\n    </tr>\n    <tr>\n      <th>4</th>\n      <td>850</td>\n      <td>Spain</td>\n      <td>Female</td>\n      <td>43</td>\n      <td>2.0</td>\n      <td>125510.82</td>\n      <td>1</td>\n      <td>1</td>\n      <td>1</td>\n      <td>79084.10</td>\n      <td>0</td>\n    </tr>\n    <tr>\n      <th>...</th>\n      <td>...</td>\n      <td>...</td>\n      <td>...</td>\n      <td>...</td>\n      <td>...</td>\n      <td>...</td>\n      <td>...</td>\n      <td>...</td>\n      <td>...</td>\n      <td>...</td>\n      <td>...</td>\n    </tr>\n    <tr>\n      <th>9995</th>\n      <td>771</td>\n      <td>France</td>\n      <td>Male</td>\n      <td>39</td>\n      <td>5.0</td>\n      <td>0.00</td>\n      <td>2</td>\n      <td>1</td>\n      <td>0</td>\n      <td>96270.64</td>\n      <td>0</td>\n    </tr>\n    <tr>\n      <th>9996</th>\n      <td>516</td>\n      <td>France</td>\n      <td>Male</td>\n      <td>35</td>\n      <td>10.0</td>\n      <td>57369.61</td>\n      <td>1</td>\n      <td>1</td>\n      <td>1</td>\n      <td>101699.77</td>\n      <td>0</td>\n    </tr>\n    <tr>\n      <th>9997</th>\n      <td>709</td>\n      <td>France</td>\n      <td>Female</td>\n      <td>36</td>\n      <td>7.0</td>\n      <td>0.00</td>\n      <td>1</td>\n      <td>0</td>\n      <td>1</td>\n      <td>42085.58</td>\n      <td>1</td>\n    </tr>\n    <tr>\n      <th>9998</th>\n      <td>772</td>\n      <td>Germany</td>\n      <td>Male</td>\n      <td>42</td>\n      <td>3.0</td>\n      <td>75075.31</td>\n      <td>2</td>\n      <td>1</td>\n      <td>0</td>\n      <td>92888.52</td>\n      <td>1</td>\n    </tr>\n    <tr>\n      <th>9999</th>\n      <td>792</td>\n      <td>France</td>\n      <td>Female</td>\n      <td>28</td>\n      <td>0.0</td>\n      <td>130142.79</td>\n      <td>1</td>\n      <td>1</td>\n      <td>0</td>\n      <td>38190.78</td>\n      <td>0</td>\n    </tr>\n  </tbody>\n</table>\n<p>10000 rows × 11 columns</p>\n</div>"
     },
     "execution_count": 5,
     "metadata": {},
     "output_type": "execute_result"
    }
   ],
   "source": [
    "dataset = dataset.drop(columns = 'CustomerId')\n",
    "dataset = dataset.drop(columns = 'RowNumber',axis = 1)\n",
    "dataset = dataset.drop(columns = 'Surname',axis = 1)\n",
    "dataset"
   ],
   "metadata": {
    "collapsed": false,
    "pycharm": {
     "name": "#%%\n"
    }
   }
  },
  {
   "cell_type": "markdown",
   "source": [
    "Удаляем эти столбцы, так как они никак не влияют на исследуемую задачу(например, имя пользователя)"
   ],
   "metadata": {
    "collapsed": false,
    "pycharm": {
     "name": "#%% md\n"
    }
   }
  },
  {
   "cell_type": "markdown",
   "source": [
    "Воспользуемся техникой OHE, чтобы преобразовать все признаки в количественные."
   ],
   "metadata": {
    "collapsed": false,
    "pycharm": {
     "name": "#%% md\n"
    }
   }
  },
  {
   "cell_type": "code",
   "execution_count": 6,
   "outputs": [],
   "source": [
    "ohe_dataset = pd.get_dummies(dataset,drop_first=True)"
   ],
   "metadata": {
    "collapsed": false,
    "pycharm": {
     "name": "#%%\n"
    }
   }
  },
  {
   "cell_type": "markdown",
   "source": [
    "Теперь создадим целевой признак и нецелевые признаки."
   ],
   "metadata": {
    "collapsed": false,
    "pycharm": {
     "name": "#%% md\n"
    }
   }
  },
  {
   "cell_type": "code",
   "execution_count": 7,
   "outputs": [
    {
     "data": {
      "text/plain": "      CreditScore  Age  Tenure    Balance  NumOfProducts  HasCrCard  \\\n0             619   42     2.0       0.00              1          1   \n1             608   41     1.0   83807.86              1          0   \n2             502   42     8.0  159660.80              3          1   \n3             699   39     1.0       0.00              2          0   \n4             850   43     2.0  125510.82              1          1   \n...           ...  ...     ...        ...            ...        ...   \n9995          771   39     5.0       0.00              2          1   \n9996          516   35    10.0   57369.61              1          1   \n9997          709   36     7.0       0.00              1          0   \n9998          772   42     3.0   75075.31              2          1   \n9999          792   28     0.0  130142.79              1          1   \n\n      IsActiveMember  EstimatedSalary  Geography_Germany  Geography_Spain  \\\n0                  1        101348.88                  0                0   \n1                  1        112542.58                  0                1   \n2                  0        113931.57                  0                0   \n3                  0         93826.63                  0                0   \n4                  1         79084.10                  0                1   \n...              ...              ...                ...              ...   \n9995               0         96270.64                  0                0   \n9996               1        101699.77                  0                0   \n9997               1         42085.58                  0                0   \n9998               0         92888.52                  1                0   \n9999               0         38190.78                  0                0   \n\n      Gender_Male  \n0               0  \n1               0  \n2               0  \n3               0  \n4               0  \n...           ...  \n9995            1  \n9996            1  \n9997            0  \n9998            1  \n9999            0  \n\n[10000 rows x 11 columns]",
      "text/html": "<div>\n<style scoped>\n    .dataframe tbody tr th:only-of-type {\n        vertical-align: middle;\n    }\n\n    .dataframe tbody tr th {\n        vertical-align: top;\n    }\n\n    .dataframe thead th {\n        text-align: right;\n    }\n</style>\n<table border=\"1\" class=\"dataframe\">\n  <thead>\n    <tr style=\"text-align: right;\">\n      <th></th>\n      <th>CreditScore</th>\n      <th>Age</th>\n      <th>Tenure</th>\n      <th>Balance</th>\n      <th>NumOfProducts</th>\n      <th>HasCrCard</th>\n      <th>IsActiveMember</th>\n      <th>EstimatedSalary</th>\n      <th>Geography_Germany</th>\n      <th>Geography_Spain</th>\n      <th>Gender_Male</th>\n    </tr>\n  </thead>\n  <tbody>\n    <tr>\n      <th>0</th>\n      <td>619</td>\n      <td>42</td>\n      <td>2.0</td>\n      <td>0.00</td>\n      <td>1</td>\n      <td>1</td>\n      <td>1</td>\n      <td>101348.88</td>\n      <td>0</td>\n      <td>0</td>\n      <td>0</td>\n    </tr>\n    <tr>\n      <th>1</th>\n      <td>608</td>\n      <td>41</td>\n      <td>1.0</td>\n      <td>83807.86</td>\n      <td>1</td>\n      <td>0</td>\n      <td>1</td>\n      <td>112542.58</td>\n      <td>0</td>\n      <td>1</td>\n      <td>0</td>\n    </tr>\n    <tr>\n      <th>2</th>\n      <td>502</td>\n      <td>42</td>\n      <td>8.0</td>\n      <td>159660.80</td>\n      <td>3</td>\n      <td>1</td>\n      <td>0</td>\n      <td>113931.57</td>\n      <td>0</td>\n      <td>0</td>\n      <td>0</td>\n    </tr>\n    <tr>\n      <th>3</th>\n      <td>699</td>\n      <td>39</td>\n      <td>1.0</td>\n      <td>0.00</td>\n      <td>2</td>\n      <td>0</td>\n      <td>0</td>\n      <td>93826.63</td>\n      <td>0</td>\n      <td>0</td>\n      <td>0</td>\n    </tr>\n    <tr>\n      <th>4</th>\n      <td>850</td>\n      <td>43</td>\n      <td>2.0</td>\n      <td>125510.82</td>\n      <td>1</td>\n      <td>1</td>\n      <td>1</td>\n      <td>79084.10</td>\n      <td>0</td>\n      <td>1</td>\n      <td>0</td>\n    </tr>\n    <tr>\n      <th>...</th>\n      <td>...</td>\n      <td>...</td>\n      <td>...</td>\n      <td>...</td>\n      <td>...</td>\n      <td>...</td>\n      <td>...</td>\n      <td>...</td>\n      <td>...</td>\n      <td>...</td>\n      <td>...</td>\n    </tr>\n    <tr>\n      <th>9995</th>\n      <td>771</td>\n      <td>39</td>\n      <td>5.0</td>\n      <td>0.00</td>\n      <td>2</td>\n      <td>1</td>\n      <td>0</td>\n      <td>96270.64</td>\n      <td>0</td>\n      <td>0</td>\n      <td>1</td>\n    </tr>\n    <tr>\n      <th>9996</th>\n      <td>516</td>\n      <td>35</td>\n      <td>10.0</td>\n      <td>57369.61</td>\n      <td>1</td>\n      <td>1</td>\n      <td>1</td>\n      <td>101699.77</td>\n      <td>0</td>\n      <td>0</td>\n      <td>1</td>\n    </tr>\n    <tr>\n      <th>9997</th>\n      <td>709</td>\n      <td>36</td>\n      <td>7.0</td>\n      <td>0.00</td>\n      <td>1</td>\n      <td>0</td>\n      <td>1</td>\n      <td>42085.58</td>\n      <td>0</td>\n      <td>0</td>\n      <td>0</td>\n    </tr>\n    <tr>\n      <th>9998</th>\n      <td>772</td>\n      <td>42</td>\n      <td>3.0</td>\n      <td>75075.31</td>\n      <td>2</td>\n      <td>1</td>\n      <td>0</td>\n      <td>92888.52</td>\n      <td>1</td>\n      <td>0</td>\n      <td>1</td>\n    </tr>\n    <tr>\n      <th>9999</th>\n      <td>792</td>\n      <td>28</td>\n      <td>0.0</td>\n      <td>130142.79</td>\n      <td>1</td>\n      <td>1</td>\n      <td>0</td>\n      <td>38190.78</td>\n      <td>0</td>\n      <td>0</td>\n      <td>0</td>\n    </tr>\n  </tbody>\n</table>\n<p>10000 rows × 11 columns</p>\n</div>"
     },
     "execution_count": 7,
     "metadata": {},
     "output_type": "execute_result"
    }
   ],
   "source": [
    "features = ohe_dataset.drop('Exited',axis=1)\n",
    "target = ohe_dataset['Exited']\n",
    "features"
   ],
   "metadata": {
    "collapsed": false,
    "pycharm": {
     "name": "#%%\n"
    }
   }
  },
  {
   "cell_type": "markdown",
   "source": [
    "Теперь разделим на тренировочную тестовую и валидационную в соотношении 3 1 1"
   ],
   "metadata": {
    "collapsed": false,
    "pycharm": {
     "name": "#%% md\n"
    }
   }
  },
  {
   "cell_type": "code",
   "execution_count": 8,
   "outputs": [],
   "source": [
    "features_for_split, features_test, target_for_split, target_test = train_test_split(features, target, test_size=0.2, random_state=12345, stratify=target)\n",
    "\n",
    "features_train, features_valid, target_train, target_valid = train_test_split(features_for_split, target_for_split, test_size=0.25, random_state=12345, stratify=target_for_split)"
   ],
   "metadata": {
    "collapsed": false,
    "pycharm": {
     "name": "#%%\n"
    }
   }
  },
  {
   "cell_type": "markdown",
   "source": [
    "## Исследование задачи"
   ],
   "metadata": {
    "collapsed": false,
    "pycharm": {
     "name": "#%% md\n"
    }
   }
  },
  {
   "cell_type": "markdown",
   "source": [
    "Для начала проверим сбалансированность классов."
   ],
   "metadata": {
    "collapsed": false,
    "pycharm": {
     "name": "#%% md\n"
    }
   }
  },
  {
   "cell_type": "code",
   "execution_count": 10,
   "outputs": [
    {
     "data": {
      "text/plain": "0    0.7963\n1    0.2037\nName: Exited, dtype: float64"
     },
     "execution_count": 10,
     "metadata": {},
     "output_type": "execute_result"
    }
   ],
   "source": [
    "class_frequency = ohe_dataset['Exited'].value_counts(normalize=True)\n",
    "class_frequency"
   ],
   "metadata": {
    "collapsed": false,
    "pycharm": {
     "name": "#%%\n"
    }
   }
  },
  {
   "cell_type": "markdown",
   "source": [
    "Можем заметить, что положительный класс встречается в 4 раза меньше. Поэтому можно сделать их сбалансированны с помощью upsampling"
   ],
   "metadata": {
    "collapsed": false,
    "pycharm": {
     "name": "#%% md\n"
    }
   }
  },
  {
   "cell_type": "code",
   "execution_count": 16,
   "outputs": [
    {
     "name": "stdout",
     "output_type": "stream",
     "text": [
      "F1: 0.5959183673469388\n"
     ]
    },
    {
     "data": {
      "text/plain": "1    0.561421\n0    0.438579\nName: Exited, dtype: float64"
     },
     "execution_count": 16,
     "metadata": {},
     "output_type": "execute_result"
    }
   ],
   "source": [
    "def upsample(features, target, repeat):\n",
    "    features_zeros = features[target == 0]\n",
    "    features_ones = features[target == 1]\n",
    "    target_zeros = target[target == 0]\n",
    "    target_ones = target[target == 1]\n",
    "\n",
    "    features_upsampled = pd.concat([features_zeros] + [features_ones] * repeat)\n",
    "    target_upsampled = pd.concat([target_zeros] + [target_ones] * repeat)\n",
    "\n",
    "    features_upsampled, target_upsampled = shuffle(\n",
    "        features_upsampled, target_upsampled, random_state=12345)\n",
    "\n",
    "    return features_upsampled, target_upsampled\n",
    "\n",
    "features_upsampled, target_upsampled = upsample(features_train, target_train, 4)\n",
    "\n",
    "# < напишите код здесь >\n",
    "model = LogisticRegression(solver = 'liblinear',random_state = 12345)\n",
    "model.fit(features_upsampled,target_upsampled)\n",
    "predicted_valid = model.predict(features_valid)\n",
    "\n",
    "\n",
    "print(\"F1:\", f1_score(target_valid, predicted_valid))\n",
    "class_frequency = target_upsampled.value_counts(normalize=True)\n",
    "class_frequency"
   ],
   "metadata": {
    "collapsed": false,
    "pycharm": {
     "name": "#%%\n"
    }
   }
  },
  {
   "cell_type": "markdown",
   "source": [
    "Теперь классы сбалансированны, и также подсчитано значение F1. Можно увидеть, что значение F1 не такое большое, хотя мы использовали технику upsampling. Причина в том, что мы не подобрали лучшие гиперпараметры для нашей модели."
   ],
   "metadata": {
    "collapsed": false,
    "pycharm": {
     "name": "#%% md\n"
    }
   }
  },
  {
   "cell_type": "code",
   "execution_count": 18,
   "outputs": [
    {
     "name": "stdout",
     "output_type": "stream",
     "text": [
      "0.3956945156330087\n",
      "0.4166211044286496\n",
      "0.41834451901565994\n",
      "0.42407509663169524\n",
      "0.42407509663169524\n",
      "0.4248878923766816\n",
      "0.4247787610619469\n",
      "0.4155844155844155\n",
      "0.4126473740621651\n",
      "0.4774647887323943\n",
      "0.5045180722891566\n",
      "0.4985207100591716\n",
      "0.4977973568281938\n",
      "0.4923968139029689\n",
      "0.5037481259370316\n",
      "0.5015015015015015\n",
      "0.5003756574004509\n",
      "0.49925705794947994\n",
      "0.5141545524100994\n",
      "0.5029940119760479\n",
      "0.5124716553287981\n",
      "0.5202492211838006\n",
      "0.5184049079754601\n",
      "0.5193199381761978\n",
      "0.5179526355996945\n",
      "0.5251742835011619\n",
      "0.5320665083135392\n",
      "0.5549915397631133\n",
      "0.546644844517185\n",
      "0.5482815057283142\n",
      "0.5499181669394435\n",
      "0.5587510271158586\n",
      "0.5541972290138549\n",
      "0.5535420098846787\n",
      "0.5542763157894737\n",
      "0.5549132947976877\n",
      "0.562874251497006\n",
      "0.5594639865996649\n",
      "0.5587248322147651\n",
      "0.565\n",
      "0.5621351125938282\n",
      "0.5638031693077564\n",
      "0.5596026490066225\n",
      "0.5602660016625104\n",
      "0.5577889447236182\n",
      "0.5762114537444933\n",
      "0.5797356828193833\n",
      "0.5778938207136641\n",
      "0.5788561525129983\n",
      "0.5783549783549783\n",
      "0.5810928013876844\n",
      "0.5766233766233766\n",
      "0.578627280625543\n",
      "0.5756521739130435\n",
      "0.5817860300618921\n",
      "0.5751748251748252\n",
      "0.5807590467784643\n",
      "0.5809859154929577\n",
      "0.5838509316770185\n",
      "0.5805309734513274\n",
      "0.5823008849557522\n",
      "0.5833333333333334\n",
      "0.5838509316770185\n",
      "0.5996309963099631\n",
      "0.5942962281508739\n",
      "0.5908256880733944\n",
      "0.5924563017479301\n",
      "0.5935483870967742\n",
      "0.5935483870967742\n",
      "0.5948434622467771\n",
      "0.5962962962962962\n",
      "0.5975948196114709\n",
      "0.6044703595724004\n",
      "0.6027131782945736\n",
      "0.6094503375120539\n",
      "0.6013448607108549\n",
      "0.6017357762777241\n",
      "0.6028985507246377\n",
      "0.6007677543186181\n",
      "0.6040268456375839\n",
      "0.6017357762777241\n",
      "0.6008146639511203\n",
      "0.6040816326530613\n",
      "0.6160164271047228\n",
      "0.6155419222903884\n",
      "0.6169560776302349\n",
      "0.6172588832487309\n",
      "0.6135216952573159\n",
      "0.615539858728557\n",
      "0.6141414141414141\n",
      "0.6030368763557483\n",
      "0.6200215285252961\n",
      "0.6287553648068669\n",
      "0.6261980830670927\n",
      "0.624203821656051\n",
      "0.6217070600632244\n",
      "0.6231578947368421\n",
      "0.6243386243386244\n",
      "0.6283280085197018\n",
      "0.6086956521739131\n",
      "0.6113636363636363\n",
      "0.6122448979591837\n",
      "0.6167800453514739\n",
      "0.6223224351747463\n",
      "0.6244343891402714\n",
      "0.6162528216704289\n",
      "0.6193693693693693\n",
      "0.6244343891402714\n",
      "0.5985915492957747\n",
      "0.6148409893992933\n",
      "0.6148325358851674\n",
      "0.6119047619047618\n",
      "0.6093189964157706\n",
      "0.6159334126040428\n",
      "0.6201923076923077\n",
      "0.6196172248803827\n",
      "0.6196172248803827\n",
      "0.5995085995085995\n",
      "0.6134969325153374\n",
      "0.6113861386138614\n",
      "0.6098765432098765\n",
      "0.6079404466501241\n",
      "0.6172839506172839\n",
      "0.623921085080148\n",
      "0.6208588957055216\n",
      "0.6216216216216216\n",
      "0.6075\n",
      "0.6102117061021172\n",
      "0.6144121365360303\n",
      "0.6221662468513853\n",
      "0.6070528967254408\n",
      "0.61323155216285\n",
      "0.610126582278481\n",
      "0.6089171974522294\n",
      "0.6089171974522294\n",
      "0.6139896373056994\n",
      "0.6088082901554404\n",
      "0.6036269430051814\n",
      "0.5958549222797928\n",
      "0.5968586387434555\n",
      "0.6031331592689295\n",
      "0.6047120418848168\n",
      "0.6047120418848168\n",
      "0.5986928104575163\n",
      "0.5862068965517241\n",
      "0.5931758530183728\n",
      "0.6078947368421053\n",
      "0.5997357992073976\n",
      "0.5963060686015832\n",
      "0.6015831134564644\n",
      "0.6066225165562915\n",
      "0.6039735099337749\n",
      "0.6100795755968169\n",
      "0.6024096385542169\n",
      "0.6063829787234042\n",
      "0.6008010680907877\n",
      "0.6050870147255689\n",
      "0.6035182679296346\n",
      "0.6008119079837619\n",
      "0.6056527590847913\n",
      "0.6093959731543624\n",
      "0.6064690026954178\n",
      "0.587431693989071\n",
      "0.5879194630872482\n",
      "0.60752688172043\n",
      "0.6005434782608695\n",
      "0.6021798365122616\n",
      "0.6027027027027028\n",
      "0.6076294277929155\n",
      "0.6043360433604337\n",
      "0.6032608695652174\n",
      "0.5967302452316076\n",
      "0.6029609690444145\n",
      "0.6016260162601625\n",
      "0.601078167115903\n",
      "0.5959731543624162\n",
      "0.5972972972972973\n",
      "0.6037735849056605\n",
      "0.5989159891598915\n",
      "0.598105548037889\n",
      "0.590344827586207\n",
      "0.6085790884718499\n",
      "0.6153846153846153\n",
      "0.6045883940620782\n",
      "0.6072874493927126\n",
      "0.6072874493927126\n",
      "0.60752688172043\n",
      "0.6153846153846153\n",
      "0.6155913978494625\n",
      "0.5863013698630138\n",
      "0.6040816326530614\n",
      "0.6062246278755073\n",
      "0.598639455782313\n",
      "0.5932885906040268\n",
      "0.601889338731444\n",
      "0.598105548037889\n",
      "0.5991902834008097\n",
      "0.5951086956521738\n",
      "0.5844875346260386\n",
      "0.5869565217391304\n",
      "0.5967302452316076\n",
      "0.5962059620596206\n",
      "0.5967302452316076\n",
      "0.6030013642564802\n",
      "0.5989159891598915\n",
      "0.6021798365122616\n",
      "0.6019151846785226\n",
      "0.5937072503419973\n",
      "0.5931972789115646\n",
      "0.6061415220293725\n",
      "0.6048387096774193\n",
      "0.6108108108108108\n",
      "0.6078697421981004\n",
      "0.6084583901773534\n",
      "0.6086956521739131\n",
      "0.6040816326530614\n",
      "0.5859697386519945\n",
      "0.5851648351648352\n",
      "0.5953991880920162\n",
      "0.5943012211668929\n",
      "0.6027027027027028\n",
      "0.6057298772169167\n",
      "0.6010928961748634\n",
      "0.6010928961748634\n",
      "0.5991792065663474\n",
      "0.5765027322404372\n",
      "0.592391304347826\n",
      "0.6008119079837619\n",
      "0.5975773889636609\n",
      "0.6054054054054053\n",
      "0.6040816326530614\n",
      "0.6002728512960437\n",
      "0.6005434782608695\n",
      "0.6046511627906977\n",
      "0.5877551020408162\n",
      "0.5959183673469388\n",
      "0.5972972972972973\n",
      "0.6035182679296346\n",
      "0.6056527590847913\n",
      "0.6024423337856173\n",
      "0.6002728512960437\n",
      "0.6021798365122616\n",
      "0.6030013642564802\n",
      "0.592391304347826\n",
      "0.5964432284541723\n",
      "0.5991902834008097\n",
      "0.598105548037889\n",
      "0.6032608695652174\n",
      "0.6049046321525886\n",
      "0.6019151846785226\n",
      "0.6002728512960437\n",
      "0.6046511627906977\n",
      "0.5808219178082191\n",
      "0.5943012211668929\n",
      "0.6016260162601625\n",
      "0.601360544217687\n",
      "0.6\n",
      "0.6059782608695653\n",
      "0.6010928961748634\n",
      "0.6002728512960437\n",
      "0.6054794520547946\n",
      "11\n",
      "60\n"
     ]
    }
   ],
   "source": [
    " best_f1 = 0\n",
    " best_trees = 0\n",
    " best_depth = 0\n",
    " best_model = None\n",
    "\n",
    " for depth in range(1, 30, 1):\n",
    "     for trees in range(20, 200, 20):\n",
    "         model = RandomForestClassifier(random_state=12345, n_estimators=trees, max_depth=depth)\n",
    "         model.fit(features_upsampled, target_upsampled)\n",
    "         predicted_valid = model.predict(features_valid)\n",
    "         print(f1_score(target_valid, predicted_valid))\n",
    "         '''print('Depth:', depth)\n",
    "         print('Trees:', trees)\n",
    "         print()'''\n",
    "         if best_f1 < f1_score(target_valid, predicted_valid):\n",
    "             best_f1 = f1_score(target_valid, predicted_valid)\n",
    "             best_depth = depth\n",
    "             best_trees = trees\n",
    "             best_model = model\n",
    "print(best_depth)\n",
    "print(best_trees)"
   ],
   "metadata": {
    "collapsed": false,
    "pycharm": {
     "name": "#%%\n"
    }
   }
  },
  {
   "cell_type": "code",
   "execution_count": 19,
   "outputs": [
    {
     "name": "stdout",
     "output_type": "stream",
     "text": [
      "F1: 0.6287553648068669\n"
     ]
    }
   ],
   "source": [
    "model = RandomForestClassifier(random_state=12345, n_estimators=60, max_depth=11)\n",
    "model.fit(features_upsampled,target_upsampled)\n",
    "predicted_valid = model.predict(features_valid)\n",
    "\n",
    "\n",
    "print(\"F1:\", f1_score(target_valid, predicted_valid))\n"
   ],
   "metadata": {
    "collapsed": false,
    "pycharm": {
     "name": "#%%\n"
    }
   }
  },
  {
   "cell_type": "markdown",
   "source": [
    "После балансирования классов и нахождение лучший гиперпараметров F1 повысилась до 62,это хороший результат."
   ],
   "metadata": {
    "collapsed": false,
    "pycharm": {
     "name": "#%% md\n"
    }
   }
  },
  {
   "cell_type": "markdown",
   "source": [
    "Построим ROC кривую"
   ],
   "metadata": {
    "collapsed": false,
    "pycharm": {
     "name": "#%% md\n"
    }
   }
  },
  {
   "cell_type": "code",
   "execution_count": 20,
   "outputs": [
    {
     "data": {
      "text/plain": "<Figure size 432x288 with 1 Axes>",
      "image/png": "[encoded data removed]"
     },
     "metadata": {
      "needs_background": "light"
     },
     "output_type": "display_data"
    },
    {
     "name": "stdout",
     "output_type": "stream",
     "text": [
      "Площадь под кривой ROC составляет: 0.8620978451486926\n"
     ]
    }
   ],
   "source": [
    "probabilities_valid = best_model.predict_proba(features_valid)\n",
    "probabilities_one_valid = probabilities_valid[:, 1]\n",
    "fpr, tpr, thresholds = roc_curve(target_valid, probabilities_one_valid)\n",
    "plt.figure();\n",
    "\n",
    "plt.plot(fpr, tpr);\n",
    "plt.xlim([0.0, 1.0]);\n",
    "plt.ylim([0.0, 1.0]);\n",
    "plt.xlabel('False Positive Rate');\n",
    "plt.ylabel('True Positive Rate');\n",
    "plt.title('ROC-кривая');\n",
    "plt.show()\n",
    "auc_roc = roc_auc_score(target_valid, probabilities_one_valid)\n",
    "print('Площадь под кривой ROC составляет:', auc_roc)"
   ],
   "metadata": {
    "collapsed": false,
    "pycharm": {
     "name": "#%%\n"
    }
   }
  },
  {
   "cell_type": "markdown",
   "source": [
    "Видим, что ROC кривая идет к верхнему правому углу,достаточно высоко. Это значит что качество модели очень хорошее и значение TPR большое."
   ],
   "metadata": {
    "collapsed": false,
    "pycharm": {
     "name": "#%% md\n"
    }
   }
  },
  {
   "cell_type": "markdown",
   "source": [
    "Теперь применим downsampling."
   ],
   "metadata": {
    "collapsed": false,
    "pycharm": {
     "name": "#%% md\n"
    }
   }
  },
  {
   "cell_type": "code",
   "execution_count": 22,
   "outputs": [
    {
     "name": "stdout",
     "output_type": "stream",
     "text": [
      "F1: 0.6003861003861004\n"
     ]
    }
   ],
   "source": [
    "def downsample(features, target, fraction):\n",
    "    features_zeros = features[target == 0]\n",
    "    features_ones = features[target == 1]\n",
    "    target_zeros = target[target == 0]\n",
    "    target_ones = target[target == 1]\n",
    "\n",
    "    features_downsampled = pd.concat(\n",
    "        [features_zeros.sample(frac=fraction, random_state=12345)] + [features_ones])\n",
    "    target_downsampled = pd.concat(\n",
    "        [target_zeros.sample(frac=fraction, random_state=12345)] + [target_ones])\n",
    "\n",
    "    features_downsampled, target_downsampled = shuffle(\n",
    "        features_downsampled, target_downsampled, random_state=12345)\n",
    "\n",
    "    return features_downsampled, target_downsampled\n",
    "\n",
    "features_downsampled, target_downsampled = downsample(features_train, target_train, 0.25)\n",
    "\n",
    "# < напишите код здесь >\n",
    "model = RandomForestClassifier(random_state=12345, n_estimators=60, max_depth=11)\n",
    "model.fit(features_downsampled, target_downsampled)\n",
    "predicted_valid = model.predict(features_valid)\n",
    "print(\"F1:\", f1_score(target_valid, predicted_valid))"
   ],
   "metadata": {
    "collapsed": false,
    "pycharm": {
     "name": "#%%\n"
    }
   }
  },
  {
   "cell_type": "markdown",
   "source": [
    "Значение F1 не такое большое, как в случае с upsampling, но все же тоже повысилась по сравнению с обучением модели в лоб. Возможно, причиной того что f1 стало меньше может быть то, что размер выборки стал меньше , а значит модель могла недообучиться."
   ],
   "metadata": {
    "collapsed": false,
    "pycharm": {
     "name": "#%% md\n"
    }
   }
  },
  {
   "cell_type": "markdown",
   "source": [
    "Построим ROC кривуюю"
   ],
   "metadata": {
    "collapsed": false,
    "pycharm": {
     "name": "#%% md\n"
    }
   }
  },
  {
   "cell_type": "code",
   "execution_count": 24,
   "outputs": [
    {
     "data": {
      "text/plain": "<Figure size 432x288 with 1 Axes>",
      "image/png": "[encoded data removed]"
     },
     "metadata": {
      "needs_background": "light"
     },
     "output_type": "display_data"
    },
    {
     "name": "stdout",
     "output_type": "stream",
     "text": [
      "Площадь под кривой ROC составляет: 0.8651270685168992\n"
     ]
    }
   ],
   "source": [
    "probabilities_valid = model.predict_proba(features_valid)\n",
    "probabilities_one_valid = probabilities_valid[:, 1]\n",
    "fpr, tpr, thresholds = roc_curve(target_valid, probabilities_one_valid)\n",
    "plt.figure();\n",
    "\n",
    "plt.plot(fpr, tpr);\n",
    "plt.xlim([0.0, 1.0]);\n",
    "plt.ylim([0.0, 1.0]);\n",
    "plt.xlabel('False Positive Rate');\n",
    "plt.ylabel('True Positive Rate');\n",
    "plt.title('ROC-кривая');\n",
    "plt.show()\n",
    "auc_roc = roc_auc_score(target_valid, probabilities_one_valid)\n",
    "print('Площадь под кривой ROC составляет:', auc_roc)"
   ],
   "metadata": {
    "collapsed": false,
    "pycharm": {
     "name": "#%%\n"
    }
   }
  },
  {
   "cell_type": "markdown",
   "source": [
    "ROC значение немного больше чем с увеличенной выборкой."
   ],
   "metadata": {
    "collapsed": false,
    "pycharm": {
     "name": "#%% md\n"
    }
   }
  },
  {
   "cell_type": "markdown",
   "source": [
    "## Тестирование модели"
   ],
   "metadata": {
    "collapsed": false,
    "pycharm": {
     "name": "#%% md\n"
    }
   }
  },
  {
   "cell_type": "code",
   "execution_count": 25,
   "outputs": [
    {
     "name": "stdout",
     "output_type": "stream",
     "text": [
      "F1 score на тестовой выборке составил: 0.6068376068376068\n"
     ]
    }
   ],
   "source": [
    "predicted_test = best_model.predict(features_test)\n",
    "\n",
    "print('F1 score на тестовой выборке составил:', f1_score(y_true=target_test, y_pred=predicted_test))"
   ],
   "metadata": {
    "collapsed": false,
    "pycharm": {
     "name": "#%%\n"
    }
   }
  },
  {
   "cell_type": "code",
   "execution_count": 26,
   "outputs": [
    {
     "data": {
      "text/plain": "<Figure size 432x288 with 1 Axes>",
      "image/png": "[encoded data removed]"
     },
     "metadata": {
      "needs_background": "light"
     },
     "output_type": "display_data"
    },
    {
     "name": "stdout",
     "output_type": "stream",
     "text": [
      "Площадь под кривой ROC составляет: 0.8587786553888248\n"
     ]
    }
   ],
   "source": [
    "probabilities_test = best_model.predict_proba(features_test)\n",
    "probabilities_one_test = probabilities_test[:, 1]\n",
    "\n",
    "fpr, tpr, thresholds = roc_curve(target_test, probabilities_one_test)\n",
    "plt.figure();\n",
    "\n",
    "plt.plot(fpr, tpr);\n",
    "plt.xlim([0.0, 1.0]);\n",
    "plt.ylim([0.0, 1.0]);\n",
    "plt.xlabel('False Positive Rate');\n",
    "plt.ylabel('True Positive Rate');\n",
    "plt.title('ROC-кривая');\n",
    "plt.show()\n",
    "auc_roc = roc_auc_score(target_test, probabilities_one_test)\n",
    "print('Площадь под кривой ROC составляет:', auc_roc)"
   ],
   "metadata": {
    "collapsed": false,
    "pycharm": {
     "name": "#%%\n"
    }
   }
  },
  {
   "cell_type": "code",
   "execution_count": 27,
   "outputs": [
    {
     "name": "stdout",
     "output_type": "stream",
     "text": [
      "F1 score на тестовой выборке из большой выборки составил: 0.6199524940617577\n"
     ]
    }
   ],
   "source": [
    "features_full_train = pd.concat([features_upsampled, features_valid])\n",
    "target_full_train = pd.concat([target_upsampled, target_valid])\n",
    "model = RandomForestClassifier(random_state=12345, max_depth=12, n_estimators=140)\n",
    "model.fit(features_full_train, target_full_train)\n",
    "predicted_full_test = model.predict(features_test)\n",
    "print('F1 score на тестовой выборке из большой выборки составил:', f1_score(y_true=target_test, y_pred=predicted_full_test))"
   ],
   "metadata": {
    "collapsed": false,
    "pycharm": {
     "name": "#%%\n"
    }
   }
  }
 ],
 "metadata": {
  "kernelspec": {
   "display_name": "Python 3",
   "language": "python",
   "name": "python3"
  },
  "language_info": {
   "codemirror_mode": {
    "name": "ipython",
    "version": 2
   },
   "file_extension": ".py",
   "mimetype": "text/x-python",
   "name": "python",
   "nbconvert_exporter": "python",
   "pygments_lexer": "ipython2",
   "version": "2.7.6"
  }
 },
 "nbformat": 4,
 "nbformat_minor": 0
}