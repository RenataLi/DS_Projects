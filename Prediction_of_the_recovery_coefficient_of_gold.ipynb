{
 "cells": [
  {
   "cell_type": "markdown",
   "metadata": {
    "toc": true,
    "pycharm": {
     "name": "#%% md\n"
    }
   },
   "source": [
    "<h1>Содержание<span class=\"tocSkip\"></span></h1>\n",
    "<div class=\"toc\"><ul class=\"toc-item\"><li><span><a href=\"#Подготовка-данных\" data-toc-modified-id=\"Подготовка-данных-1\"><span class=\"toc-item-num\">1&nbsp;&nbsp;</span>Подготовка данных</a></span><ul class=\"toc-item\"><li><span><a href=\"#Получение-данных\" data-toc-modified-id=\"Получение-данных-1.1\"><span class=\"toc-item-num\">1.1&nbsp;&nbsp;</span>Получение данных</a></span></li><li><span><a href=\"#Проверка-формулы\" data-toc-modified-id=\"Проверка-формулы-1.2\"><span class=\"toc-item-num\">1.2&nbsp;&nbsp;</span>Проверка формулы</a></span></li></ul></li><li><span><a href=\"#Анализ-данных\" data-toc-modified-id=\"Анализ-данных-2\"><span class=\"toc-item-num\">2&nbsp;&nbsp;</span>Анализ данных</a></span></li><li><span><a href=\"#Модель\" data-toc-modified-id=\"Модель-3\"><span class=\"toc-item-num\">3&nbsp;&nbsp;</span>Модель</a></span></li><li><span><a href=\"#Вывод\" data-toc-modified-id=\"Вывод-4\"><span class=\"toc-item-num\">4&nbsp;&nbsp;</span>Вывод</a></span></li>"
   ]
  },
  {
   "cell_type": "markdown",
   "metadata": {
    "pycharm": {
     "name": "#%% md\n"
    }
   },
   "source": [
    "# Восстановление золота из руды"
   ]
  },
  {
   "cell_type": "markdown",
   "metadata": {
    "pycharm": {
     "name": "#%% md\n"
    }
   },
   "source": [
    "Задача данного проекта - подготовить прототип модели машинного обучения для «Цифры». Компания разрабатывает решения для эффективной работы промышленных предприятий.\n",
    "\n",
    "Модель должна предсказать коэффициент восстановления золота из золотосодержащей руды. Используем данные с параметрами добычи и очистки.\n",
    "\n",
    "Модель поможет оптимизировать производство, чтобы не запускать предприятие с убыточными характеристиками.\n",
    "\n",
    "Нам нужно:\n",
    "\n",
    "1. Подготовить данные;\n",
    "2. Провести исследовательский анализ данных;\n",
    "3. Построить и обучить модель.\n",
    "\n",
    "В данном проекте мы будем обращаться к библиотекам *pandas*, *matplotlib* и *sklearn.*"
   ]
  },
  {
   "cell_type": "markdown",
   "metadata": {
    "pycharm": {
     "name": "#%% md\n"
    }
   },
   "source": [
    "* Задача данного исследования - создать модель, которая поможет оптимизировать производство, чтобы не запускать предприятие с убыточными характеристиками.\n",
    "* План действий:\n",
    "    * Получить датасет\n",
    "    * Проанализировать данные\n",
    "    * Провести предобработку данных\n",
    "    * Обучить модели и выбрать лучшие"
   ]
  },
  {
   "cell_type": "markdown",
   "metadata": {
    "pycharm": {
     "name": "#%% md\n"
    }
   },
   "source": [
    "## Подготовка данных"
   ]
  },
  {
   "cell_type": "code",
   "execution_count": 187,
   "metadata": {
    "pycharm": {
     "name": "#%%\n"
    }
   },
   "outputs": [],
   "source": [
    "import pandas as pd\n",
    "import matplotlib.pyplot as plt\n",
    "from sklearn.metrics import mean_absolute_error\n",
    "import seaborn as sns\n",
    "from sklearn.tree import DecisionTreeRegressor\n",
    "from sklearn.ensemble import RandomForestRegressor\n",
    "from sklearn.linear_model import LinearRegression\n",
    "from sklearn.model_selection import cross_val_score\n",
    "from sklearn.model_selection import GridSearchCV\n",
    "from sklearn.metrics import make_scorer\n",
    "from sklearn.model_selection import train_test_split\n",
    "from sklearn.preprocessing import StandardScaler\n",
    "from sklearn.compose import ColumnTransformer\n",
    "from sklearn.pipeline import Pipeline"
   ]
  },
  {
   "cell_type": "markdown",
   "metadata": {
    "pycharm": {
     "name": "#%% md\n"
    }
   },
   "source": [
    "### Получение данных"
   ]
  },
  {
   "cell_type": "markdown",
   "source": [
    "Для начала получим наши данные и проанализиуем их"
   ],
   "metadata": {
    "collapsed": false,
    "pycharm": {
     "name": "#%% md\n"
    }
   }
  },
  {
   "cell_type": "code",
   "execution_count": 188,
   "outputs": [],
   "source": [
    "full_data = pd.read_csv('D:\\PY\\dsProject1\\gold_recovery_full_new.csv')\n",
    "test_data = pd.read_csv('D:\\PY\\dsProject1\\gold_recovery_test_new.csv')\n",
    "train_data = pd.read_csv('D:\\PY\\dsProject1\\gold_recovery_train_new.csv')"
   ],
   "metadata": {
    "collapsed": false,
    "pycharm": {
     "name": "#%%\n"
    }
   }
  },
  {
   "cell_type": "code",
   "execution_count": 189,
   "outputs": [
    {
     "data": {
      "text/plain": "                      date  final.output.concentrate_ag  \\\n0      2016-01-15 00:00:00                     6.055403   \n1      2016-01-15 01:00:00                     6.029369   \n2      2016-01-15 02:00:00                     6.055926   \n3      2016-01-15 03:00:00                     6.047977   \n4      2016-01-15 04:00:00                     6.148599   \n...                    ...                          ...   \n19434  2018-08-18 06:59:59                     3.224920   \n19435  2018-08-18 07:59:59                     3.195978   \n19436  2018-08-18 08:59:59                     3.109998   \n19437  2018-08-18 09:59:59                     3.367241   \n19438  2018-08-18 10:59:59                     3.598375   \n\n       final.output.concentrate_pb  final.output.concentrate_sol  \\\n0                         9.889648                      5.507324   \n1                         9.968944                      5.257781   \n2                        10.213995                      5.383759   \n3                         9.977019                      4.858634   \n4                        10.142511                      4.939416   \n...                            ...                           ...   \n19434                    11.356233                      6.803482   \n19435                    11.349355                      6.862249   \n19436                    11.434366                      6.886013   \n19437                    11.625587                      6.799433   \n19438                    11.737832                      6.717509   \n\n       final.output.concentrate_au  final.output.recovery  \\\n0                        42.192020              70.541216   \n1                        42.701629              69.266198   \n2                        42.657501              68.116445   \n3                        42.689819              68.347543   \n4                        42.774141              66.927016   \n...                            ...                    ...   \n19434                    46.713954              73.755150   \n19435                    46.866780              69.049291   \n19436                    46.795691              67.002189   \n19437                    46.408188              65.523246   \n19438                    46.299438              70.281454   \n\n       final.output.tail_ag  final.output.tail_pb  final.output.tail_sol  \\\n0                 10.411962              0.895447              16.904297   \n1                 10.462676              0.927452              16.634514   \n2                 10.507046              0.953716              16.208849   \n3                 10.422762              0.883763              16.532835   \n4                 10.360302              0.792826              16.525686   \n...                     ...                   ...                    ...   \n19434              8.769645              3.141541              10.403181   \n19435              8.897321              3.130493              10.549470   \n19436              8.529606              2.911418              11.115147   \n19437              8.777171              2.819214              10.463847   \n19438              8.406690              2.517518              10.652193   \n\n       final.output.tail_au  ...  secondary_cleaner.state.floatbank4_a_air  \\\n0                  2.143149  ...                                 14.016835   \n1                  2.224930  ...                                 13.992281   \n2                  2.257889  ...                                 14.015015   \n3                  2.146849  ...                                 14.036510   \n4                  2.055292  ...                                 14.027298   \n...                     ...  ...                                       ...   \n19434              1.529220  ...                                 23.031497   \n19435              1.612542  ...                                 22.960095   \n19436              1.596616  ...                                 23.015718   \n19437              1.602879  ...                                 23.024963   \n19438              1.389434  ...                                 23.018622   \n\n       secondary_cleaner.state.floatbank4_a_level  \\\n0                                     -502.488007   \n1                                     -505.503262   \n2                                     -502.520901   \n3                                     -500.857308   \n4                                     -499.838632   \n...                                           ...   \n19434                                 -501.167942   \n19435                                 -501.612783   \n19436                                 -501.711599   \n19437                                 -501.153409   \n19438                                 -500.492702   \n\n       secondary_cleaner.state.floatbank4_b_air  \\\n0                                     12.099931   \n1                                     11.950531   \n2                                     11.912783   \n3                                     11.999550   \n4                                     11.953070   \n...                                         ...   \n19434                                 20.007571   \n19435                                 20.035660   \n19436                                 19.951231   \n19437                                 20.054122   \n19438                                 20.020205   \n\n       secondary_cleaner.state.floatbank4_b_level  \\\n0                                     -504.715942   \n1                                     -501.331529   \n2                                     -501.133383   \n3                                     -501.193686   \n4                                     -501.053894   \n...                                           ...   \n19434                                 -499.740028   \n19435                                 -500.251357   \n19436                                 -499.857027   \n19437                                 -500.314711   \n19438                                 -500.220296   \n\n       secondary_cleaner.state.floatbank5_a_air  \\\n0                                      9.925633   \n1                                     10.039245   \n2                                     10.070913   \n3                                      9.970366   \n4                                      9.925709   \n...                                         ...   \n19434                                 18.006038   \n19435                                 17.998535   \n19436                                 18.019543   \n19437                                 17.979515   \n19438                                 17.963512   \n\n       secondary_cleaner.state.floatbank5_a_level  \\\n0                                     -498.310211   \n1                                     -500.169983   \n2                                     -500.129135   \n3                                     -499.201640   \n4                                     -501.686727   \n...                                           ...   \n19434                                 -499.834374   \n19435                                 -500.395178   \n19436                                 -500.451156   \n19437                                 -499.272871   \n19438                                 -499.939490   \n\n       secondary_cleaner.state.floatbank5_b_air  \\\n0                                      8.079666   \n1                                      7.984757   \n2                                      8.013877   \n3                                      7.977324   \n4                                      7.894242   \n...                                         ...   \n19434                                 13.001114   \n19435                                 12.954048   \n19436                                 13.023431   \n19437                                 12.992404   \n19438                                 12.990306   \n\n       secondary_cleaner.state.floatbank5_b_level  \\\n0                                     -500.470978   \n1                                     -500.582168   \n2                                     -500.517572   \n3                                     -500.255908   \n4                                     -500.356035   \n...                                           ...   \n19434                                 -500.155694   \n19435                                 -499.895163   \n19436                                 -499.914391   \n19437                                 -499.976268   \n19438                                 -500.080993   \n\n       secondary_cleaner.state.floatbank6_a_air  \\\n0                                     14.151341   \n1                                     13.998353   \n2                                     14.028663   \n3                                     14.005551   \n4                                     13.996647   \n...                                         ...   \n19434                                 20.007840   \n19435                                 19.968498   \n19436                                 19.990885   \n19437                                 20.013986   \n19438                                 19.990336   \n\n       secondary_cleaner.state.floatbank6_a_level  \n0                                     -605.841980  \n1                                     -599.787184  \n2                                     -601.427363  \n3                                     -599.996129  \n4                                     -601.496691  \n...                                           ...  \n19434                                 -501.296428  \n19435                                 -501.041608  \n19436                                 -501.518452  \n19437                                 -500.625471  \n19438                                 -499.191575  \n\n[19439 rows x 87 columns]",
      "text/html": "<div>\n<style scoped>\n    .dataframe tbody tr th:only-of-type {\n        vertical-align: middle;\n    }\n\n    .dataframe tbody tr th {\n        vertical-align: top;\n    }\n\n    .dataframe thead th {\n        text-align: right;\n    }\n</style>\n<table border=\"1\" class=\"dataframe\">\n  <thead>\n    <tr style=\"text-align: right;\">\n      <th></th>\n      <th>date</th>\n      <th>final.output.concentrate_ag</th>\n      <th>final.output.concentrate_pb</th>\n      <th>final.output.concentrate_sol</th>\n      <th>final.output.concentrate_au</th>\n      <th>final.output.recovery</th>\n      <th>final.output.tail_ag</th>\n      <th>final.output.tail_pb</th>\n      <th>final.output.tail_sol</th>\n      <th>final.output.tail_au</th>\n      <th>...</th>\n      <th>secondary_cleaner.state.floatbank4_a_air</th>\n      <th>secondary_cleaner.state.floatbank4_a_level</th>\n      <th>secondary_cleaner.state.floatbank4_b_air</th>\n      <th>secondary_cleaner.state.floatbank4_b_level</th>\n      <th>secondary_cleaner.state.floatbank5_a_air</th>\n      <th>secondary_cleaner.state.floatbank5_a_level</th>\n      <th>secondary_cleaner.state.floatbank5_b_air</th>\n      <th>secondary_cleaner.state.floatbank5_b_level</th>\n      <th>secondary_cleaner.state.floatbank6_a_air</th>\n      <th>secondary_cleaner.state.floatbank6_a_level</th>\n    </tr>\n  </thead>\n  <tbody>\n    <tr>\n      <th>0</th>\n      <td>2016-01-15 00:00:00</td>\n      <td>6.055403</td>\n      <td>9.889648</td>\n      <td>5.507324</td>\n      <td>42.192020</td>\n      <td>70.541216</td>\n      <td>10.411962</td>\n      <td>0.895447</td>\n      <td>16.904297</td>\n      <td>2.143149</td>\n      <td>...</td>\n      <td>14.016835</td>\n      <td>-502.488007</td>\n      <td>12.099931</td>\n      <td>-504.715942</td>\n      <td>9.925633</td>\n      <td>-498.310211</td>\n      <td>8.079666</td>\n      <td>-500.470978</td>\n      <td>14.151341</td>\n      <td>-605.841980</td>\n    </tr>\n    <tr>\n      <th>1</th>\n      <td>2016-01-15 01:00:00</td>\n      <td>6.029369</td>\n      <td>9.968944</td>\n      <td>5.257781</td>\n      <td>42.701629</td>\n      <td>69.266198</td>\n      <td>10.462676</td>\n      <td>0.927452</td>\n      <td>16.634514</td>\n      <td>2.224930</td>\n      <td>...</td>\n      <td>13.992281</td>\n      <td>-505.503262</td>\n      <td>11.950531</td>\n      <td>-501.331529</td>\n      <td>10.039245</td>\n      <td>-500.169983</td>\n      <td>7.984757</td>\n      <td>-500.582168</td>\n      <td>13.998353</td>\n      <td>-599.787184</td>\n    </tr>\n    <tr>\n      <th>2</th>\n      <td>2016-01-15 02:00:00</td>\n      <td>6.055926</td>\n      <td>10.213995</td>\n      <td>5.383759</td>\n      <td>42.657501</td>\n      <td>68.116445</td>\n      <td>10.507046</td>\n      <td>0.953716</td>\n      <td>16.208849</td>\n      <td>2.257889</td>\n      <td>...</td>\n      <td>14.015015</td>\n      <td>-502.520901</td>\n      <td>11.912783</td>\n      <td>-501.133383</td>\n      <td>10.070913</td>\n      <td>-500.129135</td>\n      <td>8.013877</td>\n      <td>-500.517572</td>\n      <td>14.028663</td>\n      <td>-601.427363</td>\n    </tr>\n    <tr>\n      <th>3</th>\n      <td>2016-01-15 03:00:00</td>\n      <td>6.047977</td>\n      <td>9.977019</td>\n      <td>4.858634</td>\n      <td>42.689819</td>\n      <td>68.347543</td>\n      <td>10.422762</td>\n      <td>0.883763</td>\n      <td>16.532835</td>\n      <td>2.146849</td>\n      <td>...</td>\n      <td>14.036510</td>\n      <td>-500.857308</td>\n      <td>11.999550</td>\n      <td>-501.193686</td>\n      <td>9.970366</td>\n      <td>-499.201640</td>\n      <td>7.977324</td>\n      <td>-500.255908</td>\n      <td>14.005551</td>\n      <td>-599.996129</td>\n    </tr>\n    <tr>\n      <th>4</th>\n      <td>2016-01-15 04:00:00</td>\n      <td>6.148599</td>\n      <td>10.142511</td>\n      <td>4.939416</td>\n      <td>42.774141</td>\n      <td>66.927016</td>\n      <td>10.360302</td>\n      <td>0.792826</td>\n      <td>16.525686</td>\n      <td>2.055292</td>\n      <td>...</td>\n      <td>14.027298</td>\n      <td>-499.838632</td>\n      <td>11.953070</td>\n      <td>-501.053894</td>\n      <td>9.925709</td>\n      <td>-501.686727</td>\n      <td>7.894242</td>\n      <td>-500.356035</td>\n      <td>13.996647</td>\n      <td>-601.496691</td>\n    </tr>\n    <tr>\n      <th>...</th>\n      <td>...</td>\n      <td>...</td>\n      <td>...</td>\n      <td>...</td>\n      <td>...</td>\n      <td>...</td>\n      <td>...</td>\n      <td>...</td>\n      <td>...</td>\n      <td>...</td>\n      <td>...</td>\n      <td>...</td>\n      <td>...</td>\n      <td>...</td>\n      <td>...</td>\n      <td>...</td>\n      <td>...</td>\n      <td>...</td>\n      <td>...</td>\n      <td>...</td>\n      <td>...</td>\n    </tr>\n    <tr>\n      <th>19434</th>\n      <td>2018-08-18 06:59:59</td>\n      <td>3.224920</td>\n      <td>11.356233</td>\n      <td>6.803482</td>\n      <td>46.713954</td>\n      <td>73.755150</td>\n      <td>8.769645</td>\n      <td>3.141541</td>\n      <td>10.403181</td>\n      <td>1.529220</td>\n      <td>...</td>\n      <td>23.031497</td>\n      <td>-501.167942</td>\n      <td>20.007571</td>\n      <td>-499.740028</td>\n      <td>18.006038</td>\n      <td>-499.834374</td>\n      <td>13.001114</td>\n      <td>-500.155694</td>\n      <td>20.007840</td>\n      <td>-501.296428</td>\n    </tr>\n    <tr>\n      <th>19435</th>\n      <td>2018-08-18 07:59:59</td>\n      <td>3.195978</td>\n      <td>11.349355</td>\n      <td>6.862249</td>\n      <td>46.866780</td>\n      <td>69.049291</td>\n      <td>8.897321</td>\n      <td>3.130493</td>\n      <td>10.549470</td>\n      <td>1.612542</td>\n      <td>...</td>\n      <td>22.960095</td>\n      <td>-501.612783</td>\n      <td>20.035660</td>\n      <td>-500.251357</td>\n      <td>17.998535</td>\n      <td>-500.395178</td>\n      <td>12.954048</td>\n      <td>-499.895163</td>\n      <td>19.968498</td>\n      <td>-501.041608</td>\n    </tr>\n    <tr>\n      <th>19436</th>\n      <td>2018-08-18 08:59:59</td>\n      <td>3.109998</td>\n      <td>11.434366</td>\n      <td>6.886013</td>\n      <td>46.795691</td>\n      <td>67.002189</td>\n      <td>8.529606</td>\n      <td>2.911418</td>\n      <td>11.115147</td>\n      <td>1.596616</td>\n      <td>...</td>\n      <td>23.015718</td>\n      <td>-501.711599</td>\n      <td>19.951231</td>\n      <td>-499.857027</td>\n      <td>18.019543</td>\n      <td>-500.451156</td>\n      <td>13.023431</td>\n      <td>-499.914391</td>\n      <td>19.990885</td>\n      <td>-501.518452</td>\n    </tr>\n    <tr>\n      <th>19437</th>\n      <td>2018-08-18 09:59:59</td>\n      <td>3.367241</td>\n      <td>11.625587</td>\n      <td>6.799433</td>\n      <td>46.408188</td>\n      <td>65.523246</td>\n      <td>8.777171</td>\n      <td>2.819214</td>\n      <td>10.463847</td>\n      <td>1.602879</td>\n      <td>...</td>\n      <td>23.024963</td>\n      <td>-501.153409</td>\n      <td>20.054122</td>\n      <td>-500.314711</td>\n      <td>17.979515</td>\n      <td>-499.272871</td>\n      <td>12.992404</td>\n      <td>-499.976268</td>\n      <td>20.013986</td>\n      <td>-500.625471</td>\n    </tr>\n    <tr>\n      <th>19438</th>\n      <td>2018-08-18 10:59:59</td>\n      <td>3.598375</td>\n      <td>11.737832</td>\n      <td>6.717509</td>\n      <td>46.299438</td>\n      <td>70.281454</td>\n      <td>8.406690</td>\n      <td>2.517518</td>\n      <td>10.652193</td>\n      <td>1.389434</td>\n      <td>...</td>\n      <td>23.018622</td>\n      <td>-500.492702</td>\n      <td>20.020205</td>\n      <td>-500.220296</td>\n      <td>17.963512</td>\n      <td>-499.939490</td>\n      <td>12.990306</td>\n      <td>-500.080993</td>\n      <td>19.990336</td>\n      <td>-499.191575</td>\n    </tr>\n  </tbody>\n</table>\n<p>19439 rows × 87 columns</p>\n</div>"
     },
     "metadata": {},
     "output_type": "display_data"
    },
    {
     "data": {
      "text/plain": "                     date  primary_cleaner.input.sulfate  \\\n0     2016-09-01 00:59:59                     210.800909   \n1     2016-09-01 01:59:59                     215.392455   \n2     2016-09-01 02:59:59                     215.259946   \n3     2016-09-01 03:59:59                     215.336236   \n4     2016-09-01 04:59:59                     199.099327   \n...                   ...                            ...   \n5285  2017-12-31 19:59:59                     173.957757   \n5286  2017-12-31 20:59:59                     172.910270   \n5287  2017-12-31 21:59:59                     171.135718   \n5288  2017-12-31 22:59:59                     179.697158   \n5289  2017-12-31 23:59:59                     181.556856   \n\n      primary_cleaner.input.depressant  primary_cleaner.input.feed_size  \\\n0                            14.993118                         8.080000   \n1                            14.987471                         8.080000   \n2                            12.884934                         7.786667   \n3                            12.006805                         7.640000   \n4                            10.682530                         7.530000   \n...                                ...                              ...   \n5285                         15.963399                         8.070000   \n5286                         16.002605                         8.070000   \n5287                         15.993669                         8.070000   \n5288                         15.438979                         8.070000   \n5289                         14.995850                         8.070000   \n\n      primary_cleaner.input.xanthate  primary_cleaner.state.floatbank8_a_air  \\\n0                           1.005021                             1398.981301   \n1                           0.990469                             1398.777912   \n2                           0.996043                             1398.493666   \n3                           0.863514                             1399.618111   \n4                           0.805575                             1401.268123   \n...                              ...                                     ...   \n5285                        0.896701                             1401.930554   \n5286                        0.896519                             1447.075722   \n5287                        1.165996                             1498.836182   \n5288                        1.501068                             1498.466243   \n5289                        1.623454                             1498.096303   \n\n      primary_cleaner.state.floatbank8_a_level  \\\n0                                  -500.225577   \n1                                  -500.057435   \n2                                  -500.868360   \n3                                  -498.863574   \n4                                  -500.808305   \n...                                        ...   \n5285                               -499.728848   \n5286                               -494.716823   \n5287                               -501.770403   \n5288                               -500.483984   \n5289                               -499.796922   \n\n      primary_cleaner.state.floatbank8_b_air  \\\n0                                1399.144926   \n1                                1398.055362   \n2                                1398.860436   \n3                                1397.440120   \n4                                1398.128818   \n...                                      ...   \n5285                             1401.441445   \n5286                             1448.851892   \n5287                             1499.572353   \n5288                             1497.986986   \n5289                             1501.743791   \n\n      primary_cleaner.state.floatbank8_b_level  \\\n0                                  -499.919735   \n1                                  -499.778182   \n2                                  -499.764529   \n3                                  -499.211024   \n4                                  -499.504543   \n...                                        ...   \n5285                               -499.193423   \n5286                               -465.963026   \n5287                               -495.516347   \n5288                               -519.200340   \n5289                               -505.146931   \n\n      primary_cleaner.state.floatbank8_c_air  ...  \\\n0                                1400.102998  ...   \n1                                1396.151033  ...   \n2                                1398.075709  ...   \n3                                1400.129303  ...   \n4                                1402.172226  ...   \n...                                      ...  ...   \n5285                             1399.810313  ...   \n5286                             1443.890424  ...   \n5287                             1502.749213  ...   \n5288                             1496.569047  ...   \n5289                             1499.535978  ...   \n\n      secondary_cleaner.state.floatbank4_a_air  \\\n0                                    12.023554   \n1                                    12.058140   \n2                                    11.962366   \n3                                    12.033091   \n4                                    12.025367   \n...                                        ...   \n5285                                 13.995957   \n5286                                 16.749781   \n5287                                 19.994130   \n5288                                 19.958760   \n5289                                 20.034715   \n\n      secondary_cleaner.state.floatbank4_a_level  \\\n0                                    -497.795834   \n1                                    -498.695773   \n2                                    -498.767484   \n3                                    -498.350935   \n4                                    -500.786497   \n...                                          ...   \n5285                                 -500.157454   \n5286                                 -496.031539   \n5287                                 -499.791312   \n5288                                 -499.958750   \n5289                                 -500.728588   \n\n      secondary_cleaner.state.floatbank4_b_air  \\\n0                                     8.016656   \n1                                     8.130979   \n2                                     8.096893   \n3                                     8.074946   \n4                                     8.054678   \n...                                        ...   \n5285                                 12.069155   \n5286                                 13.365371   \n5287                                 15.101425   \n5288                                 15.026853   \n5289                                 14.914199   \n\n      secondary_cleaner.state.floatbank4_b_level  \\\n0                                    -501.289139   \n1                                    -499.634209   \n2                                    -500.827423   \n3                                    -499.474407   \n4                                    -500.397500   \n...                                          ...   \n5285                                 -499.673279   \n5286                                 -499.122723   \n5287                                 -499.936252   \n5288                                 -499.723143   \n5289                                 -499.948518   \n\n      secondary_cleaner.state.floatbank5_a_air  \\\n0                                     7.946562   \n1                                     7.958270   \n2                                     8.071056   \n3                                     7.897085   \n4                                     8.107890   \n...                                        ...   \n5285                                  7.977259   \n5286                                  9.288553   \n5287                                 10.989181   \n5288                                 11.011607   \n5289                                 10.986607   \n\n      secondary_cleaner.state.floatbank5_a_level  \\\n0                                    -432.317850   \n1                                    -525.839648   \n2                                    -500.801673   \n3                                    -500.868509   \n4                                    -509.526725   \n...                                          ...   \n5285                                 -499.516126   \n5286                                 -496.892967   \n5287                                 -498.347898   \n5288                                 -499.985046   \n5289                                 -500.658027   \n\n      secondary_cleaner.state.floatbank5_b_air  \\\n0                                     4.872511   \n1                                     4.878850   \n2                                     4.905125   \n3                                     4.931400   \n4                                     4.957674   \n...                                        ...   \n5285                                  5.933319   \n5286                                  7.372897   \n5287                                  9.020944   \n5288                                  9.009783   \n5289                                  8.989497   \n\n      secondary_cleaner.state.floatbank5_b_level  \\\n0                                    -500.037437   \n1                                    -500.162375   \n2                                    -499.828510   \n3                                    -499.963623   \n4                                    -500.360026   \n...                                          ...   \n5285                                 -499.965973   \n5286                                 -499.942956   \n5287                                 -500.040448   \n5288                                 -499.937902   \n5289                                 -500.337588   \n\n      secondary_cleaner.state.floatbank6_a_air  \\\n0                                    26.705889   \n1                                    25.019940   \n2                                    24.994862   \n3                                    24.948919   \n4                                    25.003331   \n...                                        ...   \n5285                                  8.987171   \n5286                                  8.986832   \n5287                                  8.982038   \n5288                                  9.012660   \n5289                                  8.988632   \n\n      secondary_cleaner.state.floatbank6_a_level  \n0                                    -499.709414  \n1                                    -499.819438  \n2                                    -500.622559  \n3                                    -498.709987  \n4                                    -500.856333  \n...                                          ...  \n5285                                 -499.755909  \n5286                                 -499.903761  \n5287                                 -497.789882  \n5288                                 -500.154284  \n5289                                 -500.764937  \n\n[5290 rows x 53 columns]",
      "text/html": "<div>\n<style scoped>\n    .dataframe tbody tr th:only-of-type {\n        vertical-align: middle;\n    }\n\n    .dataframe tbody tr th {\n        vertical-align: top;\n    }\n\n    .dataframe thead th {\n        text-align: right;\n    }\n</style>\n<table border=\"1\" class=\"dataframe\">\n  <thead>\n    <tr style=\"text-align: right;\">\n      <th></th>\n      <th>date</th>\n      <th>primary_cleaner.input.sulfate</th>\n      <th>primary_cleaner.input.depressant</th>\n      <th>primary_cleaner.input.feed_size</th>\n      <th>primary_cleaner.input.xanthate</th>\n      <th>primary_cleaner.state.floatbank8_a_air</th>\n      <th>primary_cleaner.state.floatbank8_a_level</th>\n      <th>primary_cleaner.state.floatbank8_b_air</th>\n      <th>primary_cleaner.state.floatbank8_b_level</th>\n      <th>primary_cleaner.state.floatbank8_c_air</th>\n      <th>...</th>\n      <th>secondary_cleaner.state.floatbank4_a_air</th>\n      <th>secondary_cleaner.state.floatbank4_a_level</th>\n      <th>secondary_cleaner.state.floatbank4_b_air</th>\n      <th>secondary_cleaner.state.floatbank4_b_level</th>\n      <th>secondary_cleaner.state.floatbank5_a_air</th>\n      <th>secondary_cleaner.state.floatbank5_a_level</th>\n      <th>secondary_cleaner.state.floatbank5_b_air</th>\n      <th>secondary_cleaner.state.floatbank5_b_level</th>\n      <th>secondary_cleaner.state.floatbank6_a_air</th>\n      <th>secondary_cleaner.state.floatbank6_a_level</th>\n    </tr>\n  </thead>\n  <tbody>\n    <tr>\n      <th>0</th>\n      <td>2016-09-01 00:59:59</td>\n      <td>210.800909</td>\n      <td>14.993118</td>\n      <td>8.080000</td>\n      <td>1.005021</td>\n      <td>1398.981301</td>\n      <td>-500.225577</td>\n      <td>1399.144926</td>\n      <td>-499.919735</td>\n      <td>1400.102998</td>\n      <td>...</td>\n      <td>12.023554</td>\n      <td>-497.795834</td>\n      <td>8.016656</td>\n      <td>-501.289139</td>\n      <td>7.946562</td>\n      <td>-432.317850</td>\n      <td>4.872511</td>\n      <td>-500.037437</td>\n      <td>26.705889</td>\n      <td>-499.709414</td>\n    </tr>\n    <tr>\n      <th>1</th>\n      <td>2016-09-01 01:59:59</td>\n      <td>215.392455</td>\n      <td>14.987471</td>\n      <td>8.080000</td>\n      <td>0.990469</td>\n      <td>1398.777912</td>\n      <td>-500.057435</td>\n      <td>1398.055362</td>\n      <td>-499.778182</td>\n      <td>1396.151033</td>\n      <td>...</td>\n      <td>12.058140</td>\n      <td>-498.695773</td>\n      <td>8.130979</td>\n      <td>-499.634209</td>\n      <td>7.958270</td>\n      <td>-525.839648</td>\n      <td>4.878850</td>\n      <td>-500.162375</td>\n      <td>25.019940</td>\n      <td>-499.819438</td>\n    </tr>\n    <tr>\n      <th>2</th>\n      <td>2016-09-01 02:59:59</td>\n      <td>215.259946</td>\n      <td>12.884934</td>\n      <td>7.786667</td>\n      <td>0.996043</td>\n      <td>1398.493666</td>\n      <td>-500.868360</td>\n      <td>1398.860436</td>\n      <td>-499.764529</td>\n      <td>1398.075709</td>\n      <td>...</td>\n      <td>11.962366</td>\n      <td>-498.767484</td>\n      <td>8.096893</td>\n      <td>-500.827423</td>\n      <td>8.071056</td>\n      <td>-500.801673</td>\n      <td>4.905125</td>\n      <td>-499.828510</td>\n      <td>24.994862</td>\n      <td>-500.622559</td>\n    </tr>\n    <tr>\n      <th>3</th>\n      <td>2016-09-01 03:59:59</td>\n      <td>215.336236</td>\n      <td>12.006805</td>\n      <td>7.640000</td>\n      <td>0.863514</td>\n      <td>1399.618111</td>\n      <td>-498.863574</td>\n      <td>1397.440120</td>\n      <td>-499.211024</td>\n      <td>1400.129303</td>\n      <td>...</td>\n      <td>12.033091</td>\n      <td>-498.350935</td>\n      <td>8.074946</td>\n      <td>-499.474407</td>\n      <td>7.897085</td>\n      <td>-500.868509</td>\n      <td>4.931400</td>\n      <td>-499.963623</td>\n      <td>24.948919</td>\n      <td>-498.709987</td>\n    </tr>\n    <tr>\n      <th>4</th>\n      <td>2016-09-01 04:59:59</td>\n      <td>199.099327</td>\n      <td>10.682530</td>\n      <td>7.530000</td>\n      <td>0.805575</td>\n      <td>1401.268123</td>\n      <td>-500.808305</td>\n      <td>1398.128818</td>\n      <td>-499.504543</td>\n      <td>1402.172226</td>\n      <td>...</td>\n      <td>12.025367</td>\n      <td>-500.786497</td>\n      <td>8.054678</td>\n      <td>-500.397500</td>\n      <td>8.107890</td>\n      <td>-509.526725</td>\n      <td>4.957674</td>\n      <td>-500.360026</td>\n      <td>25.003331</td>\n      <td>-500.856333</td>\n    </tr>\n    <tr>\n      <th>...</th>\n      <td>...</td>\n      <td>...</td>\n      <td>...</td>\n      <td>...</td>\n      <td>...</td>\n      <td>...</td>\n      <td>...</td>\n      <td>...</td>\n      <td>...</td>\n      <td>...</td>\n      <td>...</td>\n      <td>...</td>\n      <td>...</td>\n      <td>...</td>\n      <td>...</td>\n      <td>...</td>\n      <td>...</td>\n      <td>...</td>\n      <td>...</td>\n      <td>...</td>\n      <td>...</td>\n    </tr>\n    <tr>\n      <th>5285</th>\n      <td>2017-12-31 19:59:59</td>\n      <td>173.957757</td>\n      <td>15.963399</td>\n      <td>8.070000</td>\n      <td>0.896701</td>\n      <td>1401.930554</td>\n      <td>-499.728848</td>\n      <td>1401.441445</td>\n      <td>-499.193423</td>\n      <td>1399.810313</td>\n      <td>...</td>\n      <td>13.995957</td>\n      <td>-500.157454</td>\n      <td>12.069155</td>\n      <td>-499.673279</td>\n      <td>7.977259</td>\n      <td>-499.516126</td>\n      <td>5.933319</td>\n      <td>-499.965973</td>\n      <td>8.987171</td>\n      <td>-499.755909</td>\n    </tr>\n    <tr>\n      <th>5286</th>\n      <td>2017-12-31 20:59:59</td>\n      <td>172.910270</td>\n      <td>16.002605</td>\n      <td>8.070000</td>\n      <td>0.896519</td>\n      <td>1447.075722</td>\n      <td>-494.716823</td>\n      <td>1448.851892</td>\n      <td>-465.963026</td>\n      <td>1443.890424</td>\n      <td>...</td>\n      <td>16.749781</td>\n      <td>-496.031539</td>\n      <td>13.365371</td>\n      <td>-499.122723</td>\n      <td>9.288553</td>\n      <td>-496.892967</td>\n      <td>7.372897</td>\n      <td>-499.942956</td>\n      <td>8.986832</td>\n      <td>-499.903761</td>\n    </tr>\n    <tr>\n      <th>5287</th>\n      <td>2017-12-31 21:59:59</td>\n      <td>171.135718</td>\n      <td>15.993669</td>\n      <td>8.070000</td>\n      <td>1.165996</td>\n      <td>1498.836182</td>\n      <td>-501.770403</td>\n      <td>1499.572353</td>\n      <td>-495.516347</td>\n      <td>1502.749213</td>\n      <td>...</td>\n      <td>19.994130</td>\n      <td>-499.791312</td>\n      <td>15.101425</td>\n      <td>-499.936252</td>\n      <td>10.989181</td>\n      <td>-498.347898</td>\n      <td>9.020944</td>\n      <td>-500.040448</td>\n      <td>8.982038</td>\n      <td>-497.789882</td>\n    </tr>\n    <tr>\n      <th>5288</th>\n      <td>2017-12-31 22:59:59</td>\n      <td>179.697158</td>\n      <td>15.438979</td>\n      <td>8.070000</td>\n      <td>1.501068</td>\n      <td>1498.466243</td>\n      <td>-500.483984</td>\n      <td>1497.986986</td>\n      <td>-519.200340</td>\n      <td>1496.569047</td>\n      <td>...</td>\n      <td>19.958760</td>\n      <td>-499.958750</td>\n      <td>15.026853</td>\n      <td>-499.723143</td>\n      <td>11.011607</td>\n      <td>-499.985046</td>\n      <td>9.009783</td>\n      <td>-499.937902</td>\n      <td>9.012660</td>\n      <td>-500.154284</td>\n    </tr>\n    <tr>\n      <th>5289</th>\n      <td>2017-12-31 23:59:59</td>\n      <td>181.556856</td>\n      <td>14.995850</td>\n      <td>8.070000</td>\n      <td>1.623454</td>\n      <td>1498.096303</td>\n      <td>-499.796922</td>\n      <td>1501.743791</td>\n      <td>-505.146931</td>\n      <td>1499.535978</td>\n      <td>...</td>\n      <td>20.034715</td>\n      <td>-500.728588</td>\n      <td>14.914199</td>\n      <td>-499.948518</td>\n      <td>10.986607</td>\n      <td>-500.658027</td>\n      <td>8.989497</td>\n      <td>-500.337588</td>\n      <td>8.988632</td>\n      <td>-500.764937</td>\n    </tr>\n  </tbody>\n</table>\n<p>5290 rows × 53 columns</p>\n</div>"
     },
     "metadata": {},
     "output_type": "display_data"
    },
    {
     "data": {
      "text/plain": "                      date  final.output.concentrate_ag  \\\n0      2016-01-15 00:00:00                     6.055403   \n1      2016-01-15 01:00:00                     6.029369   \n2      2016-01-15 02:00:00                     6.055926   \n3      2016-01-15 03:00:00                     6.047977   \n4      2016-01-15 04:00:00                     6.148599   \n...                    ...                          ...   \n14144  2018-08-18 06:59:59                     3.224920   \n14145  2018-08-18 07:59:59                     3.195978   \n14146  2018-08-18 08:59:59                     3.109998   \n14147  2018-08-18 09:59:59                     3.367241   \n14148  2018-08-18 10:59:59                     3.598375   \n\n       final.output.concentrate_pb  final.output.concentrate_sol  \\\n0                         9.889648                      5.507324   \n1                         9.968944                      5.257781   \n2                        10.213995                      5.383759   \n3                         9.977019                      4.858634   \n4                        10.142511                      4.939416   \n...                            ...                           ...   \n14144                    11.356233                      6.803482   \n14145                    11.349355                      6.862249   \n14146                    11.434366                      6.886013   \n14147                    11.625587                      6.799433   \n14148                    11.737832                      6.717509   \n\n       final.output.concentrate_au  final.output.recovery  \\\n0                        42.192020              70.541216   \n1                        42.701629              69.266198   \n2                        42.657501              68.116445   \n3                        42.689819              68.347543   \n4                        42.774141              66.927016   \n...                            ...                    ...   \n14144                    46.713954              73.755150   \n14145                    46.866780              69.049291   \n14146                    46.795691              67.002189   \n14147                    46.408188              65.523246   \n14148                    46.299438              70.281454   \n\n       final.output.tail_ag  final.output.tail_pb  final.output.tail_sol  \\\n0                 10.411962              0.895447              16.904297   \n1                 10.462676              0.927452              16.634514   \n2                 10.507046              0.953716              16.208849   \n3                 10.422762              0.883763              16.532835   \n4                 10.360302              0.792826              16.525686   \n...                     ...                   ...                    ...   \n14144              8.769645              3.141541              10.403181   \n14145              8.897321              3.130493              10.549470   \n14146              8.529606              2.911418              11.115147   \n14147              8.777171              2.819214              10.463847   \n14148              8.406690              2.517518              10.652193   \n\n       final.output.tail_au  ...  secondary_cleaner.state.floatbank4_a_air  \\\n0                  2.143149  ...                                 14.016835   \n1                  2.224930  ...                                 13.992281   \n2                  2.257889  ...                                 14.015015   \n3                  2.146849  ...                                 14.036510   \n4                  2.055292  ...                                 14.027298   \n...                     ...  ...                                       ...   \n14144              1.529220  ...                                 23.031497   \n14145              1.612542  ...                                 22.960095   \n14146              1.596616  ...                                 23.015718   \n14147              1.602879  ...                                 23.024963   \n14148              1.389434  ...                                 23.018622   \n\n       secondary_cleaner.state.floatbank4_a_level  \\\n0                                     -502.488007   \n1                                     -505.503262   \n2                                     -502.520901   \n3                                     -500.857308   \n4                                     -499.838632   \n...                                           ...   \n14144                                 -501.167942   \n14145                                 -501.612783   \n14146                                 -501.711599   \n14147                                 -501.153409   \n14148                                 -500.492702   \n\n       secondary_cleaner.state.floatbank4_b_air  \\\n0                                     12.099931   \n1                                     11.950531   \n2                                     11.912783   \n3                                     11.999550   \n4                                     11.953070   \n...                                         ...   \n14144                                 20.007571   \n14145                                 20.035660   \n14146                                 19.951231   \n14147                                 20.054122   \n14148                                 20.020205   \n\n       secondary_cleaner.state.floatbank4_b_level  \\\n0                                     -504.715942   \n1                                     -501.331529   \n2                                     -501.133383   \n3                                     -501.193686   \n4                                     -501.053894   \n...                                           ...   \n14144                                 -499.740028   \n14145                                 -500.251357   \n14146                                 -499.857027   \n14147                                 -500.314711   \n14148                                 -500.220296   \n\n       secondary_cleaner.state.floatbank5_a_air  \\\n0                                      9.925633   \n1                                     10.039245   \n2                                     10.070913   \n3                                      9.970366   \n4                                      9.925709   \n...                                         ...   \n14144                                 18.006038   \n14145                                 17.998535   \n14146                                 18.019543   \n14147                                 17.979515   \n14148                                 17.963512   \n\n       secondary_cleaner.state.floatbank5_a_level  \\\n0                                     -498.310211   \n1                                     -500.169983   \n2                                     -500.129135   \n3                                     -499.201640   \n4                                     -501.686727   \n...                                           ...   \n14144                                 -499.834374   \n14145                                 -500.395178   \n14146                                 -500.451156   \n14147                                 -499.272871   \n14148                                 -499.939490   \n\n       secondary_cleaner.state.floatbank5_b_air  \\\n0                                      8.079666   \n1                                      7.984757   \n2                                      8.013877   \n3                                      7.977324   \n4                                      7.894242   \n...                                         ...   \n14144                                 13.001114   \n14145                                 12.954048   \n14146                                 13.023431   \n14147                                 12.992404   \n14148                                 12.990306   \n\n       secondary_cleaner.state.floatbank5_b_level  \\\n0                                     -500.470978   \n1                                     -500.582168   \n2                                     -500.517572   \n3                                     -500.255908   \n4                                     -500.356035   \n...                                           ...   \n14144                                 -500.155694   \n14145                                 -499.895163   \n14146                                 -499.914391   \n14147                                 -499.976268   \n14148                                 -500.080993   \n\n       secondary_cleaner.state.floatbank6_a_air  \\\n0                                     14.151341   \n1                                     13.998353   \n2                                     14.028663   \n3                                     14.005551   \n4                                     13.996647   \n...                                         ...   \n14144                                 20.007840   \n14145                                 19.968498   \n14146                                 19.990885   \n14147                                 20.013986   \n14148                                 19.990336   \n\n       secondary_cleaner.state.floatbank6_a_level  \n0                                     -605.841980  \n1                                     -599.787184  \n2                                     -601.427363  \n3                                     -599.996129  \n4                                     -601.496691  \n...                                           ...  \n14144                                 -501.296428  \n14145                                 -501.041608  \n14146                                 -501.518452  \n14147                                 -500.625471  \n14148                                 -499.191575  \n\n[14149 rows x 87 columns]",
      "text/html": "<div>\n<style scoped>\n    .dataframe tbody tr th:only-of-type {\n        vertical-align: middle;\n    }\n\n    .dataframe tbody tr th {\n        vertical-align: top;\n    }\n\n    .dataframe thead th {\n        text-align: right;\n    }\n</style>\n<table border=\"1\" class=\"dataframe\">\n  <thead>\n    <tr style=\"text-align: right;\">\n      <th></th>\n      <th>date</th>\n      <th>final.output.concentrate_ag</th>\n      <th>final.output.concentrate_pb</th>\n      <th>final.output.concentrate_sol</th>\n      <th>final.output.concentrate_au</th>\n      <th>final.output.recovery</th>\n      <th>final.output.tail_ag</th>\n      <th>final.output.tail_pb</th>\n      <th>final.output.tail_sol</th>\n      <th>final.output.tail_au</th>\n      <th>...</th>\n      <th>secondary_cleaner.state.floatbank4_a_air</th>\n      <th>secondary_cleaner.state.floatbank4_a_level</th>\n      <th>secondary_cleaner.state.floatbank4_b_air</th>\n      <th>secondary_cleaner.state.floatbank4_b_level</th>\n      <th>secondary_cleaner.state.floatbank5_a_air</th>\n      <th>secondary_cleaner.state.floatbank5_a_level</th>\n      <th>secondary_cleaner.state.floatbank5_b_air</th>\n      <th>secondary_cleaner.state.floatbank5_b_level</th>\n      <th>secondary_cleaner.state.floatbank6_a_air</th>\n      <th>secondary_cleaner.state.floatbank6_a_level</th>\n    </tr>\n  </thead>\n  <tbody>\n    <tr>\n      <th>0</th>\n      <td>2016-01-15 00:00:00</td>\n      <td>6.055403</td>\n      <td>9.889648</td>\n      <td>5.507324</td>\n      <td>42.192020</td>\n      <td>70.541216</td>\n      <td>10.411962</td>\n      <td>0.895447</td>\n      <td>16.904297</td>\n      <td>2.143149</td>\n      <td>...</td>\n      <td>14.016835</td>\n      <td>-502.488007</td>\n      <td>12.099931</td>\n      <td>-504.715942</td>\n      <td>9.925633</td>\n      <td>-498.310211</td>\n      <td>8.079666</td>\n      <td>-500.470978</td>\n      <td>14.151341</td>\n      <td>-605.841980</td>\n    </tr>\n    <tr>\n      <th>1</th>\n      <td>2016-01-15 01:00:00</td>\n      <td>6.029369</td>\n      <td>9.968944</td>\n      <td>5.257781</td>\n      <td>42.701629</td>\n      <td>69.266198</td>\n      <td>10.462676</td>\n      <td>0.927452</td>\n      <td>16.634514</td>\n      <td>2.224930</td>\n      <td>...</td>\n      <td>13.992281</td>\n      <td>-505.503262</td>\n      <td>11.950531</td>\n      <td>-501.331529</td>\n      <td>10.039245</td>\n      <td>-500.169983</td>\n      <td>7.984757</td>\n      <td>-500.582168</td>\n      <td>13.998353</td>\n      <td>-599.787184</td>\n    </tr>\n    <tr>\n      <th>2</th>\n      <td>2016-01-15 02:00:00</td>\n      <td>6.055926</td>\n      <td>10.213995</td>\n      <td>5.383759</td>\n      <td>42.657501</td>\n      <td>68.116445</td>\n      <td>10.507046</td>\n      <td>0.953716</td>\n      <td>16.208849</td>\n      <td>2.257889</td>\n      <td>...</td>\n      <td>14.015015</td>\n      <td>-502.520901</td>\n      <td>11.912783</td>\n      <td>-501.133383</td>\n      <td>10.070913</td>\n      <td>-500.129135</td>\n      <td>8.013877</td>\n      <td>-500.517572</td>\n      <td>14.028663</td>\n      <td>-601.427363</td>\n    </tr>\n    <tr>\n      <th>3</th>\n      <td>2016-01-15 03:00:00</td>\n      <td>6.047977</td>\n      <td>9.977019</td>\n      <td>4.858634</td>\n      <td>42.689819</td>\n      <td>68.347543</td>\n      <td>10.422762</td>\n      <td>0.883763</td>\n      <td>16.532835</td>\n      <td>2.146849</td>\n      <td>...</td>\n      <td>14.036510</td>\n      <td>-500.857308</td>\n      <td>11.999550</td>\n      <td>-501.193686</td>\n      <td>9.970366</td>\n      <td>-499.201640</td>\n      <td>7.977324</td>\n      <td>-500.255908</td>\n      <td>14.005551</td>\n      <td>-599.996129</td>\n    </tr>\n    <tr>\n      <th>4</th>\n      <td>2016-01-15 04:00:00</td>\n      <td>6.148599</td>\n      <td>10.142511</td>\n      <td>4.939416</td>\n      <td>42.774141</td>\n      <td>66.927016</td>\n      <td>10.360302</td>\n      <td>0.792826</td>\n      <td>16.525686</td>\n      <td>2.055292</td>\n      <td>...</td>\n      <td>14.027298</td>\n      <td>-499.838632</td>\n      <td>11.953070</td>\n      <td>-501.053894</td>\n      <td>9.925709</td>\n      <td>-501.686727</td>\n      <td>7.894242</td>\n      <td>-500.356035</td>\n      <td>13.996647</td>\n      <td>-601.496691</td>\n    </tr>\n    <tr>\n      <th>...</th>\n      <td>...</td>\n      <td>...</td>\n      <td>...</td>\n      <td>...</td>\n      <td>...</td>\n      <td>...</td>\n      <td>...</td>\n      <td>...</td>\n      <td>...</td>\n      <td>...</td>\n      <td>...</td>\n      <td>...</td>\n      <td>...</td>\n      <td>...</td>\n      <td>...</td>\n      <td>...</td>\n      <td>...</td>\n      <td>...</td>\n      <td>...</td>\n      <td>...</td>\n      <td>...</td>\n    </tr>\n    <tr>\n      <th>14144</th>\n      <td>2018-08-18 06:59:59</td>\n      <td>3.224920</td>\n      <td>11.356233</td>\n      <td>6.803482</td>\n      <td>46.713954</td>\n      <td>73.755150</td>\n      <td>8.769645</td>\n      <td>3.141541</td>\n      <td>10.403181</td>\n      <td>1.529220</td>\n      <td>...</td>\n      <td>23.031497</td>\n      <td>-501.167942</td>\n      <td>20.007571</td>\n      <td>-499.740028</td>\n      <td>18.006038</td>\n      <td>-499.834374</td>\n      <td>13.001114</td>\n      <td>-500.155694</td>\n      <td>20.007840</td>\n      <td>-501.296428</td>\n    </tr>\n    <tr>\n      <th>14145</th>\n      <td>2018-08-18 07:59:59</td>\n      <td>3.195978</td>\n      <td>11.349355</td>\n      <td>6.862249</td>\n      <td>46.866780</td>\n      <td>69.049291</td>\n      <td>8.897321</td>\n      <td>3.130493</td>\n      <td>10.549470</td>\n      <td>1.612542</td>\n      <td>...</td>\n      <td>22.960095</td>\n      <td>-501.612783</td>\n      <td>20.035660</td>\n      <td>-500.251357</td>\n      <td>17.998535</td>\n      <td>-500.395178</td>\n      <td>12.954048</td>\n      <td>-499.895163</td>\n      <td>19.968498</td>\n      <td>-501.041608</td>\n    </tr>\n    <tr>\n      <th>14146</th>\n      <td>2018-08-18 08:59:59</td>\n      <td>3.109998</td>\n      <td>11.434366</td>\n      <td>6.886013</td>\n      <td>46.795691</td>\n      <td>67.002189</td>\n      <td>8.529606</td>\n      <td>2.911418</td>\n      <td>11.115147</td>\n      <td>1.596616</td>\n      <td>...</td>\n      <td>23.015718</td>\n      <td>-501.711599</td>\n      <td>19.951231</td>\n      <td>-499.857027</td>\n      <td>18.019543</td>\n      <td>-500.451156</td>\n      <td>13.023431</td>\n      <td>-499.914391</td>\n      <td>19.990885</td>\n      <td>-501.518452</td>\n    </tr>\n    <tr>\n      <th>14147</th>\n      <td>2018-08-18 09:59:59</td>\n      <td>3.367241</td>\n      <td>11.625587</td>\n      <td>6.799433</td>\n      <td>46.408188</td>\n      <td>65.523246</td>\n      <td>8.777171</td>\n      <td>2.819214</td>\n      <td>10.463847</td>\n      <td>1.602879</td>\n      <td>...</td>\n      <td>23.024963</td>\n      <td>-501.153409</td>\n      <td>20.054122</td>\n      <td>-500.314711</td>\n      <td>17.979515</td>\n      <td>-499.272871</td>\n      <td>12.992404</td>\n      <td>-499.976268</td>\n      <td>20.013986</td>\n      <td>-500.625471</td>\n    </tr>\n    <tr>\n      <th>14148</th>\n      <td>2018-08-18 10:59:59</td>\n      <td>3.598375</td>\n      <td>11.737832</td>\n      <td>6.717509</td>\n      <td>46.299438</td>\n      <td>70.281454</td>\n      <td>8.406690</td>\n      <td>2.517518</td>\n      <td>10.652193</td>\n      <td>1.389434</td>\n      <td>...</td>\n      <td>23.018622</td>\n      <td>-500.492702</td>\n      <td>20.020205</td>\n      <td>-500.220296</td>\n      <td>17.963512</td>\n      <td>-499.939490</td>\n      <td>12.990306</td>\n      <td>-500.080993</td>\n      <td>19.990336</td>\n      <td>-499.191575</td>\n    </tr>\n  </tbody>\n</table>\n<p>14149 rows × 87 columns</p>\n</div>"
     },
     "metadata": {},
     "output_type": "display_data"
    }
   ],
   "source": [
    "display(full_data)\n",
    "display(test_data)\n",
    "display(train_data)"
   ],
   "metadata": {
    "collapsed": false,
    "pycharm": {
     "name": "#%%\n"
    }
   }
  },
  {
   "cell_type": "code",
   "execution_count": 190,
   "outputs": [
    {
     "data": {
      "text/plain": "       final.output.concentrate_ag  final.output.concentrate_pb  \\\ncount                 19438.000000                 19438.000000   \nmean                      5.168470                     9.978895   \nstd                       1.372348                     1.669240   \nmin                       0.000000                     0.000000   \n25%                       4.251240                     9.137262   \n50%                       5.066094                    10.102433   \n75%                       5.895527                    11.035769   \nmax                      16.001945                    17.031899   \n\n       final.output.concentrate_sol  final.output.concentrate_au  \\\ncount                  19228.000000                 19439.000000   \nmean                       9.501224                    44.076513   \nstd                        2.787537                     5.129784   \nmin                        0.000000                     0.000000   \n25%                        7.722820                    43.402215   \n50%                        9.218961                    45.011244   \n75%                       10.947813                    46.275313   \nmax                       19.615720                    52.756638   \n\n       final.output.recovery  final.output.tail_ag  final.output.tail_pb  \\\ncount           19439.000000          19438.000000          19338.000000   \nmean               67.050208              9.688589              2.705795   \nstd                10.125840              2.328642              0.949077   \nmin                 0.000000              0.000000              0.000000   \n25%                63.299712              8.062878              2.040119   \n50%                68.172738              9.743623              2.748730   \n75%                72.686642             11.134294              3.333216   \nmax               100.000000             19.552149              5.804178   \n\n       final.output.tail_sol  final.output.tail_au  \\\ncount           19433.000000          19439.000000   \nmean               10.583728              3.042467   \nstd                 2.868782              0.922808   \nmin                 0.000000              0.000000   \n25%                 8.938947              2.461138   \n50%                10.622456              2.984909   \n75%                12.104271              3.571351   \nmax                22.317730              8.245022   \n\n       primary_cleaner.input.sulfate  ...  \\\ncount                   19415.000000  ...   \nmean                      144.624774  ...   \nstd                        44.464071  ...   \nmin                         0.003112  ...   \n25%                       114.107029  ...   \n50%                       143.232103  ...   \n75%                       175.075656  ...   \nmax                       265.983123  ...   \n\n       secondary_cleaner.state.floatbank4_a_air  \\\ncount                              19433.000000   \nmean                                  18.987674   \nstd                                    5.411058   \nmin                                    0.000000   \n25%                                   14.975734   \n50%                                   18.017481   \n75%                                   23.012470   \nmax                                   30.115735   \n\n       secondary_cleaner.state.floatbank4_a_level  \\\ncount                                19438.000000   \nmean                                  -485.894516   \nstd                                     47.758570   \nmin                                   -799.798523   \n25%                                   -500.704892   \n50%                                   -499.837793   \n75%                                   -498.249730   \nmax                                   -245.239184   \n\n       secondary_cleaner.state.floatbank4_b_air  \\\ncount                              19438.000000   \nmean                                  15.010366   \nstd                                    4.890228   \nmin                                    0.000000   \n25%                                   11.940294   \n50%                                   14.971014   \n75%                                   19.034162   \nmax                                   31.269706   \n\n       secondary_cleaner.state.floatbank4_b_level  \\\ncount                                19438.000000   \nmean                                  -461.078636   \nstd                                     67.405524   \nmin                                   -800.836914   \n25%                                   -500.187742   \n50%                                   -499.459786   \n75%                                   -400.118106   \nmax                                     -6.506986   \n\n       secondary_cleaner.state.floatbank5_a_air  \\\ncount                              19438.000000   \nmean                                  15.694452   \nstd                                    5.510974   \nmin                                   -0.372054   \n25%                                   10.988606   \n50%                                   15.000036   \n75%                                   18.026190   \nmax                                   43.709931   \n\n       secondary_cleaner.state.floatbank5_a_level  \\\ncount                                19438.000000   \nmean                                  -488.684065   \nstd                                     34.533396   \nmin                                   -797.323986   \n25%                                   -500.458467   \n50%                                   -499.802605   \n75%                                   -498.384187   \nmax                                   -244.483566   \n\n       secondary_cleaner.state.floatbank5_b_air  \\\ncount                              19438.000000   \nmean                                  12.198224   \nstd                                    5.333024   \nmin                                    0.528083   \n25%                                    8.971105   \n50%                                   11.019433   \n75%                                   14.019088   \nmax                                   27.926001   \n\n       secondary_cleaner.state.floatbank5_b_level  \\\ncount                                19438.000000   \nmean                                  -487.149827   \nstd                                     38.347312   \nmin                                   -800.220337   \n25%                                   -500.129462   \n50%                                   -499.935317   \n75%                                   -499.436708   \nmax                                   -137.740004   \n\n       secondary_cleaner.state.floatbank6_a_air  \\\ncount                              19437.000000   \nmean                                  18.959024   \nstd                                    5.550498   \nmin                                   -0.079426   \n25%                                   14.983037   \n50%                                   19.960541   \n75%                                   24.003170   \nmax                                   32.188906   \n\n       secondary_cleaner.state.floatbank6_a_level  \ncount                                19438.000000  \nmean                                  -505.436305  \nstd                                     37.689057  \nmin                                   -809.741464  \n25%                                   -500.728067  \n50%                                   -500.048400  \n75%                                   -499.495378  \nmax                                   -104.427459  \n\n[8 rows x 86 columns]",
      "text/html": "<div>\n<style scoped>\n    .dataframe tbody tr th:only-of-type {\n        vertical-align: middle;\n    }\n\n    .dataframe tbody tr th {\n        vertical-align: top;\n    }\n\n    .dataframe thead th {\n        text-align: right;\n    }\n</style>\n<table border=\"1\" class=\"dataframe\">\n  <thead>\n    <tr style=\"text-align: right;\">\n      <th></th>\n      <th>final.output.concentrate_ag</th>\n      <th>final.output.concentrate_pb</th>\n      <th>final.output.concentrate_sol</th>\n      <th>final.output.concentrate_au</th>\n      <th>final.output.recovery</th>\n      <th>final.output.tail_ag</th>\n      <th>final.output.tail_pb</th>\n      <th>final.output.tail_sol</th>\n      <th>final.output.tail_au</th>\n      <th>primary_cleaner.input.sulfate</th>\n      <th>...</th>\n      <th>secondary_cleaner.state.floatbank4_a_air</th>\n      <th>secondary_cleaner.state.floatbank4_a_level</th>\n      <th>secondary_cleaner.state.floatbank4_b_air</th>\n      <th>secondary_cleaner.state.floatbank4_b_level</th>\n      <th>secondary_cleaner.state.floatbank5_a_air</th>\n      <th>secondary_cleaner.state.floatbank5_a_level</th>\n      <th>secondary_cleaner.state.floatbank5_b_air</th>\n      <th>secondary_cleaner.state.floatbank5_b_level</th>\n      <th>secondary_cleaner.state.floatbank6_a_air</th>\n      <th>secondary_cleaner.state.floatbank6_a_level</th>\n    </tr>\n  </thead>\n  <tbody>\n    <tr>\n      <th>count</th>\n      <td>19438.000000</td>\n      <td>19438.000000</td>\n      <td>19228.000000</td>\n      <td>19439.000000</td>\n      <td>19439.000000</td>\n      <td>19438.000000</td>\n      <td>19338.000000</td>\n      <td>19433.000000</td>\n      <td>19439.000000</td>\n      <td>19415.000000</td>\n      <td>...</td>\n      <td>19433.000000</td>\n      <td>19438.000000</td>\n      <td>19438.000000</td>\n      <td>19438.000000</td>\n      <td>19438.000000</td>\n      <td>19438.000000</td>\n      <td>19438.000000</td>\n      <td>19438.000000</td>\n      <td>19437.000000</td>\n      <td>19438.000000</td>\n    </tr>\n    <tr>\n      <th>mean</th>\n      <td>5.168470</td>\n      <td>9.978895</td>\n      <td>9.501224</td>\n      <td>44.076513</td>\n      <td>67.050208</td>\n      <td>9.688589</td>\n      <td>2.705795</td>\n      <td>10.583728</td>\n      <td>3.042467</td>\n      <td>144.624774</td>\n      <td>...</td>\n      <td>18.987674</td>\n      <td>-485.894516</td>\n      <td>15.010366</td>\n      <td>-461.078636</td>\n      <td>15.694452</td>\n      <td>-488.684065</td>\n      <td>12.198224</td>\n      <td>-487.149827</td>\n      <td>18.959024</td>\n      <td>-505.436305</td>\n    </tr>\n    <tr>\n      <th>std</th>\n      <td>1.372348</td>\n      <td>1.669240</td>\n      <td>2.787537</td>\n      <td>5.129784</td>\n      <td>10.125840</td>\n      <td>2.328642</td>\n      <td>0.949077</td>\n      <td>2.868782</td>\n      <td>0.922808</td>\n      <td>44.464071</td>\n      <td>...</td>\n      <td>5.411058</td>\n      <td>47.758570</td>\n      <td>4.890228</td>\n      <td>67.405524</td>\n      <td>5.510974</td>\n      <td>34.533396</td>\n      <td>5.333024</td>\n      <td>38.347312</td>\n      <td>5.550498</td>\n      <td>37.689057</td>\n    </tr>\n    <tr>\n      <th>min</th>\n      <td>0.000000</td>\n      <td>0.000000</td>\n      <td>0.000000</td>\n      <td>0.000000</td>\n      <td>0.000000</td>\n      <td>0.000000</td>\n      <td>0.000000</td>\n      <td>0.000000</td>\n      <td>0.000000</td>\n      <td>0.003112</td>\n      <td>...</td>\n      <td>0.000000</td>\n      <td>-799.798523</td>\n      <td>0.000000</td>\n      <td>-800.836914</td>\n      <td>-0.372054</td>\n      <td>-797.323986</td>\n      <td>0.528083</td>\n      <td>-800.220337</td>\n      <td>-0.079426</td>\n      <td>-809.741464</td>\n    </tr>\n    <tr>\n      <th>25%</th>\n      <td>4.251240</td>\n      <td>9.137262</td>\n      <td>7.722820</td>\n      <td>43.402215</td>\n      <td>63.299712</td>\n      <td>8.062878</td>\n      <td>2.040119</td>\n      <td>8.938947</td>\n      <td>2.461138</td>\n      <td>114.107029</td>\n      <td>...</td>\n      <td>14.975734</td>\n      <td>-500.704892</td>\n      <td>11.940294</td>\n      <td>-500.187742</td>\n      <td>10.988606</td>\n      <td>-500.458467</td>\n      <td>8.971105</td>\n      <td>-500.129462</td>\n      <td>14.983037</td>\n      <td>-500.728067</td>\n    </tr>\n    <tr>\n      <th>50%</th>\n      <td>5.066094</td>\n      <td>10.102433</td>\n      <td>9.218961</td>\n      <td>45.011244</td>\n      <td>68.172738</td>\n      <td>9.743623</td>\n      <td>2.748730</td>\n      <td>10.622456</td>\n      <td>2.984909</td>\n      <td>143.232103</td>\n      <td>...</td>\n      <td>18.017481</td>\n      <td>-499.837793</td>\n      <td>14.971014</td>\n      <td>-499.459786</td>\n      <td>15.000036</td>\n      <td>-499.802605</td>\n      <td>11.019433</td>\n      <td>-499.935317</td>\n      <td>19.960541</td>\n      <td>-500.048400</td>\n    </tr>\n    <tr>\n      <th>75%</th>\n      <td>5.895527</td>\n      <td>11.035769</td>\n      <td>10.947813</td>\n      <td>46.275313</td>\n      <td>72.686642</td>\n      <td>11.134294</td>\n      <td>3.333216</td>\n      <td>12.104271</td>\n      <td>3.571351</td>\n      <td>175.075656</td>\n      <td>...</td>\n      <td>23.012470</td>\n      <td>-498.249730</td>\n      <td>19.034162</td>\n      <td>-400.118106</td>\n      <td>18.026190</td>\n      <td>-498.384187</td>\n      <td>14.019088</td>\n      <td>-499.436708</td>\n      <td>24.003170</td>\n      <td>-499.495378</td>\n    </tr>\n    <tr>\n      <th>max</th>\n      <td>16.001945</td>\n      <td>17.031899</td>\n      <td>19.615720</td>\n      <td>52.756638</td>\n      <td>100.000000</td>\n      <td>19.552149</td>\n      <td>5.804178</td>\n      <td>22.317730</td>\n      <td>8.245022</td>\n      <td>265.983123</td>\n      <td>...</td>\n      <td>30.115735</td>\n      <td>-245.239184</td>\n      <td>31.269706</td>\n      <td>-6.506986</td>\n      <td>43.709931</td>\n      <td>-244.483566</td>\n      <td>27.926001</td>\n      <td>-137.740004</td>\n      <td>32.188906</td>\n      <td>-104.427459</td>\n    </tr>\n  </tbody>\n</table>\n<p>8 rows × 86 columns</p>\n</div>"
     },
     "metadata": {},
     "output_type": "display_data"
    },
    {
     "data": {
      "text/plain": "       primary_cleaner.input.sulfate  primary_cleaner.input.depressant  \\\ncount                    5286.000000                       5285.000000   \nmean                      174.839652                          8.683596   \nstd                        43.027080                          3.072050   \nmin                         2.566156                          0.003839   \n25%                       147.121401                          6.489555   \n50%                       177.828489                          8.052207   \n75%                       208.125438                         10.027764   \nmax                       265.983123                         40.000000   \n\n       primary_cleaner.input.feed_size  primary_cleaner.input.xanthate  \\\ncount                      5290.000000                     5286.000000   \nmean                          7.266339                        1.383803   \nstd                           0.610219                        0.643474   \nmin                           5.650000                        0.004984   \n25%                           6.890000                        0.907623   \n50%                           7.250000                        1.197610   \n75%                           7.600000                        1.797819   \nmax                          15.500000                        4.102454   \n\n       primary_cleaner.state.floatbank8_a_air  \\\ncount                            5.290000e+03   \nmean                             1.539494e+03   \nstd                              1.167979e+02   \nmin                              5.445860e-32   \n25%                              1.498936e+03   \n50%                              1.585129e+03   \n75%                              1.602077e+03   \nmax                              2.103104e+03   \n\n       primary_cleaner.state.floatbank8_a_level  \\\ncount                               5290.000000   \nmean                                -497.665883   \nstd                                   19.952431   \nmin                                 -795.316337   \n25%                                 -500.357298   \n50%                                 -499.969164   \n75%                                 -499.568951   \nmax                                  -57.195404   \n\n       primary_cleaner.state.floatbank8_b_air  \\\ncount                            5.290000e+03   \nmean                             1.545174e+03   \nstd                              1.222246e+02   \nmin                              6.647490e-32   \n25%                              1.498971e+03   \n50%                              1.595622e+03   \n75%                              1.602324e+03   \nmax                              1.813084e+03   \n\n       primary_cleaner.state.floatbank8_b_level  \\\ncount                               5290.000000   \nmean                                -500.273098   \nstd                                   32.968307   \nmin                                 -799.997015   \n25%                                 -500.703002   \n50%                                 -500.028514   \n75%                                 -499.293257   \nmax                                 -142.527229   \n\n       primary_cleaner.state.floatbank8_c_air  \\\ncount                            5.290000e+03   \nmean                             1.527272e+03   \nstd                              1.225380e+02   \nmin                              4.033736e-32   \n25%                              1.473230e+03   \n50%                              1.549595e+03   \n75%                              1.601144e+03   \nmax                              1.715054e+03   \n\n       primary_cleaner.state.floatbank8_c_level  ...  \\\ncount                               5290.000000  ...   \nmean                                -498.330680  ...   \nstd                                   21.964876  ...   \nmin                                 -799.960571  ...   \n25%                                 -501.018117  ...   \n50%                                 -500.017711  ...   \n75%                                 -498.994130  ...   \nmax                                 -150.937035  ...   \n\n       secondary_cleaner.state.floatbank4_a_air  \\\ncount                              5.290000e+03   \nmean                               1.632007e+01   \nstd                                3.493583e+00   \nmin                                1.079872e-16   \n25%                                1.403618e+01   \n50%                                1.700847e+01   \n75%                                1.803862e+01   \nmax                                3.005180e+01   \n\n       secondary_cleaner.state.floatbank4_a_level  \\\ncount                                 5290.000000   \nmean                                  -505.144570   \nstd                                     31.427337   \nmin                                   -799.798523   \n25%                                   -500.868258   \n50%                                   -500.115727   \n75%                                   -499.404224   \nmax                                   -401.565212   \n\n       secondary_cleaner.state.floatbank4_b_air  \\\ncount                              5.290000e+03   \nmean                               1.373544e+01   \nstd                                3.430484e+00   \nmin                                2.489718e-17   \n25%                                1.202862e+01   \n50%                                1.496486e+01   \n75%                                1.596213e+01   \nmax                                3.126971e+01   \n\n       secondary_cleaner.state.floatbank4_b_level  \\\ncount                                 5290.000000   \nmean                                  -463.349858   \nstd                                     86.189107   \nmin                                   -800.836914   \n25%                                   -500.323028   \n50%                                   -499.576513   \n75%                                   -400.933805   \nmax                                     -6.506986   \n\n       secondary_cleaner.state.floatbank5_a_air  \\\ncount                               5290.000000   \nmean                                  12.804186   \nstd                                    3.026591   \nmin                                    0.069227   \n25%                                   10.914838   \n50%                                   12.954182   \n75%                                   15.097528   \nmax                                   25.258848   \n\n       secondary_cleaner.state.floatbank5_a_level  \\\ncount                                 5290.000000   \nmean                                  -501.329122   \nstd                                     17.951495   \nmin                                   -797.323986   \n25%                                   -500.726841   \n50%                                   -499.990332   \n75%                                   -499.283191   \nmax                                   -244.483566   \n\n       secondary_cleaner.state.floatbank5_b_air  \\\ncount                               5290.000000   \nmean                                   9.881145   \nstd                                    2.868205   \nmin                                    0.528083   \n25%                                    8.036719   \n50%                                   10.004301   \n75%                                   11.997467   \nmax                                   14.086866   \n\n       secondary_cleaner.state.floatbank5_b_level  \\\ncount                                 5290.000000   \nmean                                  -495.663398   \nstd                                     34.535007   \nmin                                   -800.220337   \n25%                                   -500.194668   \n50%                                   -499.990535   \n75%                                   -499.719913   \nmax                                   -137.740004   \n\n       secondary_cleaner.state.floatbank6_a_air  \\\ncount                               5290.000000   \nmean                                  17.304935   \nstd                                    4.536544   \nmin                                   -0.079426   \n25%                                   13.997317   \n50%                                   16.014935   \n75%                                   21.020013   \nmax                                   26.705889   \n\n       secondary_cleaner.state.floatbank6_a_level  \ncount                                 5290.000000  \nmean                                  -501.793193  \nstd                                     39.044215  \nmin                                   -809.741464  \n25%                                   -500.690984  \n50%                                   -500.007126  \n75%                                   -499.373018  \nmax                                   -123.307487  \n\n[8 rows x 52 columns]",
      "text/html": "<div>\n<style scoped>\n    .dataframe tbody tr th:only-of-type {\n        vertical-align: middle;\n    }\n\n    .dataframe tbody tr th {\n        vertical-align: top;\n    }\n\n    .dataframe thead th {\n        text-align: right;\n    }\n</style>\n<table border=\"1\" class=\"dataframe\">\n  <thead>\n    <tr style=\"text-align: right;\">\n      <th></th>\n      <th>primary_cleaner.input.sulfate</th>\n      <th>primary_cleaner.input.depressant</th>\n      <th>primary_cleaner.input.feed_size</th>\n      <th>primary_cleaner.input.xanthate</th>\n      <th>primary_cleaner.state.floatbank8_a_air</th>\n      <th>primary_cleaner.state.floatbank8_a_level</th>\n      <th>primary_cleaner.state.floatbank8_b_air</th>\n      <th>primary_cleaner.state.floatbank8_b_level</th>\n      <th>primary_cleaner.state.floatbank8_c_air</th>\n      <th>primary_cleaner.state.floatbank8_c_level</th>\n      <th>...</th>\n      <th>secondary_cleaner.state.floatbank4_a_air</th>\n      <th>secondary_cleaner.state.floatbank4_a_level</th>\n      <th>secondary_cleaner.state.floatbank4_b_air</th>\n      <th>secondary_cleaner.state.floatbank4_b_level</th>\n      <th>secondary_cleaner.state.floatbank5_a_air</th>\n      <th>secondary_cleaner.state.floatbank5_a_level</th>\n      <th>secondary_cleaner.state.floatbank5_b_air</th>\n      <th>secondary_cleaner.state.floatbank5_b_level</th>\n      <th>secondary_cleaner.state.floatbank6_a_air</th>\n      <th>secondary_cleaner.state.floatbank6_a_level</th>\n    </tr>\n  </thead>\n  <tbody>\n    <tr>\n      <th>count</th>\n      <td>5286.000000</td>\n      <td>5285.000000</td>\n      <td>5290.000000</td>\n      <td>5286.000000</td>\n      <td>5.290000e+03</td>\n      <td>5290.000000</td>\n      <td>5.290000e+03</td>\n      <td>5290.000000</td>\n      <td>5.290000e+03</td>\n      <td>5290.000000</td>\n      <td>...</td>\n      <td>5.290000e+03</td>\n      <td>5290.000000</td>\n      <td>5.290000e+03</td>\n      <td>5290.000000</td>\n      <td>5290.000000</td>\n      <td>5290.000000</td>\n      <td>5290.000000</td>\n      <td>5290.000000</td>\n      <td>5290.000000</td>\n      <td>5290.000000</td>\n    </tr>\n    <tr>\n      <th>mean</th>\n      <td>174.839652</td>\n      <td>8.683596</td>\n      <td>7.266339</td>\n      <td>1.383803</td>\n      <td>1.539494e+03</td>\n      <td>-497.665883</td>\n      <td>1.545174e+03</td>\n      <td>-500.273098</td>\n      <td>1.527272e+03</td>\n      <td>-498.330680</td>\n      <td>...</td>\n      <td>1.632007e+01</td>\n      <td>-505.144570</td>\n      <td>1.373544e+01</td>\n      <td>-463.349858</td>\n      <td>12.804186</td>\n      <td>-501.329122</td>\n      <td>9.881145</td>\n      <td>-495.663398</td>\n      <td>17.304935</td>\n      <td>-501.793193</td>\n    </tr>\n    <tr>\n      <th>std</th>\n      <td>43.027080</td>\n      <td>3.072050</td>\n      <td>0.610219</td>\n      <td>0.643474</td>\n      <td>1.167979e+02</td>\n      <td>19.952431</td>\n      <td>1.222246e+02</td>\n      <td>32.968307</td>\n      <td>1.225380e+02</td>\n      <td>21.964876</td>\n      <td>...</td>\n      <td>3.493583e+00</td>\n      <td>31.427337</td>\n      <td>3.430484e+00</td>\n      <td>86.189107</td>\n      <td>3.026591</td>\n      <td>17.951495</td>\n      <td>2.868205</td>\n      <td>34.535007</td>\n      <td>4.536544</td>\n      <td>39.044215</td>\n    </tr>\n    <tr>\n      <th>min</th>\n      <td>2.566156</td>\n      <td>0.003839</td>\n      <td>5.650000</td>\n      <td>0.004984</td>\n      <td>5.445860e-32</td>\n      <td>-795.316337</td>\n      <td>6.647490e-32</td>\n      <td>-799.997015</td>\n      <td>4.033736e-32</td>\n      <td>-799.960571</td>\n      <td>...</td>\n      <td>1.079872e-16</td>\n      <td>-799.798523</td>\n      <td>2.489718e-17</td>\n      <td>-800.836914</td>\n      <td>0.069227</td>\n      <td>-797.323986</td>\n      <td>0.528083</td>\n      <td>-800.220337</td>\n      <td>-0.079426</td>\n      <td>-809.741464</td>\n    </tr>\n    <tr>\n      <th>25%</th>\n      <td>147.121401</td>\n      <td>6.489555</td>\n      <td>6.890000</td>\n      <td>0.907623</td>\n      <td>1.498936e+03</td>\n      <td>-500.357298</td>\n      <td>1.498971e+03</td>\n      <td>-500.703002</td>\n      <td>1.473230e+03</td>\n      <td>-501.018117</td>\n      <td>...</td>\n      <td>1.403618e+01</td>\n      <td>-500.868258</td>\n      <td>1.202862e+01</td>\n      <td>-500.323028</td>\n      <td>10.914838</td>\n      <td>-500.726841</td>\n      <td>8.036719</td>\n      <td>-500.194668</td>\n      <td>13.997317</td>\n      <td>-500.690984</td>\n    </tr>\n    <tr>\n      <th>50%</th>\n      <td>177.828489</td>\n      <td>8.052207</td>\n      <td>7.250000</td>\n      <td>1.197610</td>\n      <td>1.585129e+03</td>\n      <td>-499.969164</td>\n      <td>1.595622e+03</td>\n      <td>-500.028514</td>\n      <td>1.549595e+03</td>\n      <td>-500.017711</td>\n      <td>...</td>\n      <td>1.700847e+01</td>\n      <td>-500.115727</td>\n      <td>1.496486e+01</td>\n      <td>-499.576513</td>\n      <td>12.954182</td>\n      <td>-499.990332</td>\n      <td>10.004301</td>\n      <td>-499.990535</td>\n      <td>16.014935</td>\n      <td>-500.007126</td>\n    </tr>\n    <tr>\n      <th>75%</th>\n      <td>208.125438</td>\n      <td>10.027764</td>\n      <td>7.600000</td>\n      <td>1.797819</td>\n      <td>1.602077e+03</td>\n      <td>-499.568951</td>\n      <td>1.602324e+03</td>\n      <td>-499.293257</td>\n      <td>1.601144e+03</td>\n      <td>-498.994130</td>\n      <td>...</td>\n      <td>1.803862e+01</td>\n      <td>-499.404224</td>\n      <td>1.596213e+01</td>\n      <td>-400.933805</td>\n      <td>15.097528</td>\n      <td>-499.283191</td>\n      <td>11.997467</td>\n      <td>-499.719913</td>\n      <td>21.020013</td>\n      <td>-499.373018</td>\n    </tr>\n    <tr>\n      <th>max</th>\n      <td>265.983123</td>\n      <td>40.000000</td>\n      <td>15.500000</td>\n      <td>4.102454</td>\n      <td>2.103104e+03</td>\n      <td>-57.195404</td>\n      <td>1.813084e+03</td>\n      <td>-142.527229</td>\n      <td>1.715054e+03</td>\n      <td>-150.937035</td>\n      <td>...</td>\n      <td>3.005180e+01</td>\n      <td>-401.565212</td>\n      <td>3.126971e+01</td>\n      <td>-6.506986</td>\n      <td>25.258848</td>\n      <td>-244.483566</td>\n      <td>14.086866</td>\n      <td>-137.740004</td>\n      <td>26.705889</td>\n      <td>-123.307487</td>\n    </tr>\n  </tbody>\n</table>\n<p>8 rows × 52 columns</p>\n</div>"
     },
     "metadata": {},
     "output_type": "display_data"
    },
    {
     "data": {
      "text/plain": "       final.output.concentrate_ag  final.output.concentrate_pb  \\\ncount                 14148.000000                 14148.000000   \nmean                      5.142034                    10.132960   \nstd                       1.369586                     1.654930   \nmin                       0.000000                     0.000000   \n25%                       4.211620                     9.297355   \n50%                       4.994652                    10.297144   \n75%                       5.859540                    11.170603   \nmax                      16.001945                    17.031899   \n\n       final.output.concentrate_sol  final.output.concentrate_au  \\\ncount                  13938.000000                 14149.000000   \nmean                       9.202849                    44.003792   \nstd                        2.790516                     4.905261   \nmin                        0.000000                     0.000000   \n25%                        7.484645                    43.276111   \n50%                        8.845462                    44.872436   \n75%                       10.487508                    46.166425   \nmax                       18.124851                    52.756638   \n\n       final.output.recovery  final.output.tail_ag  final.output.tail_pb  \\\ncount           14149.000000          14149.000000          14049.000000   \nmean               66.518832              9.607035              2.597298   \nstd                10.295402              2.319069              0.971843   \nmin                 0.000000              0.000000              0.000000   \n25%                62.545817              7.997429              1.905973   \n50%                67.432775              9.480270              2.592022   \n75%                72.346428             11.003707              3.241723   \nmax               100.000000             19.552149              5.639565   \n\n       final.output.tail_sol  final.output.tail_au  \\\ncount           14144.000000          14149.000000   \nmean               10.512122              2.918421   \nstd                 3.003617              0.903712   \nmin                 0.000000              0.000000   \n25%                 8.811324              2.368607   \n50%                10.514621              2.851025   \n75%                11.933009              3.434764   \nmax                22.317730              8.197408   \n\n       primary_cleaner.input.sulfate  ...  \\\ncount                   14129.000000  ...   \nmean                      133.320659  ...   \nstd                        39.431659  ...   \nmin                         0.003112  ...   \n25%                       107.006651  ...   \n50%                       133.018328  ...   \n75%                       159.825396  ...   \nmax                       250.127834  ...   \n\n       secondary_cleaner.state.floatbank4_a_air  \\\ncount                              14143.000000   \nmean                                  19.985454   \nstd                                    5.657723   \nmin                                    0.000000   \n25%                                   14.990775   \n50%                                   20.001789   \n75%                                   24.990826   \nmax                                   30.115735   \n\n       secondary_cleaner.state.floatbank4_a_level  \\\ncount                                14148.000000   \nmean                                  -478.696836   \nstd                                     50.736021   \nmin                                   -799.709069   \n25%                                   -500.628656   \n50%                                   -499.681450   \n75%                                   -477.472413   \nmax                                   -245.239184   \n\n       secondary_cleaner.state.floatbank4_b_air  \\\ncount                              14148.000000   \nmean                                  15.487065   \nstd                                    5.255655   \nmin                                    0.000000   \n25%                                   11.894558   \n50%                                   14.975536   \n75%                                   20.059375   \nmax                                   24.007913   \n\n       secondary_cleaner.state.floatbank4_b_level  \\\ncount                                14148.000000   \nmean                                  -460.229416   \nstd                                     58.843586   \nmin                                   -799.889113   \n25%                                   -500.149000   \n50%                                   -499.388738   \n75%                                   -400.039008   \nmax                                   -145.071088   \n\n       secondary_cleaner.state.floatbank5_a_air  \\\ncount                              14148.000000   \nmean                                  16.775136   \nstd                                    5.831906   \nmin                                   -0.372054   \n25%                                   11.083980   \n50%                                   17.932223   \n75%                                   21.346550   \nmax                                   43.709931   \n\n       secondary_cleaner.state.floatbank5_a_level  \\\ncount                                14148.000000   \nmean                                  -483.956022   \nstd                                     37.892788   \nmin                                   -797.142475   \n25%                                   -500.363177   \n50%                                   -499.702452   \n75%                                   -487.712108   \nmax                                   -275.073125   \n\n       secondary_cleaner.state.floatbank5_b_air  \\\ncount                              14148.000000   \nmean                                  13.064590   \nstd                                    5.765617   \nmin                                    0.646208   \n25%                                    8.994405   \n50%                                   11.997547   \n75%                                   17.982903   \nmax                                   27.926001   \n\n       secondary_cleaner.state.floatbank5_b_level  \\\ncount                                14148.000000   \nmean                                  -483.966564   \nstd                                     39.207913   \nmin                                   -800.006180   \n25%                                   -500.105994   \n50%                                   -499.914556   \n75%                                   -453.186936   \nmax                                   -157.396071   \n\n       secondary_cleaner.state.floatbank6_a_air  \\\ncount                              14147.000000   \nmean                                  19.577539   \nstd                                    5.764417   \nmin                                    0.195324   \n25%                                   14.989304   \n50%                                   19.984175   \n75%                                   24.991623   \nmax                                   32.188906   \n\n       secondary_cleaner.state.floatbank6_a_level  \ncount                                14148.000000  \nmean                                  -506.798480  \nstd                                     37.079249  \nmin                                   -809.398668  \n25%                                   -500.745104  \n50%                                   -500.061431  \n75%                                   -499.536466  \nmax                                   -104.427459  \n\n[8 rows x 86 columns]",
      "text/html": "<div>\n<style scoped>\n    .dataframe tbody tr th:only-of-type {\n        vertical-align: middle;\n    }\n\n    .dataframe tbody tr th {\n        vertical-align: top;\n    }\n\n    .dataframe thead th {\n        text-align: right;\n    }\n</style>\n<table border=\"1\" class=\"dataframe\">\n  <thead>\n    <tr style=\"text-align: right;\">\n      <th></th>\n      <th>final.output.concentrate_ag</th>\n      <th>final.output.concentrate_pb</th>\n      <th>final.output.concentrate_sol</th>\n      <th>final.output.concentrate_au</th>\n      <th>final.output.recovery</th>\n      <th>final.output.tail_ag</th>\n      <th>final.output.tail_pb</th>\n      <th>final.output.tail_sol</th>\n      <th>final.output.tail_au</th>\n      <th>primary_cleaner.input.sulfate</th>\n      <th>...</th>\n      <th>secondary_cleaner.state.floatbank4_a_air</th>\n      <th>secondary_cleaner.state.floatbank4_a_level</th>\n      <th>secondary_cleaner.state.floatbank4_b_air</th>\n      <th>secondary_cleaner.state.floatbank4_b_level</th>\n      <th>secondary_cleaner.state.floatbank5_a_air</th>\n      <th>secondary_cleaner.state.floatbank5_a_level</th>\n      <th>secondary_cleaner.state.floatbank5_b_air</th>\n      <th>secondary_cleaner.state.floatbank5_b_level</th>\n      <th>secondary_cleaner.state.floatbank6_a_air</th>\n      <th>secondary_cleaner.state.floatbank6_a_level</th>\n    </tr>\n  </thead>\n  <tbody>\n    <tr>\n      <th>count</th>\n      <td>14148.000000</td>\n      <td>14148.000000</td>\n      <td>13938.000000</td>\n      <td>14149.000000</td>\n      <td>14149.000000</td>\n      <td>14149.000000</td>\n      <td>14049.000000</td>\n      <td>14144.000000</td>\n      <td>14149.000000</td>\n      <td>14129.000000</td>\n      <td>...</td>\n      <td>14143.000000</td>\n      <td>14148.000000</td>\n      <td>14148.000000</td>\n      <td>14148.000000</td>\n      <td>14148.000000</td>\n      <td>14148.000000</td>\n      <td>14148.000000</td>\n      <td>14148.000000</td>\n      <td>14147.000000</td>\n      <td>14148.000000</td>\n    </tr>\n    <tr>\n      <th>mean</th>\n      <td>5.142034</td>\n      <td>10.132960</td>\n      <td>9.202849</td>\n      <td>44.003792</td>\n      <td>66.518832</td>\n      <td>9.607035</td>\n      <td>2.597298</td>\n      <td>10.512122</td>\n      <td>2.918421</td>\n      <td>133.320659</td>\n      <td>...</td>\n      <td>19.985454</td>\n      <td>-478.696836</td>\n      <td>15.487065</td>\n      <td>-460.229416</td>\n      <td>16.775136</td>\n      <td>-483.956022</td>\n      <td>13.064590</td>\n      <td>-483.966564</td>\n      <td>19.577539</td>\n      <td>-506.798480</td>\n    </tr>\n    <tr>\n      <th>std</th>\n      <td>1.369586</td>\n      <td>1.654930</td>\n      <td>2.790516</td>\n      <td>4.905261</td>\n      <td>10.295402</td>\n      <td>2.319069</td>\n      <td>0.971843</td>\n      <td>3.003617</td>\n      <td>0.903712</td>\n      <td>39.431659</td>\n      <td>...</td>\n      <td>5.657723</td>\n      <td>50.736021</td>\n      <td>5.255655</td>\n      <td>58.843586</td>\n      <td>5.831906</td>\n      <td>37.892788</td>\n      <td>5.765617</td>\n      <td>39.207913</td>\n      <td>5.764417</td>\n      <td>37.079249</td>\n    </tr>\n    <tr>\n      <th>min</th>\n      <td>0.000000</td>\n      <td>0.000000</td>\n      <td>0.000000</td>\n      <td>0.000000</td>\n      <td>0.000000</td>\n      <td>0.000000</td>\n      <td>0.000000</td>\n      <td>0.000000</td>\n      <td>0.000000</td>\n      <td>0.003112</td>\n      <td>...</td>\n      <td>0.000000</td>\n      <td>-799.709069</td>\n      <td>0.000000</td>\n      <td>-799.889113</td>\n      <td>-0.372054</td>\n      <td>-797.142475</td>\n      <td>0.646208</td>\n      <td>-800.006180</td>\n      <td>0.195324</td>\n      <td>-809.398668</td>\n    </tr>\n    <tr>\n      <th>25%</th>\n      <td>4.211620</td>\n      <td>9.297355</td>\n      <td>7.484645</td>\n      <td>43.276111</td>\n      <td>62.545817</td>\n      <td>7.997429</td>\n      <td>1.905973</td>\n      <td>8.811324</td>\n      <td>2.368607</td>\n      <td>107.006651</td>\n      <td>...</td>\n      <td>14.990775</td>\n      <td>-500.628656</td>\n      <td>11.894558</td>\n      <td>-500.149000</td>\n      <td>11.083980</td>\n      <td>-500.363177</td>\n      <td>8.994405</td>\n      <td>-500.105994</td>\n      <td>14.989304</td>\n      <td>-500.745104</td>\n    </tr>\n    <tr>\n      <th>50%</th>\n      <td>4.994652</td>\n      <td>10.297144</td>\n      <td>8.845462</td>\n      <td>44.872436</td>\n      <td>67.432775</td>\n      <td>9.480270</td>\n      <td>2.592022</td>\n      <td>10.514621</td>\n      <td>2.851025</td>\n      <td>133.018328</td>\n      <td>...</td>\n      <td>20.001789</td>\n      <td>-499.681450</td>\n      <td>14.975536</td>\n      <td>-499.388738</td>\n      <td>17.932223</td>\n      <td>-499.702452</td>\n      <td>11.997547</td>\n      <td>-499.914556</td>\n      <td>19.984175</td>\n      <td>-500.061431</td>\n    </tr>\n    <tr>\n      <th>75%</th>\n      <td>5.859540</td>\n      <td>11.170603</td>\n      <td>10.487508</td>\n      <td>46.166425</td>\n      <td>72.346428</td>\n      <td>11.003707</td>\n      <td>3.241723</td>\n      <td>11.933009</td>\n      <td>3.434764</td>\n      <td>159.825396</td>\n      <td>...</td>\n      <td>24.990826</td>\n      <td>-477.472413</td>\n      <td>20.059375</td>\n      <td>-400.039008</td>\n      <td>21.346550</td>\n      <td>-487.712108</td>\n      <td>17.982903</td>\n      <td>-453.186936</td>\n      <td>24.991623</td>\n      <td>-499.536466</td>\n    </tr>\n    <tr>\n      <th>max</th>\n      <td>16.001945</td>\n      <td>17.031899</td>\n      <td>18.124851</td>\n      <td>52.756638</td>\n      <td>100.000000</td>\n      <td>19.552149</td>\n      <td>5.639565</td>\n      <td>22.317730</td>\n      <td>8.197408</td>\n      <td>250.127834</td>\n      <td>...</td>\n      <td>30.115735</td>\n      <td>-245.239184</td>\n      <td>24.007913</td>\n      <td>-145.071088</td>\n      <td>43.709931</td>\n      <td>-275.073125</td>\n      <td>27.926001</td>\n      <td>-157.396071</td>\n      <td>32.188906</td>\n      <td>-104.427459</td>\n    </tr>\n  </tbody>\n</table>\n<p>8 rows × 86 columns</p>\n</div>"
     },
     "execution_count": 190,
     "metadata": {},
     "output_type": "execute_result"
    }
   ],
   "source": [
    "display(full_data.describe())\n",
    "display(test_data.describe())\n",
    "train_data.describe()"
   ],
   "metadata": {
    "collapsed": false,
    "pycharm": {
     "name": "#%%\n"
    }
   }
  },
  {
   "cell_type": "markdown",
   "source": [
    "Теперь приступим к проверке эффективности обагощения.Для этого создадим сначала функцию для подсчета обогащения."
   ],
   "metadata": {
    "collapsed": false,
    "pycharm": {
     "name": "#%% md\n"
    }
   }
  },
  {
   "cell_type": "code",
   "execution_count": 191,
   "outputs": [],
   "source": [
    "def recovery(C,F,T):\n",
    "    return (C*(F-T))/(F*(C-T))*100"
   ],
   "metadata": {
    "collapsed": false,
    "pycharm": {
     "name": "#%%\n"
    }
   }
  },
  {
   "cell_type": "markdown",
   "source": [
    "Проверим ее на обучающей выборке roughter.output.recovery"
   ],
   "metadata": {
    "collapsed": false,
    "pycharm": {
     "name": "#%% md\n"
    }
   }
  },
  {
   "cell_type": "code",
   "execution_count": 192,
   "outputs": [
    {
     "name": "stdout",
     "output_type": "stream",
     "text": [
      "0        87.107763\n",
      "1        86.843261\n",
      "2        86.842308\n",
      "3        87.226430\n",
      "4        86.688794\n",
      "           ...    \n",
      "14144    89.574376\n",
      "14145    87.724007\n",
      "14146    88.890579\n",
      "14147    89.858126\n",
      "14148    89.514960\n",
      "Name: rougher.output.recovery, Length: 14149, dtype: float64\n"
     ]
    }
   ],
   "source": [
    "print(train_data['rougher.output.recovery'])"
   ],
   "metadata": {
    "collapsed": false,
    "pycharm": {
     "name": "#%%\n"
    }
   }
  },
  {
   "cell_type": "code",
   "execution_count": 193,
   "outputs": [],
   "source": [
    "C = train_data['rougher.output.concentrate_au']\n",
    "F = train_data['rougher.input.feed_au']\n",
    "T = train_data['rougher.output.tail_au']"
   ],
   "metadata": {
    "collapsed": false,
    "pycharm": {
     "name": "#%%\n"
    }
   }
  },
  {
   "cell_type": "code",
   "execution_count": 194,
   "outputs": [
    {
     "data": {
      "text/plain": "0        87.107763\n1        86.843261\n2        86.842308\n3        87.226430\n4        86.688794\n           ...    \n14144    89.574376\n14145    87.724007\n14146    88.890579\n14147    89.858126\n14148    89.514960\nLength: 14149, dtype: float64"
     },
     "metadata": {},
     "output_type": "display_data"
    }
   ],
   "source": [
    "recovery_res = recovery(C,F,T)\n",
    "display(recovery_res)"
   ],
   "metadata": {
    "collapsed": false,
    "pycharm": {
     "name": "#%%\n"
    }
   }
  },
  {
   "cell_type": "code",
   "execution_count": 195,
   "outputs": [
    {
     "data": {
      "text/plain": "9.73512347450521e-15"
     },
     "execution_count": 195,
     "metadata": {},
     "output_type": "execute_result"
    }
   ],
   "source": [
    "mae = mean_absolute_error(y_true=train_data['rougher.output.recovery'],y_pred=recovery_res)\n",
    "mae"
   ],
   "metadata": {
    "collapsed": false,
    "pycharm": {
     "name": "#%%\n"
    }
   }
  },
  {
   "cell_type": "markdown",
   "source": [
    "Присутвтвует небольше значение средней абсолютной ошибки. Скорее всего , дело в том, в каком порядке происходили арифм операции и в каких данных их сохранил питон. Попробуем округлить наше посчитанное значение и уже хранящееся в датасете с одинаковым кол-вом знаков после запятых и посчитать ошибку еще раз"
   ],
   "metadata": {
    "collapsed": false,
    "pycharm": {
     "name": "#%% md\n"
    }
   }
  },
  {
   "cell_type": "code",
   "execution_count": 196,
   "outputs": [
    {
     "data": {
      "text/plain": "0.0"
     },
     "execution_count": 196,
     "metadata": {},
     "output_type": "execute_result"
    }
   ],
   "source": [
    "mae = mean_absolute_error(y_true=round(train_data['rougher.output.recovery'],8),y_pred=round(recovery_res,8))\n",
    "mae"
   ],
   "metadata": {
    "collapsed": false,
    "pycharm": {
     "name": "#%%\n"
    }
   }
  },
  {
   "cell_type": "markdown",
   "source": [
    "Теперь проанализируем признаки, недоступные в тестовой выборке."
   ],
   "metadata": {
    "collapsed": false,
    "pycharm": {
     "name": "#%% md\n"
    }
   }
  },
  {
   "cell_type": "code",
   "execution_count": 197,
   "outputs": [
    {
     "name": "stdout",
     "output_type": "stream",
     "text": [
      "87\n",
      "53\n"
     ]
    },
    {
     "data": {
      "text/plain": "array([], dtype=object)"
     },
     "execution_count": 197,
     "metadata": {},
     "output_type": "execute_result"
    }
   ],
   "source": [
    "from numpy import setdiff1d\n",
    "col1 = train_data.columns\n",
    "col2 = test_data.columns\n",
    "print(len(col1))\n",
    "print(len(col2))\n",
    "setdiff1d(col2, col1)"
   ],
   "metadata": {
    "collapsed": false,
    "pycharm": {
     "name": "#%%\n"
    }
   }
  },
  {
   "cell_type": "code",
   "execution_count": 198,
   "outputs": [
    {
     "data": {
      "text/plain": "{'final.output.concentrate_ag',\n 'final.output.concentrate_au',\n 'final.output.concentrate_pb',\n 'final.output.concentrate_sol',\n 'final.output.recovery',\n 'final.output.tail_ag',\n 'final.output.tail_au',\n 'final.output.tail_pb',\n 'final.output.tail_sol',\n 'primary_cleaner.output.concentrate_ag',\n 'primary_cleaner.output.concentrate_au',\n 'primary_cleaner.output.concentrate_pb',\n 'primary_cleaner.output.concentrate_sol',\n 'primary_cleaner.output.tail_ag',\n 'primary_cleaner.output.tail_au',\n 'primary_cleaner.output.tail_pb',\n 'primary_cleaner.output.tail_sol',\n 'rougher.calculation.au_pb_ratio',\n 'rougher.calculation.floatbank10_sulfate_to_au_feed',\n 'rougher.calculation.floatbank11_sulfate_to_au_feed',\n 'rougher.calculation.sulfate_to_au_concentrate',\n 'rougher.output.concentrate_ag',\n 'rougher.output.concentrate_au',\n 'rougher.output.concentrate_pb',\n 'rougher.output.concentrate_sol',\n 'rougher.output.recovery',\n 'rougher.output.tail_ag',\n 'rougher.output.tail_au',\n 'rougher.output.tail_pb',\n 'rougher.output.tail_sol',\n 'secondary_cleaner.output.tail_ag',\n 'secondary_cleaner.output.tail_au',\n 'secondary_cleaner.output.tail_pb',\n 'secondary_cleaner.output.tail_sol'}"
     },
     "metadata": {},
     "output_type": "display_data"
    }
   ],
   "source": [
    "display(set(train_data.columns) - set(test_data.columns))"
   ],
   "metadata": {
    "collapsed": false,
    "pycharm": {
     "name": "#%%\n"
    }
   }
  },
  {
   "cell_type": "markdown",
   "source": [
    "Если рассмотреть прзнаки которые есть в train но нет в test, то это будут признаки финального материала, отвальные хвосты и концентраты первчной очистки, вторичной очитки  и материалы флотации, а также признак recovery, который использует ранее перечисленные признаки для своего подсчета. То есть отсутствуют данные о доле финального материала, и материала , полученного в процессе каких-либо этапов.Это логично, так как тестовая выборка должна содержать не итоговый материал(целевые признаки) а начальный."
   ],
   "metadata": {
    "collapsed": false,
    "pycharm": {
     "name": "#%% md\n"
    }
   }
  },
  {
   "cell_type": "markdown",
   "source": [
    "Осталось провести предобработку данных"
   ],
   "metadata": {
    "collapsed": false,
    "pycharm": {
     "name": "#%% md\n"
    }
   }
  },
  {
   "cell_type": "code",
   "execution_count": 199,
   "outputs": [
    {
     "name": "stdout",
     "output_type": "stream",
     "text": [
      "<class 'pandas.core.frame.DataFrame'>\n",
      "RangeIndex: 14149 entries, 0 to 14148\n",
      "Data columns (total 87 columns):\n",
      " #   Column                                              Non-Null Count  Dtype  \n",
      "---  ------                                              --------------  -----  \n",
      " 0   date                                                14149 non-null  object \n",
      " 1   final.output.concentrate_ag                         14148 non-null  float64\n",
      " 2   final.output.concentrate_pb                         14148 non-null  float64\n",
      " 3   final.output.concentrate_sol                        13938 non-null  float64\n",
      " 4   final.output.concentrate_au                         14149 non-null  float64\n",
      " 5   final.output.recovery                               14149 non-null  float64\n",
      " 6   final.output.tail_ag                                14149 non-null  float64\n",
      " 7   final.output.tail_pb                                14049 non-null  float64\n",
      " 8   final.output.tail_sol                               14144 non-null  float64\n",
      " 9   final.output.tail_au                                14149 non-null  float64\n",
      " 10  primary_cleaner.input.sulfate                       14129 non-null  float64\n",
      " 11  primary_cleaner.input.depressant                    14117 non-null  float64\n",
      " 12  primary_cleaner.input.feed_size                     14149 non-null  float64\n",
      " 13  primary_cleaner.input.xanthate                      14049 non-null  float64\n",
      " 14  primary_cleaner.output.concentrate_ag               14149 non-null  float64\n",
      " 15  primary_cleaner.output.concentrate_pb               14063 non-null  float64\n",
      " 16  primary_cleaner.output.concentrate_sol              13863 non-null  float64\n",
      " 17  primary_cleaner.output.concentrate_au               14149 non-null  float64\n",
      " 18  primary_cleaner.output.tail_ag                      14148 non-null  float64\n",
      " 19  primary_cleaner.output.tail_pb                      14134 non-null  float64\n",
      " 20  primary_cleaner.output.tail_sol                     14103 non-null  float64\n",
      " 21  primary_cleaner.output.tail_au                      14149 non-null  float64\n",
      " 22  primary_cleaner.state.floatbank8_a_air              14145 non-null  float64\n",
      " 23  primary_cleaner.state.floatbank8_a_level            14148 non-null  float64\n",
      " 24  primary_cleaner.state.floatbank8_b_air              14145 non-null  float64\n",
      " 25  primary_cleaner.state.floatbank8_b_level            14148 non-null  float64\n",
      " 26  primary_cleaner.state.floatbank8_c_air              14147 non-null  float64\n",
      " 27  primary_cleaner.state.floatbank8_c_level            14148 non-null  float64\n",
      " 28  primary_cleaner.state.floatbank8_d_air              14146 non-null  float64\n",
      " 29  primary_cleaner.state.floatbank8_d_level            14148 non-null  float64\n",
      " 30  rougher.calculation.sulfate_to_au_concentrate       14148 non-null  float64\n",
      " 31  rougher.calculation.floatbank10_sulfate_to_au_feed  14148 non-null  float64\n",
      " 32  rougher.calculation.floatbank11_sulfate_to_au_feed  14148 non-null  float64\n",
      " 33  rougher.calculation.au_pb_ratio                     14149 non-null  float64\n",
      " 34  rougher.input.feed_ag                               14149 non-null  float64\n",
      " 35  rougher.input.feed_pb                               14049 non-null  float64\n",
      " 36  rougher.input.feed_rate                             14141 non-null  float64\n",
      " 37  rougher.input.feed_size                             14005 non-null  float64\n",
      " 38  rougher.input.feed_sol                              14071 non-null  float64\n",
      " 39  rougher.input.feed_au                               14149 non-null  float64\n",
      " 40  rougher.input.floatbank10_sulfate                   14120 non-null  float64\n",
      " 41  rougher.input.floatbank10_xanthate                  14141 non-null  float64\n",
      " 42  rougher.input.floatbank11_sulfate                   14113 non-null  float64\n",
      " 43  rougher.input.floatbank11_xanthate                  13721 non-null  float64\n",
      " 44  rougher.output.concentrate_ag                       14149 non-null  float64\n",
      " 45  rougher.output.concentrate_pb                       14149 non-null  float64\n",
      " 46  rougher.output.concentrate_sol                      14127 non-null  float64\n",
      " 47  rougher.output.concentrate_au                       14149 non-null  float64\n",
      " 48  rougher.output.recovery                             14149 non-null  float64\n",
      " 49  rougher.output.tail_ag                              14148 non-null  float64\n",
      " 50  rougher.output.tail_pb                              14149 non-null  float64\n",
      " 51  rougher.output.tail_sol                             14149 non-null  float64\n",
      " 52  rougher.output.tail_au                              14149 non-null  float64\n",
      " 53  rougher.state.floatbank10_a_air                     14148 non-null  float64\n",
      " 54  rougher.state.floatbank10_a_level                   14148 non-null  float64\n",
      " 55  rougher.state.floatbank10_b_air                     14148 non-null  float64\n",
      " 56  rougher.state.floatbank10_b_level                   14148 non-null  float64\n",
      " 57  rougher.state.floatbank10_c_air                     14148 non-null  float64\n",
      " 58  rougher.state.floatbank10_c_level                   14148 non-null  float64\n",
      " 59  rougher.state.floatbank10_d_air                     14149 non-null  float64\n",
      " 60  rougher.state.floatbank10_d_level                   14149 non-null  float64\n",
      " 61  rougher.state.floatbank10_e_air                     13713 non-null  float64\n",
      " 62  rougher.state.floatbank10_e_level                   14149 non-null  float64\n",
      " 63  rougher.state.floatbank10_f_air                     14149 non-null  float64\n",
      " 64  rougher.state.floatbank10_f_level                   14149 non-null  float64\n",
      " 65  secondary_cleaner.output.tail_ag                    14147 non-null  float64\n",
      " 66  secondary_cleaner.output.tail_pb                    14139 non-null  float64\n",
      " 67  secondary_cleaner.output.tail_sol                   12544 non-null  float64\n",
      " 68  secondary_cleaner.output.tail_au                    14149 non-null  float64\n",
      " 69  secondary_cleaner.state.floatbank2_a_air            13932 non-null  float64\n",
      " 70  secondary_cleaner.state.floatbank2_a_level          14148 non-null  float64\n",
      " 71  secondary_cleaner.state.floatbank2_b_air            14128 non-null  float64\n",
      " 72  secondary_cleaner.state.floatbank2_b_level          14148 non-null  float64\n",
      " 73  secondary_cleaner.state.floatbank3_a_air            14145 non-null  float64\n",
      " 74  secondary_cleaner.state.floatbank3_a_level          14148 non-null  float64\n",
      " 75  secondary_cleaner.state.floatbank3_b_air            14148 non-null  float64\n",
      " 76  secondary_cleaner.state.floatbank3_b_level          14148 non-null  float64\n",
      " 77  secondary_cleaner.state.floatbank4_a_air            14143 non-null  float64\n",
      " 78  secondary_cleaner.state.floatbank4_a_level          14148 non-null  float64\n",
      " 79  secondary_cleaner.state.floatbank4_b_air            14148 non-null  float64\n",
      " 80  secondary_cleaner.state.floatbank4_b_level          14148 non-null  float64\n",
      " 81  secondary_cleaner.state.floatbank5_a_air            14148 non-null  float64\n",
      " 82  secondary_cleaner.state.floatbank5_a_level          14148 non-null  float64\n",
      " 83  secondary_cleaner.state.floatbank5_b_air            14148 non-null  float64\n",
      " 84  secondary_cleaner.state.floatbank5_b_level          14148 non-null  float64\n",
      " 85  secondary_cleaner.state.floatbank6_a_air            14147 non-null  float64\n",
      " 86  secondary_cleaner.state.floatbank6_a_level          14148 non-null  float64\n",
      "dtypes: float64(86), object(1)\n",
      "memory usage: 9.4+ MB\n"
     ]
    }
   ],
   "source": [
    "train_data.info()"
   ],
   "metadata": {
    "collapsed": false,
    "pycharm": {
     "name": "#%%\n"
    }
   }
  },
  {
   "cell_type": "markdown",
   "source": [
    "Можно сразу что признак date имеет тип object, можно сменить на date"
   ],
   "metadata": {
    "collapsed": false,
    "pycharm": {
     "name": "#%% md\n"
    }
   }
  },
  {
   "cell_type": "code",
   "execution_count": 200,
   "outputs": [
    {
     "name": "stdout",
     "output_type": "stream",
     "text": [
      "<class 'pandas.core.frame.DataFrame'>\n",
      "RangeIndex: 14149 entries, 0 to 14148\n",
      "Data columns (total 87 columns):\n",
      " #   Column                                              Non-Null Count  Dtype         \n",
      "---  ------                                              --------------  -----         \n",
      " 0   date                                                14149 non-null  datetime64[ns]\n",
      " 1   final.output.concentrate_ag                         14148 non-null  float64       \n",
      " 2   final.output.concentrate_pb                         14148 non-null  float64       \n",
      " 3   final.output.concentrate_sol                        13938 non-null  float64       \n",
      " 4   final.output.concentrate_au                         14149 non-null  float64       \n",
      " 5   final.output.recovery                               14149 non-null  float64       \n",
      " 6   final.output.tail_ag                                14149 non-null  float64       \n",
      " 7   final.output.tail_pb                                14049 non-null  float64       \n",
      " 8   final.output.tail_sol                               14144 non-null  float64       \n",
      " 9   final.output.tail_au                                14149 non-null  float64       \n",
      " 10  primary_cleaner.input.sulfate                       14129 non-null  float64       \n",
      " 11  primary_cleaner.input.depressant                    14117 non-null  float64       \n",
      " 12  primary_cleaner.input.feed_size                     14149 non-null  float64       \n",
      " 13  primary_cleaner.input.xanthate                      14049 non-null  float64       \n",
      " 14  primary_cleaner.output.concentrate_ag               14149 non-null  float64       \n",
      " 15  primary_cleaner.output.concentrate_pb               14063 non-null  float64       \n",
      " 16  primary_cleaner.output.concentrate_sol              13863 non-null  float64       \n",
      " 17  primary_cleaner.output.concentrate_au               14149 non-null  float64       \n",
      " 18  primary_cleaner.output.tail_ag                      14148 non-null  float64       \n",
      " 19  primary_cleaner.output.tail_pb                      14134 non-null  float64       \n",
      " 20  primary_cleaner.output.tail_sol                     14103 non-null  float64       \n",
      " 21  primary_cleaner.output.tail_au                      14149 non-null  float64       \n",
      " 22  primary_cleaner.state.floatbank8_a_air              14145 non-null  float64       \n",
      " 23  primary_cleaner.state.floatbank8_a_level            14148 non-null  float64       \n",
      " 24  primary_cleaner.state.floatbank8_b_air              14145 non-null  float64       \n",
      " 25  primary_cleaner.state.floatbank8_b_level            14148 non-null  float64       \n",
      " 26  primary_cleaner.state.floatbank8_c_air              14147 non-null  float64       \n",
      " 27  primary_cleaner.state.floatbank8_c_level            14148 non-null  float64       \n",
      " 28  primary_cleaner.state.floatbank8_d_air              14146 non-null  float64       \n",
      " 29  primary_cleaner.state.floatbank8_d_level            14148 non-null  float64       \n",
      " 30  rougher.calculation.sulfate_to_au_concentrate       14148 non-null  float64       \n",
      " 31  rougher.calculation.floatbank10_sulfate_to_au_feed  14148 non-null  float64       \n",
      " 32  rougher.calculation.floatbank11_sulfate_to_au_feed  14148 non-null  float64       \n",
      " 33  rougher.calculation.au_pb_ratio                     14149 non-null  float64       \n",
      " 34  rougher.input.feed_ag                               14149 non-null  float64       \n",
      " 35  rougher.input.feed_pb                               14049 non-null  float64       \n",
      " 36  rougher.input.feed_rate                             14141 non-null  float64       \n",
      " 37  rougher.input.feed_size                             14005 non-null  float64       \n",
      " 38  rougher.input.feed_sol                              14071 non-null  float64       \n",
      " 39  rougher.input.feed_au                               14149 non-null  float64       \n",
      " 40  rougher.input.floatbank10_sulfate                   14120 non-null  float64       \n",
      " 41  rougher.input.floatbank10_xanthate                  14141 non-null  float64       \n",
      " 42  rougher.input.floatbank11_sulfate                   14113 non-null  float64       \n",
      " 43  rougher.input.floatbank11_xanthate                  13721 non-null  float64       \n",
      " 44  rougher.output.concentrate_ag                       14149 non-null  float64       \n",
      " 45  rougher.output.concentrate_pb                       14149 non-null  float64       \n",
      " 46  rougher.output.concentrate_sol                      14127 non-null  float64       \n",
      " 47  rougher.output.concentrate_au                       14149 non-null  float64       \n",
      " 48  rougher.output.recovery                             14149 non-null  float64       \n",
      " 49  rougher.output.tail_ag                              14148 non-null  float64       \n",
      " 50  rougher.output.tail_pb                              14149 non-null  float64       \n",
      " 51  rougher.output.tail_sol                             14149 non-null  float64       \n",
      " 52  rougher.output.tail_au                              14149 non-null  float64       \n",
      " 53  rougher.state.floatbank10_a_air                     14148 non-null  float64       \n",
      " 54  rougher.state.floatbank10_a_level                   14148 non-null  float64       \n",
      " 55  rougher.state.floatbank10_b_air                     14148 non-null  float64       \n",
      " 56  rougher.state.floatbank10_b_level                   14148 non-null  float64       \n",
      " 57  rougher.state.floatbank10_c_air                     14148 non-null  float64       \n",
      " 58  rougher.state.floatbank10_c_level                   14148 non-null  float64       \n",
      " 59  rougher.state.floatbank10_d_air                     14149 non-null  float64       \n",
      " 60  rougher.state.floatbank10_d_level                   14149 non-null  float64       \n",
      " 61  rougher.state.floatbank10_e_air                     13713 non-null  float64       \n",
      " 62  rougher.state.floatbank10_e_level                   14149 non-null  float64       \n",
      " 63  rougher.state.floatbank10_f_air                     14149 non-null  float64       \n",
      " 64  rougher.state.floatbank10_f_level                   14149 non-null  float64       \n",
      " 65  secondary_cleaner.output.tail_ag                    14147 non-null  float64       \n",
      " 66  secondary_cleaner.output.tail_pb                    14139 non-null  float64       \n",
      " 67  secondary_cleaner.output.tail_sol                   12544 non-null  float64       \n",
      " 68  secondary_cleaner.output.tail_au                    14149 non-null  float64       \n",
      " 69  secondary_cleaner.state.floatbank2_a_air            13932 non-null  float64       \n",
      " 70  secondary_cleaner.state.floatbank2_a_level          14148 non-null  float64       \n",
      " 71  secondary_cleaner.state.floatbank2_b_air            14128 non-null  float64       \n",
      " 72  secondary_cleaner.state.floatbank2_b_level          14148 non-null  float64       \n",
      " 73  secondary_cleaner.state.floatbank3_a_air            14145 non-null  float64       \n",
      " 74  secondary_cleaner.state.floatbank3_a_level          14148 non-null  float64       \n",
      " 75  secondary_cleaner.state.floatbank3_b_air            14148 non-null  float64       \n",
      " 76  secondary_cleaner.state.floatbank3_b_level          14148 non-null  float64       \n",
      " 77  secondary_cleaner.state.floatbank4_a_air            14143 non-null  float64       \n",
      " 78  secondary_cleaner.state.floatbank4_a_level          14148 non-null  float64       \n",
      " 79  secondary_cleaner.state.floatbank4_b_air            14148 non-null  float64       \n",
      " 80  secondary_cleaner.state.floatbank4_b_level          14148 non-null  float64       \n",
      " 81  secondary_cleaner.state.floatbank5_a_air            14148 non-null  float64       \n",
      " 82  secondary_cleaner.state.floatbank5_a_level          14148 non-null  float64       \n",
      " 83  secondary_cleaner.state.floatbank5_b_air            14148 non-null  float64       \n",
      " 84  secondary_cleaner.state.floatbank5_b_level          14148 non-null  float64       \n",
      " 85  secondary_cleaner.state.floatbank6_a_air            14147 non-null  float64       \n",
      " 86  secondary_cleaner.state.floatbank6_a_level          14148 non-null  float64       \n",
      "dtypes: datetime64[ns](1), float64(86)\n",
      "memory usage: 9.4 MB\n"
     ]
    }
   ],
   "source": [
    "train_data['date'] =  pd.to_datetime(train_data['date'], format='%Y-%m-%d %H:%M:%S.%f')\n",
    "train_data.info()"
   ],
   "metadata": {
    "collapsed": false,
    "pycharm": {
     "name": "#%%\n"
    }
   }
  },
  {
   "cell_type": "code",
   "execution_count": 201,
   "outputs": [
    {
     "data": {
      "text/plain": "date                                            0\nfinal.output.concentrate_ag                     1\nfinal.output.concentrate_pb                     1\nfinal.output.concentrate_sol                  211\nfinal.output.concentrate_au                     0\n                                             ... \nsecondary_cleaner.state.floatbank5_a_level      1\nsecondary_cleaner.state.floatbank5_b_air        1\nsecondary_cleaner.state.floatbank5_b_level      1\nsecondary_cleaner.state.floatbank6_a_air        2\nsecondary_cleaner.state.floatbank6_a_level      1\nLength: 87, dtype: int64"
     },
     "execution_count": 201,
     "metadata": {},
     "output_type": "execute_result"
    }
   ],
   "source": [
    "train_data.isna().sum()"
   ],
   "metadata": {
    "collapsed": false,
    "pycharm": {
     "name": "#%%\n"
    }
   }
  },
  {
   "cell_type": "markdown",
   "source": [
    "Присутствует достаточное кол-во пропусков, все признаки кроме date имеют тип float64. Посмотрим в какой период времени присутствуют эти пропуска на одном из признаков."
   ],
   "metadata": {
    "collapsed": false,
    "pycharm": {
     "name": "#%% md\n"
    }
   }
  },
  {
   "cell_type": "code",
   "execution_count": 202,
   "outputs": [
    {
     "data": {
      "text/plain": "9843    2018-01-13 06:59:59\n9844    2018-01-13 07:59:59\n9845    2018-01-13 08:59:59\n9846    2018-01-13 09:59:59\n9847    2018-01-13 10:59:59\n                ...        \n10565   2018-02-23 10:59:59\n10566   2018-02-23 11:59:59\n10567   2018-02-23 12:59:59\n10568   2018-02-23 13:59:59\n10569   2018-02-23 14:59:59\nName: date, Length: 436, dtype: datetime64[ns]"
     },
     "execution_count": 202,
     "metadata": {},
     "output_type": "execute_result"
    }
   ],
   "source": [
    "train_data[train_data['rougher.state.floatbank10_e_air'].isna()]['date']"
   ],
   "metadata": {
    "collapsed": false,
    "pycharm": {
     "name": "#%%\n"
    }
   }
  },
  {
   "cell_type": "markdown",
   "source": [
    "Данные с пропусками имеют временной ряд с промежутком в час. Можно предположить, что в один момент времени произошла техническая ошибка, которая не позволила записать данные. В любом случае можно заметить , что пропуски имеются не в случайных местахпо одиночку а в определенный промежуток времени с шагом записи в час. Этот довод позволит нам заполнить значения 0."
   ],
   "metadata": {
    "collapsed": false,
    "pycharm": {
     "name": "#%% md\n"
    }
   }
  },
  {
   "cell_type": "code",
   "execution_count": 203,
   "outputs": [],
   "source": [
    "full_data=full_data.fillna(method='ffill')\n",
    "train_data=train_data.fillna(method='ffill')"
   ],
   "metadata": {
    "collapsed": false,
    "pycharm": {
     "name": "#%%\n"
    }
   }
  },
  {
   "cell_type": "markdown",
   "metadata": {
    "pycharm": {
     "name": "#%% md\n"
    }
   },
   "source": [
    "## Анализ данных"
   ]
  },
  {
   "cell_type": "markdown",
   "source": [
    "Посмотрим изменение концентрации металлов на различных шагах обработки(rougher,primary cleaner, secondary cleaner, finally). Изобразим изменения на графике."
   ],
   "metadata": {
    "collapsed": false,
    "pycharm": {
     "name": "#%% md\n"
    }
   }
  },
  {
   "cell_type": "code",
   "execution_count": 204,
   "outputs": [
    {
     "data": {
      "text/plain": "<Figure size 720x360 with 1 Axes>",
      "image/png": "[encoded data removed]"
     },
     "metadata": {},
     "output_type": "display_data"
    },
    {
     "data": {
      "text/plain": "<Figure size 720x360 with 1 Axes>",
      "image/png": "[encoded data removed]"
     },
     "metadata": {},
     "output_type": "display_data"
    },
    {
     "data": {
      "text/plain": "<Figure size 720x360 with 1 Axes>",
      "image/png": "[encoded data removed]"
     },
     "metadata": {},
     "output_type": "display_data"
    }
   ],
   "source": [
    "from matplotlib.pyplot import figure\n",
    "#AU\n",
    "figure(figsize=(10,5))\n",
    "plt.title('AU')\n",
    "plt.hist(train_data['rougher.output.concentrate_au'],alpha = 0.5,bins = 10)\n",
    "plt.hist(train_data['primary_cleaner.output.concentrate_au'],alpha = 0.5,bins = 10)\n",
    "plt.hist(train_data['final.output.concentrate_au'],alpha = 0.5,bins = 10,)\n",
    "plt.legend(['Rougher','Primary Cleaner','Secondary Cleaner'],fontsize='medium')\n",
    "plt.show()\n",
    "#AG\n",
    "figure(figsize=(10,5))\n",
    "plt.title('AG')\n",
    "plt.hist(train_data['rougher.output.concentrate_ag'],alpha = 0.5,bins = 10)\n",
    "plt.hist(train_data['primary_cleaner.output.concentrate_ag'],alpha = 0.5,bins = 10)\n",
    "plt.hist(train_data['final.output.concentrate_ag'],alpha = 0.5,bins = 10,)\n",
    "plt.legend(['Rougher','Primary Cleaner','Secondary Cleaner'],fontsize='medium')\n",
    "plt.show()\n",
    "\n",
    "#PB\n",
    "figure(figsize=(10,5))\n",
    "plt.title('PB')\n",
    "plt.hist(train_data['rougher.output.concentrate_pb'],alpha = 0.5,bins = 10)\n",
    "plt.hist(train_data['primary_cleaner.output.concentrate_pb'],alpha = 0.5,bins = 10)\n",
    "plt.hist(train_data['final.output.concentrate_pb'],alpha = 0.5,bins = 10,)\n",
    "plt.legend(['Rougher','Primary Cleaner','Secondary Cleaner'],fontsize='medium')\n",
    "plt.show()"
   ],
   "metadata": {
    "collapsed": false,
    "pycharm": {
     "name": "#%%\n"
    }
   }
  },
  {
   "cell_type": "markdown",
   "source": [
    "Если проследить как менялись значения AU, можно сказать, что с каждым этапом пики увеличивались. Что не скажешь например про изменение AG - тут наибольший пик приходится на AG после первого этапа. А в ситуации с PB пиковые значения на втором этапе значительно уменьшились а потом , на последнем этапе пик опять вырос."
   ],
   "metadata": {
    "collapsed": false,
    "pycharm": {
     "name": "#%% md\n"
    }
   }
  },
  {
   "cell_type": "markdown",
   "source": [
    "Теперь сравним распределения размеров гранул сырья на обучающей и тестовой выборках. Для этого опять построим график распределения."
   ],
   "metadata": {
    "collapsed": false,
    "pycharm": {
     "name": "#%% md\n"
    }
   }
  },
  {
   "cell_type": "code",
   "execution_count": 205,
   "outputs": [
    {
     "name": "stderr",
     "output_type": "stream",
     "text": [
      "C:\\Users\\ASUS\\anaconda3\\lib\\site-packages\\seaborn\\distributions.py:2619: FutureWarning: `distplot` is a deprecated function and will be removed in a future version. Please adapt your code to use either `displot` (a figure-level function with similar flexibility) or `kdeplot` (an axes-level function for kernel density plots).\n",
      "  warnings.warn(msg, FutureWarning)\n",
      "C:\\Users\\ASUS\\anaconda3\\lib\\site-packages\\seaborn\\distributions.py:2103: FutureWarning: The `axis` variable is no longer used and will be removed. Instead, assign variables directly to `x` or `y`.\n",
      "  warnings.warn(msg, FutureWarning)\n",
      "C:\\Users\\ASUS\\anaconda3\\lib\\site-packages\\seaborn\\distributions.py:2619: FutureWarning: `distplot` is a deprecated function and will be removed in a future version. Please adapt your code to use either `displot` (a figure-level function with similar flexibility) or `kdeplot` (an axes-level function for kernel density plots).\n",
      "  warnings.warn(msg, FutureWarning)\n",
      "C:\\Users\\ASUS\\anaconda3\\lib\\site-packages\\seaborn\\distributions.py:2103: FutureWarning: The `axis` variable is no longer used and will be removed. Instead, assign variables directly to `x` or `y`.\n",
      "  warnings.warn(msg, FutureWarning)\n"
     ]
    },
    {
     "data": {
      "text/plain": "<Figure size 1080x576 with 1 Axes>",
      "image/png": "[encoded data removed]"
     },
     "metadata": {},
     "output_type": "display_data"
    }
   ],
   "source": [
    "figure(figsize=(10,5))\n",
    "sns.distplot(train_data['rougher.input.feed_size'], hist=False,rug=True, kde=True,color='blue')\n",
    "sns.distplot(test_data['rougher.input.feed_size'], hist=False, rug=True,kde=True,color='green')\n",
    "plt.xlim(0, 150);\n",
    "plt.gcf().set_size_inches(15, 8)\n",
    "plt.legend(['rougher.input.feed_size','rougher.input.feed_size'])\n",
    "plt.show()"
   ],
   "metadata": {
    "collapsed": false,
    "pycharm": {
     "name": "#%%\n"
    }
   }
  },
  {
   "cell_type": "markdown",
   "source": [
    "Можно увидеть, что распределения достаточно близки к друг другу, поэтому их оценки моделей можно будет сравнивать."
   ],
   "metadata": {
    "collapsed": false,
    "pycharm": {
     "name": "#%% md\n"
    }
   }
  },
  {
   "cell_type": "markdown",
   "source": [
    "Теперь исследуем суммарные концентрации также для разных процессов для разного сырья. Для исследования изобразим данные на графиках."
   ],
   "metadata": {
    "collapsed": false,
    "pycharm": {
     "name": "#%% md\n"
    }
   }
  },
  {
   "cell_type": "code",
   "execution_count": 206,
   "outputs": [],
   "source": [
    "train_data['rougher_sum']= train_data['rougher.output.concentrate_au'] + train_data['rougher.output.concentrate_ag'] + train_data['rougher.output.concentrate_pb']\n",
    "train_data['primary_sum'] = train_data['primary_cleaner.output.concentrate_au'] + train_data['primary_cleaner.output.concentrate_ag'] + train_data['primary_cleaner.output.concentrate_pb']\n",
    "train_data['secondary_sum']= train_data['final.output.concentrate_au'] + train_data['final.output.concentrate_ag'] + train_data['final.output.concentrate_pb']"
   ],
   "metadata": {
    "collapsed": false,
    "pycharm": {
     "name": "#%%\n"
    }
   }
  },
  {
   "cell_type": "code",
   "execution_count": 207,
   "outputs": [
    {
     "name": "stderr",
     "output_type": "stream",
     "text": [
      "C:\\Users\\ASUS\\anaconda3\\lib\\site-packages\\seaborn\\distributions.py:2619: FutureWarning: `distplot` is a deprecated function and will be removed in a future version. Please adapt your code to use either `displot` (a figure-level function with similar flexibility) or `histplot` (an axes-level function for histograms).\n",
      "  warnings.warn(msg, FutureWarning)\n",
      "C:\\Users\\ASUS\\anaconda3\\lib\\site-packages\\seaborn\\distributions.py:2103: FutureWarning: The `axis` variable is no longer used and will be removed. Instead, assign variables directly to `x` or `y`.\n",
      "  warnings.warn(msg, FutureWarning)\n",
      "C:\\Users\\ASUS\\anaconda3\\lib\\site-packages\\seaborn\\distributions.py:2619: FutureWarning: `distplot` is a deprecated function and will be removed in a future version. Please adapt your code to use either `displot` (a figure-level function with similar flexibility) or `histplot` (an axes-level function for histograms).\n",
      "  warnings.warn(msg, FutureWarning)\n",
      "C:\\Users\\ASUS\\anaconda3\\lib\\site-packages\\seaborn\\distributions.py:2103: FutureWarning: The `axis` variable is no longer used and will be removed. Instead, assign variables directly to `x` or `y`.\n",
      "  warnings.warn(msg, FutureWarning)\n",
      "C:\\Users\\ASUS\\anaconda3\\lib\\site-packages\\seaborn\\distributions.py:2619: FutureWarning: `distplot` is a deprecated function and will be removed in a future version. Please adapt your code to use either `displot` (a figure-level function with similar flexibility) or `histplot` (an axes-level function for histograms).\n",
      "  warnings.warn(msg, FutureWarning)\n",
      "C:\\Users\\ASUS\\anaconda3\\lib\\site-packages\\seaborn\\distributions.py:2103: FutureWarning: The `axis` variable is no longer used and will be removed. Instead, assign variables directly to `x` or `y`.\n",
      "  warnings.warn(msg, FutureWarning)\n"
     ]
    },
    {
     "data": {
      "text/plain": "<Figure size 720x360 with 1 Axes>",
      "image/png": "[encoded data removed]"
     },
     "metadata": {},
     "output_type": "display_data"
    }
   ],
   "source": [
    "figure(figsize=(10,5))\n",
    "sns.distplot(train_data['rougher_sum'], hist=True,rug=True, kde=True,color='blue')\n",
    "sns.distplot(train_data['primary_sum'], hist=True, rug=True,kde=True,color='green')\n",
    "sns.distplot(train_data['secondary_sum'], hist=True, rug=True,kde=True,color='red')\n",
    "plt.xlim(0, 80);\n",
    "plt.legend(['rougher','primary','secondary'])\n",
    "plt.show()"
   ],
   "metadata": {
    "collapsed": false,
    "pycharm": {
     "name": "#%%\n"
    }
   }
  },
  {
   "cell_type": "markdown",
   "source": [
    "Конечно, концентрации больше всего на последнем этапе, с каждым этапом концентрация возрастает. Также, по распределению можно заметить выбросы, значения, меньшие 30.Можно их убрать из нашего датасета."
   ],
   "metadata": {
    "collapsed": false,
    "pycharm": {
     "name": "#%% md\n"
    }
   }
  },
  {
   "cell_type": "code",
   "execution_count": 208,
   "outputs": [
    {
     "data": {
      "text/plain": "                  date  primary_cleaner.input.sulfate  \\\n0  2016-09-01 00:59:59                     210.800909   \n1  2016-09-01 01:59:59                     215.392455   \n2  2016-09-01 02:59:59                     215.259946   \n3  2016-09-01 03:59:59                     215.336236   \n4  2016-09-01 04:59:59                     199.099327   \n\n   primary_cleaner.input.depressant  primary_cleaner.input.feed_size  \\\n0                         14.993118                         8.080000   \n1                         14.987471                         8.080000   \n2                         12.884934                         7.786667   \n3                         12.006805                         7.640000   \n4                         10.682530                         7.530000   \n\n   primary_cleaner.input.xanthate  primary_cleaner.state.floatbank8_a_air  \\\n0                        1.005021                             1398.981301   \n1                        0.990469                             1398.777912   \n2                        0.996043                             1398.493666   \n3                        0.863514                             1399.618111   \n4                        0.805575                             1401.268123   \n\n   primary_cleaner.state.floatbank8_a_level  \\\n0                               -500.225577   \n1                               -500.057435   \n2                               -500.868360   \n3                               -498.863574   \n4                               -500.808305   \n\n   primary_cleaner.state.floatbank8_b_air  \\\n0                             1399.144926   \n1                             1398.055362   \n2                             1398.860436   \n3                             1397.440120   \n4                             1398.128818   \n\n   primary_cleaner.state.floatbank8_b_level  \\\n0                               -499.919735   \n1                               -499.778182   \n2                               -499.764529   \n3                               -499.211024   \n4                               -499.504543   \n\n   primary_cleaner.state.floatbank8_c_air  ...  \\\n0                             1400.102998  ...   \n1                             1396.151033  ...   \n2                             1398.075709  ...   \n3                             1400.129303  ...   \n4                             1402.172226  ...   \n\n   secondary_cleaner.state.floatbank4_a_air  \\\n0                                 12.023554   \n1                                 12.058140   \n2                                 11.962366   \n3                                 12.033091   \n4                                 12.025367   \n\n   secondary_cleaner.state.floatbank4_a_level  \\\n0                                 -497.795834   \n1                                 -498.695773   \n2                                 -498.767484   \n3                                 -498.350935   \n4                                 -500.786497   \n\n   secondary_cleaner.state.floatbank4_b_air  \\\n0                                  8.016656   \n1                                  8.130979   \n2                                  8.096893   \n3                                  8.074946   \n4                                  8.054678   \n\n   secondary_cleaner.state.floatbank4_b_level  \\\n0                                 -501.289139   \n1                                 -499.634209   \n2                                 -500.827423   \n3                                 -499.474407   \n4                                 -500.397500   \n\n   secondary_cleaner.state.floatbank5_a_air  \\\n0                                  7.946562   \n1                                  7.958270   \n2                                  8.071056   \n3                                  7.897085   \n4                                  8.107890   \n\n   secondary_cleaner.state.floatbank5_a_level  \\\n0                                 -432.317850   \n1                                 -525.839648   \n2                                 -500.801673   \n3                                 -500.868509   \n4                                 -509.526725   \n\n   secondary_cleaner.state.floatbank5_b_air  \\\n0                                  4.872511   \n1                                  4.878850   \n2                                  4.905125   \n3                                  4.931400   \n4                                  4.957674   \n\n   secondary_cleaner.state.floatbank5_b_level  \\\n0                                 -500.037437   \n1                                 -500.162375   \n2                                 -499.828510   \n3                                 -499.963623   \n4                                 -500.360026   \n\n   secondary_cleaner.state.floatbank6_a_air  \\\n0                                 26.705889   \n1                                 25.019940   \n2                                 24.994862   \n3                                 24.948919   \n4                                 25.003331   \n\n   secondary_cleaner.state.floatbank6_a_level  \n0                                 -499.709414  \n1                                 -499.819438  \n2                                 -500.622559  \n3                                 -498.709987  \n4                                 -500.856333  \n\n[5 rows x 53 columns]",
      "text/html": "<div>\n<style scoped>\n    .dataframe tbody tr th:only-of-type {\n        vertical-align: middle;\n    }\n\n    .dataframe tbody tr th {\n        vertical-align: top;\n    }\n\n    .dataframe thead th {\n        text-align: right;\n    }\n</style>\n<table border=\"1\" class=\"dataframe\">\n  <thead>\n    <tr style=\"text-align: right;\">\n      <th></th>\n      <th>date</th>\n      <th>primary_cleaner.input.sulfate</th>\n      <th>primary_cleaner.input.depressant</th>\n      <th>primary_cleaner.input.feed_size</th>\n      <th>primary_cleaner.input.xanthate</th>\n      <th>primary_cleaner.state.floatbank8_a_air</th>\n      <th>primary_cleaner.state.floatbank8_a_level</th>\n      <th>primary_cleaner.state.floatbank8_b_air</th>\n      <th>primary_cleaner.state.floatbank8_b_level</th>\n      <th>primary_cleaner.state.floatbank8_c_air</th>\n      <th>...</th>\n      <th>secondary_cleaner.state.floatbank4_a_air</th>\n      <th>secondary_cleaner.state.floatbank4_a_level</th>\n      <th>secondary_cleaner.state.floatbank4_b_air</th>\n      <th>secondary_cleaner.state.floatbank4_b_level</th>\n      <th>secondary_cleaner.state.floatbank5_a_air</th>\n      <th>secondary_cleaner.state.floatbank5_a_level</th>\n      <th>secondary_cleaner.state.floatbank5_b_air</th>\n      <th>secondary_cleaner.state.floatbank5_b_level</th>\n      <th>secondary_cleaner.state.floatbank6_a_air</th>\n      <th>secondary_cleaner.state.floatbank6_a_level</th>\n    </tr>\n  </thead>\n  <tbody>\n    <tr>\n      <th>0</th>\n      <td>2016-09-01 00:59:59</td>\n      <td>210.800909</td>\n      <td>14.993118</td>\n      <td>8.080000</td>\n      <td>1.005021</td>\n      <td>1398.981301</td>\n      <td>-500.225577</td>\n      <td>1399.144926</td>\n      <td>-499.919735</td>\n      <td>1400.102998</td>\n      <td>...</td>\n      <td>12.023554</td>\n      <td>-497.795834</td>\n      <td>8.016656</td>\n      <td>-501.289139</td>\n      <td>7.946562</td>\n      <td>-432.317850</td>\n      <td>4.872511</td>\n      <td>-500.037437</td>\n      <td>26.705889</td>\n      <td>-499.709414</td>\n    </tr>\n    <tr>\n      <th>1</th>\n      <td>2016-09-01 01:59:59</td>\n      <td>215.392455</td>\n      <td>14.987471</td>\n      <td>8.080000</td>\n      <td>0.990469</td>\n      <td>1398.777912</td>\n      <td>-500.057435</td>\n      <td>1398.055362</td>\n      <td>-499.778182</td>\n      <td>1396.151033</td>\n      <td>...</td>\n      <td>12.058140</td>\n      <td>-498.695773</td>\n      <td>8.130979</td>\n      <td>-499.634209</td>\n      <td>7.958270</td>\n      <td>-525.839648</td>\n      <td>4.878850</td>\n      <td>-500.162375</td>\n      <td>25.019940</td>\n      <td>-499.819438</td>\n    </tr>\n    <tr>\n      <th>2</th>\n      <td>2016-09-01 02:59:59</td>\n      <td>215.259946</td>\n      <td>12.884934</td>\n      <td>7.786667</td>\n      <td>0.996043</td>\n      <td>1398.493666</td>\n      <td>-500.868360</td>\n      <td>1398.860436</td>\n      <td>-499.764529</td>\n      <td>1398.075709</td>\n      <td>...</td>\n      <td>11.962366</td>\n      <td>-498.767484</td>\n      <td>8.096893</td>\n      <td>-500.827423</td>\n      <td>8.071056</td>\n      <td>-500.801673</td>\n      <td>4.905125</td>\n      <td>-499.828510</td>\n      <td>24.994862</td>\n      <td>-500.622559</td>\n    </tr>\n    <tr>\n      <th>3</th>\n      <td>2016-09-01 03:59:59</td>\n      <td>215.336236</td>\n      <td>12.006805</td>\n      <td>7.640000</td>\n      <td>0.863514</td>\n      <td>1399.618111</td>\n      <td>-498.863574</td>\n      <td>1397.440120</td>\n      <td>-499.211024</td>\n      <td>1400.129303</td>\n      <td>...</td>\n      <td>12.033091</td>\n      <td>-498.350935</td>\n      <td>8.074946</td>\n      <td>-499.474407</td>\n      <td>7.897085</td>\n      <td>-500.868509</td>\n      <td>4.931400</td>\n      <td>-499.963623</td>\n      <td>24.948919</td>\n      <td>-498.709987</td>\n    </tr>\n    <tr>\n      <th>4</th>\n      <td>2016-09-01 04:59:59</td>\n      <td>199.099327</td>\n      <td>10.682530</td>\n      <td>7.530000</td>\n      <td>0.805575</td>\n      <td>1401.268123</td>\n      <td>-500.808305</td>\n      <td>1398.128818</td>\n      <td>-499.504543</td>\n      <td>1402.172226</td>\n      <td>...</td>\n      <td>12.025367</td>\n      <td>-500.786497</td>\n      <td>8.054678</td>\n      <td>-500.397500</td>\n      <td>8.107890</td>\n      <td>-509.526725</td>\n      <td>4.957674</td>\n      <td>-500.360026</td>\n      <td>25.003331</td>\n      <td>-500.856333</td>\n    </tr>\n  </tbody>\n</table>\n<p>5 rows × 53 columns</p>\n</div>"
     },
     "execution_count": 208,
     "metadata": {},
     "output_type": "execute_result"
    }
   ],
   "source": [
    "train_data=train_data[train_data['rougher_sum']>30]\n",
    "train_data=train_data[train_data['primary_sum']>30]\n",
    "train_data=train_data[train_data['secondary_sum']>30]\n",
    "\n",
    "train_data.head()\n",
    "test_data.head()"
   ],
   "metadata": {
    "collapsed": false,
    "pycharm": {
     "name": "#%%\n"
    }
   }
  },
  {
   "cell_type": "markdown",
   "metadata": {
    "pycharm": {
     "name": "#%% md\n"
    }
   },
   "source": [
    "## Модель"
   ]
  },
  {
   "cell_type": "markdown",
   "source": [
    "Напишем функцию для вычисления sMAPE"
   ],
   "metadata": {
    "collapsed": false,
    "pycharm": {
     "name": "#%% md\n"
    }
   }
  },
  {
   "cell_type": "code",
   "execution_count": 209,
   "outputs": [],
   "source": [
    "# def smape(y,y_pred):\n",
    "#     smape = (sum(abs(y-y_pred)/((abs(y)+abs(y_pred))/2)))/len(y)\n",
    "#     return smape\n",
    "\n",
    "def smape (predict, target):\n",
    "    smape = abs(target-predict)/((abs(target)+abs(predict))/2)*100\n",
    "    smape=smape.fillna(value=0)\n",
    "    smape = sum(smape)/len(smape)\n",
    "    return smape"
   ],
   "metadata": {
    "collapsed": false,
    "pycharm": {
     "name": "#%%\n"
    }
   }
  },
  {
   "cell_type": "markdown",
   "source": [
    "Далее напишем scorer для нашей модели для нахождения наиболее оптимальных параметров."
   ],
   "metadata": {
    "collapsed": false,
    "pycharm": {
     "name": "#%% md\n"
    }
   }
  },
  {
   "cell_type": "code",
   "execution_count": 210,
   "outputs": [],
   "source": [
    "def scorer(model,features,target):\n",
    "    predicted = model.predict(features)\n",
    "    sMAPE = smape(target,predicted)\n",
    "    return sMAPE"
   ],
   "metadata": {
    "collapsed": false,
    "pycharm": {
     "name": "#%%\n"
    }
   }
  },
  {
   "cell_type": "markdown",
   "source": [
    "Так как нужно спрогнозировать сразу две величины: rougher.output.recovery и final.output.recovery, сделаем это по порядку."
   ],
   "metadata": {
    "collapsed": false,
    "pycharm": {
     "name": "#%% md\n"
    }
   }
  },
  {
   "cell_type": "markdown",
   "source": [
    "### rougher.output.recovery"
   ],
   "metadata": {
    "collapsed": false,
    "pycharm": {
     "name": "#%% md\n"
    }
   }
  },
  {
   "cell_type": "code",
   "execution_count": 211,
   "outputs": [],
   "source": [
    "rougher_columns = [c for c in test_data.columns if \"rougher\" in c]\n",
    "\n",
    "data  = train_data[rougher_columns]\n",
    "x_rougher = train_data[rougher_columns]\n",
    "y_rougher = train_data['rougher.output.recovery']\n",
    "integer_features = data.select_dtypes(exclude=\"object\").columns"
   ],
   "metadata": {
    "collapsed": false,
    "pycharm": {
     "name": "#%%\n"
    }
   }
  },
  {
   "cell_type": "markdown",
   "source": [
    "#### DecisionTreeRegressor"
   ],
   "metadata": {
    "collapsed": false,
    "pycharm": {
     "name": "#%% md\n"
    }
   }
  },
  {
   "cell_type": "code",
   "execution_count": 212,
   "outputs": [
    {
     "data": {
      "text/plain": "Pipeline(steps=[('ct',\n                 ColumnTransformer(transformers=[('numeric', StandardScaler(),\n                                                  ['rougher.input.feed_ag',\n                                                   'rougher.input.feed_pb',\n                                                   'rougher.input.feed_rate',\n                                                   'rougher.input.feed_size',\n                                                   'rougher.input.feed_sol',\n                                                   'rougher.input.feed_au',\n                                                   'rougher.input.floatbank10_sulfate',\n                                                   'rougher.input.floatbank10_xanthate',\n                                                   'rougher.input.floatbank11_sulfate',\n                                                   'rougher....\n                                                   'rougher.state.floatbank10_b_level',\n                                                   'rougher.state.floatbank10_c_air',\n                                                   'rougher.state.floatbank10_c_level',\n                                                   'rougher.state.floatbank10_d_air',\n                                                   'rougher.state.floatbank10_d_level',\n                                                   'rougher.state.floatbank10_e_air',\n                                                   'rougher.state.floatbank10_e_level',\n                                                   'rougher.state.floatbank10_f_air',\n                                                   'rougher.state.floatbank10_f_level'])])),\n                ('model', DecisionTreeRegressor(random_state=12345))])"
     },
     "execution_count": 212,
     "metadata": {},
     "output_type": "execute_result"
    }
   ],
   "source": [
    "column_transformer = ColumnTransformer([('numeric',StandardScaler(),rougher_columns)])\n",
    "pipe = Pipeline([('ct',column_transformer),('model',DecisionTreeRegressor(random_state=12345))])\n",
    "pipe.fit(x_rougher,y_rougher)"
   ],
   "metadata": {
    "collapsed": false,
    "pycharm": {
     "name": "#%%\n"
    }
   }
  },
  {
   "cell_type": "code",
   "execution_count": 213,
   "outputs": [
    {
     "name": "stdout",
     "output_type": "stream",
     "text": [
      "Лучшие параметры: {'model__max_depth': 3} \n",
      "\n",
      "Лучший счет: -6.815880901313159 \n",
      "\n"
     ]
    }
   ],
   "source": [
    "params = {'model__max_depth': range(1,11,2)}\n",
    "grid = GridSearchCV(pipe, params, cv=5, scoring=make_scorer(smape, greater_is_better=False))\n",
    "grid.fit(x_rougher, y_rougher)\n",
    "print('Лучшие параметры:', grid.best_params_, '\\n')\n",
    "print('Лучший счет:', grid.best_score_, '\\n')"
   ],
   "metadata": {
    "collapsed": false,
    "pycharm": {
     "name": "#%%\n"
    }
   }
  },
  {
   "cell_type": "markdown",
   "source": [
    "#### LinearRegression"
   ],
   "metadata": {
    "collapsed": false,
    "pycharm": {
     "name": "#%% md\n"
    }
   }
  },
  {
   "cell_type": "markdown",
   "source": [
    "Попробуем сделать то же самое с линейной регрессией"
   ],
   "metadata": {
    "collapsed": false,
    "pycharm": {
     "name": "#%% md\n"
    }
   }
  },
  {
   "cell_type": "code",
   "execution_count": 214,
   "outputs": [
    {
     "name": "stdout",
     "output_type": "stream",
     "text": [
      "6.497864713724953\n"
     ]
    }
   ],
   "source": [
    "features_train_r, features_valid_r, target_train_r, target_valid_r = train_test_split(\n",
    "    x_rougher, y_rougher, test_size=0.25, random_state=12345)\n",
    "\n",
    "column_transformer = ColumnTransformer([('numeric',StandardScaler(),rougher_columns)])\n",
    "pipe = Pipeline([('ct',column_transformer),('model',LinearRegression())])\n",
    "pipe.fit(features_train_r,target_train_r)\n",
    "predictions_valid_r = pipe.predict(features_valid_r)\n",
    "\n",
    "scores = cross_val_score(pipe, x_rougher, y_rougher, cv=5, scoring=make_scorer(smape))\n",
    "\n",
    "final_score = sum(scores)/len(scores)\n",
    "\n",
    "print(final_score)"
   ],
   "metadata": {
    "collapsed": false,
    "pycharm": {
     "name": "#%%\n"
    }
   }
  },
  {
   "cell_type": "markdown",
   "source": [
    "#### RandomForesRegressor"
   ],
   "metadata": {
    "collapsed": false,
    "pycharm": {
     "name": "#%% md\n"
    }
   }
  },
  {
   "cell_type": "code",
   "execution_count": 215,
   "outputs": [
    {
     "name": "stdout",
     "output_type": "stream",
     "text": [
      "Лучшие параметры: {'model__max_depth': 5, 'model__n_estimators': 40} \n",
      "\n",
      "Лучший счет: -6.426063967047843 \n",
      "\n"
     ]
    }
   ],
   "source": [
    "\n",
    "column_transformer = ColumnTransformer([('numeric',StandardScaler(),rougher_columns)])\n",
    "pipe = Pipeline([('ct',column_transformer),('model',RandomForestRegressor(random_state=12345))])\n",
    "pipe.fit(x_rougher,y_rougher)\n",
    "params = {'model__max_depth': range(1,11,2),'model__n_estimators': range (10, 41, 10)}\n",
    "grid = GridSearchCV(pipe, params, cv=5, scoring=make_scorer(smape, greater_is_better=False))\n",
    "grid.fit(x_rougher, y_rougher)\n",
    "print('Лучшие параметры:', grid.best_params_, '\\n')\n",
    "print('Лучший счет:', grid.best_score_, '\\n')"
   ],
   "metadata": {
    "collapsed": false,
    "pycharm": {
     "name": "#%%\n"
    }
   }
  },
  {
   "cell_type": "markdown",
   "source": [
    "### final.output.recovery"
   ],
   "metadata": {
    "collapsed": false,
    "pycharm": {
     "name": "#%% md\n"
    }
   }
  },
  {
   "cell_type": "markdown",
   "source": [
    "#### DecisionTreeRegressor"
   ],
   "metadata": {
    "collapsed": false,
    "pycharm": {
     "name": "#%% md\n"
    }
   }
  },
  {
   "cell_type": "code",
   "execution_count": 216,
   "outputs": [],
   "source": [
    "final_columns = [c for c in test_data.columns]\n",
    "x_final = train_data[final_columns].drop('date', axis=1)\n",
    "integer_features = test_data.select_dtypes(exclude=\"object\").columns\n",
    "y_final = train_data['final.output.recovery']"
   ],
   "metadata": {
    "collapsed": false,
    "pycharm": {
     "name": "#%%\n"
    }
   }
  },
  {
   "cell_type": "code",
   "execution_count": 217,
   "outputs": [
    {
     "data": {
      "text/plain": "Pipeline(steps=[('ct',\n                 ColumnTransformer(transformers=[('numeric', StandardScaler(),\n                                                  ['rougher.input.feed_ag',\n                                                   'rougher.input.feed_pb',\n                                                   'rougher.input.feed_rate',\n                                                   'rougher.input.feed_size',\n                                                   'rougher.input.feed_sol',\n                                                   'rougher.input.feed_au',\n                                                   'rougher.input.floatbank10_sulfate',\n                                                   'rougher.input.floatbank10_xanthate',\n                                                   'rougher.input.floatbank11_sulfate',\n                                                   'rougher....\n                                                   'rougher.state.floatbank10_b_level',\n                                                   'rougher.state.floatbank10_c_air',\n                                                   'rougher.state.floatbank10_c_level',\n                                                   'rougher.state.floatbank10_d_air',\n                                                   'rougher.state.floatbank10_d_level',\n                                                   'rougher.state.floatbank10_e_air',\n                                                   'rougher.state.floatbank10_e_level',\n                                                   'rougher.state.floatbank10_f_air',\n                                                   'rougher.state.floatbank10_f_level'])])),\n                ('model', DecisionTreeRegressor(random_state=12345))])"
     },
     "execution_count": 217,
     "metadata": {},
     "output_type": "execute_result"
    }
   ],
   "source": [
    "column_transformer = ColumnTransformer([('numeric',StandardScaler(),rougher_columns)])\n",
    "pipe = Pipeline([('ct',column_transformer),('model',DecisionTreeRegressor(random_state=12345))])\n",
    "pipe.fit(x_final,y_final)"
   ],
   "metadata": {
    "collapsed": false,
    "pycharm": {
     "name": "#%%\n"
    }
   }
  },
  {
   "cell_type": "code",
   "execution_count": 218,
   "outputs": [
    {
     "name": "stdout",
     "output_type": "stream",
     "text": [
      "Лучшие параметры: {'model__max_depth': 1} \n",
      "\n",
      "Лучший счет: -9.213755793750702 \n",
      "\n"
     ]
    }
   ],
   "source": [
    "params = {'model__max_depth': range(1,11,2)}\n",
    "grid = GridSearchCV(pipe, params, cv=5, scoring=make_scorer(smape, greater_is_better=False))\n",
    "grid.fit(x_final, y_final)\n",
    "print('Лучшие параметры:', grid.best_params_, '\\n')\n",
    "print('Лучший счет:', grid.best_score_, '\\n')"
   ],
   "metadata": {
    "collapsed": false,
    "pycharm": {
     "name": "#%%\n"
    }
   }
  },
  {
   "cell_type": "markdown",
   "source": [
    "#### LinearRegression"
   ],
   "metadata": {
    "collapsed": false,
    "pycharm": {
     "name": "#%% md\n"
    }
   }
  },
  {
   "cell_type": "code",
   "execution_count": 219,
   "outputs": [
    {
     "name": "stdout",
     "output_type": "stream",
     "text": [
      "10.966353182480777\n"
     ]
    }
   ],
   "source": [
    "\n",
    "features_train_f, features_valid_f, target_train_f, target_valid_f = train_test_split(\n",
    "    x_final, y_final, test_size=0.25, random_state=12345)\n",
    "\n",
    "column_transformer = ColumnTransformer([('numeric',StandardScaler(),integer_features)])\n",
    "pipe = Pipeline([('ct',column_transformer),('model',LinearRegression())])\n",
    "pipe.fit(features_train_f,target_train_f)\n",
    "predictions_valid_f = pipe.predict(features_valid_f)\n",
    "\n",
    "scores = cross_val_score(pipe, x_final, y_final, cv=5, scoring=make_scorer(smape))\n",
    "\n",
    "final_score = sum(scores)/len(scores)\n",
    "\n",
    "print(final_score)"
   ],
   "metadata": {
    "collapsed": false,
    "pycharm": {
     "name": "#%%\n"
    }
   }
  },
  {
   "cell_type": "markdown",
   "source": [
    "#### RandomForestRegressor"
   ],
   "metadata": {
    "collapsed": false,
    "pycharm": {
     "name": "#%% md\n"
    }
   }
  },
  {
   "cell_type": "code",
   "execution_count": 221,
   "outputs": [
    {
     "name": "stdout",
     "output_type": "stream",
     "text": [
      "Лучшие параметры: {'model__max_depth': 5, 'model__n_estimators': 20} \n",
      "\n",
      "Лучший счет: -8.668097441914677 \n",
      "\n"
     ]
    }
   ],
   "source": [
    "\n",
    "column_transformer = ColumnTransformer([('numeric',StandardScaler(),integer_features)])\n",
    "pipe = Pipeline([('ct',column_transformer),('model',RandomForestRegressor(random_state=12345))])\n",
    "pipe.fit(x_final,y_final)\n",
    "params = {'model__max_depth': range(1,11,2),'model__n_estimators': range (10, 41, 10)}\n",
    "grid = GridSearchCV(pipe, params, cv=5, scoring=make_scorer(smape, greater_is_better=False))\n",
    "grid.fit(x_final, y_final)\n",
    "print('Лучшие параметры:', grid.best_params_, '\\n')\n",
    "print('Лучший счет:', grid.best_score_, '\\n')"
   ],
   "metadata": {
    "collapsed": false,
    "pycharm": {
     "name": "#%%\n"
    }
   }
  },
  {
   "cell_type": "markdown",
   "source": [
    "Лучше всего себя повел случайный лес, поэтому именно эту модель мы будем использовать на тестировании."
   ],
   "metadata": {
    "collapsed": false,
    "pycharm": {
     "name": "#%% md\n"
    }
   }
  },
  {
   "cell_type": "code",
   "execution_count": 222,
   "outputs": [],
   "source": [
    "data_test = pd.merge(test_data, full_data[['date', 'rougher.output.recovery']], on='date')\n",
    "data_test = data_test.fillna(method='ffill')"
   ],
   "metadata": {
    "collapsed": false,
    "pycharm": {
     "name": "#%%\n"
    }
   }
  },
  {
   "cell_type": "code",
   "execution_count": 223,
   "outputs": [],
   "source": [
    "rougher_columns = [c for c in data_test.columns if \"rougher\" in c]\n",
    "x_rougher_features = data_test[rougher_columns].drop('rougher.output.recovery', axis=1)"
   ],
   "metadata": {
    "collapsed": false,
    "pycharm": {
     "name": "#%%\n"
    }
   }
  },
  {
   "cell_type": "code",
   "execution_count": 224,
   "outputs": [],
   "source": [
    "best_model_rougher = RandomForestRegressor(random_state=12345, max_depth=5, n_estimators=40)\n",
    "best_model_rougher.fit(x_rougher, y_rougher)\n",
    "predicted_rough = best_model_rougher.predict(x_rougher_features)\n",
    "smape_rougher = smape(predicted_rough, data_test['rougher.output.recovery'])"
   ],
   "metadata": {
    "collapsed": false,
    "pycharm": {
     "name": "#%%\n"
    }
   }
  },
  {
   "cell_type": "code",
   "execution_count": 225,
   "outputs": [],
   "source": [
    "data_test = pd.merge(test_data, full_data[['date', 'final.output.recovery']], on='date')\n",
    "data_test = data_test.fillna(method='ffill')\n",
    "x_final_features = data_test.drop(['final.output.recovery', 'date'], axis=1)"
   ],
   "metadata": {
    "collapsed": false,
    "pycharm": {
     "name": "#%%\n"
    }
   }
  },
  {
   "cell_type": "code",
   "execution_count": 226,
   "outputs": [],
   "source": [
    "best_model_final = RandomForestRegressor(random_state=12345, max_depth=5, n_estimators=20)\n",
    "best_model_final.fit(x_final, y_final)\n",
    "predicted_final = best_model_final.predict(x_final_features)\n",
    "smape_final = smape(predicted_final, data_test['final.output.recovery'])"
   ],
   "metadata": {
    "collapsed": false,
    "pycharm": {
     "name": "#%%\n"
    }
   }
  },
  {
   "cell_type": "code",
   "execution_count": 227,
   "outputs": [
    {
     "data": {
      "text/plain": "9.45057104138932"
     },
     "execution_count": 227,
     "metadata": {},
     "output_type": "execute_result"
    }
   ],
   "source": [
    "0.25 * smape_rougher + 0.75 * smape_final"
   ],
   "metadata": {
    "collapsed": false,
    "pycharm": {
     "name": "#%%\n"
    }
   }
  },
  {
   "cell_type": "markdown",
   "metadata": {
    "pycharm": {
     "name": "#%% md\n"
    }
   },
   "source": [
    "## Вывод"
   ]
  },
  {
   "cell_type": "markdown",
   "source": [
    "В данной работе было проведено несколько этапов для прогнозирования двух признаков. Данные были подготовлены, были заполнены пропуски и также проанализированны признаки. Было проведено сравнение нецелевых признаков , построены признаки для анализа сырья на разных этапах.Оказалось, что концентрация золота постепенно растет с каждым этапом обработки, что не скажешь про серебро и свинец. А если рассматривать все три сырья вместе для каждого этапа, то в целом тут тоже наблюдается постепенный рост с новым этапом обработки. Были найдены выбросы , от которых мы избавились для лучшего последующего обучения модели. Мы также исследовали распределение размеров гранул сырья на обучающей и тестовой выборках, и выяснили что распределения достаточно близци к друг другу, что означает , что оценки моделей на этих выборках можно будет сравнивать. И наконец была проведена работа по обучению и тестированию модели. Для выбора модели рассматривались случайный лес, линейная регрессия и дерево решений. В качестве метрики качества использовалось sMape(симметричное среднее абсолютное процентное отклонение), для которой создали отдельную функцию. Для обучения и подбора гиперпараметров для моделей использовались PipeLine, GridSearchCv и cross_val_score. После чего, была выявлена лучшая модель ,которая показала лучший результат среди других - Случайный лес. На этой модели было произведено тестирование а также выявлена итоговая sMAPE, что составила 9.4, отклонение оказалось достаточно небольшим, близким к нулю, что означает, что была проделена качественная работа для прогнозирования."
   ],
   "metadata": {
    "collapsed": false,
    "pycharm": {
     "name": "#%% md\n"
    }
   }
  }
 ],
 "metadata": {
  "kernelspec": {
   "display_name": "Python 3 (ipykernel)",
   "language": "python",
   "name": "python3"
  },
  "language_info": {
   "codemirror_mode": {
    "name": "ipython",
    "version": 3
   },
   "file_extension": ".py",
   "mimetype": "text/x-python",
   "name": "python",
   "nbconvert_exporter": "python",
   "pygments_lexer": "ipython3",
   "version": "3.9.5"
  },
  "toc": {
   "base_numbering": 1,
   "nav_menu": {},
   "number_sections": true,
   "sideBar": true,
   "skip_h1_title": true,
   "title_cell": "Содержание",
   "title_sidebar": "Contents",
   "toc_cell": true,
   "toc_position": {},
   "toc_section_display": true,
   "toc_window_display": false
  }
 },
 "nbformat": 4,
 "nbformat_minor": 2
}